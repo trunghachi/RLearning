{
 "cells": [
  {
   "cell_type": "markdown",
   "metadata": {},
   "source": [
    "# C12. Logical Vectors"
   ]
  },
  {
   "cell_type": "code",
   "execution_count": 60,
   "metadata": {
    "vscode": {
     "languageId": "r"
    }
   },
   "outputs": [],
   "source": [
    "library(tidyverse)\n",
    "library(nycflights13)\n",
    "library(dplyr)"
   ]
  },
  {
   "cell_type": "markdown",
   "metadata": {},
   "source": [
    "## 12.2. Comparisions"
   ]
  },
  {
   "cell_type": "code",
   "execution_count": 61,
   "metadata": {
    "vscode": {
     "languageId": "r"
    }
   },
   "outputs": [
    {
     "data": {
      "text/html": [
       "<style>\n",
       ".list-inline {list-style: none; margin:0; padding: 0}\n",
       ".list-inline>li {display: inline-block}\n",
       ".list-inline>li:not(:last-child)::after {content: \"\\00b7\"; padding: 0 .5ex}\n",
       "</style>\n",
       "<ol class=list-inline><li>2</li><li>4</li><li>6</li><li>10</li><li>14</li><li>22</li><li>26</li></ol>\n"
      ],
      "text/latex": [
       "\\begin{enumerate*}\n",
       "\\item 2\n",
       "\\item 4\n",
       "\\item 6\n",
       "\\item 10\n",
       "\\item 14\n",
       "\\item 22\n",
       "\\item 26\n",
       "\\end{enumerate*}\n"
      ],
      "text/markdown": [
       "1. 2\n",
       "2. 4\n",
       "3. 6\n",
       "4. 10\n",
       "5. 14\n",
       "6. 22\n",
       "7. 26\n",
       "\n",
       "\n"
      ],
      "text/plain": [
       "[1]  2  4  6 10 14 22 26"
      ]
     },
     "metadata": {},
     "output_type": "display_data"
    },
    {
     "data": {
      "text/html": [
       "<table class=\"dataframe\">\n",
       "<caption>A tibble: 7 x 2</caption>\n",
       "<thead>\n",
       "\t<tr><th scope=col>x</th><th scope=col>y</th></tr>\n",
       "\t<tr><th scope=col>&lt;dbl&gt;</th><th scope=col>&lt;dbl&gt;</th></tr>\n",
       "</thead>\n",
       "<tbody>\n",
       "\t<tr><td> 1</td><td> 2</td></tr>\n",
       "\t<tr><td> 2</td><td> 4</td></tr>\n",
       "\t<tr><td> 3</td><td> 6</td></tr>\n",
       "\t<tr><td> 5</td><td>10</td></tr>\n",
       "\t<tr><td> 7</td><td>14</td></tr>\n",
       "\t<tr><td>11</td><td>22</td></tr>\n",
       "\t<tr><td>13</td><td>26</td></tr>\n",
       "</tbody>\n",
       "</table>\n"
      ],
      "text/latex": [
       "A tibble: 7 x 2\n",
       "\\begin{tabular}{ll}\n",
       " x & y\\\\\n",
       " <dbl> & <dbl>\\\\\n",
       "\\hline\n",
       "\t  1 &  2\\\\\n",
       "\t  2 &  4\\\\\n",
       "\t  3 &  6\\\\\n",
       "\t  5 & 10\\\\\n",
       "\t  7 & 14\\\\\n",
       "\t 11 & 22\\\\\n",
       "\t 13 & 26\\\\\n",
       "\\end{tabular}\n"
      ],
      "text/markdown": [
       "\n",
       "A tibble: 7 x 2\n",
       "\n",
       "| x &lt;dbl&gt; | y &lt;dbl&gt; |\n",
       "|---|---|\n",
       "|  1 |  2 |\n",
       "|  2 |  4 |\n",
       "|  3 |  6 |\n",
       "|  5 | 10 |\n",
       "|  7 | 14 |\n",
       "| 11 | 22 |\n",
       "| 13 | 26 |\n",
       "\n"
      ],
      "text/plain": [
       "  x  y \n",
       "1  1  2\n",
       "2  2  4\n",
       "3  3  6\n",
       "4  5 10\n",
       "5  7 14\n",
       "6 11 22\n",
       "7 13 26"
      ]
     },
     "metadata": {},
     "output_type": "display_data"
    }
   ],
   "source": [
    "x <- c(1, 2, 3, 5, 7, 11, 13)\n",
    "x * 2\n",
    "\n",
    "df <- tibble(x)\n",
    "df |> \n",
    "  mutate(y = x * 2)"
   ]
  },
  {
   "cell_type": "code",
   "execution_count": 62,
   "metadata": {
    "vscode": {
     "languageId": "r"
    }
   },
   "outputs": [
    {
     "data": {
      "text/html": [
       "<table class=\"dataframe\">\n",
       "<caption>A tibble: 336776 x 4</caption>\n",
       "<thead>\n",
       "\t<tr><th scope=col>dep_time</th><th scope=col>arr_delay</th><th scope=col>daytime</th><th scope=col>approx_ontime</th></tr>\n",
       "\t<tr><th scope=col>&lt;int&gt;</th><th scope=col>&lt;dbl&gt;</th><th scope=col>&lt;lgl&gt;</th><th scope=col>&lt;lgl&gt;</th></tr>\n",
       "</thead>\n",
       "<tbody>\n",
       "\t<tr><td>517</td><td> 11</td><td>FALSE</td><td> TRUE</td></tr>\n",
       "\t<tr><td>533</td><td> 20</td><td>FALSE</td><td>FALSE</td></tr>\n",
       "\t<tr><td>542</td><td> 33</td><td>FALSE</td><td>FALSE</td></tr>\n",
       "\t<tr><td>544</td><td>-18</td><td>FALSE</td><td> TRUE</td></tr>\n",
       "\t<tr><td>554</td><td>-25</td><td>FALSE</td><td>FALSE</td></tr>\n",
       "\t<tr><td>554</td><td> 12</td><td>FALSE</td><td> TRUE</td></tr>\n",
       "\t<tr><td>555</td><td> 19</td><td>FALSE</td><td> TRUE</td></tr>\n",
       "\t<tr><td>557</td><td>-14</td><td>FALSE</td><td> TRUE</td></tr>\n",
       "\t<tr><td>557</td><td> -8</td><td>FALSE</td><td> TRUE</td></tr>\n",
       "\t<tr><td>558</td><td>  8</td><td>FALSE</td><td> TRUE</td></tr>\n",
       "\t<tr><td>558</td><td> -2</td><td>FALSE</td><td> TRUE</td></tr>\n",
       "\t<tr><td>558</td><td> -3</td><td>FALSE</td><td> TRUE</td></tr>\n",
       "\t<tr><td>558</td><td>  7</td><td>FALSE</td><td> TRUE</td></tr>\n",
       "\t<tr><td>558</td><td>-14</td><td>FALSE</td><td> TRUE</td></tr>\n",
       "\t<tr><td>559</td><td> 31</td><td>FALSE</td><td>FALSE</td></tr>\n",
       "\t<tr><td>559</td><td> -4</td><td>FALSE</td><td> TRUE</td></tr>\n",
       "\t<tr><td>559</td><td> -8</td><td>FALSE</td><td> TRUE</td></tr>\n",
       "\t<tr><td>600</td><td> -7</td><td>FALSE</td><td> TRUE</td></tr>\n",
       "\t<tr><td>600</td><td> 12</td><td>FALSE</td><td> TRUE</td></tr>\n",
       "\t<tr><td>601</td><td> -6</td><td> TRUE</td><td> TRUE</td></tr>\n",
       "\t<tr><td>602</td><td> -8</td><td> TRUE</td><td> TRUE</td></tr>\n",
       "\t<tr><td>602</td><td> 16</td><td> TRUE</td><td> TRUE</td></tr>\n",
       "\t<tr><td>606</td><td>-12</td><td> TRUE</td><td> TRUE</td></tr>\n",
       "\t<tr><td>606</td><td> -8</td><td> TRUE</td><td> TRUE</td></tr>\n",
       "\t<tr><td>607</td><td>-17</td><td> TRUE</td><td> TRUE</td></tr>\n",
       "\t<tr><td>608</td><td> 32</td><td> TRUE</td><td>FALSE</td></tr>\n",
       "\t<tr><td>611</td><td> 14</td><td> TRUE</td><td> TRUE</td></tr>\n",
       "\t<tr><td>613</td><td>  4</td><td> TRUE</td><td> TRUE</td></tr>\n",
       "\t<tr><td>615</td><td>-21</td><td> TRUE</td><td>FALSE</td></tr>\n",
       "\t<tr><td>615</td><td> -9</td><td> TRUE</td><td> TRUE</td></tr>\n",
       "\t<tr><td>...</td><td>...</td><td>...</td><td>...</td></tr>\n",
       "\t<tr><td>2123</td><td>-24</td><td>FALSE</td><td>FALSE</td></tr>\n",
       "\t<tr><td>2127</td><td> -9</td><td>FALSE</td><td> TRUE</td></tr>\n",
       "\t<tr><td>2128</td><td>-31</td><td>FALSE</td><td>FALSE</td></tr>\n",
       "\t<tr><td>2129</td><td> -2</td><td>FALSE</td><td> TRUE</td></tr>\n",
       "\t<tr><td>2131</td><td>-30</td><td>FALSE</td><td>FALSE</td></tr>\n",
       "\t<tr><td>2140</td><td>-30</td><td>FALSE</td><td>FALSE</td></tr>\n",
       "\t<tr><td>2142</td><td> 11</td><td>FALSE</td><td> TRUE</td></tr>\n",
       "\t<tr><td>2145</td><td>-25</td><td>FALSE</td><td>FALSE</td></tr>\n",
       "\t<tr><td>2147</td><td>  3</td><td>FALSE</td><td> TRUE</td></tr>\n",
       "\t<tr><td>2149</td><td>-23</td><td>FALSE</td><td>FALSE</td></tr>\n",
       "\t<tr><td>2150</td><td>-16</td><td>FALSE</td><td> TRUE</td></tr>\n",
       "\t<tr><td>2159</td><td>194</td><td>FALSE</td><td>FALSE</td></tr>\n",
       "\t<tr><td>2203</td><td>  8</td><td>FALSE</td><td> TRUE</td></tr>\n",
       "\t<tr><td>2207</td><td>  7</td><td>FALSE</td><td> TRUE</td></tr>\n",
       "\t<tr><td>2211</td><td> 57</td><td>FALSE</td><td>FALSE</td></tr>\n",
       "\t<tr><td>2231</td><td>-21</td><td>FALSE</td><td>FALSE</td></tr>\n",
       "\t<tr><td>2233</td><td> 42</td><td>FALSE</td><td>FALSE</td></tr>\n",
       "\t<tr><td>2235</td><td>130</td><td>FALSE</td><td>FALSE</td></tr>\n",
       "\t<tr><td>2237</td><td> -8</td><td>FALSE</td><td> TRUE</td></tr>\n",
       "\t<tr><td>2240</td><td>-17</td><td>FALSE</td><td> TRUE</td></tr>\n",
       "\t<tr><td>2240</td><td>-20</td><td>FALSE</td><td>FALSE</td></tr>\n",
       "\t<tr><td>2241</td><td>-16</td><td>FALSE</td><td> TRUE</td></tr>\n",
       "\t<tr><td>2307</td><td>  1</td><td>FALSE</td><td> TRUE</td></tr>\n",
       "\t<tr><td>2349</td><td>-25</td><td>FALSE</td><td>FALSE</td></tr>\n",
       "\t<tr><td>  NA</td><td> NA</td><td>   NA</td><td>   NA</td></tr>\n",
       "\t<tr><td>  NA</td><td> NA</td><td>   NA</td><td>   NA</td></tr>\n",
       "\t<tr><td>  NA</td><td> NA</td><td>   NA</td><td>   NA</td></tr>\n",
       "\t<tr><td>  NA</td><td> NA</td><td>   NA</td><td>   NA</td></tr>\n",
       "\t<tr><td>  NA</td><td> NA</td><td>   NA</td><td>   NA</td></tr>\n",
       "\t<tr><td>  NA</td><td> NA</td><td>   NA</td><td>   NA</td></tr>\n",
       "</tbody>\n",
       "</table>\n"
      ],
      "text/latex": [
       "A tibble: 336776 x 4\n",
       "\\begin{tabular}{llll}\n",
       " dep\\_time & arr\\_delay & daytime & approx\\_ontime\\\\\n",
       " <int> & <dbl> & <lgl> & <lgl>\\\\\n",
       "\\hline\n",
       "\t 517 &  11 & FALSE &  TRUE\\\\\n",
       "\t 533 &  20 & FALSE & FALSE\\\\\n",
       "\t 542 &  33 & FALSE & FALSE\\\\\n",
       "\t 544 & -18 & FALSE &  TRUE\\\\\n",
       "\t 554 & -25 & FALSE & FALSE\\\\\n",
       "\t 554 &  12 & FALSE &  TRUE\\\\\n",
       "\t 555 &  19 & FALSE &  TRUE\\\\\n",
       "\t 557 & -14 & FALSE &  TRUE\\\\\n",
       "\t 557 &  -8 & FALSE &  TRUE\\\\\n",
       "\t 558 &   8 & FALSE &  TRUE\\\\\n",
       "\t 558 &  -2 & FALSE &  TRUE\\\\\n",
       "\t 558 &  -3 & FALSE &  TRUE\\\\\n",
       "\t 558 &   7 & FALSE &  TRUE\\\\\n",
       "\t 558 & -14 & FALSE &  TRUE\\\\\n",
       "\t 559 &  31 & FALSE & FALSE\\\\\n",
       "\t 559 &  -4 & FALSE &  TRUE\\\\\n",
       "\t 559 &  -8 & FALSE &  TRUE\\\\\n",
       "\t 600 &  -7 & FALSE &  TRUE\\\\\n",
       "\t 600 &  12 & FALSE &  TRUE\\\\\n",
       "\t 601 &  -6 &  TRUE &  TRUE\\\\\n",
       "\t 602 &  -8 &  TRUE &  TRUE\\\\\n",
       "\t 602 &  16 &  TRUE &  TRUE\\\\\n",
       "\t 606 & -12 &  TRUE &  TRUE\\\\\n",
       "\t 606 &  -8 &  TRUE &  TRUE\\\\\n",
       "\t 607 & -17 &  TRUE &  TRUE\\\\\n",
       "\t 608 &  32 &  TRUE & FALSE\\\\\n",
       "\t 611 &  14 &  TRUE &  TRUE\\\\\n",
       "\t 613 &   4 &  TRUE &  TRUE\\\\\n",
       "\t 615 & -21 &  TRUE & FALSE\\\\\n",
       "\t 615 &  -9 &  TRUE &  TRUE\\\\\n",
       "\t ... & ... & ... & ...\\\\\n",
       "\t 2123 & -24 & FALSE & FALSE\\\\\n",
       "\t 2127 &  -9 & FALSE &  TRUE\\\\\n",
       "\t 2128 & -31 & FALSE & FALSE\\\\\n",
       "\t 2129 &  -2 & FALSE &  TRUE\\\\\n",
       "\t 2131 & -30 & FALSE & FALSE\\\\\n",
       "\t 2140 & -30 & FALSE & FALSE\\\\\n",
       "\t 2142 &  11 & FALSE &  TRUE\\\\\n",
       "\t 2145 & -25 & FALSE & FALSE\\\\\n",
       "\t 2147 &   3 & FALSE &  TRUE\\\\\n",
       "\t 2149 & -23 & FALSE & FALSE\\\\\n",
       "\t 2150 & -16 & FALSE &  TRUE\\\\\n",
       "\t 2159 & 194 & FALSE & FALSE\\\\\n",
       "\t 2203 &   8 & FALSE &  TRUE\\\\\n",
       "\t 2207 &   7 & FALSE &  TRUE\\\\\n",
       "\t 2211 &  57 & FALSE & FALSE\\\\\n",
       "\t 2231 & -21 & FALSE & FALSE\\\\\n",
       "\t 2233 &  42 & FALSE & FALSE\\\\\n",
       "\t 2235 & 130 & FALSE & FALSE\\\\\n",
       "\t 2237 &  -8 & FALSE &  TRUE\\\\\n",
       "\t 2240 & -17 & FALSE &  TRUE\\\\\n",
       "\t 2240 & -20 & FALSE & FALSE\\\\\n",
       "\t 2241 & -16 & FALSE &  TRUE\\\\\n",
       "\t 2307 &   1 & FALSE &  TRUE\\\\\n",
       "\t 2349 & -25 & FALSE & FALSE\\\\\n",
       "\t   NA &  NA &    NA &    NA\\\\\n",
       "\t   NA &  NA &    NA &    NA\\\\\n",
       "\t   NA &  NA &    NA &    NA\\\\\n",
       "\t   NA &  NA &    NA &    NA\\\\\n",
       "\t   NA &  NA &    NA &    NA\\\\\n",
       "\t   NA &  NA &    NA &    NA\\\\\n",
       "\\end{tabular}\n"
      ],
      "text/markdown": [
       "\n",
       "A tibble: 336776 x 4\n",
       "\n",
       "| dep_time &lt;int&gt; | arr_delay &lt;dbl&gt; | daytime &lt;lgl&gt; | approx_ontime &lt;lgl&gt; |\n",
       "|---|---|---|---|\n",
       "| 517 |  11 | FALSE |  TRUE |\n",
       "| 533 |  20 | FALSE | FALSE |\n",
       "| 542 |  33 | FALSE | FALSE |\n",
       "| 544 | -18 | FALSE |  TRUE |\n",
       "| 554 | -25 | FALSE | FALSE |\n",
       "| 554 |  12 | FALSE |  TRUE |\n",
       "| 555 |  19 | FALSE |  TRUE |\n",
       "| 557 | -14 | FALSE |  TRUE |\n",
       "| 557 |  -8 | FALSE |  TRUE |\n",
       "| 558 |   8 | FALSE |  TRUE |\n",
       "| 558 |  -2 | FALSE |  TRUE |\n",
       "| 558 |  -3 | FALSE |  TRUE |\n",
       "| 558 |   7 | FALSE |  TRUE |\n",
       "| 558 | -14 | FALSE |  TRUE |\n",
       "| 559 |  31 | FALSE | FALSE |\n",
       "| 559 |  -4 | FALSE |  TRUE |\n",
       "| 559 |  -8 | FALSE |  TRUE |\n",
       "| 600 |  -7 | FALSE |  TRUE |\n",
       "| 600 |  12 | FALSE |  TRUE |\n",
       "| 601 |  -6 |  TRUE |  TRUE |\n",
       "| 602 |  -8 |  TRUE |  TRUE |\n",
       "| 602 |  16 |  TRUE |  TRUE |\n",
       "| 606 | -12 |  TRUE |  TRUE |\n",
       "| 606 |  -8 |  TRUE |  TRUE |\n",
       "| 607 | -17 |  TRUE |  TRUE |\n",
       "| 608 |  32 |  TRUE | FALSE |\n",
       "| 611 |  14 |  TRUE |  TRUE |\n",
       "| 613 |   4 |  TRUE |  TRUE |\n",
       "| 615 | -21 |  TRUE | FALSE |\n",
       "| 615 |  -9 |  TRUE |  TRUE |\n",
       "| ... | ... | ... | ... |\n",
       "| 2123 | -24 | FALSE | FALSE |\n",
       "| 2127 |  -9 | FALSE |  TRUE |\n",
       "| 2128 | -31 | FALSE | FALSE |\n",
       "| 2129 |  -2 | FALSE |  TRUE |\n",
       "| 2131 | -30 | FALSE | FALSE |\n",
       "| 2140 | -30 | FALSE | FALSE |\n",
       "| 2142 |  11 | FALSE |  TRUE |\n",
       "| 2145 | -25 | FALSE | FALSE |\n",
       "| 2147 |   3 | FALSE |  TRUE |\n",
       "| 2149 | -23 | FALSE | FALSE |\n",
       "| 2150 | -16 | FALSE |  TRUE |\n",
       "| 2159 | 194 | FALSE | FALSE |\n",
       "| 2203 |   8 | FALSE |  TRUE |\n",
       "| 2207 |   7 | FALSE |  TRUE |\n",
       "| 2211 |  57 | FALSE | FALSE |\n",
       "| 2231 | -21 | FALSE | FALSE |\n",
       "| 2233 |  42 | FALSE | FALSE |\n",
       "| 2235 | 130 | FALSE | FALSE |\n",
       "| 2237 |  -8 | FALSE |  TRUE |\n",
       "| 2240 | -17 | FALSE |  TRUE |\n",
       "| 2240 | -20 | FALSE | FALSE |\n",
       "| 2241 | -16 | FALSE |  TRUE |\n",
       "| 2307 |   1 | FALSE |  TRUE |\n",
       "| 2349 | -25 | FALSE | FALSE |\n",
       "|   NA |  NA |    NA |    NA |\n",
       "|   NA |  NA |    NA |    NA |\n",
       "|   NA |  NA |    NA |    NA |\n",
       "|   NA |  NA |    NA |    NA |\n",
       "|   NA |  NA |    NA |    NA |\n",
       "|   NA |  NA |    NA |    NA |\n",
       "\n"
      ],
      "text/plain": [
       "       dep_time arr_delay daytime approx_ontime\n",
       "1      517       11       FALSE    TRUE        \n",
       "2      533       20       FALSE   FALSE        \n",
       "3      542       33       FALSE   FALSE        \n",
       "4      544      -18       FALSE    TRUE        \n",
       "5      554      -25       FALSE   FALSE        \n",
       "6      554       12       FALSE    TRUE        \n",
       "7      555       19       FALSE    TRUE        \n",
       "8      557      -14       FALSE    TRUE        \n",
       "9      557       -8       FALSE    TRUE        \n",
       "10     558        8       FALSE    TRUE        \n",
       "11     558       -2       FALSE    TRUE        \n",
       "12     558       -3       FALSE    TRUE        \n",
       "13     558        7       FALSE    TRUE        \n",
       "14     558      -14       FALSE    TRUE        \n",
       "15     559       31       FALSE   FALSE        \n",
       "16     559       -4       FALSE    TRUE        \n",
       "17     559       -8       FALSE    TRUE        \n",
       "18     600       -7       FALSE    TRUE        \n",
       "19     600       12       FALSE    TRUE        \n",
       "20     601       -6        TRUE    TRUE        \n",
       "21     602       -8        TRUE    TRUE        \n",
       "22     602       16        TRUE    TRUE        \n",
       "23     606      -12        TRUE    TRUE        \n",
       "24     606       -8        TRUE    TRUE        \n",
       "25     607      -17        TRUE    TRUE        \n",
       "26     608       32        TRUE   FALSE        \n",
       "27     611       14        TRUE    TRUE        \n",
       "28     613        4        TRUE    TRUE        \n",
       "29     615      -21        TRUE   FALSE        \n",
       "30     615       -9        TRUE    TRUE        \n",
       "...    ...      ...       ...     ...          \n",
       "336747 2123     -24       FALSE   FALSE        \n",
       "336748 2127      -9       FALSE    TRUE        \n",
       "336749 2128     -31       FALSE   FALSE        \n",
       "336750 2129      -2       FALSE    TRUE        \n",
       "336751 2131     -30       FALSE   FALSE        \n",
       "336752 2140     -30       FALSE   FALSE        \n",
       "336753 2142      11       FALSE    TRUE        \n",
       "336754 2145     -25       FALSE   FALSE        \n",
       "336755 2147       3       FALSE    TRUE        \n",
       "336756 2149     -23       FALSE   FALSE        \n",
       "336757 2150     -16       FALSE    TRUE        \n",
       "336758 2159     194       FALSE   FALSE        \n",
       "336759 2203       8       FALSE    TRUE        \n",
       "336760 2207       7       FALSE    TRUE        \n",
       "336761 2211      57       FALSE   FALSE        \n",
       "336762 2231     -21       FALSE   FALSE        \n",
       "336763 2233      42       FALSE   FALSE        \n",
       "336764 2235     130       FALSE   FALSE        \n",
       "336765 2237      -8       FALSE    TRUE        \n",
       "336766 2240     -17       FALSE    TRUE        \n",
       "336767 2240     -20       FALSE   FALSE        \n",
       "336768 2241     -16       FALSE    TRUE        \n",
       "336769 2307       1       FALSE    TRUE        \n",
       "336770 2349     -25       FALSE   FALSE        \n",
       "336771   NA      NA          NA      NA        \n",
       "336772   NA      NA          NA      NA        \n",
       "336773   NA      NA          NA      NA        \n",
       "336774   NA      NA          NA      NA        \n",
       "336775   NA      NA          NA      NA        \n",
       "336776   NA      NA          NA      NA        "
      ]
     },
     "metadata": {},
     "output_type": "display_data"
    }
   ],
   "source": [
    "flights |> \n",
    "  mutate(\n",
    "    daytime = dep_time > 600 & dep_time < 2000,\n",
    "    approx_ontime = abs(arr_delay) < 20,\n",
    "    .keep = \"used\"\n",
    "  )"
   ]
  },
  {
   "cell_type": "code",
   "execution_count": 63,
   "metadata": {
    "vscode": {
     "languageId": "r"
    }
   },
   "outputs": [
    {
     "data": {
      "text/html": [
       "<table class=\"dataframe\">\n",
       "<caption>A tibble: 172286 x 21</caption>\n",
       "<thead>\n",
       "\t<tr><th scope=col>year</th><th scope=col>month</th><th scope=col>day</th><th scope=col>dep_time</th><th scope=col>sched_dep_time</th><th scope=col>dep_delay</th><th scope=col>arr_time</th><th scope=col>sched_arr_time</th><th scope=col>arr_delay</th><th scope=col>carrier</th><th scope=col>...</th><th scope=col>tailnum</th><th scope=col>origin</th><th scope=col>dest</th><th scope=col>air_time</th><th scope=col>distance</th><th scope=col>hour</th><th scope=col>minute</th><th scope=col>time_hour</th><th scope=col>daytime</th><th scope=col>approx_ontime</th></tr>\n",
       "\t<tr><th scope=col>&lt;int&gt;</th><th scope=col>&lt;int&gt;</th><th scope=col>&lt;int&gt;</th><th scope=col>&lt;int&gt;</th><th scope=col>&lt;int&gt;</th><th scope=col>&lt;dbl&gt;</th><th scope=col>&lt;int&gt;</th><th scope=col>&lt;int&gt;</th><th scope=col>&lt;dbl&gt;</th><th scope=col>&lt;chr&gt;</th><th scope=col>...</th><th scope=col>&lt;chr&gt;</th><th scope=col>&lt;chr&gt;</th><th scope=col>&lt;chr&gt;</th><th scope=col>&lt;dbl&gt;</th><th scope=col>&lt;dbl&gt;</th><th scope=col>&lt;dbl&gt;</th><th scope=col>&lt;dbl&gt;</th><th scope=col>&lt;dttm&gt;</th><th scope=col>&lt;lgl&gt;</th><th scope=col>&lt;lgl&gt;</th></tr>\n",
       "</thead>\n",
       "<tbody>\n",
       "\t<tr><td>2013</td><td>1</td><td>1</td><td>601</td><td>600</td><td> 1</td><td> 844</td><td> 850</td><td> -6</td><td>B6</td><td>...</td><td>N644JB</td><td>EWR</td><td>PBI</td><td>147</td><td>1023</td><td>6</td><td> 0</td><td>2013-01-01 06:00:00</td><td>TRUE</td><td>TRUE</td></tr>\n",
       "\t<tr><td>2013</td><td>1</td><td>1</td><td>602</td><td>610</td><td>-8</td><td> 812</td><td> 820</td><td> -8</td><td>DL</td><td>...</td><td>N971DL</td><td>LGA</td><td>MSP</td><td>170</td><td>1020</td><td>6</td><td>10</td><td>2013-01-01 06:00:00</td><td>TRUE</td><td>TRUE</td></tr>\n",
       "\t<tr><td>2013</td><td>1</td><td>1</td><td>602</td><td>605</td><td>-3</td><td> 821</td><td> 805</td><td> 16</td><td>MQ</td><td>...</td><td>N730MQ</td><td>LGA</td><td>DTW</td><td>105</td><td> 502</td><td>6</td><td> 5</td><td>2013-01-01 06:00:00</td><td>TRUE</td><td>TRUE</td></tr>\n",
       "\t<tr><td>2013</td><td>1</td><td>1</td><td>606</td><td>610</td><td>-4</td><td> 858</td><td> 910</td><td>-12</td><td>AA</td><td>...</td><td>N633AA</td><td>EWR</td><td>MIA</td><td>152</td><td>1085</td><td>6</td><td>10</td><td>2013-01-01 06:00:00</td><td>TRUE</td><td>TRUE</td></tr>\n",
       "\t<tr><td>2013</td><td>1</td><td>1</td><td>606</td><td>610</td><td>-4</td><td> 837</td><td> 845</td><td> -8</td><td>DL</td><td>...</td><td>N3739P</td><td>JFK</td><td>ATL</td><td>128</td><td> 760</td><td>6</td><td>10</td><td>2013-01-01 06:00:00</td><td>TRUE</td><td>TRUE</td></tr>\n",
       "\t<tr><td>2013</td><td>1</td><td>1</td><td>607</td><td>607</td><td> 0</td><td> 858</td><td> 915</td><td>-17</td><td>UA</td><td>...</td><td>N53442</td><td>EWR</td><td>MIA</td><td>157</td><td>1085</td><td>6</td><td> 7</td><td>2013-01-01 06:00:00</td><td>TRUE</td><td>TRUE</td></tr>\n",
       "\t<tr><td>2013</td><td>1</td><td>1</td><td>611</td><td>600</td><td>11</td><td> 945</td><td> 931</td><td> 14</td><td>UA</td><td>...</td><td>N532UA</td><td>JFK</td><td>SFO</td><td>366</td><td>2586</td><td>6</td><td> 0</td><td>2013-01-01 06:00:00</td><td>TRUE</td><td>TRUE</td></tr>\n",
       "\t<tr><td>2013</td><td>1</td><td>1</td><td>613</td><td>610</td><td> 3</td><td> 925</td><td> 921</td><td>  4</td><td>B6</td><td>...</td><td>N635JB</td><td>JFK</td><td>RSW</td><td>175</td><td>1074</td><td>6</td><td>10</td><td>2013-01-01 06:00:00</td><td>TRUE</td><td>TRUE</td></tr>\n",
       "\t<tr><td>2013</td><td>1</td><td>1</td><td>615</td><td>615</td><td> 0</td><td> 833</td><td> 842</td><td> -9</td><td>DL</td><td>...</td><td>N326NB</td><td>EWR</td><td>ATL</td><td>120</td><td> 746</td><td>6</td><td>15</td><td>2013-01-01 06:00:00</td><td>TRUE</td><td>TRUE</td></tr>\n",
       "\t<tr><td>2013</td><td>1</td><td>1</td><td>622</td><td>630</td><td>-8</td><td>1017</td><td>1014</td><td>  3</td><td>US</td><td>...</td><td>N807AW</td><td>EWR</td><td>PHX</td><td>342</td><td>2133</td><td>6</td><td>30</td><td>2013-01-01 06:00:00</td><td>TRUE</td><td>TRUE</td></tr>\n",
       "\t<tr><td>2013</td><td>1</td><td>1</td><td>623</td><td>610</td><td>13</td><td> 920</td><td> 915</td><td>  5</td><td>AA</td><td>...</td><td>N3EMAA</td><td>LGA</td><td>MIA</td><td>153</td><td>1096</td><td>6</td><td>10</td><td>2013-01-01 06:00:00</td><td>TRUE</td><td>TRUE</td></tr>\n",
       "\t<tr><td>2013</td><td>1</td><td>1</td><td>623</td><td>627</td><td>-4</td><td> 933</td><td> 932</td><td>  1</td><td>UA</td><td>...</td><td>N459UA</td><td>LGA</td><td>IAH</td><td>229</td><td>1416</td><td>6</td><td>27</td><td>2013-01-01 06:00:00</td><td>TRUE</td><td>TRUE</td></tr>\n",
       "\t<tr><td>2013</td><td>1</td><td>1</td><td>624</td><td>630</td><td>-6</td><td> 840</td><td> 830</td><td> 10</td><td>MQ</td><td>...</td><td>N518MQ</td><td>LGA</td><td>MSP</td><td>166</td><td>1020</td><td>6</td><td>30</td><td>2013-01-01 06:00:00</td><td>TRUE</td><td>TRUE</td></tr>\n",
       "\t<tr><td>2013</td><td>1</td><td>1</td><td>627</td><td>630</td><td>-3</td><td>1018</td><td>1018</td><td>  0</td><td>US</td><td>...</td><td>N535UW</td><td>JFK</td><td>PHX</td><td>330</td><td>2153</td><td>6</td><td>30</td><td>2013-01-01 06:00:00</td><td>TRUE</td><td>TRUE</td></tr>\n",
       "\t<tr><td>2013</td><td>1</td><td>1</td><td>628</td><td>630</td><td>-2</td><td>1137</td><td>1140</td><td> -3</td><td>AA</td><td>...</td><td>N3BAAA</td><td>JFK</td><td>SJU</td><td>192</td><td>1598</td><td>6</td><td>30</td><td>2013-01-01 06:00:00</td><td>TRUE</td><td>TRUE</td></tr>\n",
       "\t<tr><td>2013</td><td>1</td><td>1</td><td>629</td><td>630</td><td>-1</td><td> 824</td><td> 810</td><td> 14</td><td>AA</td><td>...</td><td>N3CYAA</td><td>LGA</td><td>ORD</td><td>140</td><td> 733</td><td>6</td><td>30</td><td>2013-01-01 06:00:00</td><td>TRUE</td><td>TRUE</td></tr>\n",
       "\t<tr><td>2013</td><td>1</td><td>1</td><td>629</td><td>630</td><td>-1</td><td> 721</td><td> 740</td><td>-19</td><td>WN</td><td>...</td><td>N273WN</td><td>LGA</td><td>BWI</td><td> 40</td><td> 185</td><td>6</td><td>30</td><td>2013-01-01 06:00:00</td><td>TRUE</td><td>TRUE</td></tr>\n",
       "\t<tr><td>2013</td><td>1</td><td>1</td><td>629</td><td>630</td><td>-1</td><td> 824</td><td> 833</td><td> -9</td><td>US</td><td>...</td><td>N426US</td><td>EWR</td><td>CLT</td><td> 91</td><td> 529</td><td>6</td><td>30</td><td>2013-01-01 06:00:00</td><td>TRUE</td><td>TRUE</td></tr>\n",
       "\t<tr><td>2013</td><td>1</td><td>1</td><td>632</td><td>608</td><td>24</td><td> 740</td><td> 728</td><td> 12</td><td>EV</td><td>...</td><td>N13553</td><td>EWR</td><td>IAD</td><td> 52</td><td> 212</td><td>6</td><td> 8</td><td>2013-01-01 06:00:00</td><td>TRUE</td><td>TRUE</td></tr>\n",
       "\t<tr><td>2013</td><td>1</td><td>1</td><td>637</td><td>645</td><td>-8</td><td> 930</td><td> 935</td><td> -5</td><td>B6</td><td>...</td><td>N709JB</td><td>LGA</td><td>MCO</td><td>144</td><td> 950</td><td>6</td><td>45</td><td>2013-01-01 06:00:00</td><td>TRUE</td><td>TRUE</td></tr>\n",
       "\t<tr><td>2013</td><td>1</td><td>1</td><td>639</td><td>640</td><td>-1</td><td> 739</td><td> 749</td><td>-10</td><td>B6</td><td>...</td><td>N805JB</td><td>JFK</td><td>BOS</td><td> 41</td><td> 187</td><td>6</td><td>40</td><td>2013-01-01 06:00:00</td><td>TRUE</td><td>TRUE</td></tr>\n",
       "\t<tr><td>2013</td><td>1</td><td>1</td><td>643</td><td>646</td><td>-3</td><td> 922</td><td> 940</td><td>-18</td><td>UA</td><td>...</td><td>N497UA</td><td>EWR</td><td>PBI</td><td>146</td><td>1023</td><td>6</td><td>46</td><td>2013-01-01 06:00:00</td><td>TRUE</td><td>TRUE</td></tr>\n",
       "\t<tr><td>2013</td><td>1</td><td>1</td><td>643</td><td>645</td><td>-2</td><td> 837</td><td> 848</td><td>-11</td><td>US</td><td>...</td><td>N178US</td><td>EWR</td><td>CLT</td><td> 91</td><td> 529</td><td>6</td><td>45</td><td>2013-01-01 06:00:00</td><td>TRUE</td><td>TRUE</td></tr>\n",
       "\t<tr><td>2013</td><td>1</td><td>1</td><td>644</td><td>636</td><td> 8</td><td> 931</td><td> 940</td><td> -9</td><td>UA</td><td>...</td><td>N75435</td><td>EWR</td><td>FLL</td><td>151</td><td>1065</td><td>6</td><td>36</td><td>2013-01-01 06:00:00</td><td>TRUE</td><td>TRUE</td></tr>\n",
       "\t<tr><td>2013</td><td>1</td><td>1</td><td>645</td><td>647</td><td>-2</td><td> 815</td><td> 810</td><td>  5</td><td>B6</td><td>...</td><td>N796JB</td><td>JFK</td><td>BUF</td><td> 63</td><td> 301</td><td>6</td><td>47</td><td>2013-01-01 06:00:00</td><td>TRUE</td><td>TRUE</td></tr>\n",
       "\t<tr><td>2013</td><td>1</td><td>1</td><td>646</td><td>645</td><td> 1</td><td> 910</td><td> 916</td><td> -6</td><td>UA</td><td>...</td><td>N569UA</td><td>LGA</td><td>DEN</td><td>243</td><td>1620</td><td>6</td><td>45</td><td>2013-01-01 06:00:00</td><td>TRUE</td><td>TRUE</td></tr>\n",
       "\t<tr><td>2013</td><td>1</td><td>1</td><td>646</td><td>645</td><td> 1</td><td>1023</td><td>1030</td><td> -7</td><td>UA</td><td>...</td><td>N38727</td><td>EWR</td><td>SNA</td><td>380</td><td>2434</td><td>6</td><td>45</td><td>2013-01-01 06:00:00</td><td>TRUE</td><td>TRUE</td></tr>\n",
       "\t<tr><td>2013</td><td>1</td><td>1</td><td>651</td><td>655</td><td>-4</td><td> 936</td><td> 942</td><td> -6</td><td>B6</td><td>...</td><td>N558JB</td><td>JFK</td><td>LAS</td><td>323</td><td>2248</td><td>6</td><td>55</td><td>2013-01-01 06:00:00</td><td>TRUE</td><td>TRUE</td></tr>\n",
       "\t<tr><td>2013</td><td>1</td><td>1</td><td>652</td><td>655</td><td>-3</td><td> 932</td><td> 921</td><td> 11</td><td>B6</td><td>...</td><td>N178JB</td><td>JFK</td><td>MSY</td><td>191</td><td>1182</td><td>6</td><td>55</td><td>2013-01-01 06:00:00</td><td>TRUE</td><td>TRUE</td></tr>\n",
       "\t<tr><td>2013</td><td>1</td><td>1</td><td>655</td><td>655</td><td> 0</td><td>1021</td><td>1030</td><td> -9</td><td>DL</td><td>...</td><td>N3763D</td><td>JFK</td><td>SLC</td><td>294</td><td>1990</td><td>6</td><td>55</td><td>2013-01-01 06:00:00</td><td>TRUE</td><td>TRUE</td></tr>\n",
       "\t<tr><td>...</td><td>...</td><td>...</td><td>...</td><td>...</td><td>...</td><td>...</td><td>...</td><td>...</td><td>...</td><td></td><td>...</td><td>...</td><td>...</td><td>...</td><td>...</td><td>...</td><td>...</td><td>...</td><td>...</td><td>...</td></tr>\n",
       "\t<tr><td>2013</td><td>9</td><td>30</td><td>1908</td><td>1911</td><td> -3</td><td>2107</td><td>2110</td><td> -3</td><td>EV</td><td>...</td><td>N16987</td><td>EWR</td><td>CLT</td><td> 74</td><td> 529</td><td>19</td><td>11</td><td>2013-09-30 19:00:00</td><td>TRUE</td><td>TRUE</td></tr>\n",
       "\t<tr><td>2013</td><td>9</td><td>30</td><td>1909</td><td>1905</td><td>  4</td><td>2055</td><td>2057</td><td> -2</td><td>9E</td><td>...</td><td>N937XJ</td><td>JFK</td><td>ORD</td><td>108</td><td> 740</td><td>19</td><td> 5</td><td>2013-09-30 19:00:00</td><td>TRUE</td><td>TRUE</td></tr>\n",
       "\t<tr><td>2013</td><td>9</td><td>30</td><td>1909</td><td>1901</td><td>  8</td><td>2212</td><td>2211</td><td>  1</td><td>UA</td><td>...</td><td>N513UA</td><td>EWR</td><td>SFO</td><td>307</td><td>2565</td><td>19</td><td> 1</td><td>2013-09-30 19:00:00</td><td>TRUE</td><td>TRUE</td></tr>\n",
       "\t<tr><td>2013</td><td>9</td><td>30</td><td>1915</td><td>1900</td><td> 15</td><td>2138</td><td>2151</td><td>-13</td><td>B6</td><td>...</td><td>N563JB</td><td>JFK</td><td>MCO</td><td>120</td><td> 944</td><td>19</td><td> 0</td><td>2013-09-30 19:00:00</td><td>TRUE</td><td>TRUE</td></tr>\n",
       "\t<tr><td>2013</td><td>9</td><td>30</td><td>1915</td><td>1900</td><td> 15</td><td>2025</td><td>2015</td><td> 10</td><td>WN</td><td>...</td><td>N719SW</td><td>LGA</td><td>MKE</td><td>104</td><td> 738</td><td>19</td><td> 0</td><td>2013-09-30 19:00:00</td><td>TRUE</td><td>TRUE</td></tr>\n",
       "\t<tr><td>2013</td><td>9</td><td>30</td><td>1917</td><td>1920</td><td> -3</td><td>2053</td><td>2055</td><td> -2</td><td>9E</td><td>...</td><td>N600LR</td><td>LGA</td><td>BUF</td><td> 50</td><td> 292</td><td>19</td><td>20</td><td>2013-09-30 19:00:00</td><td>TRUE</td><td>TRUE</td></tr>\n",
       "\t<tr><td>2013</td><td>9</td><td>30</td><td>1925</td><td>1930</td><td> -5</td><td>2033</td><td>2049</td><td>-16</td><td>EV</td><td>...</td><td>N825AS</td><td>LGA</td><td>IAD</td><td> 43</td><td> 229</td><td>19</td><td>30</td><td>2013-09-30 19:00:00</td><td>TRUE</td><td>TRUE</td></tr>\n",
       "\t<tr><td>2013</td><td>9</td><td>30</td><td>1926</td><td>1930</td><td> -4</td><td>2146</td><td>2201</td><td>-15</td><td>DL</td><td>...</td><td>N303DQ</td><td>EWR</td><td>ATL</td><td> 95</td><td> 746</td><td>19</td><td>30</td><td>2013-09-30 19:00:00</td><td>TRUE</td><td>TRUE</td></tr>\n",
       "\t<tr><td>2013</td><td>9</td><td>30</td><td>1927</td><td>1930</td><td> -3</td><td>2054</td><td>2056</td><td> -2</td><td>EV</td><td>...</td><td>N13956</td><td>EWR</td><td>MKE</td><td>110</td><td> 725</td><td>19</td><td>30</td><td>2013-09-30 19:00:00</td><td>TRUE</td><td>TRUE</td></tr>\n",
       "\t<tr><td>2013</td><td>9</td><td>30</td><td>1928</td><td>1932</td><td> -4</td><td>2137</td><td>2143</td><td> -6</td><td>EV</td><td>...</td><td>N18556</td><td>EWR</td><td>TYS</td><td> 82</td><td> 631</td><td>19</td><td>32</td><td>2013-09-30 19:00:00</td><td>TRUE</td><td>TRUE</td></tr>\n",
       "\t<tr><td>2013</td><td>9</td><td>30</td><td>1929</td><td>1934</td><td> -5</td><td>2146</td><td>2136</td><td> 10</td><td>EV</td><td>...</td><td>N18557</td><td>EWR</td><td>CHS</td><td> 92</td><td> 628</td><td>19</td><td>34</td><td>2013-09-30 19:00:00</td><td>TRUE</td><td>TRUE</td></tr>\n",
       "\t<tr><td>2013</td><td>9</td><td>30</td><td>1930</td><td>1930</td><td>  0</td><td>2217</td><td>2231</td><td>-14</td><td>DL</td><td>...</td><td>N365NB</td><td>LGA</td><td>TPA</td><td>133</td><td>1010</td><td>19</td><td>30</td><td>2013-09-30 19:00:00</td><td>TRUE</td><td>TRUE</td></tr>\n",
       "\t<tr><td>2013</td><td>9</td><td>30</td><td>1930</td><td>1940</td><td>-10</td><td>2120</td><td>2125</td><td> -5</td><td>MQ</td><td>...</td><td>N839MQ</td><td>JFK</td><td>RDU</td><td> 70</td><td> 427</td><td>19</td><td>40</td><td>2013-09-30 19:00:00</td><td>TRUE</td><td>TRUE</td></tr>\n",
       "\t<tr><td>2013</td><td>9</td><td>30</td><td>1931</td><td>1905</td><td> 26</td><td>2049</td><td>2033</td><td> 16</td><td>EV</td><td>...</td><td>N748EV</td><td>LGA</td><td>ROC</td><td> 41</td><td> 254</td><td>19</td><td> 5</td><td>2013-09-30 19:00:00</td><td>TRUE</td><td>TRUE</td></tr>\n",
       "\t<tr><td>2013</td><td>9</td><td>30</td><td>1932</td><td>1935</td><td> -3</td><td>2221</td><td>2232</td><td>-11</td><td>DL</td><td>...</td><td>N927DA</td><td>LGA</td><td>MCO</td><td>132</td><td> 950</td><td>19</td><td>35</td><td>2013-09-30 19:00:00</td><td>TRUE</td><td>TRUE</td></tr>\n",
       "\t<tr><td>2013</td><td>9</td><td>30</td><td>1934</td><td>1930</td><td>  4</td><td>2236</td><td>2250</td><td>-14</td><td>AA</td><td>...</td><td>N3EXAA</td><td>JFK</td><td>SEA</td><td>340</td><td>2422</td><td>19</td><td>30</td><td>2013-09-30 19:00:00</td><td>TRUE</td><td>TRUE</td></tr>\n",
       "\t<tr><td>2013</td><td>9</td><td>30</td><td>1934</td><td>1935</td><td> -1</td><td>2238</td><td>2250</td><td>-12</td><td>AA</td><td>...</td><td>N3JFAA</td><td>LGA</td><td>MIA</td><td>150</td><td>1096</td><td>19</td><td>35</td><td>2013-09-30 19:00:00</td><td>TRUE</td><td>TRUE</td></tr>\n",
       "\t<tr><td>2013</td><td>9</td><td>30</td><td>1935</td><td>1935</td><td>  0</td><td>2211</td><td>2229</td><td>-18</td><td>B6</td><td>...</td><td>N589JB</td><td>JFK</td><td>TPA</td><td>132</td><td>1005</td><td>19</td><td>35</td><td>2013-09-30 19:00:00</td><td>TRUE</td><td>TRUE</td></tr>\n",
       "\t<tr><td>2013</td><td>9</td><td>30</td><td>1935</td><td>1930</td><td>  5</td><td>2230</td><td>2233</td><td> -3</td><td>UA</td><td>...</td><td>N38446</td><td>EWR</td><td>TPA</td><td>132</td><td> 997</td><td>19</td><td>30</td><td>2013-09-30 19:00:00</td><td>TRUE</td><td>TRUE</td></tr>\n",
       "\t<tr><td>2013</td><td>9</td><td>30</td><td>1936</td><td>1910</td><td> 26</td><td>2204</td><td>2203</td><td>  1</td><td>DL</td><td>...</td><td>N905DL</td><td>JFK</td><td>MCO</td><td>126</td><td> 944</td><td>19</td><td>10</td><td>2013-09-30 19:00:00</td><td>TRUE</td><td>TRUE</td></tr>\n",
       "\t<tr><td>2013</td><td>9</td><td>30</td><td>1939</td><td>1940</td><td> -1</td><td>2041</td><td>2100</td><td>-19</td><td>EV</td><td>...</td><td>N829AS</td><td>JFK</td><td>IAD</td><td> 42</td><td> 228</td><td>19</td><td>40</td><td>2013-09-30 19:00:00</td><td>TRUE</td><td>TRUE</td></tr>\n",
       "\t<tr><td>2013</td><td>9</td><td>30</td><td>1939</td><td>1950</td><td>-11</td><td>2129</td><td>2140</td><td>-11</td><td>MQ</td><td>...</td><td>N735MQ</td><td>LGA</td><td>CMH</td><td> 73</td><td> 479</td><td>19</td><td>50</td><td>2013-09-30 19:00:00</td><td>TRUE</td><td>TRUE</td></tr>\n",
       "\t<tr><td>2013</td><td>9</td><td>30</td><td>1940</td><td>1900</td><td> 40</td><td>2228</td><td>2232</td><td> -4</td><td>DL</td><td>...</td><td>N723TW</td><td>JFK</td><td>SFO</td><td>323</td><td>2586</td><td>19</td><td> 0</td><td>2013-09-30 19:00:00</td><td>TRUE</td><td>TRUE</td></tr>\n",
       "\t<tr><td>2013</td><td>9</td><td>30</td><td>1944</td><td>1950</td><td> -6</td><td>2208</td><td>2215</td><td> -7</td><td>MQ</td><td>...</td><td>N507MQ</td><td>LGA</td><td>ATL</td><td>100</td><td> 762</td><td>19</td><td>50</td><td>2013-09-30 19:00:00</td><td>TRUE</td><td>TRUE</td></tr>\n",
       "\t<tr><td>2013</td><td>9</td><td>30</td><td>1953</td><td>2000</td><td> -7</td><td>2119</td><td>2132</td><td>-13</td><td>UA</td><td>...</td><td>N853UA</td><td>LGA</td><td>ORD</td><td>107</td><td> 733</td><td>20</td><td> 0</td><td>2013-09-30 20:00:00</td><td>TRUE</td><td>TRUE</td></tr>\n",
       "\t<tr><td>2013</td><td>9</td><td>30</td><td>1955</td><td>2000</td><td> -5</td><td>2219</td><td>2230</td><td>-11</td><td>DL</td><td>...</td><td>N992DL</td><td>LGA</td><td>ATL</td><td> 99</td><td> 762</td><td>20</td><td> 0</td><td>2013-09-30 20:00:00</td><td>TRUE</td><td>TRUE</td></tr>\n",
       "\t<tr><td>2013</td><td>9</td><td>30</td><td>1955</td><td>1935</td><td> 20</td><td>2141</td><td>2159</td><td>-18</td><td>9E</td><td>...</td><td>N928XJ</td><td>JFK</td><td>CVG</td><td> 86</td><td> 589</td><td>19</td><td>35</td><td>2013-09-30 19:00:00</td><td>TRUE</td><td>TRUE</td></tr>\n",
       "\t<tr><td>2013</td><td>9</td><td>30</td><td>1955</td><td>1942</td><td> 13</td><td>2300</td><td>2250</td><td> 10</td><td>B6</td><td>...</td><td>N623JB</td><td>LGA</td><td>FLL</td><td>141</td><td>1076</td><td>19</td><td>42</td><td>2013-09-30 19:00:00</td><td>TRUE</td><td>TRUE</td></tr>\n",
       "\t<tr><td>2013</td><td>9</td><td>30</td><td>1955</td><td>2000</td><td> -5</td><td>2112</td><td>2114</td><td> -2</td><td>US</td><td>...</td><td>N957UW</td><td>LGA</td><td>BOS</td><td> 35</td><td> 184</td><td>20</td><td> 0</td><td>2013-09-30 20:00:00</td><td>TRUE</td><td>TRUE</td></tr>\n",
       "\t<tr><td>2013</td><td>9</td><td>30</td><td>1958</td><td>2005</td><td> -7</td><td>2119</td><td>2130</td><td>-11</td><td>MQ</td><td>...</td><td>N511MQ</td><td>EWR</td><td>ORD</td><td>102</td><td> 719</td><td>20</td><td> 5</td><td>2013-09-30 20:00:00</td><td>TRUE</td><td>TRUE</td></tr>\n",
       "</tbody>\n",
       "</table>\n"
      ],
      "text/latex": [
       "A tibble: 172286 x 21\n",
       "\\begin{tabular}{lllllllllllllllllllll}\n",
       " year & month & day & dep\\_time & sched\\_dep\\_time & dep\\_delay & arr\\_time & sched\\_arr\\_time & arr\\_delay & carrier & ... & tailnum & origin & dest & air\\_time & distance & hour & minute & time\\_hour & daytime & approx\\_ontime\\\\\n",
       " <int> & <int> & <int> & <int> & <int> & <dbl> & <int> & <int> & <dbl> & <chr> & ... & <chr> & <chr> & <chr> & <dbl> & <dbl> & <dbl> & <dbl> & <dttm> & <lgl> & <lgl>\\\\\n",
       "\\hline\n",
       "\t 2013 & 1 & 1 & 601 & 600 &  1 &  844 &  850 &  -6 & B6 & ... & N644JB & EWR & PBI & 147 & 1023 & 6 &  0 & 2013-01-01 06:00:00 & TRUE & TRUE\\\\\n",
       "\t 2013 & 1 & 1 & 602 & 610 & -8 &  812 &  820 &  -8 & DL & ... & N971DL & LGA & MSP & 170 & 1020 & 6 & 10 & 2013-01-01 06:00:00 & TRUE & TRUE\\\\\n",
       "\t 2013 & 1 & 1 & 602 & 605 & -3 &  821 &  805 &  16 & MQ & ... & N730MQ & LGA & DTW & 105 &  502 & 6 &  5 & 2013-01-01 06:00:00 & TRUE & TRUE\\\\\n",
       "\t 2013 & 1 & 1 & 606 & 610 & -4 &  858 &  910 & -12 & AA & ... & N633AA & EWR & MIA & 152 & 1085 & 6 & 10 & 2013-01-01 06:00:00 & TRUE & TRUE\\\\\n",
       "\t 2013 & 1 & 1 & 606 & 610 & -4 &  837 &  845 &  -8 & DL & ... & N3739P & JFK & ATL & 128 &  760 & 6 & 10 & 2013-01-01 06:00:00 & TRUE & TRUE\\\\\n",
       "\t 2013 & 1 & 1 & 607 & 607 &  0 &  858 &  915 & -17 & UA & ... & N53442 & EWR & MIA & 157 & 1085 & 6 &  7 & 2013-01-01 06:00:00 & TRUE & TRUE\\\\\n",
       "\t 2013 & 1 & 1 & 611 & 600 & 11 &  945 &  931 &  14 & UA & ... & N532UA & JFK & SFO & 366 & 2586 & 6 &  0 & 2013-01-01 06:00:00 & TRUE & TRUE\\\\\n",
       "\t 2013 & 1 & 1 & 613 & 610 &  3 &  925 &  921 &   4 & B6 & ... & N635JB & JFK & RSW & 175 & 1074 & 6 & 10 & 2013-01-01 06:00:00 & TRUE & TRUE\\\\\n",
       "\t 2013 & 1 & 1 & 615 & 615 &  0 &  833 &  842 &  -9 & DL & ... & N326NB & EWR & ATL & 120 &  746 & 6 & 15 & 2013-01-01 06:00:00 & TRUE & TRUE\\\\\n",
       "\t 2013 & 1 & 1 & 622 & 630 & -8 & 1017 & 1014 &   3 & US & ... & N807AW & EWR & PHX & 342 & 2133 & 6 & 30 & 2013-01-01 06:00:00 & TRUE & TRUE\\\\\n",
       "\t 2013 & 1 & 1 & 623 & 610 & 13 &  920 &  915 &   5 & AA & ... & N3EMAA & LGA & MIA & 153 & 1096 & 6 & 10 & 2013-01-01 06:00:00 & TRUE & TRUE\\\\\n",
       "\t 2013 & 1 & 1 & 623 & 627 & -4 &  933 &  932 &   1 & UA & ... & N459UA & LGA & IAH & 229 & 1416 & 6 & 27 & 2013-01-01 06:00:00 & TRUE & TRUE\\\\\n",
       "\t 2013 & 1 & 1 & 624 & 630 & -6 &  840 &  830 &  10 & MQ & ... & N518MQ & LGA & MSP & 166 & 1020 & 6 & 30 & 2013-01-01 06:00:00 & TRUE & TRUE\\\\\n",
       "\t 2013 & 1 & 1 & 627 & 630 & -3 & 1018 & 1018 &   0 & US & ... & N535UW & JFK & PHX & 330 & 2153 & 6 & 30 & 2013-01-01 06:00:00 & TRUE & TRUE\\\\\n",
       "\t 2013 & 1 & 1 & 628 & 630 & -2 & 1137 & 1140 &  -3 & AA & ... & N3BAAA & JFK & SJU & 192 & 1598 & 6 & 30 & 2013-01-01 06:00:00 & TRUE & TRUE\\\\\n",
       "\t 2013 & 1 & 1 & 629 & 630 & -1 &  824 &  810 &  14 & AA & ... & N3CYAA & LGA & ORD & 140 &  733 & 6 & 30 & 2013-01-01 06:00:00 & TRUE & TRUE\\\\\n",
       "\t 2013 & 1 & 1 & 629 & 630 & -1 &  721 &  740 & -19 & WN & ... & N273WN & LGA & BWI &  40 &  185 & 6 & 30 & 2013-01-01 06:00:00 & TRUE & TRUE\\\\\n",
       "\t 2013 & 1 & 1 & 629 & 630 & -1 &  824 &  833 &  -9 & US & ... & N426US & EWR & CLT &  91 &  529 & 6 & 30 & 2013-01-01 06:00:00 & TRUE & TRUE\\\\\n",
       "\t 2013 & 1 & 1 & 632 & 608 & 24 &  740 &  728 &  12 & EV & ... & N13553 & EWR & IAD &  52 &  212 & 6 &  8 & 2013-01-01 06:00:00 & TRUE & TRUE\\\\\n",
       "\t 2013 & 1 & 1 & 637 & 645 & -8 &  930 &  935 &  -5 & B6 & ... & N709JB & LGA & MCO & 144 &  950 & 6 & 45 & 2013-01-01 06:00:00 & TRUE & TRUE\\\\\n",
       "\t 2013 & 1 & 1 & 639 & 640 & -1 &  739 &  749 & -10 & B6 & ... & N805JB & JFK & BOS &  41 &  187 & 6 & 40 & 2013-01-01 06:00:00 & TRUE & TRUE\\\\\n",
       "\t 2013 & 1 & 1 & 643 & 646 & -3 &  922 &  940 & -18 & UA & ... & N497UA & EWR & PBI & 146 & 1023 & 6 & 46 & 2013-01-01 06:00:00 & TRUE & TRUE\\\\\n",
       "\t 2013 & 1 & 1 & 643 & 645 & -2 &  837 &  848 & -11 & US & ... & N178US & EWR & CLT &  91 &  529 & 6 & 45 & 2013-01-01 06:00:00 & TRUE & TRUE\\\\\n",
       "\t 2013 & 1 & 1 & 644 & 636 &  8 &  931 &  940 &  -9 & UA & ... & N75435 & EWR & FLL & 151 & 1065 & 6 & 36 & 2013-01-01 06:00:00 & TRUE & TRUE\\\\\n",
       "\t 2013 & 1 & 1 & 645 & 647 & -2 &  815 &  810 &   5 & B6 & ... & N796JB & JFK & BUF &  63 &  301 & 6 & 47 & 2013-01-01 06:00:00 & TRUE & TRUE\\\\\n",
       "\t 2013 & 1 & 1 & 646 & 645 &  1 &  910 &  916 &  -6 & UA & ... & N569UA & LGA & DEN & 243 & 1620 & 6 & 45 & 2013-01-01 06:00:00 & TRUE & TRUE\\\\\n",
       "\t 2013 & 1 & 1 & 646 & 645 &  1 & 1023 & 1030 &  -7 & UA & ... & N38727 & EWR & SNA & 380 & 2434 & 6 & 45 & 2013-01-01 06:00:00 & TRUE & TRUE\\\\\n",
       "\t 2013 & 1 & 1 & 651 & 655 & -4 &  936 &  942 &  -6 & B6 & ... & N558JB & JFK & LAS & 323 & 2248 & 6 & 55 & 2013-01-01 06:00:00 & TRUE & TRUE\\\\\n",
       "\t 2013 & 1 & 1 & 652 & 655 & -3 &  932 &  921 &  11 & B6 & ... & N178JB & JFK & MSY & 191 & 1182 & 6 & 55 & 2013-01-01 06:00:00 & TRUE & TRUE\\\\\n",
       "\t 2013 & 1 & 1 & 655 & 655 &  0 & 1021 & 1030 &  -9 & DL & ... & N3763D & JFK & SLC & 294 & 1990 & 6 & 55 & 2013-01-01 06:00:00 & TRUE & TRUE\\\\\n",
       "\t ... & ... & ... & ... & ... & ... & ... & ... & ... & ... &  & ... & ... & ... & ... & ... & ... & ... & ... & ... & ...\\\\\n",
       "\t 2013 & 9 & 30 & 1908 & 1911 &  -3 & 2107 & 2110 &  -3 & EV & ... & N16987 & EWR & CLT &  74 &  529 & 19 & 11 & 2013-09-30 19:00:00 & TRUE & TRUE\\\\\n",
       "\t 2013 & 9 & 30 & 1909 & 1905 &   4 & 2055 & 2057 &  -2 & 9E & ... & N937XJ & JFK & ORD & 108 &  740 & 19 &  5 & 2013-09-30 19:00:00 & TRUE & TRUE\\\\\n",
       "\t 2013 & 9 & 30 & 1909 & 1901 &   8 & 2212 & 2211 &   1 & UA & ... & N513UA & EWR & SFO & 307 & 2565 & 19 &  1 & 2013-09-30 19:00:00 & TRUE & TRUE\\\\\n",
       "\t 2013 & 9 & 30 & 1915 & 1900 &  15 & 2138 & 2151 & -13 & B6 & ... & N563JB & JFK & MCO & 120 &  944 & 19 &  0 & 2013-09-30 19:00:00 & TRUE & TRUE\\\\\n",
       "\t 2013 & 9 & 30 & 1915 & 1900 &  15 & 2025 & 2015 &  10 & WN & ... & N719SW & LGA & MKE & 104 &  738 & 19 &  0 & 2013-09-30 19:00:00 & TRUE & TRUE\\\\\n",
       "\t 2013 & 9 & 30 & 1917 & 1920 &  -3 & 2053 & 2055 &  -2 & 9E & ... & N600LR & LGA & BUF &  50 &  292 & 19 & 20 & 2013-09-30 19:00:00 & TRUE & TRUE\\\\\n",
       "\t 2013 & 9 & 30 & 1925 & 1930 &  -5 & 2033 & 2049 & -16 & EV & ... & N825AS & LGA & IAD &  43 &  229 & 19 & 30 & 2013-09-30 19:00:00 & TRUE & TRUE\\\\\n",
       "\t 2013 & 9 & 30 & 1926 & 1930 &  -4 & 2146 & 2201 & -15 & DL & ... & N303DQ & EWR & ATL &  95 &  746 & 19 & 30 & 2013-09-30 19:00:00 & TRUE & TRUE\\\\\n",
       "\t 2013 & 9 & 30 & 1927 & 1930 &  -3 & 2054 & 2056 &  -2 & EV & ... & N13956 & EWR & MKE & 110 &  725 & 19 & 30 & 2013-09-30 19:00:00 & TRUE & TRUE\\\\\n",
       "\t 2013 & 9 & 30 & 1928 & 1932 &  -4 & 2137 & 2143 &  -6 & EV & ... & N18556 & EWR & TYS &  82 &  631 & 19 & 32 & 2013-09-30 19:00:00 & TRUE & TRUE\\\\\n",
       "\t 2013 & 9 & 30 & 1929 & 1934 &  -5 & 2146 & 2136 &  10 & EV & ... & N18557 & EWR & CHS &  92 &  628 & 19 & 34 & 2013-09-30 19:00:00 & TRUE & TRUE\\\\\n",
       "\t 2013 & 9 & 30 & 1930 & 1930 &   0 & 2217 & 2231 & -14 & DL & ... & N365NB & LGA & TPA & 133 & 1010 & 19 & 30 & 2013-09-30 19:00:00 & TRUE & TRUE\\\\\n",
       "\t 2013 & 9 & 30 & 1930 & 1940 & -10 & 2120 & 2125 &  -5 & MQ & ... & N839MQ & JFK & RDU &  70 &  427 & 19 & 40 & 2013-09-30 19:00:00 & TRUE & TRUE\\\\\n",
       "\t 2013 & 9 & 30 & 1931 & 1905 &  26 & 2049 & 2033 &  16 & EV & ... & N748EV & LGA & ROC &  41 &  254 & 19 &  5 & 2013-09-30 19:00:00 & TRUE & TRUE\\\\\n",
       "\t 2013 & 9 & 30 & 1932 & 1935 &  -3 & 2221 & 2232 & -11 & DL & ... & N927DA & LGA & MCO & 132 &  950 & 19 & 35 & 2013-09-30 19:00:00 & TRUE & TRUE\\\\\n",
       "\t 2013 & 9 & 30 & 1934 & 1930 &   4 & 2236 & 2250 & -14 & AA & ... & N3EXAA & JFK & SEA & 340 & 2422 & 19 & 30 & 2013-09-30 19:00:00 & TRUE & TRUE\\\\\n",
       "\t 2013 & 9 & 30 & 1934 & 1935 &  -1 & 2238 & 2250 & -12 & AA & ... & N3JFAA & LGA & MIA & 150 & 1096 & 19 & 35 & 2013-09-30 19:00:00 & TRUE & TRUE\\\\\n",
       "\t 2013 & 9 & 30 & 1935 & 1935 &   0 & 2211 & 2229 & -18 & B6 & ... & N589JB & JFK & TPA & 132 & 1005 & 19 & 35 & 2013-09-30 19:00:00 & TRUE & TRUE\\\\\n",
       "\t 2013 & 9 & 30 & 1935 & 1930 &   5 & 2230 & 2233 &  -3 & UA & ... & N38446 & EWR & TPA & 132 &  997 & 19 & 30 & 2013-09-30 19:00:00 & TRUE & TRUE\\\\\n",
       "\t 2013 & 9 & 30 & 1936 & 1910 &  26 & 2204 & 2203 &   1 & DL & ... & N905DL & JFK & MCO & 126 &  944 & 19 & 10 & 2013-09-30 19:00:00 & TRUE & TRUE\\\\\n",
       "\t 2013 & 9 & 30 & 1939 & 1940 &  -1 & 2041 & 2100 & -19 & EV & ... & N829AS & JFK & IAD &  42 &  228 & 19 & 40 & 2013-09-30 19:00:00 & TRUE & TRUE\\\\\n",
       "\t 2013 & 9 & 30 & 1939 & 1950 & -11 & 2129 & 2140 & -11 & MQ & ... & N735MQ & LGA & CMH &  73 &  479 & 19 & 50 & 2013-09-30 19:00:00 & TRUE & TRUE\\\\\n",
       "\t 2013 & 9 & 30 & 1940 & 1900 &  40 & 2228 & 2232 &  -4 & DL & ... & N723TW & JFK & SFO & 323 & 2586 & 19 &  0 & 2013-09-30 19:00:00 & TRUE & TRUE\\\\\n",
       "\t 2013 & 9 & 30 & 1944 & 1950 &  -6 & 2208 & 2215 &  -7 & MQ & ... & N507MQ & LGA & ATL & 100 &  762 & 19 & 50 & 2013-09-30 19:00:00 & TRUE & TRUE\\\\\n",
       "\t 2013 & 9 & 30 & 1953 & 2000 &  -7 & 2119 & 2132 & -13 & UA & ... & N853UA & LGA & ORD & 107 &  733 & 20 &  0 & 2013-09-30 20:00:00 & TRUE & TRUE\\\\\n",
       "\t 2013 & 9 & 30 & 1955 & 2000 &  -5 & 2219 & 2230 & -11 & DL & ... & N992DL & LGA & ATL &  99 &  762 & 20 &  0 & 2013-09-30 20:00:00 & TRUE & TRUE\\\\\n",
       "\t 2013 & 9 & 30 & 1955 & 1935 &  20 & 2141 & 2159 & -18 & 9E & ... & N928XJ & JFK & CVG &  86 &  589 & 19 & 35 & 2013-09-30 19:00:00 & TRUE & TRUE\\\\\n",
       "\t 2013 & 9 & 30 & 1955 & 1942 &  13 & 2300 & 2250 &  10 & B6 & ... & N623JB & LGA & FLL & 141 & 1076 & 19 & 42 & 2013-09-30 19:00:00 & TRUE & TRUE\\\\\n",
       "\t 2013 & 9 & 30 & 1955 & 2000 &  -5 & 2112 & 2114 &  -2 & US & ... & N957UW & LGA & BOS &  35 &  184 & 20 &  0 & 2013-09-30 20:00:00 & TRUE & TRUE\\\\\n",
       "\t 2013 & 9 & 30 & 1958 & 2005 &  -7 & 2119 & 2130 & -11 & MQ & ... & N511MQ & EWR & ORD & 102 &  719 & 20 &  5 & 2013-09-30 20:00:00 & TRUE & TRUE\\\\\n",
       "\\end{tabular}\n"
      ],
      "text/markdown": [
       "\n",
       "A tibble: 172286 x 21\n",
       "\n",
       "| year &lt;int&gt; | month &lt;int&gt; | day &lt;int&gt; | dep_time &lt;int&gt; | sched_dep_time &lt;int&gt; | dep_delay &lt;dbl&gt; | arr_time &lt;int&gt; | sched_arr_time &lt;int&gt; | arr_delay &lt;dbl&gt; | carrier &lt;chr&gt; | ... ... | tailnum &lt;chr&gt; | origin &lt;chr&gt; | dest &lt;chr&gt; | air_time &lt;dbl&gt; | distance &lt;dbl&gt; | hour &lt;dbl&gt; | minute &lt;dbl&gt; | time_hour &lt;dttm&gt; | daytime &lt;lgl&gt; | approx_ontime &lt;lgl&gt; |\n",
       "|---|---|---|---|---|---|---|---|---|---|---|---|---|---|---|---|---|---|---|---|---|\n",
       "| 2013 | 1 | 1 | 601 | 600 |  1 |  844 |  850 |  -6 | B6 | ... | N644JB | EWR | PBI | 147 | 1023 | 6 |  0 | 2013-01-01 06:00:00 | TRUE | TRUE |\n",
       "| 2013 | 1 | 1 | 602 | 610 | -8 |  812 |  820 |  -8 | DL | ... | N971DL | LGA | MSP | 170 | 1020 | 6 | 10 | 2013-01-01 06:00:00 | TRUE | TRUE |\n",
       "| 2013 | 1 | 1 | 602 | 605 | -3 |  821 |  805 |  16 | MQ | ... | N730MQ | LGA | DTW | 105 |  502 | 6 |  5 | 2013-01-01 06:00:00 | TRUE | TRUE |\n",
       "| 2013 | 1 | 1 | 606 | 610 | -4 |  858 |  910 | -12 | AA | ... | N633AA | EWR | MIA | 152 | 1085 | 6 | 10 | 2013-01-01 06:00:00 | TRUE | TRUE |\n",
       "| 2013 | 1 | 1 | 606 | 610 | -4 |  837 |  845 |  -8 | DL | ... | N3739P | JFK | ATL | 128 |  760 | 6 | 10 | 2013-01-01 06:00:00 | TRUE | TRUE |\n",
       "| 2013 | 1 | 1 | 607 | 607 |  0 |  858 |  915 | -17 | UA | ... | N53442 | EWR | MIA | 157 | 1085 | 6 |  7 | 2013-01-01 06:00:00 | TRUE | TRUE |\n",
       "| 2013 | 1 | 1 | 611 | 600 | 11 |  945 |  931 |  14 | UA | ... | N532UA | JFK | SFO | 366 | 2586 | 6 |  0 | 2013-01-01 06:00:00 | TRUE | TRUE |\n",
       "| 2013 | 1 | 1 | 613 | 610 |  3 |  925 |  921 |   4 | B6 | ... | N635JB | JFK | RSW | 175 | 1074 | 6 | 10 | 2013-01-01 06:00:00 | TRUE | TRUE |\n",
       "| 2013 | 1 | 1 | 615 | 615 |  0 |  833 |  842 |  -9 | DL | ... | N326NB | EWR | ATL | 120 |  746 | 6 | 15 | 2013-01-01 06:00:00 | TRUE | TRUE |\n",
       "| 2013 | 1 | 1 | 622 | 630 | -8 | 1017 | 1014 |   3 | US | ... | N807AW | EWR | PHX | 342 | 2133 | 6 | 30 | 2013-01-01 06:00:00 | TRUE | TRUE |\n",
       "| 2013 | 1 | 1 | 623 | 610 | 13 |  920 |  915 |   5 | AA | ... | N3EMAA | LGA | MIA | 153 | 1096 | 6 | 10 | 2013-01-01 06:00:00 | TRUE | TRUE |\n",
       "| 2013 | 1 | 1 | 623 | 627 | -4 |  933 |  932 |   1 | UA | ... | N459UA | LGA | IAH | 229 | 1416 | 6 | 27 | 2013-01-01 06:00:00 | TRUE | TRUE |\n",
       "| 2013 | 1 | 1 | 624 | 630 | -6 |  840 |  830 |  10 | MQ | ... | N518MQ | LGA | MSP | 166 | 1020 | 6 | 30 | 2013-01-01 06:00:00 | TRUE | TRUE |\n",
       "| 2013 | 1 | 1 | 627 | 630 | -3 | 1018 | 1018 |   0 | US | ... | N535UW | JFK | PHX | 330 | 2153 | 6 | 30 | 2013-01-01 06:00:00 | TRUE | TRUE |\n",
       "| 2013 | 1 | 1 | 628 | 630 | -2 | 1137 | 1140 |  -3 | AA | ... | N3BAAA | JFK | SJU | 192 | 1598 | 6 | 30 | 2013-01-01 06:00:00 | TRUE | TRUE |\n",
       "| 2013 | 1 | 1 | 629 | 630 | -1 |  824 |  810 |  14 | AA | ... | N3CYAA | LGA | ORD | 140 |  733 | 6 | 30 | 2013-01-01 06:00:00 | TRUE | TRUE |\n",
       "| 2013 | 1 | 1 | 629 | 630 | -1 |  721 |  740 | -19 | WN | ... | N273WN | LGA | BWI |  40 |  185 | 6 | 30 | 2013-01-01 06:00:00 | TRUE | TRUE |\n",
       "| 2013 | 1 | 1 | 629 | 630 | -1 |  824 |  833 |  -9 | US | ... | N426US | EWR | CLT |  91 |  529 | 6 | 30 | 2013-01-01 06:00:00 | TRUE | TRUE |\n",
       "| 2013 | 1 | 1 | 632 | 608 | 24 |  740 |  728 |  12 | EV | ... | N13553 | EWR | IAD |  52 |  212 | 6 |  8 | 2013-01-01 06:00:00 | TRUE | TRUE |\n",
       "| 2013 | 1 | 1 | 637 | 645 | -8 |  930 |  935 |  -5 | B6 | ... | N709JB | LGA | MCO | 144 |  950 | 6 | 45 | 2013-01-01 06:00:00 | TRUE | TRUE |\n",
       "| 2013 | 1 | 1 | 639 | 640 | -1 |  739 |  749 | -10 | B6 | ... | N805JB | JFK | BOS |  41 |  187 | 6 | 40 | 2013-01-01 06:00:00 | TRUE | TRUE |\n",
       "| 2013 | 1 | 1 | 643 | 646 | -3 |  922 |  940 | -18 | UA | ... | N497UA | EWR | PBI | 146 | 1023 | 6 | 46 | 2013-01-01 06:00:00 | TRUE | TRUE |\n",
       "| 2013 | 1 | 1 | 643 | 645 | -2 |  837 |  848 | -11 | US | ... | N178US | EWR | CLT |  91 |  529 | 6 | 45 | 2013-01-01 06:00:00 | TRUE | TRUE |\n",
       "| 2013 | 1 | 1 | 644 | 636 |  8 |  931 |  940 |  -9 | UA | ... | N75435 | EWR | FLL | 151 | 1065 | 6 | 36 | 2013-01-01 06:00:00 | TRUE | TRUE |\n",
       "| 2013 | 1 | 1 | 645 | 647 | -2 |  815 |  810 |   5 | B6 | ... | N796JB | JFK | BUF |  63 |  301 | 6 | 47 | 2013-01-01 06:00:00 | TRUE | TRUE |\n",
       "| 2013 | 1 | 1 | 646 | 645 |  1 |  910 |  916 |  -6 | UA | ... | N569UA | LGA | DEN | 243 | 1620 | 6 | 45 | 2013-01-01 06:00:00 | TRUE | TRUE |\n",
       "| 2013 | 1 | 1 | 646 | 645 |  1 | 1023 | 1030 |  -7 | UA | ... | N38727 | EWR | SNA | 380 | 2434 | 6 | 45 | 2013-01-01 06:00:00 | TRUE | TRUE |\n",
       "| 2013 | 1 | 1 | 651 | 655 | -4 |  936 |  942 |  -6 | B6 | ... | N558JB | JFK | LAS | 323 | 2248 | 6 | 55 | 2013-01-01 06:00:00 | TRUE | TRUE |\n",
       "| 2013 | 1 | 1 | 652 | 655 | -3 |  932 |  921 |  11 | B6 | ... | N178JB | JFK | MSY | 191 | 1182 | 6 | 55 | 2013-01-01 06:00:00 | TRUE | TRUE |\n",
       "| 2013 | 1 | 1 | 655 | 655 |  0 | 1021 | 1030 |  -9 | DL | ... | N3763D | JFK | SLC | 294 | 1990 | 6 | 55 | 2013-01-01 06:00:00 | TRUE | TRUE |\n",
       "| ... | ... | ... | ... | ... | ... | ... | ... | ... | ... | <!----> | ... | ... | ... | ... | ... | ... | ... | ... | ... | ... |\n",
       "| 2013 | 9 | 30 | 1908 | 1911 |  -3 | 2107 | 2110 |  -3 | EV | ... | N16987 | EWR | CLT |  74 |  529 | 19 | 11 | 2013-09-30 19:00:00 | TRUE | TRUE |\n",
       "| 2013 | 9 | 30 | 1909 | 1905 |   4 | 2055 | 2057 |  -2 | 9E | ... | N937XJ | JFK | ORD | 108 |  740 | 19 |  5 | 2013-09-30 19:00:00 | TRUE | TRUE |\n",
       "| 2013 | 9 | 30 | 1909 | 1901 |   8 | 2212 | 2211 |   1 | UA | ... | N513UA | EWR | SFO | 307 | 2565 | 19 |  1 | 2013-09-30 19:00:00 | TRUE | TRUE |\n",
       "| 2013 | 9 | 30 | 1915 | 1900 |  15 | 2138 | 2151 | -13 | B6 | ... | N563JB | JFK | MCO | 120 |  944 | 19 |  0 | 2013-09-30 19:00:00 | TRUE | TRUE |\n",
       "| 2013 | 9 | 30 | 1915 | 1900 |  15 | 2025 | 2015 |  10 | WN | ... | N719SW | LGA | MKE | 104 |  738 | 19 |  0 | 2013-09-30 19:00:00 | TRUE | TRUE |\n",
       "| 2013 | 9 | 30 | 1917 | 1920 |  -3 | 2053 | 2055 |  -2 | 9E | ... | N600LR | LGA | BUF |  50 |  292 | 19 | 20 | 2013-09-30 19:00:00 | TRUE | TRUE |\n",
       "| 2013 | 9 | 30 | 1925 | 1930 |  -5 | 2033 | 2049 | -16 | EV | ... | N825AS | LGA | IAD |  43 |  229 | 19 | 30 | 2013-09-30 19:00:00 | TRUE | TRUE |\n",
       "| 2013 | 9 | 30 | 1926 | 1930 |  -4 | 2146 | 2201 | -15 | DL | ... | N303DQ | EWR | ATL |  95 |  746 | 19 | 30 | 2013-09-30 19:00:00 | TRUE | TRUE |\n",
       "| 2013 | 9 | 30 | 1927 | 1930 |  -3 | 2054 | 2056 |  -2 | EV | ... | N13956 | EWR | MKE | 110 |  725 | 19 | 30 | 2013-09-30 19:00:00 | TRUE | TRUE |\n",
       "| 2013 | 9 | 30 | 1928 | 1932 |  -4 | 2137 | 2143 |  -6 | EV | ... | N18556 | EWR | TYS |  82 |  631 | 19 | 32 | 2013-09-30 19:00:00 | TRUE | TRUE |\n",
       "| 2013 | 9 | 30 | 1929 | 1934 |  -5 | 2146 | 2136 |  10 | EV | ... | N18557 | EWR | CHS |  92 |  628 | 19 | 34 | 2013-09-30 19:00:00 | TRUE | TRUE |\n",
       "| 2013 | 9 | 30 | 1930 | 1930 |   0 | 2217 | 2231 | -14 | DL | ... | N365NB | LGA | TPA | 133 | 1010 | 19 | 30 | 2013-09-30 19:00:00 | TRUE | TRUE |\n",
       "| 2013 | 9 | 30 | 1930 | 1940 | -10 | 2120 | 2125 |  -5 | MQ | ... | N839MQ | JFK | RDU |  70 |  427 | 19 | 40 | 2013-09-30 19:00:00 | TRUE | TRUE |\n",
       "| 2013 | 9 | 30 | 1931 | 1905 |  26 | 2049 | 2033 |  16 | EV | ... | N748EV | LGA | ROC |  41 |  254 | 19 |  5 | 2013-09-30 19:00:00 | TRUE | TRUE |\n",
       "| 2013 | 9 | 30 | 1932 | 1935 |  -3 | 2221 | 2232 | -11 | DL | ... | N927DA | LGA | MCO | 132 |  950 | 19 | 35 | 2013-09-30 19:00:00 | TRUE | TRUE |\n",
       "| 2013 | 9 | 30 | 1934 | 1930 |   4 | 2236 | 2250 | -14 | AA | ... | N3EXAA | JFK | SEA | 340 | 2422 | 19 | 30 | 2013-09-30 19:00:00 | TRUE | TRUE |\n",
       "| 2013 | 9 | 30 | 1934 | 1935 |  -1 | 2238 | 2250 | -12 | AA | ... | N3JFAA | LGA | MIA | 150 | 1096 | 19 | 35 | 2013-09-30 19:00:00 | TRUE | TRUE |\n",
       "| 2013 | 9 | 30 | 1935 | 1935 |   0 | 2211 | 2229 | -18 | B6 | ... | N589JB | JFK | TPA | 132 | 1005 | 19 | 35 | 2013-09-30 19:00:00 | TRUE | TRUE |\n",
       "| 2013 | 9 | 30 | 1935 | 1930 |   5 | 2230 | 2233 |  -3 | UA | ... | N38446 | EWR | TPA | 132 |  997 | 19 | 30 | 2013-09-30 19:00:00 | TRUE | TRUE |\n",
       "| 2013 | 9 | 30 | 1936 | 1910 |  26 | 2204 | 2203 |   1 | DL | ... | N905DL | JFK | MCO | 126 |  944 | 19 | 10 | 2013-09-30 19:00:00 | TRUE | TRUE |\n",
       "| 2013 | 9 | 30 | 1939 | 1940 |  -1 | 2041 | 2100 | -19 | EV | ... | N829AS | JFK | IAD |  42 |  228 | 19 | 40 | 2013-09-30 19:00:00 | TRUE | TRUE |\n",
       "| 2013 | 9 | 30 | 1939 | 1950 | -11 | 2129 | 2140 | -11 | MQ | ... | N735MQ | LGA | CMH |  73 |  479 | 19 | 50 | 2013-09-30 19:00:00 | TRUE | TRUE |\n",
       "| 2013 | 9 | 30 | 1940 | 1900 |  40 | 2228 | 2232 |  -4 | DL | ... | N723TW | JFK | SFO | 323 | 2586 | 19 |  0 | 2013-09-30 19:00:00 | TRUE | TRUE |\n",
       "| 2013 | 9 | 30 | 1944 | 1950 |  -6 | 2208 | 2215 |  -7 | MQ | ... | N507MQ | LGA | ATL | 100 |  762 | 19 | 50 | 2013-09-30 19:00:00 | TRUE | TRUE |\n",
       "| 2013 | 9 | 30 | 1953 | 2000 |  -7 | 2119 | 2132 | -13 | UA | ... | N853UA | LGA | ORD | 107 |  733 | 20 |  0 | 2013-09-30 20:00:00 | TRUE | TRUE |\n",
       "| 2013 | 9 | 30 | 1955 | 2000 |  -5 | 2219 | 2230 | -11 | DL | ... | N992DL | LGA | ATL |  99 |  762 | 20 |  0 | 2013-09-30 20:00:00 | TRUE | TRUE |\n",
       "| 2013 | 9 | 30 | 1955 | 1935 |  20 | 2141 | 2159 | -18 | 9E | ... | N928XJ | JFK | CVG |  86 |  589 | 19 | 35 | 2013-09-30 19:00:00 | TRUE | TRUE |\n",
       "| 2013 | 9 | 30 | 1955 | 1942 |  13 | 2300 | 2250 |  10 | B6 | ... | N623JB | LGA | FLL | 141 | 1076 | 19 | 42 | 2013-09-30 19:00:00 | TRUE | TRUE |\n",
       "| 2013 | 9 | 30 | 1955 | 2000 |  -5 | 2112 | 2114 |  -2 | US | ... | N957UW | LGA | BOS |  35 |  184 | 20 |  0 | 2013-09-30 20:00:00 | TRUE | TRUE |\n",
       "| 2013 | 9 | 30 | 1958 | 2005 |  -7 | 2119 | 2130 | -11 | MQ | ... | N511MQ | EWR | ORD | 102 |  719 | 20 |  5 | 2013-09-30 20:00:00 | TRUE | TRUE |\n",
       "\n"
      ],
      "text/plain": [
       "       year month day dep_time sched_dep_time dep_delay arr_time sched_arr_time\n",
       "1      2013 1     1   601      600             1         844      850          \n",
       "2      2013 1     1   602      610            -8         812      820          \n",
       "3      2013 1     1   602      605            -3         821      805          \n",
       "4      2013 1     1   606      610            -4         858      910          \n",
       "5      2013 1     1   606      610            -4         837      845          \n",
       "6      2013 1     1   607      607             0         858      915          \n",
       "7      2013 1     1   611      600            11         945      931          \n",
       "8      2013 1     1   613      610             3         925      921          \n",
       "9      2013 1     1   615      615             0         833      842          \n",
       "10     2013 1     1   622      630            -8        1017     1014          \n",
       "11     2013 1     1   623      610            13         920      915          \n",
       "12     2013 1     1   623      627            -4         933      932          \n",
       "13     2013 1     1   624      630            -6         840      830          \n",
       "14     2013 1     1   627      630            -3        1018     1018          \n",
       "15     2013 1     1   628      630            -2        1137     1140          \n",
       "16     2013 1     1   629      630            -1         824      810          \n",
       "17     2013 1     1   629      630            -1         721      740          \n",
       "18     2013 1     1   629      630            -1         824      833          \n",
       "19     2013 1     1   632      608            24         740      728          \n",
       "20     2013 1     1   637      645            -8         930      935          \n",
       "21     2013 1     1   639      640            -1         739      749          \n",
       "22     2013 1     1   643      646            -3         922      940          \n",
       "23     2013 1     1   643      645            -2         837      848          \n",
       "24     2013 1     1   644      636             8         931      940          \n",
       "25     2013 1     1   645      647            -2         815      810          \n",
       "26     2013 1     1   646      645             1         910      916          \n",
       "27     2013 1     1   646      645             1        1023     1030          \n",
       "28     2013 1     1   651      655            -4         936      942          \n",
       "29     2013 1     1   652      655            -3         932      921          \n",
       "30     2013 1     1   655      655             0        1021     1030          \n",
       "...    ...  ...   ... ...      ...            ...       ...      ...           \n",
       "172257 2013 9     30  1908     1911            -3       2107     2110          \n",
       "172258 2013 9     30  1909     1905             4       2055     2057          \n",
       "172259 2013 9     30  1909     1901             8       2212     2211          \n",
       "172260 2013 9     30  1915     1900            15       2138     2151          \n",
       "172261 2013 9     30  1915     1900            15       2025     2015          \n",
       "172262 2013 9     30  1917     1920            -3       2053     2055          \n",
       "172263 2013 9     30  1925     1930            -5       2033     2049          \n",
       "172264 2013 9     30  1926     1930            -4       2146     2201          \n",
       "172265 2013 9     30  1927     1930            -3       2054     2056          \n",
       "172266 2013 9     30  1928     1932            -4       2137     2143          \n",
       "172267 2013 9     30  1929     1934            -5       2146     2136          \n",
       "172268 2013 9     30  1930     1930             0       2217     2231          \n",
       "172269 2013 9     30  1930     1940           -10       2120     2125          \n",
       "172270 2013 9     30  1931     1905            26       2049     2033          \n",
       "172271 2013 9     30  1932     1935            -3       2221     2232          \n",
       "172272 2013 9     30  1934     1930             4       2236     2250          \n",
       "172273 2013 9     30  1934     1935            -1       2238     2250          \n",
       "172274 2013 9     30  1935     1935             0       2211     2229          \n",
       "172275 2013 9     30  1935     1930             5       2230     2233          \n",
       "172276 2013 9     30  1936     1910            26       2204     2203          \n",
       "172277 2013 9     30  1939     1940            -1       2041     2100          \n",
       "172278 2013 9     30  1939     1950           -11       2129     2140          \n",
       "172279 2013 9     30  1940     1900            40       2228     2232          \n",
       "172280 2013 9     30  1944     1950            -6       2208     2215          \n",
       "172281 2013 9     30  1953     2000            -7       2119     2132          \n",
       "172282 2013 9     30  1955     2000            -5       2219     2230          \n",
       "172283 2013 9     30  1955     1935            20       2141     2159          \n",
       "172284 2013 9     30  1955     1942            13       2300     2250          \n",
       "172285 2013 9     30  1955     2000            -5       2112     2114          \n",
       "172286 2013 9     30  1958     2005            -7       2119     2130          \n",
       "       arr_delay carrier ... tailnum origin dest air_time distance hour minute\n",
       "1       -6       B6      ... N644JB  EWR    PBI  147      1023     6     0    \n",
       "2       -8       DL      ... N971DL  LGA    MSP  170      1020     6    10    \n",
       "3       16       MQ      ... N730MQ  LGA    DTW  105       502     6     5    \n",
       "4      -12       AA      ... N633AA  EWR    MIA  152      1085     6    10    \n",
       "5       -8       DL      ... N3739P  JFK    ATL  128       760     6    10    \n",
       "6      -17       UA      ... N53442  EWR    MIA  157      1085     6     7    \n",
       "7       14       UA      ... N532UA  JFK    SFO  366      2586     6     0    \n",
       "8        4       B6      ... N635JB  JFK    RSW  175      1074     6    10    \n",
       "9       -9       DL      ... N326NB  EWR    ATL  120       746     6    15    \n",
       "10       3       US      ... N807AW  EWR    PHX  342      2133     6    30    \n",
       "11       5       AA      ... N3EMAA  LGA    MIA  153      1096     6    10    \n",
       "12       1       UA      ... N459UA  LGA    IAH  229      1416     6    27    \n",
       "13      10       MQ      ... N518MQ  LGA    MSP  166      1020     6    30    \n",
       "14       0       US      ... N535UW  JFK    PHX  330      2153     6    30    \n",
       "15      -3       AA      ... N3BAAA  JFK    SJU  192      1598     6    30    \n",
       "16      14       AA      ... N3CYAA  LGA    ORD  140       733     6    30    \n",
       "17     -19       WN      ... N273WN  LGA    BWI   40       185     6    30    \n",
       "18      -9       US      ... N426US  EWR    CLT   91       529     6    30    \n",
       "19      12       EV      ... N13553  EWR    IAD   52       212     6     8    \n",
       "20      -5       B6      ... N709JB  LGA    MCO  144       950     6    45    \n",
       "21     -10       B6      ... N805JB  JFK    BOS   41       187     6    40    \n",
       "22     -18       UA      ... N497UA  EWR    PBI  146      1023     6    46    \n",
       "23     -11       US      ... N178US  EWR    CLT   91       529     6    45    \n",
       "24      -9       UA      ... N75435  EWR    FLL  151      1065     6    36    \n",
       "25       5       B6      ... N796JB  JFK    BUF   63       301     6    47    \n",
       "26      -6       UA      ... N569UA  LGA    DEN  243      1620     6    45    \n",
       "27      -7       UA      ... N38727  EWR    SNA  380      2434     6    45    \n",
       "28      -6       B6      ... N558JB  JFK    LAS  323      2248     6    55    \n",
       "29      11       B6      ... N178JB  JFK    MSY  191      1182     6    55    \n",
       "30      -9       DL      ... N3763D  JFK    SLC  294      1990     6    55    \n",
       "...    ...       ...         ...     ...    ...  ...      ...      ...  ...   \n",
       "172257  -3       EV      ... N16987  EWR    CLT   74       529     19   11    \n",
       "172258  -2       9E      ... N937XJ  JFK    ORD  108       740     19    5    \n",
       "172259   1       UA      ... N513UA  EWR    SFO  307      2565     19    1    \n",
       "172260 -13       B6      ... N563JB  JFK    MCO  120       944     19    0    \n",
       "172261  10       WN      ... N719SW  LGA    MKE  104       738     19    0    \n",
       "172262  -2       9E      ... N600LR  LGA    BUF   50       292     19   20    \n",
       "172263 -16       EV      ... N825AS  LGA    IAD   43       229     19   30    \n",
       "172264 -15       DL      ... N303DQ  EWR    ATL   95       746     19   30    \n",
       "172265  -2       EV      ... N13956  EWR    MKE  110       725     19   30    \n",
       "172266  -6       EV      ... N18556  EWR    TYS   82       631     19   32    \n",
       "172267  10       EV      ... N18557  EWR    CHS   92       628     19   34    \n",
       "172268 -14       DL      ... N365NB  LGA    TPA  133      1010     19   30    \n",
       "172269  -5       MQ      ... N839MQ  JFK    RDU   70       427     19   40    \n",
       "172270  16       EV      ... N748EV  LGA    ROC   41       254     19    5    \n",
       "172271 -11       DL      ... N927DA  LGA    MCO  132       950     19   35    \n",
       "172272 -14       AA      ... N3EXAA  JFK    SEA  340      2422     19   30    \n",
       "172273 -12       AA      ... N3JFAA  LGA    MIA  150      1096     19   35    \n",
       "172274 -18       B6      ... N589JB  JFK    TPA  132      1005     19   35    \n",
       "172275  -3       UA      ... N38446  EWR    TPA  132       997     19   30    \n",
       "172276   1       DL      ... N905DL  JFK    MCO  126       944     19   10    \n",
       "172277 -19       EV      ... N829AS  JFK    IAD   42       228     19   40    \n",
       "172278 -11       MQ      ... N735MQ  LGA    CMH   73       479     19   50    \n",
       "172279  -4       DL      ... N723TW  JFK    SFO  323      2586     19    0    \n",
       "172280  -7       MQ      ... N507MQ  LGA    ATL  100       762     19   50    \n",
       "172281 -13       UA      ... N853UA  LGA    ORD  107       733     20    0    \n",
       "172282 -11       DL      ... N992DL  LGA    ATL   99       762     20    0    \n",
       "172283 -18       9E      ... N928XJ  JFK    CVG   86       589     19   35    \n",
       "172284  10       B6      ... N623JB  LGA    FLL  141      1076     19   42    \n",
       "172285  -2       US      ... N957UW  LGA    BOS   35       184     20    0    \n",
       "172286 -11       MQ      ... N511MQ  EWR    ORD  102       719     20    5    \n",
       "       time_hour           daytime approx_ontime\n",
       "1      2013-01-01 06:00:00 TRUE    TRUE         \n",
       "2      2013-01-01 06:00:00 TRUE    TRUE         \n",
       "3      2013-01-01 06:00:00 TRUE    TRUE         \n",
       "4      2013-01-01 06:00:00 TRUE    TRUE         \n",
       "5      2013-01-01 06:00:00 TRUE    TRUE         \n",
       "6      2013-01-01 06:00:00 TRUE    TRUE         \n",
       "7      2013-01-01 06:00:00 TRUE    TRUE         \n",
       "8      2013-01-01 06:00:00 TRUE    TRUE         \n",
       "9      2013-01-01 06:00:00 TRUE    TRUE         \n",
       "10     2013-01-01 06:00:00 TRUE    TRUE         \n",
       "11     2013-01-01 06:00:00 TRUE    TRUE         \n",
       "12     2013-01-01 06:00:00 TRUE    TRUE         \n",
       "13     2013-01-01 06:00:00 TRUE    TRUE         \n",
       "14     2013-01-01 06:00:00 TRUE    TRUE         \n",
       "15     2013-01-01 06:00:00 TRUE    TRUE         \n",
       "16     2013-01-01 06:00:00 TRUE    TRUE         \n",
       "17     2013-01-01 06:00:00 TRUE    TRUE         \n",
       "18     2013-01-01 06:00:00 TRUE    TRUE         \n",
       "19     2013-01-01 06:00:00 TRUE    TRUE         \n",
       "20     2013-01-01 06:00:00 TRUE    TRUE         \n",
       "21     2013-01-01 06:00:00 TRUE    TRUE         \n",
       "22     2013-01-01 06:00:00 TRUE    TRUE         \n",
       "23     2013-01-01 06:00:00 TRUE    TRUE         \n",
       "24     2013-01-01 06:00:00 TRUE    TRUE         \n",
       "25     2013-01-01 06:00:00 TRUE    TRUE         \n",
       "26     2013-01-01 06:00:00 TRUE    TRUE         \n",
       "27     2013-01-01 06:00:00 TRUE    TRUE         \n",
       "28     2013-01-01 06:00:00 TRUE    TRUE         \n",
       "29     2013-01-01 06:00:00 TRUE    TRUE         \n",
       "30     2013-01-01 06:00:00 TRUE    TRUE         \n",
       "...    ...                 ...     ...          \n",
       "172257 2013-09-30 19:00:00 TRUE    TRUE         \n",
       "172258 2013-09-30 19:00:00 TRUE    TRUE         \n",
       "172259 2013-09-30 19:00:00 TRUE    TRUE         \n",
       "172260 2013-09-30 19:00:00 TRUE    TRUE         \n",
       "172261 2013-09-30 19:00:00 TRUE    TRUE         \n",
       "172262 2013-09-30 19:00:00 TRUE    TRUE         \n",
       "172263 2013-09-30 19:00:00 TRUE    TRUE         \n",
       "172264 2013-09-30 19:00:00 TRUE    TRUE         \n",
       "172265 2013-09-30 19:00:00 TRUE    TRUE         \n",
       "172266 2013-09-30 19:00:00 TRUE    TRUE         \n",
       "172267 2013-09-30 19:00:00 TRUE    TRUE         \n",
       "172268 2013-09-30 19:00:00 TRUE    TRUE         \n",
       "172269 2013-09-30 19:00:00 TRUE    TRUE         \n",
       "172270 2013-09-30 19:00:00 TRUE    TRUE         \n",
       "172271 2013-09-30 19:00:00 TRUE    TRUE         \n",
       "172272 2013-09-30 19:00:00 TRUE    TRUE         \n",
       "172273 2013-09-30 19:00:00 TRUE    TRUE         \n",
       "172274 2013-09-30 19:00:00 TRUE    TRUE         \n",
       "172275 2013-09-30 19:00:00 TRUE    TRUE         \n",
       "172276 2013-09-30 19:00:00 TRUE    TRUE         \n",
       "172277 2013-09-30 19:00:00 TRUE    TRUE         \n",
       "172278 2013-09-30 19:00:00 TRUE    TRUE         \n",
       "172279 2013-09-30 19:00:00 TRUE    TRUE         \n",
       "172280 2013-09-30 19:00:00 TRUE    TRUE         \n",
       "172281 2013-09-30 20:00:00 TRUE    TRUE         \n",
       "172282 2013-09-30 20:00:00 TRUE    TRUE         \n",
       "172283 2013-09-30 19:00:00 TRUE    TRUE         \n",
       "172284 2013-09-30 19:00:00 TRUE    TRUE         \n",
       "172285 2013-09-30 20:00:00 TRUE    TRUE         \n",
       "172286 2013-09-30 20:00:00 TRUE    TRUE         "
      ]
     },
     "metadata": {},
     "output_type": "display_data"
    }
   ],
   "source": [
    "flights |> \n",
    "  mutate(\n",
    "    daytime = dep_time > 600 & dep_time < 2000,\n",
    "    approx_ontime = abs(arr_delay) < 20,\n",
    "  ) |> \n",
    "  filter(daytime & approx_ontime)"
   ]
  },
  {
   "cell_type": "markdown",
   "metadata": {},
   "source": [
    "### Floating point comparision"
   ]
  },
  {
   "cell_type": "code",
   "execution_count": 64,
   "metadata": {
    "vscode": {
     "languageId": "r"
    }
   },
   "outputs": [
    {
     "data": {
      "text/html": [
       "<style>\n",
       ".list-inline {list-style: none; margin:0; padding: 0}\n",
       ".list-inline>li {display: inline-block}\n",
       ".list-inline>li:not(:last-child)::after {content: \"\\00b7\"; padding: 0 .5ex}\n",
       "</style>\n",
       "<ol class=list-inline><li>1</li><li>2</li></ol>\n"
      ],
      "text/latex": [
       "\\begin{enumerate*}\n",
       "\\item 1\n",
       "\\item 2\n",
       "\\end{enumerate*}\n"
      ],
      "text/markdown": [
       "1. 1\n",
       "2. 2\n",
       "\n",
       "\n"
      ],
      "text/plain": [
       "[1] 1 2"
      ]
     },
     "metadata": {},
     "output_type": "display_data"
    }
   ],
   "source": [
    "x <- c(1 / 49 * 49, sqrt(2) ^ 2)\n",
    "x"
   ]
  },
  {
   "cell_type": "code",
   "execution_count": 65,
   "metadata": {
    "vscode": {
     "languageId": "r"
    }
   },
   "outputs": [
    {
     "data": {
      "text/html": [
       "<style>\n",
       ".list-inline {list-style: none; margin:0; padding: 0}\n",
       ".list-inline>li {display: inline-block}\n",
       ".list-inline>li:not(:last-child)::after {content: \"\\00b7\"; padding: 0 .5ex}\n",
       "</style>\n",
       "<ol class=list-inline><li>FALSE</li><li>FALSE</li></ol>\n"
      ],
      "text/latex": [
       "\\begin{enumerate*}\n",
       "\\item FALSE\n",
       "\\item FALSE\n",
       "\\end{enumerate*}\n"
      ],
      "text/markdown": [
       "1. FALSE\n",
       "2. FALSE\n",
       "\n",
       "\n"
      ],
      "text/plain": [
       "[1] FALSE FALSE"
      ]
     },
     "metadata": {},
     "output_type": "display_data"
    }
   ],
   "source": [
    "x == c(1, 2)"
   ]
  },
  {
   "cell_type": "code",
   "execution_count": 66,
   "metadata": {
    "vscode": {
     "languageId": "r"
    }
   },
   "outputs": [
    {
     "name": "stdout",
     "output_type": "stream",
     "text": [
      "[1] 0.9999999999999999 2.0000000000000004\n"
     ]
    }
   ],
   "source": [
    "print(x, digits = 16)"
   ]
  },
  {
   "cell_type": "code",
   "execution_count": 67,
   "metadata": {
    "vscode": {
     "languageId": "r"
    }
   },
   "outputs": [
    {
     "data": {
      "text/html": [
       "<style>\n",
       ".list-inline {list-style: none; margin:0; padding: 0}\n",
       ".list-inline>li {display: inline-block}\n",
       ".list-inline>li:not(:last-child)::after {content: \"\\00b7\"; padding: 0 .5ex}\n",
       "</style>\n",
       "<ol class=list-inline><li>TRUE</li><li>TRUE</li></ol>\n"
      ],
      "text/latex": [
       "\\begin{enumerate*}\n",
       "\\item TRUE\n",
       "\\item TRUE\n",
       "\\end{enumerate*}\n"
      ],
      "text/markdown": [
       "1. TRUE\n",
       "2. TRUE\n",
       "\n",
       "\n"
      ],
      "text/plain": [
       "[1] TRUE TRUE"
      ]
     },
     "metadata": {},
     "output_type": "display_data"
    }
   ],
   "source": [
    "near(x, c(1, 2))"
   ]
  },
  {
   "cell_type": "markdown",
   "metadata": {},
   "source": [
    "### Missing values"
   ]
  },
  {
   "cell_type": "code",
   "execution_count": 68,
   "metadata": {
    "vscode": {
     "languageId": "r"
    }
   },
   "outputs": [
    {
     "data": {
      "text/html": [
       "&lt;NA&gt;"
      ],
      "text/latex": [
       "<NA>"
      ],
      "text/markdown": [
       "&lt;NA&gt;"
      ],
      "text/plain": [
       "[1] NA"
      ]
     },
     "metadata": {},
     "output_type": "display_data"
    },
    {
     "data": {
      "text/html": [
       "&lt;NA&gt;"
      ],
      "text/latex": [
       "<NA>"
      ],
      "text/markdown": [
       "&lt;NA&gt;"
      ],
      "text/plain": [
       "[1] NA"
      ]
     },
     "metadata": {},
     "output_type": "display_data"
    },
    {
     "data": {
      "text/html": [
       "&lt;NA&gt;"
      ],
      "text/latex": [
       "<NA>"
      ],
      "text/markdown": [
       "&lt;NA&gt;"
      ],
      "text/plain": [
       "[1] NA"
      ]
     },
     "metadata": {},
     "output_type": "display_data"
    }
   ],
   "source": [
    "NA > 5\n",
    "10 == NA\n",
    "\n",
    "NA == NA"
   ]
  },
  {
   "cell_type": "code",
   "execution_count": 69,
   "metadata": {
    "vscode": {
     "languageId": "r"
    }
   },
   "outputs": [
    {
     "data": {
      "text/html": [
       "<table class=\"dataframe\">\n",
       "<caption>A tibble: 0 x 19</caption>\n",
       "<thead>\n",
       "\t<tr><th scope=col>year</th><th scope=col>month</th><th scope=col>day</th><th scope=col>dep_time</th><th scope=col>sched_dep_time</th><th scope=col>dep_delay</th><th scope=col>arr_time</th><th scope=col>sched_arr_time</th><th scope=col>arr_delay</th><th scope=col>carrier</th><th scope=col>flight</th><th scope=col>tailnum</th><th scope=col>origin</th><th scope=col>dest</th><th scope=col>air_time</th><th scope=col>distance</th><th scope=col>hour</th><th scope=col>minute</th><th scope=col>time_hour</th></tr>\n",
       "\t<tr><th scope=col>&lt;int&gt;</th><th scope=col>&lt;int&gt;</th><th scope=col>&lt;int&gt;</th><th scope=col>&lt;int&gt;</th><th scope=col>&lt;int&gt;</th><th scope=col>&lt;dbl&gt;</th><th scope=col>&lt;int&gt;</th><th scope=col>&lt;int&gt;</th><th scope=col>&lt;dbl&gt;</th><th scope=col>&lt;chr&gt;</th><th scope=col>&lt;int&gt;</th><th scope=col>&lt;chr&gt;</th><th scope=col>&lt;chr&gt;</th><th scope=col>&lt;chr&gt;</th><th scope=col>&lt;dbl&gt;</th><th scope=col>&lt;dbl&gt;</th><th scope=col>&lt;dbl&gt;</th><th scope=col>&lt;dbl&gt;</th><th scope=col>&lt;dttm&gt;</th></tr>\n",
       "</thead>\n",
       "<tbody>\n",
       "</tbody>\n",
       "</table>\n"
      ],
      "text/latex": [
       "A tibble: 0 x 19\n",
       "\\begin{tabular}{lllllllllllllllllll}\n",
       " year & month & day & dep\\_time & sched\\_dep\\_time & dep\\_delay & arr\\_time & sched\\_arr\\_time & arr\\_delay & carrier & flight & tailnum & origin & dest & air\\_time & distance & hour & minute & time\\_hour\\\\\n",
       " <int> & <int> & <int> & <int> & <int> & <dbl> & <int> & <int> & <dbl> & <chr> & <int> & <chr> & <chr> & <chr> & <dbl> & <dbl> & <dbl> & <dbl> & <dttm>\\\\\n",
       "\\hline\n",
       "\\end{tabular}\n"
      ],
      "text/markdown": [
       "\n",
       "A tibble: 0 x 19\n",
       "\n",
       "| year &lt;int&gt; | month &lt;int&gt; | day &lt;int&gt; | dep_time &lt;int&gt; | sched_dep_time &lt;int&gt; | dep_delay &lt;dbl&gt; | arr_time &lt;int&gt; | sched_arr_time &lt;int&gt; | arr_delay &lt;dbl&gt; | carrier &lt;chr&gt; | flight &lt;int&gt; | tailnum &lt;chr&gt; | origin &lt;chr&gt; | dest &lt;chr&gt; | air_time &lt;dbl&gt; | distance &lt;dbl&gt; | hour &lt;dbl&gt; | minute &lt;dbl&gt; | time_hour &lt;dttm&gt; |\n",
       "|---|---|---|---|---|---|---|---|---|---|---|---|---|---|---|---|---|---|---|\n",
       "\n"
      ],
      "text/plain": [
       "     year month day dep_time sched_dep_time dep_delay arr_time sched_arr_time\n",
       "     arr_delay carrier flight tailnum origin dest air_time distance hour minute\n",
       "     time_hour"
      ]
     },
     "metadata": {},
     "output_type": "display_data"
    }
   ],
   "source": [
    "# so this code doesn't work\n",
    "flights |> \n",
    "  filter(dep_time == NA)"
   ]
  },
  {
   "cell_type": "markdown",
   "metadata": {},
   "source": [
    "### `is.na()`"
   ]
  },
  {
   "cell_type": "code",
   "execution_count": 70,
   "metadata": {
    "vscode": {
     "languageId": "r"
    }
   },
   "outputs": [
    {
     "data": {
      "text/html": [
       "<table class=\"dataframe\">\n",
       "<caption>A tibble: 8255 x 19</caption>\n",
       "<thead>\n",
       "\t<tr><th scope=col>year</th><th scope=col>month</th><th scope=col>day</th><th scope=col>dep_time</th><th scope=col>sched_dep_time</th><th scope=col>dep_delay</th><th scope=col>arr_time</th><th scope=col>sched_arr_time</th><th scope=col>arr_delay</th><th scope=col>carrier</th><th scope=col>flight</th><th scope=col>tailnum</th><th scope=col>origin</th><th scope=col>dest</th><th scope=col>air_time</th><th scope=col>distance</th><th scope=col>hour</th><th scope=col>minute</th><th scope=col>time_hour</th></tr>\n",
       "\t<tr><th scope=col>&lt;int&gt;</th><th scope=col>&lt;int&gt;</th><th scope=col>&lt;int&gt;</th><th scope=col>&lt;int&gt;</th><th scope=col>&lt;int&gt;</th><th scope=col>&lt;dbl&gt;</th><th scope=col>&lt;int&gt;</th><th scope=col>&lt;int&gt;</th><th scope=col>&lt;dbl&gt;</th><th scope=col>&lt;chr&gt;</th><th scope=col>&lt;int&gt;</th><th scope=col>&lt;chr&gt;</th><th scope=col>&lt;chr&gt;</th><th scope=col>&lt;chr&gt;</th><th scope=col>&lt;dbl&gt;</th><th scope=col>&lt;dbl&gt;</th><th scope=col>&lt;dbl&gt;</th><th scope=col>&lt;dbl&gt;</th><th scope=col>&lt;dttm&gt;</th></tr>\n",
       "</thead>\n",
       "<tbody>\n",
       "\t<tr><td>2013</td><td>1</td><td>1</td><td>NA</td><td>1630</td><td>NA</td><td>NA</td><td>1815</td><td>NA</td><td>EV</td><td>4308</td><td>N18120</td><td>EWR</td><td>RDU</td><td>NA</td><td> 416</td><td>16</td><td>30</td><td>2013-01-01 16:00:00</td></tr>\n",
       "\t<tr><td>2013</td><td>1</td><td>1</td><td>NA</td><td>1935</td><td>NA</td><td>NA</td><td>2240</td><td>NA</td><td>AA</td><td> 791</td><td>N3EHAA</td><td>LGA</td><td>DFW</td><td>NA</td><td>1389</td><td>19</td><td>35</td><td>2013-01-01 19:00:00</td></tr>\n",
       "\t<tr><td>2013</td><td>1</td><td>1</td><td>NA</td><td>1500</td><td>NA</td><td>NA</td><td>1825</td><td>NA</td><td>AA</td><td>1925</td><td>N3EVAA</td><td>LGA</td><td>MIA</td><td>NA</td><td>1096</td><td>15</td><td> 0</td><td>2013-01-01 15:00:00</td></tr>\n",
       "\t<tr><td>2013</td><td>1</td><td>1</td><td>NA</td><td> 600</td><td>NA</td><td>NA</td><td> 901</td><td>NA</td><td>B6</td><td> 125</td><td>N618JB</td><td>JFK</td><td>FLL</td><td>NA</td><td>1069</td><td> 6</td><td> 0</td><td>2013-01-01 06:00:00</td></tr>\n",
       "\t<tr><td>2013</td><td>1</td><td>2</td><td>NA</td><td>1540</td><td>NA</td><td>NA</td><td>1747</td><td>NA</td><td>EV</td><td>4352</td><td>N10575</td><td>EWR</td><td>CVG</td><td>NA</td><td> 569</td><td>15</td><td>40</td><td>2013-01-02 15:00:00</td></tr>\n",
       "\t<tr><td>2013</td><td>1</td><td>2</td><td>NA</td><td>1620</td><td>NA</td><td>NA</td><td>1746</td><td>NA</td><td>EV</td><td>4406</td><td>N13949</td><td>EWR</td><td>PIT</td><td>NA</td><td> 319</td><td>16</td><td>20</td><td>2013-01-02 16:00:00</td></tr>\n",
       "\t<tr><td>2013</td><td>1</td><td>2</td><td>NA</td><td>1355</td><td>NA</td><td>NA</td><td>1459</td><td>NA</td><td>EV</td><td>4434</td><td>N10575</td><td>EWR</td><td>MHT</td><td>NA</td><td> 209</td><td>13</td><td>55</td><td>2013-01-02 13:00:00</td></tr>\n",
       "\t<tr><td>2013</td><td>1</td><td>2</td><td>NA</td><td>1420</td><td>NA</td><td>NA</td><td>1644</td><td>NA</td><td>EV</td><td>4935</td><td>N759EV</td><td>EWR</td><td>ATL</td><td>NA</td><td> 746</td><td>14</td><td>20</td><td>2013-01-02 14:00:00</td></tr>\n",
       "\t<tr><td>2013</td><td>1</td><td>2</td><td>NA</td><td>1321</td><td>NA</td><td>NA</td><td>1536</td><td>NA</td><td>EV</td><td>3849</td><td>N13550</td><td>EWR</td><td>IND</td><td>NA</td><td> 645</td><td>13</td><td>21</td><td>2013-01-02 13:00:00</td></tr>\n",
       "\t<tr><td>2013</td><td>1</td><td>2</td><td>NA</td><td>1545</td><td>NA</td><td>NA</td><td>1910</td><td>NA</td><td>AA</td><td> 133</td><td>NA    </td><td>JFK</td><td>LAX</td><td>NA</td><td>2475</td><td>15</td><td>45</td><td>2013-01-02 15:00:00</td></tr>\n",
       "\t<tr><td>2013</td><td>1</td><td>2</td><td>NA</td><td>1330</td><td>NA</td><td>NA</td><td>1640</td><td>NA</td><td>AA</td><td> 753</td><td>N3FBAA</td><td>LGA</td><td>DFW</td><td>NA</td><td>1389</td><td>13</td><td>30</td><td>2013-01-02 13:00:00</td></tr>\n",
       "\t<tr><td>2013</td><td>1</td><td>2</td><td>NA</td><td>1601</td><td>NA</td><td>NA</td><td>1735</td><td>NA</td><td>UA</td><td> 623</td><td>NA    </td><td>EWR</td><td>ORD</td><td>NA</td><td> 719</td><td>16</td><td> 1</td><td>2013-01-02 16:00:00</td></tr>\n",
       "\t<tr><td>2013</td><td>1</td><td>3</td><td>NA</td><td> 645</td><td>NA</td><td>NA</td><td> 757</td><td>NA</td><td>EV</td><td>4241</td><td>N14972</td><td>EWR</td><td>DCA</td><td>NA</td><td> 199</td><td> 6</td><td>45</td><td>2013-01-03 06:00:00</td></tr>\n",
       "\t<tr><td>2013</td><td>1</td><td>3</td><td>NA</td><td>1030</td><td>NA</td><td>NA</td><td>1210</td><td>NA</td><td>AA</td><td> 321</td><td>N487AA</td><td>LGA</td><td>ORD</td><td>NA</td><td> 733</td><td>10</td><td>30</td><td>2013-01-03 10:00:00</td></tr>\n",
       "\t<tr><td>2013</td><td>1</td><td>3</td><td>NA</td><td>1125</td><td>NA</td><td>NA</td><td>1305</td><td>NA</td><td>AA</td><td> 327</td><td>N3AMAA</td><td>LGA</td><td>ORD</td><td>NA</td><td> 733</td><td>11</td><td>25</td><td>2013-01-03 11:00:00</td></tr>\n",
       "\t<tr><td>2013</td><td>1</td><td>3</td><td>NA</td><td> 835</td><td>NA</td><td>NA</td><td>1150</td><td>NA</td><td>AA</td><td> 717</td><td>N3GXAA</td><td>LGA</td><td>DFW</td><td>NA</td><td>1389</td><td> 8</td><td>35</td><td>2013-01-03 08:00:00</td></tr>\n",
       "\t<tr><td>2013</td><td>1</td><td>3</td><td>NA</td><td> 920</td><td>NA</td><td>NA</td><td>1245</td><td>NA</td><td>AA</td><td> 721</td><td>N201AA</td><td>LGA</td><td>DFW</td><td>NA</td><td>1389</td><td> 9</td><td>20</td><td>2013-01-03 09:00:00</td></tr>\n",
       "\t<tr><td>2013</td><td>1</td><td>3</td><td>NA</td><td>1020</td><td>NA</td><td>NA</td><td>1330</td><td>NA</td><td>AA</td><td> 731</td><td>N3FVAA</td><td>LGA</td><td>DFW</td><td>NA</td><td>1389</td><td>10</td><td>20</td><td>2013-01-03 10:00:00</td></tr>\n",
       "\t<tr><td>2013</td><td>1</td><td>3</td><td>NA</td><td>1220</td><td>NA</td><td>NA</td><td>1415</td><td>NA</td><td>AA</td><td>1757</td><td>N573AA</td><td>LGA</td><td>STL</td><td>NA</td><td> 888</td><td>12</td><td>20</td><td>2013-01-03 12:00:00</td></tr>\n",
       "\t<tr><td>2013</td><td>1</td><td>3</td><td>NA</td><td> 630</td><td>NA</td><td>NA</td><td> 830</td><td>NA</td><td>MQ</td><td>4599</td><td>N500MQ</td><td>LGA</td><td>MSP</td><td>NA</td><td>1020</td><td> 6</td><td>30</td><td>2013-01-03 06:00:00</td></tr>\n",
       "\t<tr><td>2013</td><td>1</td><td>3</td><td>NA</td><td> 857</td><td>NA</td><td>NA</td><td>1209</td><td>NA</td><td>UA</td><td> 714</td><td>NA    </td><td>EWR</td><td>MIA</td><td>NA</td><td>1085</td><td> 8</td><td>57</td><td>2013-01-03 08:00:00</td></tr>\n",
       "\t<tr><td>2013</td><td>1</td><td>3</td><td>NA</td><td> 645</td><td>NA</td><td>NA</td><td> 952</td><td>NA</td><td>UA</td><td> 719</td><td>NA    </td><td>EWR</td><td>DFW</td><td>NA</td><td>1372</td><td> 6</td><td>45</td><td>2013-01-03 06:00:00</td></tr>\n",
       "\t<tr><td>2013</td><td>1</td><td>4</td><td>NA</td><td> 845</td><td>NA</td><td>NA</td><td>1015</td><td>NA</td><td>9E</td><td>3405</td><td>NA    </td><td>JFK</td><td>DCA</td><td>NA</td><td> 213</td><td> 8</td><td>45</td><td>2013-01-04 08:00:00</td></tr>\n",
       "\t<tr><td>2013</td><td>1</td><td>4</td><td>NA</td><td>1830</td><td>NA</td><td>NA</td><td>2044</td><td>NA</td><td>9E</td><td>3716</td><td>NA    </td><td>EWR</td><td>DTW</td><td>NA</td><td> 488</td><td>18</td><td>30</td><td>2013-01-04 18:00:00</td></tr>\n",
       "\t<tr><td>2013</td><td>1</td><td>4</td><td>NA</td><td> 920</td><td>NA</td><td>NA</td><td>1245</td><td>NA</td><td>AA</td><td> 721</td><td>N541AA</td><td>LGA</td><td>DFW</td><td>NA</td><td>1389</td><td> 9</td><td>20</td><td>2013-01-04 09:00:00</td></tr>\n",
       "\t<tr><td>2013</td><td>1</td><td>4</td><td>NA</td><td>1245</td><td>NA</td><td>NA</td><td>1550</td><td>NA</td><td>AA</td><td> 745</td><td>N3BGAA</td><td>LGA</td><td>DFW</td><td>NA</td><td>1389</td><td>12</td><td>45</td><td>2013-01-04 12:00:00</td></tr>\n",
       "\t<tr><td>2013</td><td>1</td><td>4</td><td>NA</td><td>1430</td><td>NA</td><td>NA</td><td>1735</td><td>NA</td><td>AA</td><td> 883</td><td>N200AA</td><td>EWR</td><td>DFW</td><td>NA</td><td>1372</td><td>14</td><td>30</td><td>2013-01-04 14:00:00</td></tr>\n",
       "\t<tr><td>2013</td><td>1</td><td>4</td><td>NA</td><td>1530</td><td>NA</td><td>NA</td><td>1725</td><td>NA</td><td>AA</td><td>2223</td><td>N569AA</td><td>LGA</td><td>STL</td><td>NA</td><td> 888</td><td>15</td><td>30</td><td>2013-01-04 15:00:00</td></tr>\n",
       "\t<tr><td>2013</td><td>1</td><td>5</td><td>NA</td><td>1400</td><td>NA</td><td>NA</td><td>1518</td><td>NA</td><td>EV</td><td>5712</td><td>N827AS</td><td>JFK</td><td>IAD</td><td>NA</td><td> 228</td><td>14</td><td> 0</td><td>2013-01-05 14:00:00</td></tr>\n",
       "\t<tr><td>2013</td><td>1</td><td>5</td><td>NA</td><td> 840</td><td>NA</td><td>NA</td><td>1001</td><td>NA</td><td>9E</td><td>3422</td><td>NA    </td><td>JFK</td><td>BOS</td><td>NA</td><td> 187</td><td> 8</td><td>40</td><td>2013-01-05 08:00:00</td></tr>\n",
       "\t<tr><td>...</td><td>...</td><td>...</td><td>...</td><td>...</td><td>...</td><td>...</td><td>...</td><td>...</td><td>...</td><td>...</td><td>...</td><td>...</td><td>...</td><td>...</td><td>...</td><td>...</td><td>...</td><td>...</td></tr>\n",
       "\t<tr><td>2013</td><td>9</td><td>24</td><td>NA</td><td>1625</td><td>NA</td><td>NA</td><td>1750</td><td>NA</td><td>MQ</td><td>3622</td><td>N524MQ</td><td>LGA</td><td>BNA</td><td>NA</td><td> 764</td><td>16</td><td>25</td><td>2013-09-24 16:00:00</td></tr>\n",
       "\t<tr><td>2013</td><td>9</td><td>25</td><td>NA</td><td>1259</td><td>NA</td><td>NA</td><td>1507</td><td>NA</td><td>EV</td><td>5207</td><td>N615QX</td><td>LGA</td><td>CLT</td><td>NA</td><td> 544</td><td>12</td><td>59</td><td>2013-09-25 12:00:00</td></tr>\n",
       "\t<tr><td>2013</td><td>9</td><td>25</td><td>NA</td><td> 845</td><td>NA</td><td>NA</td><td>1018</td><td>NA</td><td>EV</td><td>5286</td><td>N615QX</td><td>LGA</td><td>BTV</td><td>NA</td><td> 258</td><td> 8</td><td>45</td><td>2013-09-25 08:00:00</td></tr>\n",
       "\t<tr><td>2013</td><td>9</td><td>25</td><td>NA</td><td>1755</td><td>NA</td><td>NA</td><td>1932</td><td>NA</td><td>EV</td><td>5287</td><td>N722EV</td><td>LGA</td><td>MSN</td><td>NA</td><td> 812</td><td>17</td><td>55</td><td>2013-09-25 17:00:00</td></tr>\n",
       "\t<tr><td>2013</td><td>9</td><td>25</td><td>NA</td><td> 600</td><td>NA</td><td>NA</td><td> 716</td><td>NA</td><td>EV</td><td>5716</td><td>N877AS</td><td>JFK</td><td>IAD</td><td>NA</td><td> 228</td><td> 6</td><td> 0</td><td>2013-09-25 06:00:00</td></tr>\n",
       "\t<tr><td>2013</td><td>9</td><td>25</td><td>NA</td><td> 836</td><td>NA</td><td>NA</td><td> 944</td><td>NA</td><td>B6</td><td>2280</td><td>N258JB</td><td>EWR</td><td>BOS</td><td>NA</td><td> 200</td><td> 8</td><td>36</td><td>2013-09-25 08:00:00</td></tr>\n",
       "\t<tr><td>2013</td><td>9</td><td>25</td><td>NA</td><td>1300</td><td>NA</td><td>NA</td><td>1409</td><td>NA</td><td>US</td><td>2148</td><td>NA    </td><td>LGA</td><td>BOS</td><td>NA</td><td> 184</td><td>13</td><td> 0</td><td>2013-09-25 13:00:00</td></tr>\n",
       "\t<tr><td>2013</td><td>9</td><td>25</td><td>NA</td><td>1900</td><td>NA</td><td>NA</td><td>2014</td><td>NA</td><td>US</td><td>2160</td><td>NA    </td><td>LGA</td><td>BOS</td><td>NA</td><td> 184</td><td>19</td><td> 0</td><td>2013-09-25 19:00:00</td></tr>\n",
       "\t<tr><td>2013</td><td>9</td><td>25</td><td>NA</td><td>1300</td><td>NA</td><td>NA</td><td>1450</td><td>NA</td><td>MQ</td><td>3388</td><td>N817MQ</td><td>LGA</td><td>CMH</td><td>NA</td><td> 479</td><td>13</td><td> 0</td><td>2013-09-25 13:00:00</td></tr>\n",
       "\t<tr><td>2013</td><td>9</td><td>25</td><td>NA</td><td>1655</td><td>NA</td><td>NA</td><td>1840</td><td>NA</td><td>MQ</td><td>3411</td><td>N735MQ</td><td>LGA</td><td>RDU</td><td>NA</td><td> 431</td><td>16</td><td>55</td><td>2013-09-25 16:00:00</td></tr>\n",
       "\t<tr><td>2013</td><td>9</td><td>25</td><td>NA</td><td>1559</td><td>NA</td><td>NA</td><td>1719</td><td>NA</td><td>MQ</td><td>3748</td><td>N530MQ</td><td>EWR</td><td>ORD</td><td>NA</td><td> 719</td><td>15</td><td>59</td><td>2013-09-25 15:00:00</td></tr>\n",
       "\t<tr><td>2013</td><td>9</td><td>26</td><td>NA</td><td> 915</td><td>NA</td><td>NA</td><td>1141</td><td>NA</td><td>EV</td><td>5109</td><td>N748EV</td><td>LGA</td><td>CHS</td><td>NA</td><td> 641</td><td> 9</td><td>15</td><td>2013-09-26 09:00:00</td></tr>\n",
       "\t<tr><td>2013</td><td>9</td><td>26</td><td>NA</td><td>1400</td><td>NA</td><td>NA</td><td>1512</td><td>NA</td><td>US</td><td>2183</td><td>NA    </td><td>LGA</td><td>DCA</td><td>NA</td><td> 214</td><td>14</td><td> 0</td><td>2013-09-26 14:00:00</td></tr>\n",
       "\t<tr><td>2013</td><td>9</td><td>26</td><td>NA</td><td>1240</td><td>NA</td><td>NA</td><td>1525</td><td>NA</td><td>WN</td><td>4720</td><td>N691WN</td><td>EWR</td><td>HOU</td><td>NA</td><td>1411</td><td>12</td><td>40</td><td>2013-09-26 12:00:00</td></tr>\n",
       "\t<tr><td>2013</td><td>9</td><td>27</td><td>NA</td><td> 600</td><td>NA</td><td>NA</td><td> 730</td><td>NA</td><td>AA</td><td> 301</td><td>N584AA</td><td>LGA</td><td>ORD</td><td>NA</td><td> 733</td><td> 6</td><td> 0</td><td>2013-09-27 06:00:00</td></tr>\n",
       "\t<tr><td>2013</td><td>9</td><td>27</td><td>NA</td><td>2100</td><td>NA</td><td>NA</td><td>2211</td><td>NA</td><td>US</td><td>2164</td><td>NA    </td><td>LGA</td><td>BOS</td><td>NA</td><td> 184</td><td>21</td><td> 0</td><td>2013-09-27 21:00:00</td></tr>\n",
       "\t<tr><td>2013</td><td>9</td><td>27</td><td>NA</td><td>1329</td><td>NA</td><td>NA</td><td>1444</td><td>NA</td><td>MQ</td><td>3760</td><td>N505MQ</td><td>EWR</td><td>ORD</td><td>NA</td><td> 719</td><td>13</td><td>29</td><td>2013-09-27 13:00:00</td></tr>\n",
       "\t<tr><td>2013</td><td>9</td><td>27</td><td>NA</td><td>1600</td><td>NA</td><td>NA</td><td>1739</td><td>NA</td><td>UA</td><td> 269</td><td>NA    </td><td>LGA</td><td>ORD</td><td>NA</td><td> 733</td><td>16</td><td> 0</td><td>2013-09-27 16:00:00</td></tr>\n",
       "\t<tr><td>2013</td><td>9</td><td>28</td><td>NA</td><td>1803</td><td>NA</td><td>NA</td><td>1927</td><td>NA</td><td>EV</td><td>5563</td><td>N724EV</td><td>LGA</td><td>BTV</td><td>NA</td><td> 258</td><td>18</td><td> 3</td><td>2013-09-28 18:00:00</td></tr>\n",
       "\t<tr><td>2013</td><td>9</td><td>28</td><td>NA</td><td> 910</td><td>NA</td><td>NA</td><td>1220</td><td>NA</td><td>AA</td><td>   1</td><td>N320AA</td><td>JFK</td><td>LAX</td><td>NA</td><td>2475</td><td> 9</td><td>10</td><td>2013-09-28 09:00:00</td></tr>\n",
       "\t<tr><td>2013</td><td>9</td><td>28</td><td>NA</td><td>1635</td><td>NA</td><td>NA</td><td>1827</td><td>NA</td><td>US</td><td> 581</td><td>NA    </td><td>EWR</td><td>CLT</td><td>NA</td><td> 529</td><td>16</td><td>35</td><td>2013-09-28 16:00:00</td></tr>\n",
       "\t<tr><td>2013</td><td>9</td><td>29</td><td>NA</td><td>2054</td><td>NA</td><td>NA</td><td>2302</td><td>NA</td><td>EV</td><td>4536</td><td>N13988</td><td>EWR</td><td>CVG</td><td>NA</td><td> 569</td><td>20</td><td>54</td><td>2013-09-29 20:00:00</td></tr>\n",
       "\t<tr><td>2013</td><td>9</td><td>29</td><td>NA</td><td>1830</td><td>NA</td><td>NA</td><td>2010</td><td>NA</td><td>MQ</td><td>3134</td><td>N508MQ</td><td>EWR</td><td>ORD</td><td>NA</td><td> 719</td><td>18</td><td>30</td><td>2013-09-29 18:00:00</td></tr>\n",
       "\t<tr><td>2013</td><td>9</td><td>29</td><td>NA</td><td> 700</td><td>NA</td><td>NA</td><td> 833</td><td>NA</td><td>UA</td><td> 331</td><td>NA    </td><td>LGA</td><td>ORD</td><td>NA</td><td> 733</td><td> 7</td><td> 0</td><td>2013-09-29 07:00:00</td></tr>\n",
       "\t<tr><td>2013</td><td>9</td><td>30</td><td>NA</td><td>1842</td><td>NA</td><td>NA</td><td>2019</td><td>NA</td><td>EV</td><td>5274</td><td>N740EV</td><td>LGA</td><td>BNA</td><td>NA</td><td> 764</td><td>18</td><td>42</td><td>2013-09-30 18:00:00</td></tr>\n",
       "\t<tr><td>2013</td><td>9</td><td>30</td><td>NA</td><td>1455</td><td>NA</td><td>NA</td><td>1634</td><td>NA</td><td>9E</td><td>3393</td><td>NA    </td><td>JFK</td><td>DCA</td><td>NA</td><td> 213</td><td>14</td><td>55</td><td>2013-09-30 14:00:00</td></tr>\n",
       "\t<tr><td>2013</td><td>9</td><td>30</td><td>NA</td><td>2200</td><td>NA</td><td>NA</td><td>2312</td><td>NA</td><td>9E</td><td>3525</td><td>NA    </td><td>LGA</td><td>SYR</td><td>NA</td><td> 198</td><td>22</td><td> 0</td><td>2013-09-30 22:00:00</td></tr>\n",
       "\t<tr><td>2013</td><td>9</td><td>30</td><td>NA</td><td>1210</td><td>NA</td><td>NA</td><td>1330</td><td>NA</td><td>MQ</td><td>3461</td><td>N535MQ</td><td>LGA</td><td>BNA</td><td>NA</td><td> 764</td><td>12</td><td>10</td><td>2013-09-30 12:00:00</td></tr>\n",
       "\t<tr><td>2013</td><td>9</td><td>30</td><td>NA</td><td>1159</td><td>NA</td><td>NA</td><td>1344</td><td>NA</td><td>MQ</td><td>3572</td><td>N511MQ</td><td>LGA</td><td>CLE</td><td>NA</td><td> 419</td><td>11</td><td>59</td><td>2013-09-30 11:00:00</td></tr>\n",
       "\t<tr><td>2013</td><td>9</td><td>30</td><td>NA</td><td> 840</td><td>NA</td><td>NA</td><td>1020</td><td>NA</td><td>MQ</td><td>3531</td><td>N839MQ</td><td>LGA</td><td>RDU</td><td>NA</td><td> 431</td><td> 8</td><td>40</td><td>2013-09-30 08:00:00</td></tr>\n",
       "</tbody>\n",
       "</table>\n"
      ],
      "text/latex": [
       "A tibble: 8255 x 19\n",
       "\\begin{tabular}{lllllllllllllllllll}\n",
       " year & month & day & dep\\_time & sched\\_dep\\_time & dep\\_delay & arr\\_time & sched\\_arr\\_time & arr\\_delay & carrier & flight & tailnum & origin & dest & air\\_time & distance & hour & minute & time\\_hour\\\\\n",
       " <int> & <int> & <int> & <int> & <int> & <dbl> & <int> & <int> & <dbl> & <chr> & <int> & <chr> & <chr> & <chr> & <dbl> & <dbl> & <dbl> & <dbl> & <dttm>\\\\\n",
       "\\hline\n",
       "\t 2013 & 1 & 1 & NA & 1630 & NA & NA & 1815 & NA & EV & 4308 & N18120 & EWR & RDU & NA &  416 & 16 & 30 & 2013-01-01 16:00:00\\\\\n",
       "\t 2013 & 1 & 1 & NA & 1935 & NA & NA & 2240 & NA & AA &  791 & N3EHAA & LGA & DFW & NA & 1389 & 19 & 35 & 2013-01-01 19:00:00\\\\\n",
       "\t 2013 & 1 & 1 & NA & 1500 & NA & NA & 1825 & NA & AA & 1925 & N3EVAA & LGA & MIA & NA & 1096 & 15 &  0 & 2013-01-01 15:00:00\\\\\n",
       "\t 2013 & 1 & 1 & NA &  600 & NA & NA &  901 & NA & B6 &  125 & N618JB & JFK & FLL & NA & 1069 &  6 &  0 & 2013-01-01 06:00:00\\\\\n",
       "\t 2013 & 1 & 2 & NA & 1540 & NA & NA & 1747 & NA & EV & 4352 & N10575 & EWR & CVG & NA &  569 & 15 & 40 & 2013-01-02 15:00:00\\\\\n",
       "\t 2013 & 1 & 2 & NA & 1620 & NA & NA & 1746 & NA & EV & 4406 & N13949 & EWR & PIT & NA &  319 & 16 & 20 & 2013-01-02 16:00:00\\\\\n",
       "\t 2013 & 1 & 2 & NA & 1355 & NA & NA & 1459 & NA & EV & 4434 & N10575 & EWR & MHT & NA &  209 & 13 & 55 & 2013-01-02 13:00:00\\\\\n",
       "\t 2013 & 1 & 2 & NA & 1420 & NA & NA & 1644 & NA & EV & 4935 & N759EV & EWR & ATL & NA &  746 & 14 & 20 & 2013-01-02 14:00:00\\\\\n",
       "\t 2013 & 1 & 2 & NA & 1321 & NA & NA & 1536 & NA & EV & 3849 & N13550 & EWR & IND & NA &  645 & 13 & 21 & 2013-01-02 13:00:00\\\\\n",
       "\t 2013 & 1 & 2 & NA & 1545 & NA & NA & 1910 & NA & AA &  133 & NA     & JFK & LAX & NA & 2475 & 15 & 45 & 2013-01-02 15:00:00\\\\\n",
       "\t 2013 & 1 & 2 & NA & 1330 & NA & NA & 1640 & NA & AA &  753 & N3FBAA & LGA & DFW & NA & 1389 & 13 & 30 & 2013-01-02 13:00:00\\\\\n",
       "\t 2013 & 1 & 2 & NA & 1601 & NA & NA & 1735 & NA & UA &  623 & NA     & EWR & ORD & NA &  719 & 16 &  1 & 2013-01-02 16:00:00\\\\\n",
       "\t 2013 & 1 & 3 & NA &  645 & NA & NA &  757 & NA & EV & 4241 & N14972 & EWR & DCA & NA &  199 &  6 & 45 & 2013-01-03 06:00:00\\\\\n",
       "\t 2013 & 1 & 3 & NA & 1030 & NA & NA & 1210 & NA & AA &  321 & N487AA & LGA & ORD & NA &  733 & 10 & 30 & 2013-01-03 10:00:00\\\\\n",
       "\t 2013 & 1 & 3 & NA & 1125 & NA & NA & 1305 & NA & AA &  327 & N3AMAA & LGA & ORD & NA &  733 & 11 & 25 & 2013-01-03 11:00:00\\\\\n",
       "\t 2013 & 1 & 3 & NA &  835 & NA & NA & 1150 & NA & AA &  717 & N3GXAA & LGA & DFW & NA & 1389 &  8 & 35 & 2013-01-03 08:00:00\\\\\n",
       "\t 2013 & 1 & 3 & NA &  920 & NA & NA & 1245 & NA & AA &  721 & N201AA & LGA & DFW & NA & 1389 &  9 & 20 & 2013-01-03 09:00:00\\\\\n",
       "\t 2013 & 1 & 3 & NA & 1020 & NA & NA & 1330 & NA & AA &  731 & N3FVAA & LGA & DFW & NA & 1389 & 10 & 20 & 2013-01-03 10:00:00\\\\\n",
       "\t 2013 & 1 & 3 & NA & 1220 & NA & NA & 1415 & NA & AA & 1757 & N573AA & LGA & STL & NA &  888 & 12 & 20 & 2013-01-03 12:00:00\\\\\n",
       "\t 2013 & 1 & 3 & NA &  630 & NA & NA &  830 & NA & MQ & 4599 & N500MQ & LGA & MSP & NA & 1020 &  6 & 30 & 2013-01-03 06:00:00\\\\\n",
       "\t 2013 & 1 & 3 & NA &  857 & NA & NA & 1209 & NA & UA &  714 & NA     & EWR & MIA & NA & 1085 &  8 & 57 & 2013-01-03 08:00:00\\\\\n",
       "\t 2013 & 1 & 3 & NA &  645 & NA & NA &  952 & NA & UA &  719 & NA     & EWR & DFW & NA & 1372 &  6 & 45 & 2013-01-03 06:00:00\\\\\n",
       "\t 2013 & 1 & 4 & NA &  845 & NA & NA & 1015 & NA & 9E & 3405 & NA     & JFK & DCA & NA &  213 &  8 & 45 & 2013-01-04 08:00:00\\\\\n",
       "\t 2013 & 1 & 4 & NA & 1830 & NA & NA & 2044 & NA & 9E & 3716 & NA     & EWR & DTW & NA &  488 & 18 & 30 & 2013-01-04 18:00:00\\\\\n",
       "\t 2013 & 1 & 4 & NA &  920 & NA & NA & 1245 & NA & AA &  721 & N541AA & LGA & DFW & NA & 1389 &  9 & 20 & 2013-01-04 09:00:00\\\\\n",
       "\t 2013 & 1 & 4 & NA & 1245 & NA & NA & 1550 & NA & AA &  745 & N3BGAA & LGA & DFW & NA & 1389 & 12 & 45 & 2013-01-04 12:00:00\\\\\n",
       "\t 2013 & 1 & 4 & NA & 1430 & NA & NA & 1735 & NA & AA &  883 & N200AA & EWR & DFW & NA & 1372 & 14 & 30 & 2013-01-04 14:00:00\\\\\n",
       "\t 2013 & 1 & 4 & NA & 1530 & NA & NA & 1725 & NA & AA & 2223 & N569AA & LGA & STL & NA &  888 & 15 & 30 & 2013-01-04 15:00:00\\\\\n",
       "\t 2013 & 1 & 5 & NA & 1400 & NA & NA & 1518 & NA & EV & 5712 & N827AS & JFK & IAD & NA &  228 & 14 &  0 & 2013-01-05 14:00:00\\\\\n",
       "\t 2013 & 1 & 5 & NA &  840 & NA & NA & 1001 & NA & 9E & 3422 & NA     & JFK & BOS & NA &  187 &  8 & 40 & 2013-01-05 08:00:00\\\\\n",
       "\t ... & ... & ... & ... & ... & ... & ... & ... & ... & ... & ... & ... & ... & ... & ... & ... & ... & ... & ...\\\\\n",
       "\t 2013 & 9 & 24 & NA & 1625 & NA & NA & 1750 & NA & MQ & 3622 & N524MQ & LGA & BNA & NA &  764 & 16 & 25 & 2013-09-24 16:00:00\\\\\n",
       "\t 2013 & 9 & 25 & NA & 1259 & NA & NA & 1507 & NA & EV & 5207 & N615QX & LGA & CLT & NA &  544 & 12 & 59 & 2013-09-25 12:00:00\\\\\n",
       "\t 2013 & 9 & 25 & NA &  845 & NA & NA & 1018 & NA & EV & 5286 & N615QX & LGA & BTV & NA &  258 &  8 & 45 & 2013-09-25 08:00:00\\\\\n",
       "\t 2013 & 9 & 25 & NA & 1755 & NA & NA & 1932 & NA & EV & 5287 & N722EV & LGA & MSN & NA &  812 & 17 & 55 & 2013-09-25 17:00:00\\\\\n",
       "\t 2013 & 9 & 25 & NA &  600 & NA & NA &  716 & NA & EV & 5716 & N877AS & JFK & IAD & NA &  228 &  6 &  0 & 2013-09-25 06:00:00\\\\\n",
       "\t 2013 & 9 & 25 & NA &  836 & NA & NA &  944 & NA & B6 & 2280 & N258JB & EWR & BOS & NA &  200 &  8 & 36 & 2013-09-25 08:00:00\\\\\n",
       "\t 2013 & 9 & 25 & NA & 1300 & NA & NA & 1409 & NA & US & 2148 & NA     & LGA & BOS & NA &  184 & 13 &  0 & 2013-09-25 13:00:00\\\\\n",
       "\t 2013 & 9 & 25 & NA & 1900 & NA & NA & 2014 & NA & US & 2160 & NA     & LGA & BOS & NA &  184 & 19 &  0 & 2013-09-25 19:00:00\\\\\n",
       "\t 2013 & 9 & 25 & NA & 1300 & NA & NA & 1450 & NA & MQ & 3388 & N817MQ & LGA & CMH & NA &  479 & 13 &  0 & 2013-09-25 13:00:00\\\\\n",
       "\t 2013 & 9 & 25 & NA & 1655 & NA & NA & 1840 & NA & MQ & 3411 & N735MQ & LGA & RDU & NA &  431 & 16 & 55 & 2013-09-25 16:00:00\\\\\n",
       "\t 2013 & 9 & 25 & NA & 1559 & NA & NA & 1719 & NA & MQ & 3748 & N530MQ & EWR & ORD & NA &  719 & 15 & 59 & 2013-09-25 15:00:00\\\\\n",
       "\t 2013 & 9 & 26 & NA &  915 & NA & NA & 1141 & NA & EV & 5109 & N748EV & LGA & CHS & NA &  641 &  9 & 15 & 2013-09-26 09:00:00\\\\\n",
       "\t 2013 & 9 & 26 & NA & 1400 & NA & NA & 1512 & NA & US & 2183 & NA     & LGA & DCA & NA &  214 & 14 &  0 & 2013-09-26 14:00:00\\\\\n",
       "\t 2013 & 9 & 26 & NA & 1240 & NA & NA & 1525 & NA & WN & 4720 & N691WN & EWR & HOU & NA & 1411 & 12 & 40 & 2013-09-26 12:00:00\\\\\n",
       "\t 2013 & 9 & 27 & NA &  600 & NA & NA &  730 & NA & AA &  301 & N584AA & LGA & ORD & NA &  733 &  6 &  0 & 2013-09-27 06:00:00\\\\\n",
       "\t 2013 & 9 & 27 & NA & 2100 & NA & NA & 2211 & NA & US & 2164 & NA     & LGA & BOS & NA &  184 & 21 &  0 & 2013-09-27 21:00:00\\\\\n",
       "\t 2013 & 9 & 27 & NA & 1329 & NA & NA & 1444 & NA & MQ & 3760 & N505MQ & EWR & ORD & NA &  719 & 13 & 29 & 2013-09-27 13:00:00\\\\\n",
       "\t 2013 & 9 & 27 & NA & 1600 & NA & NA & 1739 & NA & UA &  269 & NA     & LGA & ORD & NA &  733 & 16 &  0 & 2013-09-27 16:00:00\\\\\n",
       "\t 2013 & 9 & 28 & NA & 1803 & NA & NA & 1927 & NA & EV & 5563 & N724EV & LGA & BTV & NA &  258 & 18 &  3 & 2013-09-28 18:00:00\\\\\n",
       "\t 2013 & 9 & 28 & NA &  910 & NA & NA & 1220 & NA & AA &    1 & N320AA & JFK & LAX & NA & 2475 &  9 & 10 & 2013-09-28 09:00:00\\\\\n",
       "\t 2013 & 9 & 28 & NA & 1635 & NA & NA & 1827 & NA & US &  581 & NA     & EWR & CLT & NA &  529 & 16 & 35 & 2013-09-28 16:00:00\\\\\n",
       "\t 2013 & 9 & 29 & NA & 2054 & NA & NA & 2302 & NA & EV & 4536 & N13988 & EWR & CVG & NA &  569 & 20 & 54 & 2013-09-29 20:00:00\\\\\n",
       "\t 2013 & 9 & 29 & NA & 1830 & NA & NA & 2010 & NA & MQ & 3134 & N508MQ & EWR & ORD & NA &  719 & 18 & 30 & 2013-09-29 18:00:00\\\\\n",
       "\t 2013 & 9 & 29 & NA &  700 & NA & NA &  833 & NA & UA &  331 & NA     & LGA & ORD & NA &  733 &  7 &  0 & 2013-09-29 07:00:00\\\\\n",
       "\t 2013 & 9 & 30 & NA & 1842 & NA & NA & 2019 & NA & EV & 5274 & N740EV & LGA & BNA & NA &  764 & 18 & 42 & 2013-09-30 18:00:00\\\\\n",
       "\t 2013 & 9 & 30 & NA & 1455 & NA & NA & 1634 & NA & 9E & 3393 & NA     & JFK & DCA & NA &  213 & 14 & 55 & 2013-09-30 14:00:00\\\\\n",
       "\t 2013 & 9 & 30 & NA & 2200 & NA & NA & 2312 & NA & 9E & 3525 & NA     & LGA & SYR & NA &  198 & 22 &  0 & 2013-09-30 22:00:00\\\\\n",
       "\t 2013 & 9 & 30 & NA & 1210 & NA & NA & 1330 & NA & MQ & 3461 & N535MQ & LGA & BNA & NA &  764 & 12 & 10 & 2013-09-30 12:00:00\\\\\n",
       "\t 2013 & 9 & 30 & NA & 1159 & NA & NA & 1344 & NA & MQ & 3572 & N511MQ & LGA & CLE & NA &  419 & 11 & 59 & 2013-09-30 11:00:00\\\\\n",
       "\t 2013 & 9 & 30 & NA &  840 & NA & NA & 1020 & NA & MQ & 3531 & N839MQ & LGA & RDU & NA &  431 &  8 & 40 & 2013-09-30 08:00:00\\\\\n",
       "\\end{tabular}\n"
      ],
      "text/markdown": [
       "\n",
       "A tibble: 8255 x 19\n",
       "\n",
       "| year &lt;int&gt; | month &lt;int&gt; | day &lt;int&gt; | dep_time &lt;int&gt; | sched_dep_time &lt;int&gt; | dep_delay &lt;dbl&gt; | arr_time &lt;int&gt; | sched_arr_time &lt;int&gt; | arr_delay &lt;dbl&gt; | carrier &lt;chr&gt; | flight &lt;int&gt; | tailnum &lt;chr&gt; | origin &lt;chr&gt; | dest &lt;chr&gt; | air_time &lt;dbl&gt; | distance &lt;dbl&gt; | hour &lt;dbl&gt; | minute &lt;dbl&gt; | time_hour &lt;dttm&gt; |\n",
       "|---|---|---|---|---|---|---|---|---|---|---|---|---|---|---|---|---|---|---|\n",
       "| 2013 | 1 | 1 | NA | 1630 | NA | NA | 1815 | NA | EV | 4308 | N18120 | EWR | RDU | NA |  416 | 16 | 30 | 2013-01-01 16:00:00 |\n",
       "| 2013 | 1 | 1 | NA | 1935 | NA | NA | 2240 | NA | AA |  791 | N3EHAA | LGA | DFW | NA | 1389 | 19 | 35 | 2013-01-01 19:00:00 |\n",
       "| 2013 | 1 | 1 | NA | 1500 | NA | NA | 1825 | NA | AA | 1925 | N3EVAA | LGA | MIA | NA | 1096 | 15 |  0 | 2013-01-01 15:00:00 |\n",
       "| 2013 | 1 | 1 | NA |  600 | NA | NA |  901 | NA | B6 |  125 | N618JB | JFK | FLL | NA | 1069 |  6 |  0 | 2013-01-01 06:00:00 |\n",
       "| 2013 | 1 | 2 | NA | 1540 | NA | NA | 1747 | NA | EV | 4352 | N10575 | EWR | CVG | NA |  569 | 15 | 40 | 2013-01-02 15:00:00 |\n",
       "| 2013 | 1 | 2 | NA | 1620 | NA | NA | 1746 | NA | EV | 4406 | N13949 | EWR | PIT | NA |  319 | 16 | 20 | 2013-01-02 16:00:00 |\n",
       "| 2013 | 1 | 2 | NA | 1355 | NA | NA | 1459 | NA | EV | 4434 | N10575 | EWR | MHT | NA |  209 | 13 | 55 | 2013-01-02 13:00:00 |\n",
       "| 2013 | 1 | 2 | NA | 1420 | NA | NA | 1644 | NA | EV | 4935 | N759EV | EWR | ATL | NA |  746 | 14 | 20 | 2013-01-02 14:00:00 |\n",
       "| 2013 | 1 | 2 | NA | 1321 | NA | NA | 1536 | NA | EV | 3849 | N13550 | EWR | IND | NA |  645 | 13 | 21 | 2013-01-02 13:00:00 |\n",
       "| 2013 | 1 | 2 | NA | 1545 | NA | NA | 1910 | NA | AA |  133 | NA     | JFK | LAX | NA | 2475 | 15 | 45 | 2013-01-02 15:00:00 |\n",
       "| 2013 | 1 | 2 | NA | 1330 | NA | NA | 1640 | NA | AA |  753 | N3FBAA | LGA | DFW | NA | 1389 | 13 | 30 | 2013-01-02 13:00:00 |\n",
       "| 2013 | 1 | 2 | NA | 1601 | NA | NA | 1735 | NA | UA |  623 | NA     | EWR | ORD | NA |  719 | 16 |  1 | 2013-01-02 16:00:00 |\n",
       "| 2013 | 1 | 3 | NA |  645 | NA | NA |  757 | NA | EV | 4241 | N14972 | EWR | DCA | NA |  199 |  6 | 45 | 2013-01-03 06:00:00 |\n",
       "| 2013 | 1 | 3 | NA | 1030 | NA | NA | 1210 | NA | AA |  321 | N487AA | LGA | ORD | NA |  733 | 10 | 30 | 2013-01-03 10:00:00 |\n",
       "| 2013 | 1 | 3 | NA | 1125 | NA | NA | 1305 | NA | AA |  327 | N3AMAA | LGA | ORD | NA |  733 | 11 | 25 | 2013-01-03 11:00:00 |\n",
       "| 2013 | 1 | 3 | NA |  835 | NA | NA | 1150 | NA | AA |  717 | N3GXAA | LGA | DFW | NA | 1389 |  8 | 35 | 2013-01-03 08:00:00 |\n",
       "| 2013 | 1 | 3 | NA |  920 | NA | NA | 1245 | NA | AA |  721 | N201AA | LGA | DFW | NA | 1389 |  9 | 20 | 2013-01-03 09:00:00 |\n",
       "| 2013 | 1 | 3 | NA | 1020 | NA | NA | 1330 | NA | AA |  731 | N3FVAA | LGA | DFW | NA | 1389 | 10 | 20 | 2013-01-03 10:00:00 |\n",
       "| 2013 | 1 | 3 | NA | 1220 | NA | NA | 1415 | NA | AA | 1757 | N573AA | LGA | STL | NA |  888 | 12 | 20 | 2013-01-03 12:00:00 |\n",
       "| 2013 | 1 | 3 | NA |  630 | NA | NA |  830 | NA | MQ | 4599 | N500MQ | LGA | MSP | NA | 1020 |  6 | 30 | 2013-01-03 06:00:00 |\n",
       "| 2013 | 1 | 3 | NA |  857 | NA | NA | 1209 | NA | UA |  714 | NA     | EWR | MIA | NA | 1085 |  8 | 57 | 2013-01-03 08:00:00 |\n",
       "| 2013 | 1 | 3 | NA |  645 | NA | NA |  952 | NA | UA |  719 | NA     | EWR | DFW | NA | 1372 |  6 | 45 | 2013-01-03 06:00:00 |\n",
       "| 2013 | 1 | 4 | NA |  845 | NA | NA | 1015 | NA | 9E | 3405 | NA     | JFK | DCA | NA |  213 |  8 | 45 | 2013-01-04 08:00:00 |\n",
       "| 2013 | 1 | 4 | NA | 1830 | NA | NA | 2044 | NA | 9E | 3716 | NA     | EWR | DTW | NA |  488 | 18 | 30 | 2013-01-04 18:00:00 |\n",
       "| 2013 | 1 | 4 | NA |  920 | NA | NA | 1245 | NA | AA |  721 | N541AA | LGA | DFW | NA | 1389 |  9 | 20 | 2013-01-04 09:00:00 |\n",
       "| 2013 | 1 | 4 | NA | 1245 | NA | NA | 1550 | NA | AA |  745 | N3BGAA | LGA | DFW | NA | 1389 | 12 | 45 | 2013-01-04 12:00:00 |\n",
       "| 2013 | 1 | 4 | NA | 1430 | NA | NA | 1735 | NA | AA |  883 | N200AA | EWR | DFW | NA | 1372 | 14 | 30 | 2013-01-04 14:00:00 |\n",
       "| 2013 | 1 | 4 | NA | 1530 | NA | NA | 1725 | NA | AA | 2223 | N569AA | LGA | STL | NA |  888 | 15 | 30 | 2013-01-04 15:00:00 |\n",
       "| 2013 | 1 | 5 | NA | 1400 | NA | NA | 1518 | NA | EV | 5712 | N827AS | JFK | IAD | NA |  228 | 14 |  0 | 2013-01-05 14:00:00 |\n",
       "| 2013 | 1 | 5 | NA |  840 | NA | NA | 1001 | NA | 9E | 3422 | NA     | JFK | BOS | NA |  187 |  8 | 40 | 2013-01-05 08:00:00 |\n",
       "| ... | ... | ... | ... | ... | ... | ... | ... | ... | ... | ... | ... | ... | ... | ... | ... | ... | ... | ... |\n",
       "| 2013 | 9 | 24 | NA | 1625 | NA | NA | 1750 | NA | MQ | 3622 | N524MQ | LGA | BNA | NA |  764 | 16 | 25 | 2013-09-24 16:00:00 |\n",
       "| 2013 | 9 | 25 | NA | 1259 | NA | NA | 1507 | NA | EV | 5207 | N615QX | LGA | CLT | NA |  544 | 12 | 59 | 2013-09-25 12:00:00 |\n",
       "| 2013 | 9 | 25 | NA |  845 | NA | NA | 1018 | NA | EV | 5286 | N615QX | LGA | BTV | NA |  258 |  8 | 45 | 2013-09-25 08:00:00 |\n",
       "| 2013 | 9 | 25 | NA | 1755 | NA | NA | 1932 | NA | EV | 5287 | N722EV | LGA | MSN | NA |  812 | 17 | 55 | 2013-09-25 17:00:00 |\n",
       "| 2013 | 9 | 25 | NA |  600 | NA | NA |  716 | NA | EV | 5716 | N877AS | JFK | IAD | NA |  228 |  6 |  0 | 2013-09-25 06:00:00 |\n",
       "| 2013 | 9 | 25 | NA |  836 | NA | NA |  944 | NA | B6 | 2280 | N258JB | EWR | BOS | NA |  200 |  8 | 36 | 2013-09-25 08:00:00 |\n",
       "| 2013 | 9 | 25 | NA | 1300 | NA | NA | 1409 | NA | US | 2148 | NA     | LGA | BOS | NA |  184 | 13 |  0 | 2013-09-25 13:00:00 |\n",
       "| 2013 | 9 | 25 | NA | 1900 | NA | NA | 2014 | NA | US | 2160 | NA     | LGA | BOS | NA |  184 | 19 |  0 | 2013-09-25 19:00:00 |\n",
       "| 2013 | 9 | 25 | NA | 1300 | NA | NA | 1450 | NA | MQ | 3388 | N817MQ | LGA | CMH | NA |  479 | 13 |  0 | 2013-09-25 13:00:00 |\n",
       "| 2013 | 9 | 25 | NA | 1655 | NA | NA | 1840 | NA | MQ | 3411 | N735MQ | LGA | RDU | NA |  431 | 16 | 55 | 2013-09-25 16:00:00 |\n",
       "| 2013 | 9 | 25 | NA | 1559 | NA | NA | 1719 | NA | MQ | 3748 | N530MQ | EWR | ORD | NA |  719 | 15 | 59 | 2013-09-25 15:00:00 |\n",
       "| 2013 | 9 | 26 | NA |  915 | NA | NA | 1141 | NA | EV | 5109 | N748EV | LGA | CHS | NA |  641 |  9 | 15 | 2013-09-26 09:00:00 |\n",
       "| 2013 | 9 | 26 | NA | 1400 | NA | NA | 1512 | NA | US | 2183 | NA     | LGA | DCA | NA |  214 | 14 |  0 | 2013-09-26 14:00:00 |\n",
       "| 2013 | 9 | 26 | NA | 1240 | NA | NA | 1525 | NA | WN | 4720 | N691WN | EWR | HOU | NA | 1411 | 12 | 40 | 2013-09-26 12:00:00 |\n",
       "| 2013 | 9 | 27 | NA |  600 | NA | NA |  730 | NA | AA |  301 | N584AA | LGA | ORD | NA |  733 |  6 |  0 | 2013-09-27 06:00:00 |\n",
       "| 2013 | 9 | 27 | NA | 2100 | NA | NA | 2211 | NA | US | 2164 | NA     | LGA | BOS | NA |  184 | 21 |  0 | 2013-09-27 21:00:00 |\n",
       "| 2013 | 9 | 27 | NA | 1329 | NA | NA | 1444 | NA | MQ | 3760 | N505MQ | EWR | ORD | NA |  719 | 13 | 29 | 2013-09-27 13:00:00 |\n",
       "| 2013 | 9 | 27 | NA | 1600 | NA | NA | 1739 | NA | UA |  269 | NA     | LGA | ORD | NA |  733 | 16 |  0 | 2013-09-27 16:00:00 |\n",
       "| 2013 | 9 | 28 | NA | 1803 | NA | NA | 1927 | NA | EV | 5563 | N724EV | LGA | BTV | NA |  258 | 18 |  3 | 2013-09-28 18:00:00 |\n",
       "| 2013 | 9 | 28 | NA |  910 | NA | NA | 1220 | NA | AA |    1 | N320AA | JFK | LAX | NA | 2475 |  9 | 10 | 2013-09-28 09:00:00 |\n",
       "| 2013 | 9 | 28 | NA | 1635 | NA | NA | 1827 | NA | US |  581 | NA     | EWR | CLT | NA |  529 | 16 | 35 | 2013-09-28 16:00:00 |\n",
       "| 2013 | 9 | 29 | NA | 2054 | NA | NA | 2302 | NA | EV | 4536 | N13988 | EWR | CVG | NA |  569 | 20 | 54 | 2013-09-29 20:00:00 |\n",
       "| 2013 | 9 | 29 | NA | 1830 | NA | NA | 2010 | NA | MQ | 3134 | N508MQ | EWR | ORD | NA |  719 | 18 | 30 | 2013-09-29 18:00:00 |\n",
       "| 2013 | 9 | 29 | NA |  700 | NA | NA |  833 | NA | UA |  331 | NA     | LGA | ORD | NA |  733 |  7 |  0 | 2013-09-29 07:00:00 |\n",
       "| 2013 | 9 | 30 | NA | 1842 | NA | NA | 2019 | NA | EV | 5274 | N740EV | LGA | BNA | NA |  764 | 18 | 42 | 2013-09-30 18:00:00 |\n",
       "| 2013 | 9 | 30 | NA | 1455 | NA | NA | 1634 | NA | 9E | 3393 | NA     | JFK | DCA | NA |  213 | 14 | 55 | 2013-09-30 14:00:00 |\n",
       "| 2013 | 9 | 30 | NA | 2200 | NA | NA | 2312 | NA | 9E | 3525 | NA     | LGA | SYR | NA |  198 | 22 |  0 | 2013-09-30 22:00:00 |\n",
       "| 2013 | 9 | 30 | NA | 1210 | NA | NA | 1330 | NA | MQ | 3461 | N535MQ | LGA | BNA | NA |  764 | 12 | 10 | 2013-09-30 12:00:00 |\n",
       "| 2013 | 9 | 30 | NA | 1159 | NA | NA | 1344 | NA | MQ | 3572 | N511MQ | LGA | CLE | NA |  419 | 11 | 59 | 2013-09-30 11:00:00 |\n",
       "| 2013 | 9 | 30 | NA |  840 | NA | NA | 1020 | NA | MQ | 3531 | N839MQ | LGA | RDU | NA |  431 |  8 | 40 | 2013-09-30 08:00:00 |\n",
       "\n"
      ],
      "text/plain": [
       "     year month day dep_time sched_dep_time dep_delay arr_time sched_arr_time\n",
       "1    2013 1     1   NA       1630           NA        NA       1815          \n",
       "2    2013 1     1   NA       1935           NA        NA       2240          \n",
       "3    2013 1     1   NA       1500           NA        NA       1825          \n",
       "4    2013 1     1   NA        600           NA        NA        901          \n",
       "5    2013 1     2   NA       1540           NA        NA       1747          \n",
       "6    2013 1     2   NA       1620           NA        NA       1746          \n",
       "7    2013 1     2   NA       1355           NA        NA       1459          \n",
       "8    2013 1     2   NA       1420           NA        NA       1644          \n",
       "9    2013 1     2   NA       1321           NA        NA       1536          \n",
       "10   2013 1     2   NA       1545           NA        NA       1910          \n",
       "11   2013 1     2   NA       1330           NA        NA       1640          \n",
       "12   2013 1     2   NA       1601           NA        NA       1735          \n",
       "13   2013 1     3   NA        645           NA        NA        757          \n",
       "14   2013 1     3   NA       1030           NA        NA       1210          \n",
       "15   2013 1     3   NA       1125           NA        NA       1305          \n",
       "16   2013 1     3   NA        835           NA        NA       1150          \n",
       "17   2013 1     3   NA        920           NA        NA       1245          \n",
       "18   2013 1     3   NA       1020           NA        NA       1330          \n",
       "19   2013 1     3   NA       1220           NA        NA       1415          \n",
       "20   2013 1     3   NA        630           NA        NA        830          \n",
       "21   2013 1     3   NA        857           NA        NA       1209          \n",
       "22   2013 1     3   NA        645           NA        NA        952          \n",
       "23   2013 1     4   NA        845           NA        NA       1015          \n",
       "24   2013 1     4   NA       1830           NA        NA       2044          \n",
       "25   2013 1     4   NA        920           NA        NA       1245          \n",
       "26   2013 1     4   NA       1245           NA        NA       1550          \n",
       "27   2013 1     4   NA       1430           NA        NA       1735          \n",
       "28   2013 1     4   NA       1530           NA        NA       1725          \n",
       "29   2013 1     5   NA       1400           NA        NA       1518          \n",
       "30   2013 1     5   NA        840           NA        NA       1001          \n",
       "...  ...  ...   ... ...      ...            ...       ...      ...           \n",
       "8226 2013 9     24  NA       1625           NA        NA       1750          \n",
       "8227 2013 9     25  NA       1259           NA        NA       1507          \n",
       "8228 2013 9     25  NA        845           NA        NA       1018          \n",
       "8229 2013 9     25  NA       1755           NA        NA       1932          \n",
       "8230 2013 9     25  NA        600           NA        NA        716          \n",
       "8231 2013 9     25  NA        836           NA        NA        944          \n",
       "8232 2013 9     25  NA       1300           NA        NA       1409          \n",
       "8233 2013 9     25  NA       1900           NA        NA       2014          \n",
       "8234 2013 9     25  NA       1300           NA        NA       1450          \n",
       "8235 2013 9     25  NA       1655           NA        NA       1840          \n",
       "8236 2013 9     25  NA       1559           NA        NA       1719          \n",
       "8237 2013 9     26  NA        915           NA        NA       1141          \n",
       "8238 2013 9     26  NA       1400           NA        NA       1512          \n",
       "8239 2013 9     26  NA       1240           NA        NA       1525          \n",
       "8240 2013 9     27  NA        600           NA        NA        730          \n",
       "8241 2013 9     27  NA       2100           NA        NA       2211          \n",
       "8242 2013 9     27  NA       1329           NA        NA       1444          \n",
       "8243 2013 9     27  NA       1600           NA        NA       1739          \n",
       "8244 2013 9     28  NA       1803           NA        NA       1927          \n",
       "8245 2013 9     28  NA        910           NA        NA       1220          \n",
       "8246 2013 9     28  NA       1635           NA        NA       1827          \n",
       "8247 2013 9     29  NA       2054           NA        NA       2302          \n",
       "8248 2013 9     29  NA       1830           NA        NA       2010          \n",
       "8249 2013 9     29  NA        700           NA        NA        833          \n",
       "8250 2013 9     30  NA       1842           NA        NA       2019          \n",
       "8251 2013 9     30  NA       1455           NA        NA       1634          \n",
       "8252 2013 9     30  NA       2200           NA        NA       2312          \n",
       "8253 2013 9     30  NA       1210           NA        NA       1330          \n",
       "8254 2013 9     30  NA       1159           NA        NA       1344          \n",
       "8255 2013 9     30  NA        840           NA        NA       1020          \n",
       "     arr_delay carrier flight tailnum origin dest air_time distance hour minute\n",
       "1    NA        EV      4308   N18120  EWR    RDU  NA        416     16   30    \n",
       "2    NA        AA       791   N3EHAA  LGA    DFW  NA       1389     19   35    \n",
       "3    NA        AA      1925   N3EVAA  LGA    MIA  NA       1096     15    0    \n",
       "4    NA        B6       125   N618JB  JFK    FLL  NA       1069      6    0    \n",
       "5    NA        EV      4352   N10575  EWR    CVG  NA        569     15   40    \n",
       "6    NA        EV      4406   N13949  EWR    PIT  NA        319     16   20    \n",
       "7    NA        EV      4434   N10575  EWR    MHT  NA        209     13   55    \n",
       "8    NA        EV      4935   N759EV  EWR    ATL  NA        746     14   20    \n",
       "9    NA        EV      3849   N13550  EWR    IND  NA        645     13   21    \n",
       "10   NA        AA       133   NA      JFK    LAX  NA       2475     15   45    \n",
       "11   NA        AA       753   N3FBAA  LGA    DFW  NA       1389     13   30    \n",
       "12   NA        UA       623   NA      EWR    ORD  NA        719     16    1    \n",
       "13   NA        EV      4241   N14972  EWR    DCA  NA        199      6   45    \n",
       "14   NA        AA       321   N487AA  LGA    ORD  NA        733     10   30    \n",
       "15   NA        AA       327   N3AMAA  LGA    ORD  NA        733     11   25    \n",
       "16   NA        AA       717   N3GXAA  LGA    DFW  NA       1389      8   35    \n",
       "17   NA        AA       721   N201AA  LGA    DFW  NA       1389      9   20    \n",
       "18   NA        AA       731   N3FVAA  LGA    DFW  NA       1389     10   20    \n",
       "19   NA        AA      1757   N573AA  LGA    STL  NA        888     12   20    \n",
       "20   NA        MQ      4599   N500MQ  LGA    MSP  NA       1020      6   30    \n",
       "21   NA        UA       714   NA      EWR    MIA  NA       1085      8   57    \n",
       "22   NA        UA       719   NA      EWR    DFW  NA       1372      6   45    \n",
       "23   NA        9E      3405   NA      JFK    DCA  NA        213      8   45    \n",
       "24   NA        9E      3716   NA      EWR    DTW  NA        488     18   30    \n",
       "25   NA        AA       721   N541AA  LGA    DFW  NA       1389      9   20    \n",
       "26   NA        AA       745   N3BGAA  LGA    DFW  NA       1389     12   45    \n",
       "27   NA        AA       883   N200AA  EWR    DFW  NA       1372     14   30    \n",
       "28   NA        AA      2223   N569AA  LGA    STL  NA        888     15   30    \n",
       "29   NA        EV      5712   N827AS  JFK    IAD  NA        228     14    0    \n",
       "30   NA        9E      3422   NA      JFK    BOS  NA        187      8   40    \n",
       "...  ...       ...     ...    ...     ...    ...  ...      ...      ...  ...   \n",
       "8226 NA        MQ      3622   N524MQ  LGA    BNA  NA        764     16   25    \n",
       "8227 NA        EV      5207   N615QX  LGA    CLT  NA        544     12   59    \n",
       "8228 NA        EV      5286   N615QX  LGA    BTV  NA        258      8   45    \n",
       "8229 NA        EV      5287   N722EV  LGA    MSN  NA        812     17   55    \n",
       "8230 NA        EV      5716   N877AS  JFK    IAD  NA        228      6    0    \n",
       "8231 NA        B6      2280   N258JB  EWR    BOS  NA        200      8   36    \n",
       "8232 NA        US      2148   NA      LGA    BOS  NA        184     13    0    \n",
       "8233 NA        US      2160   NA      LGA    BOS  NA        184     19    0    \n",
       "8234 NA        MQ      3388   N817MQ  LGA    CMH  NA        479     13    0    \n",
       "8235 NA        MQ      3411   N735MQ  LGA    RDU  NA        431     16   55    \n",
       "8236 NA        MQ      3748   N530MQ  EWR    ORD  NA        719     15   59    \n",
       "8237 NA        EV      5109   N748EV  LGA    CHS  NA        641      9   15    \n",
       "8238 NA        US      2183   NA      LGA    DCA  NA        214     14    0    \n",
       "8239 NA        WN      4720   N691WN  EWR    HOU  NA       1411     12   40    \n",
       "8240 NA        AA       301   N584AA  LGA    ORD  NA        733      6    0    \n",
       "8241 NA        US      2164   NA      LGA    BOS  NA        184     21    0    \n",
       "8242 NA        MQ      3760   N505MQ  EWR    ORD  NA        719     13   29    \n",
       "8243 NA        UA       269   NA      LGA    ORD  NA        733     16    0    \n",
       "8244 NA        EV      5563   N724EV  LGA    BTV  NA        258     18    3    \n",
       "8245 NA        AA         1   N320AA  JFK    LAX  NA       2475      9   10    \n",
       "8246 NA        US       581   NA      EWR    CLT  NA        529     16   35    \n",
       "8247 NA        EV      4536   N13988  EWR    CVG  NA        569     20   54    \n",
       "8248 NA        MQ      3134   N508MQ  EWR    ORD  NA        719     18   30    \n",
       "8249 NA        UA       331   NA      LGA    ORD  NA        733      7    0    \n",
       "8250 NA        EV      5274   N740EV  LGA    BNA  NA        764     18   42    \n",
       "8251 NA        9E      3393   NA      JFK    DCA  NA        213     14   55    \n",
       "8252 NA        9E      3525   NA      LGA    SYR  NA        198     22    0    \n",
       "8253 NA        MQ      3461   N535MQ  LGA    BNA  NA        764     12   10    \n",
       "8254 NA        MQ      3572   N511MQ  LGA    CLE  NA        419     11   59    \n",
       "8255 NA        MQ      3531   N839MQ  LGA    RDU  NA        431      8   40    \n",
       "     time_hour          \n",
       "1    2013-01-01 16:00:00\n",
       "2    2013-01-01 19:00:00\n",
       "3    2013-01-01 15:00:00\n",
       "4    2013-01-01 06:00:00\n",
       "5    2013-01-02 15:00:00\n",
       "6    2013-01-02 16:00:00\n",
       "7    2013-01-02 13:00:00\n",
       "8    2013-01-02 14:00:00\n",
       "9    2013-01-02 13:00:00\n",
       "10   2013-01-02 15:00:00\n",
       "11   2013-01-02 13:00:00\n",
       "12   2013-01-02 16:00:00\n",
       "13   2013-01-03 06:00:00\n",
       "14   2013-01-03 10:00:00\n",
       "15   2013-01-03 11:00:00\n",
       "16   2013-01-03 08:00:00\n",
       "17   2013-01-03 09:00:00\n",
       "18   2013-01-03 10:00:00\n",
       "19   2013-01-03 12:00:00\n",
       "20   2013-01-03 06:00:00\n",
       "21   2013-01-03 08:00:00\n",
       "22   2013-01-03 06:00:00\n",
       "23   2013-01-04 08:00:00\n",
       "24   2013-01-04 18:00:00\n",
       "25   2013-01-04 09:00:00\n",
       "26   2013-01-04 12:00:00\n",
       "27   2013-01-04 14:00:00\n",
       "28   2013-01-04 15:00:00\n",
       "29   2013-01-05 14:00:00\n",
       "30   2013-01-05 08:00:00\n",
       "...  ...                \n",
       "8226 2013-09-24 16:00:00\n",
       "8227 2013-09-25 12:00:00\n",
       "8228 2013-09-25 08:00:00\n",
       "8229 2013-09-25 17:00:00\n",
       "8230 2013-09-25 06:00:00\n",
       "8231 2013-09-25 08:00:00\n",
       "8232 2013-09-25 13:00:00\n",
       "8233 2013-09-25 19:00:00\n",
       "8234 2013-09-25 13:00:00\n",
       "8235 2013-09-25 16:00:00\n",
       "8236 2013-09-25 15:00:00\n",
       "8237 2013-09-26 09:00:00\n",
       "8238 2013-09-26 14:00:00\n",
       "8239 2013-09-26 12:00:00\n",
       "8240 2013-09-27 06:00:00\n",
       "8241 2013-09-27 21:00:00\n",
       "8242 2013-09-27 13:00:00\n",
       "8243 2013-09-27 16:00:00\n",
       "8244 2013-09-28 18:00:00\n",
       "8245 2013-09-28 09:00:00\n",
       "8246 2013-09-28 16:00:00\n",
       "8247 2013-09-29 20:00:00\n",
       "8248 2013-09-29 18:00:00\n",
       "8249 2013-09-29 07:00:00\n",
       "8250 2013-09-30 18:00:00\n",
       "8251 2013-09-30 14:00:00\n",
       "8252 2013-09-30 22:00:00\n",
       "8253 2013-09-30 12:00:00\n",
       "8254 2013-09-30 11:00:00\n",
       "8255 2013-09-30 08:00:00"
      ]
     },
     "metadata": {},
     "output_type": "display_data"
    }
   ],
   "source": [
    "flights |> \n",
    "  filter(is.na(dep_time))"
   ]
  },
  {
   "cell_type": "code",
   "execution_count": 71,
   "metadata": {
    "vscode": {
     "languageId": "r"
    }
   },
   "outputs": [
    {
     "data": {
      "text/html": [
       "<table class=\"dataframe\">\n",
       "<caption>A tibble: 842 x 19</caption>\n",
       "<thead>\n",
       "\t<tr><th scope=col>year</th><th scope=col>month</th><th scope=col>day</th><th scope=col>dep_time</th><th scope=col>sched_dep_time</th><th scope=col>dep_delay</th><th scope=col>arr_time</th><th scope=col>sched_arr_time</th><th scope=col>arr_delay</th><th scope=col>carrier</th><th scope=col>flight</th><th scope=col>tailnum</th><th scope=col>origin</th><th scope=col>dest</th><th scope=col>air_time</th><th scope=col>distance</th><th scope=col>hour</th><th scope=col>minute</th><th scope=col>time_hour</th></tr>\n",
       "\t<tr><th scope=col>&lt;int&gt;</th><th scope=col>&lt;int&gt;</th><th scope=col>&lt;int&gt;</th><th scope=col>&lt;int&gt;</th><th scope=col>&lt;int&gt;</th><th scope=col>&lt;dbl&gt;</th><th scope=col>&lt;int&gt;</th><th scope=col>&lt;int&gt;</th><th scope=col>&lt;dbl&gt;</th><th scope=col>&lt;chr&gt;</th><th scope=col>&lt;int&gt;</th><th scope=col>&lt;chr&gt;</th><th scope=col>&lt;chr&gt;</th><th scope=col>&lt;chr&gt;</th><th scope=col>&lt;dbl&gt;</th><th scope=col>&lt;dbl&gt;</th><th scope=col>&lt;dbl&gt;</th><th scope=col>&lt;dbl&gt;</th><th scope=col>&lt;dttm&gt;</th></tr>\n",
       "</thead>\n",
       "<tbody>\n",
       "\t<tr><td>2013</td><td>1</td><td>1</td><td> NA</td><td>1630</td><td>NA</td><td>  NA</td><td>1815</td><td> NA</td><td>EV</td><td>4308</td><td>N18120</td><td>EWR</td><td>RDU</td><td> NA</td><td> 416</td><td>16</td><td>30</td><td>2013-01-01 16:00:00</td></tr>\n",
       "\t<tr><td>2013</td><td>1</td><td>1</td><td> NA</td><td>1935</td><td>NA</td><td>  NA</td><td>2240</td><td> NA</td><td>AA</td><td> 791</td><td>N3EHAA</td><td>LGA</td><td>DFW</td><td> NA</td><td>1389</td><td>19</td><td>35</td><td>2013-01-01 19:00:00</td></tr>\n",
       "\t<tr><td>2013</td><td>1</td><td>1</td><td> NA</td><td>1500</td><td>NA</td><td>  NA</td><td>1825</td><td> NA</td><td>AA</td><td>1925</td><td>N3EVAA</td><td>LGA</td><td>MIA</td><td> NA</td><td>1096</td><td>15</td><td> 0</td><td>2013-01-01 15:00:00</td></tr>\n",
       "\t<tr><td>2013</td><td>1</td><td>1</td><td> NA</td><td> 600</td><td>NA</td><td>  NA</td><td> 901</td><td> NA</td><td>B6</td><td> 125</td><td>N618JB</td><td>JFK</td><td>FLL</td><td> NA</td><td>1069</td><td> 6</td><td> 0</td><td>2013-01-01 06:00:00</td></tr>\n",
       "\t<tr><td>2013</td><td>1</td><td>1</td><td>517</td><td> 515</td><td> 2</td><td> 830</td><td> 819</td><td> 11</td><td>UA</td><td>1545</td><td>N14228</td><td>EWR</td><td>IAH</td><td>227</td><td>1400</td><td> 5</td><td>15</td><td>2013-01-01 05:00:00</td></tr>\n",
       "\t<tr><td>2013</td><td>1</td><td>1</td><td>533</td><td> 529</td><td> 4</td><td> 850</td><td> 830</td><td> 20</td><td>UA</td><td>1714</td><td>N24211</td><td>LGA</td><td>IAH</td><td>227</td><td>1416</td><td> 5</td><td>29</td><td>2013-01-01 05:00:00</td></tr>\n",
       "\t<tr><td>2013</td><td>1</td><td>1</td><td>542</td><td> 540</td><td> 2</td><td> 923</td><td> 850</td><td> 33</td><td>AA</td><td>1141</td><td>N619AA</td><td>JFK</td><td>MIA</td><td>160</td><td>1089</td><td> 5</td><td>40</td><td>2013-01-01 05:00:00</td></tr>\n",
       "\t<tr><td>2013</td><td>1</td><td>1</td><td>544</td><td> 545</td><td>-1</td><td>1004</td><td>1022</td><td>-18</td><td>B6</td><td> 725</td><td>N804JB</td><td>JFK</td><td>BQN</td><td>183</td><td>1576</td><td> 5</td><td>45</td><td>2013-01-01 05:00:00</td></tr>\n",
       "\t<tr><td>2013</td><td>1</td><td>1</td><td>554</td><td> 600</td><td>-6</td><td> 812</td><td> 837</td><td>-25</td><td>DL</td><td> 461</td><td>N668DN</td><td>LGA</td><td>ATL</td><td>116</td><td> 762</td><td> 6</td><td> 0</td><td>2013-01-01 06:00:00</td></tr>\n",
       "\t<tr><td>2013</td><td>1</td><td>1</td><td>554</td><td> 558</td><td>-4</td><td> 740</td><td> 728</td><td> 12</td><td>UA</td><td>1696</td><td>N39463</td><td>EWR</td><td>ORD</td><td>150</td><td> 719</td><td> 5</td><td>58</td><td>2013-01-01 05:00:00</td></tr>\n",
       "\t<tr><td>2013</td><td>1</td><td>1</td><td>555</td><td> 600</td><td>-5</td><td> 913</td><td> 854</td><td> 19</td><td>B6</td><td> 507</td><td>N516JB</td><td>EWR</td><td>FLL</td><td>158</td><td>1065</td><td> 6</td><td> 0</td><td>2013-01-01 06:00:00</td></tr>\n",
       "\t<tr><td>2013</td><td>1</td><td>1</td><td>557</td><td> 600</td><td>-3</td><td> 709</td><td> 723</td><td>-14</td><td>EV</td><td>5708</td><td>N829AS</td><td>LGA</td><td>IAD</td><td> 53</td><td> 229</td><td> 6</td><td> 0</td><td>2013-01-01 06:00:00</td></tr>\n",
       "\t<tr><td>2013</td><td>1</td><td>1</td><td>557</td><td> 600</td><td>-3</td><td> 838</td><td> 846</td><td> -8</td><td>B6</td><td>  79</td><td>N593JB</td><td>JFK</td><td>MCO</td><td>140</td><td> 944</td><td> 6</td><td> 0</td><td>2013-01-01 06:00:00</td></tr>\n",
       "\t<tr><td>2013</td><td>1</td><td>1</td><td>558</td><td> 600</td><td>-2</td><td> 753</td><td> 745</td><td>  8</td><td>AA</td><td> 301</td><td>N3ALAA</td><td>LGA</td><td>ORD</td><td>138</td><td> 733</td><td> 6</td><td> 0</td><td>2013-01-01 06:00:00</td></tr>\n",
       "\t<tr><td>2013</td><td>1</td><td>1</td><td>558</td><td> 600</td><td>-2</td><td> 849</td><td> 851</td><td> -2</td><td>B6</td><td>  49</td><td>N793JB</td><td>JFK</td><td>PBI</td><td>149</td><td>1028</td><td> 6</td><td> 0</td><td>2013-01-01 06:00:00</td></tr>\n",
       "\t<tr><td>2013</td><td>1</td><td>1</td><td>558</td><td> 600</td><td>-2</td><td> 853</td><td> 856</td><td> -3</td><td>B6</td><td>  71</td><td>N657JB</td><td>JFK</td><td>TPA</td><td>158</td><td>1005</td><td> 6</td><td> 0</td><td>2013-01-01 06:00:00</td></tr>\n",
       "\t<tr><td>2013</td><td>1</td><td>1</td><td>558</td><td> 600</td><td>-2</td><td> 924</td><td> 917</td><td>  7</td><td>UA</td><td> 194</td><td>N29129</td><td>JFK</td><td>LAX</td><td>345</td><td>2475</td><td> 6</td><td> 0</td><td>2013-01-01 06:00:00</td></tr>\n",
       "\t<tr><td>2013</td><td>1</td><td>1</td><td>558</td><td> 600</td><td>-2</td><td> 923</td><td> 937</td><td>-14</td><td>UA</td><td>1124</td><td>N53441</td><td>EWR</td><td>SFO</td><td>361</td><td>2565</td><td> 6</td><td> 0</td><td>2013-01-01 06:00:00</td></tr>\n",
       "\t<tr><td>2013</td><td>1</td><td>1</td><td>559</td><td> 600</td><td>-1</td><td> 941</td><td> 910</td><td> 31</td><td>AA</td><td> 707</td><td>N3DUAA</td><td>LGA</td><td>DFW</td><td>257</td><td>1389</td><td> 6</td><td> 0</td><td>2013-01-01 06:00:00</td></tr>\n",
       "\t<tr><td>2013</td><td>1</td><td>1</td><td>559</td><td> 559</td><td> 0</td><td> 702</td><td> 706</td><td> -4</td><td>B6</td><td>1806</td><td>N708JB</td><td>JFK</td><td>BOS</td><td> 44</td><td> 187</td><td> 5</td><td>59</td><td>2013-01-01 05:00:00</td></tr>\n",
       "\t<tr><td>2013</td><td>1</td><td>1</td><td>559</td><td> 600</td><td>-1</td><td> 854</td><td> 902</td><td> -8</td><td>UA</td><td>1187</td><td>N76515</td><td>EWR</td><td>LAS</td><td>337</td><td>2227</td><td> 6</td><td> 0</td><td>2013-01-01 06:00:00</td></tr>\n",
       "\t<tr><td>2013</td><td>1</td><td>1</td><td>600</td><td> 600</td><td> 0</td><td> 851</td><td> 858</td><td> -7</td><td>B6</td><td> 371</td><td>N595JB</td><td>LGA</td><td>FLL</td><td>152</td><td>1076</td><td> 6</td><td> 0</td><td>2013-01-01 06:00:00</td></tr>\n",
       "\t<tr><td>2013</td><td>1</td><td>1</td><td>600</td><td> 600</td><td> 0</td><td> 837</td><td> 825</td><td> 12</td><td>MQ</td><td>4650</td><td>N542MQ</td><td>LGA</td><td>ATL</td><td>134</td><td> 762</td><td> 6</td><td> 0</td><td>2013-01-01 06:00:00</td></tr>\n",
       "\t<tr><td>2013</td><td>1</td><td>1</td><td>601</td><td> 600</td><td> 1</td><td> 844</td><td> 850</td><td> -6</td><td>B6</td><td> 343</td><td>N644JB</td><td>EWR</td><td>PBI</td><td>147</td><td>1023</td><td> 6</td><td> 0</td><td>2013-01-01 06:00:00</td></tr>\n",
       "\t<tr><td>2013</td><td>1</td><td>1</td><td>602</td><td> 610</td><td>-8</td><td> 812</td><td> 820</td><td> -8</td><td>DL</td><td>1919</td><td>N971DL</td><td>LGA</td><td>MSP</td><td>170</td><td>1020</td><td> 6</td><td>10</td><td>2013-01-01 06:00:00</td></tr>\n",
       "\t<tr><td>2013</td><td>1</td><td>1</td><td>602</td><td> 605</td><td>-3</td><td> 821</td><td> 805</td><td> 16</td><td>MQ</td><td>4401</td><td>N730MQ</td><td>LGA</td><td>DTW</td><td>105</td><td> 502</td><td> 6</td><td> 5</td><td>2013-01-01 06:00:00</td></tr>\n",
       "\t<tr><td>2013</td><td>1</td><td>1</td><td>606</td><td> 610</td><td>-4</td><td> 858</td><td> 910</td><td>-12</td><td>AA</td><td>1895</td><td>N633AA</td><td>EWR</td><td>MIA</td><td>152</td><td>1085</td><td> 6</td><td>10</td><td>2013-01-01 06:00:00</td></tr>\n",
       "\t<tr><td>2013</td><td>1</td><td>1</td><td>606</td><td> 610</td><td>-4</td><td> 837</td><td> 845</td><td> -8</td><td>DL</td><td>1743</td><td>N3739P</td><td>JFK</td><td>ATL</td><td>128</td><td> 760</td><td> 6</td><td>10</td><td>2013-01-01 06:00:00</td></tr>\n",
       "\t<tr><td>2013</td><td>1</td><td>1</td><td>607</td><td> 607</td><td> 0</td><td> 858</td><td> 915</td><td>-17</td><td>UA</td><td>1077</td><td>N53442</td><td>EWR</td><td>MIA</td><td>157</td><td>1085</td><td> 6</td><td> 7</td><td>2013-01-01 06:00:00</td></tr>\n",
       "\t<tr><td>2013</td><td>1</td><td>1</td><td>608</td><td> 600</td><td> 8</td><td> 807</td><td> 735</td><td> 32</td><td>MQ</td><td>3768</td><td>N9EAMQ</td><td>EWR</td><td>ORD</td><td>139</td><td> 719</td><td> 6</td><td> 0</td><td>2013-01-01 06:00:00</td></tr>\n",
       "\t<tr><td>...</td><td>...</td><td>...</td><td>...</td><td>...</td><td>...</td><td>...</td><td>...</td><td>...</td><td>...</td><td>...</td><td>...</td><td>...</td><td>...</td><td>...</td><td>...</td><td>...</td><td>...</td><td>...</td></tr>\n",
       "\t<tr><td>2013</td><td>1</td><td>1</td><td>2128</td><td>2125</td><td>  3</td><td>2243</td><td>2240</td><td>  3</td><td>MQ</td><td>4449</td><td>N810MQ</td><td>JFK</td><td>DCA</td><td> 54</td><td> 213</td><td>21</td><td>25</td><td>2013-01-01 21:00:00</td></tr>\n",
       "\t<tr><td>2013</td><td>1</td><td>1</td><td>2129</td><td>2120</td><td>  9</td><td>2342</td><td>2351</td><td> -9</td><td>B6</td><td>  97</td><td>N625JB</td><td>JFK</td><td>DEN</td><td>223</td><td>1626</td><td>21</td><td>20</td><td>2013-01-01 21:00:00</td></tr>\n",
       "\t<tr><td>2013</td><td>1</td><td>1</td><td>2134</td><td>2045</td><td> 49</td><td>  20</td><td>2352</td><td> 28</td><td>UA</td><td>1106</td><td>N27733</td><td>EWR</td><td>FLL</td><td>152</td><td>1065</td><td>20</td><td>45</td><td>2013-01-01 20:00:00</td></tr>\n",
       "\t<tr><td>2013</td><td>1</td><td>1</td><td>2136</td><td>2145</td><td> -9</td><td>  25</td><td>  39</td><td>-14</td><td>B6</td><td> 515</td><td>N198JB</td><td>EWR</td><td>FLL</td><td>154</td><td>1065</td><td>21</td><td>45</td><td>2013-01-01 21:00:00</td></tr>\n",
       "\t<tr><td>2013</td><td>1</td><td>1</td><td>2140</td><td>2135</td><td>  5</td><td> 210</td><td> 224</td><td>-14</td><td>B6</td><td> 701</td><td>N284JB</td><td>JFK</td><td>SJU</td><td>189</td><td>1598</td><td>21</td><td>35</td><td>2013-01-01 21:00:00</td></tr>\n",
       "\t<tr><td>2013</td><td>1</td><td>1</td><td>2157</td><td>2155</td><td>  2</td><td>  43</td><td>  41</td><td>  2</td><td>B6</td><td>  43</td><td>N537JB</td><td>JFK</td><td>MCO</td><td>140</td><td> 944</td><td>21</td><td>55</td><td>2013-01-01 21:00:00</td></tr>\n",
       "\t<tr><td>2013</td><td>1</td><td>1</td><td>2158</td><td>2200</td><td> -2</td><td>2254</td><td>2307</td><td>-13</td><td>EV</td><td>4103</td><td>N14998</td><td>EWR</td><td>BWI</td><td> 36</td><td> 169</td><td>22</td><td> 0</td><td>2013-01-01 22:00:00</td></tr>\n",
       "\t<tr><td>2013</td><td>1</td><td>1</td><td>2205</td><td>1720</td><td>285</td><td>  46</td><td>2040</td><td>246</td><td>AA</td><td>1999</td><td>N5DNAA</td><td>EWR</td><td>MIA</td><td>146</td><td>1085</td><td>17</td><td>20</td><td>2013-01-01 17:00:00</td></tr>\n",
       "\t<tr><td>2013</td><td>1</td><td>1</td><td>2209</td><td>2145</td><td> 24</td><td>  58</td><td>  37</td><td> 21</td><td>B6</td><td>  35</td><td>N608JB</td><td>JFK</td><td>PBI</td><td>143</td><td>1028</td><td>21</td><td>45</td><td>2013-01-01 21:00:00</td></tr>\n",
       "\t<tr><td>2013</td><td>1</td><td>1</td><td>2209</td><td>2155</td><td> 14</td><td>2400</td><td>2337</td><td> 23</td><td>B6</td><td>1109</td><td>N216JB</td><td>JFK</td><td>RDU</td><td> 86</td><td> 427</td><td>21</td><td>55</td><td>2013-01-01 21:00:00</td></tr>\n",
       "\t<tr><td>2013</td><td>1</td><td>1</td><td>2211</td><td>2145</td><td> 26</td><td>2339</td><td>2311</td><td> 28</td><td>B6</td><td> 104</td><td>N228JB</td><td>JFK</td><td>BUF</td><td> 64</td><td> 301</td><td>21</td><td>45</td><td>2013-01-01 21:00:00</td></tr>\n",
       "\t<tr><td>2013</td><td>1</td><td>1</td><td>2217</td><td>2229</td><td>-12</td><td> 249</td><td> 315</td><td>-26</td><td>B6</td><td> 713</td><td>N547JB</td><td>JFK</td><td>SJU</td><td>191</td><td>1598</td><td>22</td><td>29</td><td>2013-01-01 22:00:00</td></tr>\n",
       "\t<tr><td>2013</td><td>1</td><td>1</td><td>2217</td><td>2130</td><td> 47</td><td> 140</td><td>  27</td><td> 73</td><td>B6</td><td>  21</td><td>N516JB</td><td>JFK</td><td>TPA</td><td>163</td><td>1005</td><td>21</td><td>30</td><td>2013-01-01 21:00:00</td></tr>\n",
       "\t<tr><td>2013</td><td>1</td><td>1</td><td>2221</td><td>2000</td><td>141</td><td>2331</td><td>2124</td><td>127</td><td>EV</td><td>4462</td><td>N13566</td><td>EWR</td><td>BUF</td><td> 56</td><td> 282</td><td>20</td><td> 0</td><td>2013-01-01 20:00:00</td></tr>\n",
       "\t<tr><td>2013</td><td>1</td><td>1</td><td>2224</td><td>2200</td><td> 24</td><td>2324</td><td>2316</td><td>  8</td><td>EV</td><td>4206</td><td>N16561</td><td>EWR</td><td>PWM</td><td> 47</td><td> 284</td><td>22</td><td> 0</td><td>2013-01-01 22:00:00</td></tr>\n",
       "\t<tr><td>2013</td><td>1</td><td>1</td><td>2229</td><td>2159</td><td> 30</td><td> 149</td><td> 100</td><td> 49</td><td>B6</td><td>  11</td><td>N531JB</td><td>JFK</td><td>FLL</td><td>153</td><td>1069</td><td>21</td><td>59</td><td>2013-01-01 21:00:00</td></tr>\n",
       "\t<tr><td>2013</td><td>1</td><td>1</td><td>2240</td><td>2245</td><td> -5</td><td>2340</td><td>2356</td><td>-16</td><td>B6</td><td> 608</td><td>N279JB</td><td>JFK</td><td>PWM</td><td> 44</td><td> 273</td><td>22</td><td>45</td><td>2013-01-01 22:00:00</td></tr>\n",
       "\t<tr><td>2013</td><td>1</td><td>1</td><td>2250</td><td>2255</td><td> -5</td><td>2352</td><td>2359</td><td> -7</td><td>B6</td><td>1018</td><td>N521JB</td><td>JFK</td><td>BOS</td><td> 37</td><td> 187</td><td>22</td><td>55</td><td>2013-01-01 22:00:00</td></tr>\n",
       "\t<tr><td>2013</td><td>1</td><td>1</td><td>2302</td><td>2200</td><td> 62</td><td>2342</td><td>2253</td><td> 49</td><td>EV</td><td>4276</td><td>N13903</td><td>EWR</td><td>BDL</td><td> 24</td><td> 116</td><td>22</td><td> 0</td><td>2013-01-01 22:00:00</td></tr>\n",
       "\t<tr><td>2013</td><td>1</td><td>1</td><td>2306</td><td>2245</td><td> 21</td><td>  28</td><td>   5</td><td> 23</td><td>B6</td><td>  30</td><td>N281JB</td><td>JFK</td><td>ROC</td><td> 59</td><td> 264</td><td>22</td><td>45</td><td>2013-01-01 22:00:00</td></tr>\n",
       "\t<tr><td>2013</td><td>1</td><td>1</td><td>2307</td><td>2245</td><td> 22</td><td>  32</td><td>2357</td><td> 35</td><td>B6</td><td> 128</td><td>N178JB</td><td>JFK</td><td>BTV</td><td> 59</td><td> 266</td><td>22</td><td>45</td><td>2013-01-01 22:00:00</td></tr>\n",
       "\t<tr><td>2013</td><td>1</td><td>1</td><td>2310</td><td>2255</td><td> 15</td><td>  24</td><td>  15</td><td>  9</td><td>B6</td><td> 112</td><td>N646JB</td><td>JFK</td><td>BUF</td><td> 57</td><td> 301</td><td>22</td><td>55</td><td>2013-01-01 22:00:00</td></tr>\n",
       "\t<tr><td>2013</td><td>1</td><td>1</td><td>2312</td><td>2000</td><td>192</td><td>  21</td><td>2110</td><td>191</td><td>EV</td><td>4312</td><td>N13958</td><td>EWR</td><td>DCA</td><td> 44</td><td> 199</td><td>20</td><td> 0</td><td>2013-01-01 20:00:00</td></tr>\n",
       "\t<tr><td>2013</td><td>1</td><td>1</td><td>2323</td><td>2200</td><td> 83</td><td>  22</td><td>2313</td><td> 69</td><td>EV</td><td>4257</td><td>N13538</td><td>EWR</td><td>BTV</td><td> 44</td><td> 266</td><td>22</td><td> 0</td><td>2013-01-01 22:00:00</td></tr>\n",
       "\t<tr><td>2013</td><td>1</td><td>1</td><td>2326</td><td>2130</td><td>116</td><td> 131</td><td>  18</td><td> 73</td><td>B6</td><td> 199</td><td>N594JB</td><td>JFK</td><td>LAS</td><td>290</td><td>2248</td><td>21</td><td>30</td><td>2013-01-01 21:00:00</td></tr>\n",
       "\t<tr><td>2013</td><td>1</td><td>1</td><td>2327</td><td>2250</td><td> 37</td><td>  32</td><td>2359</td><td> 33</td><td>B6</td><td>  22</td><td>N639JB</td><td>JFK</td><td>SYR</td><td> 45</td><td> 209</td><td>22</td><td>50</td><td>2013-01-01 22:00:00</td></tr>\n",
       "\t<tr><td>2013</td><td>1</td><td>1</td><td>2343</td><td>1724</td><td>379</td><td> 314</td><td>1938</td><td>456</td><td>EV</td><td>4321</td><td>N21197</td><td>EWR</td><td>MCI</td><td>222</td><td>1092</td><td>17</td><td>24</td><td>2013-01-01 17:00:00</td></tr>\n",
       "\t<tr><td>2013</td><td>1</td><td>1</td><td>2353</td><td>2359</td><td> -6</td><td> 425</td><td> 445</td><td>-20</td><td>B6</td><td> 739</td><td>N591JB</td><td>JFK</td><td>PSE</td><td>195</td><td>1617</td><td>23</td><td>59</td><td>2013-01-01 23:00:00</td></tr>\n",
       "\t<tr><td>2013</td><td>1</td><td>1</td><td>2353</td><td>2359</td><td> -6</td><td> 418</td><td> 442</td><td>-24</td><td>B6</td><td> 707</td><td>N794JB</td><td>JFK</td><td>SJU</td><td>185</td><td>1598</td><td>23</td><td>59</td><td>2013-01-01 23:00:00</td></tr>\n",
       "\t<tr><td>2013</td><td>1</td><td>1</td><td>2356</td><td>2359</td><td> -3</td><td> 425</td><td> 437</td><td>-12</td><td>B6</td><td> 727</td><td>N588JB</td><td>JFK</td><td>BQN</td><td>186</td><td>1576</td><td>23</td><td>59</td><td>2013-01-01 23:00:00</td></tr>\n",
       "</tbody>\n",
       "</table>\n"
      ],
      "text/latex": [
       "A tibble: 842 x 19\n",
       "\\begin{tabular}{lllllllllllllllllll}\n",
       " year & month & day & dep\\_time & sched\\_dep\\_time & dep\\_delay & arr\\_time & sched\\_arr\\_time & arr\\_delay & carrier & flight & tailnum & origin & dest & air\\_time & distance & hour & minute & time\\_hour\\\\\n",
       " <int> & <int> & <int> & <int> & <int> & <dbl> & <int> & <int> & <dbl> & <chr> & <int> & <chr> & <chr> & <chr> & <dbl> & <dbl> & <dbl> & <dbl> & <dttm>\\\\\n",
       "\\hline\n",
       "\t 2013 & 1 & 1 &  NA & 1630 & NA &   NA & 1815 &  NA & EV & 4308 & N18120 & EWR & RDU &  NA &  416 & 16 & 30 & 2013-01-01 16:00:00\\\\\n",
       "\t 2013 & 1 & 1 &  NA & 1935 & NA &   NA & 2240 &  NA & AA &  791 & N3EHAA & LGA & DFW &  NA & 1389 & 19 & 35 & 2013-01-01 19:00:00\\\\\n",
       "\t 2013 & 1 & 1 &  NA & 1500 & NA &   NA & 1825 &  NA & AA & 1925 & N3EVAA & LGA & MIA &  NA & 1096 & 15 &  0 & 2013-01-01 15:00:00\\\\\n",
       "\t 2013 & 1 & 1 &  NA &  600 & NA &   NA &  901 &  NA & B6 &  125 & N618JB & JFK & FLL &  NA & 1069 &  6 &  0 & 2013-01-01 06:00:00\\\\\n",
       "\t 2013 & 1 & 1 & 517 &  515 &  2 &  830 &  819 &  11 & UA & 1545 & N14228 & EWR & IAH & 227 & 1400 &  5 & 15 & 2013-01-01 05:00:00\\\\\n",
       "\t 2013 & 1 & 1 & 533 &  529 &  4 &  850 &  830 &  20 & UA & 1714 & N24211 & LGA & IAH & 227 & 1416 &  5 & 29 & 2013-01-01 05:00:00\\\\\n",
       "\t 2013 & 1 & 1 & 542 &  540 &  2 &  923 &  850 &  33 & AA & 1141 & N619AA & JFK & MIA & 160 & 1089 &  5 & 40 & 2013-01-01 05:00:00\\\\\n",
       "\t 2013 & 1 & 1 & 544 &  545 & -1 & 1004 & 1022 & -18 & B6 &  725 & N804JB & JFK & BQN & 183 & 1576 &  5 & 45 & 2013-01-01 05:00:00\\\\\n",
       "\t 2013 & 1 & 1 & 554 &  600 & -6 &  812 &  837 & -25 & DL &  461 & N668DN & LGA & ATL & 116 &  762 &  6 &  0 & 2013-01-01 06:00:00\\\\\n",
       "\t 2013 & 1 & 1 & 554 &  558 & -4 &  740 &  728 &  12 & UA & 1696 & N39463 & EWR & ORD & 150 &  719 &  5 & 58 & 2013-01-01 05:00:00\\\\\n",
       "\t 2013 & 1 & 1 & 555 &  600 & -5 &  913 &  854 &  19 & B6 &  507 & N516JB & EWR & FLL & 158 & 1065 &  6 &  0 & 2013-01-01 06:00:00\\\\\n",
       "\t 2013 & 1 & 1 & 557 &  600 & -3 &  709 &  723 & -14 & EV & 5708 & N829AS & LGA & IAD &  53 &  229 &  6 &  0 & 2013-01-01 06:00:00\\\\\n",
       "\t 2013 & 1 & 1 & 557 &  600 & -3 &  838 &  846 &  -8 & B6 &   79 & N593JB & JFK & MCO & 140 &  944 &  6 &  0 & 2013-01-01 06:00:00\\\\\n",
       "\t 2013 & 1 & 1 & 558 &  600 & -2 &  753 &  745 &   8 & AA &  301 & N3ALAA & LGA & ORD & 138 &  733 &  6 &  0 & 2013-01-01 06:00:00\\\\\n",
       "\t 2013 & 1 & 1 & 558 &  600 & -2 &  849 &  851 &  -2 & B6 &   49 & N793JB & JFK & PBI & 149 & 1028 &  6 &  0 & 2013-01-01 06:00:00\\\\\n",
       "\t 2013 & 1 & 1 & 558 &  600 & -2 &  853 &  856 &  -3 & B6 &   71 & N657JB & JFK & TPA & 158 & 1005 &  6 &  0 & 2013-01-01 06:00:00\\\\\n",
       "\t 2013 & 1 & 1 & 558 &  600 & -2 &  924 &  917 &   7 & UA &  194 & N29129 & JFK & LAX & 345 & 2475 &  6 &  0 & 2013-01-01 06:00:00\\\\\n",
       "\t 2013 & 1 & 1 & 558 &  600 & -2 &  923 &  937 & -14 & UA & 1124 & N53441 & EWR & SFO & 361 & 2565 &  6 &  0 & 2013-01-01 06:00:00\\\\\n",
       "\t 2013 & 1 & 1 & 559 &  600 & -1 &  941 &  910 &  31 & AA &  707 & N3DUAA & LGA & DFW & 257 & 1389 &  6 &  0 & 2013-01-01 06:00:00\\\\\n",
       "\t 2013 & 1 & 1 & 559 &  559 &  0 &  702 &  706 &  -4 & B6 & 1806 & N708JB & JFK & BOS &  44 &  187 &  5 & 59 & 2013-01-01 05:00:00\\\\\n",
       "\t 2013 & 1 & 1 & 559 &  600 & -1 &  854 &  902 &  -8 & UA & 1187 & N76515 & EWR & LAS & 337 & 2227 &  6 &  0 & 2013-01-01 06:00:00\\\\\n",
       "\t 2013 & 1 & 1 & 600 &  600 &  0 &  851 &  858 &  -7 & B6 &  371 & N595JB & LGA & FLL & 152 & 1076 &  6 &  0 & 2013-01-01 06:00:00\\\\\n",
       "\t 2013 & 1 & 1 & 600 &  600 &  0 &  837 &  825 &  12 & MQ & 4650 & N542MQ & LGA & ATL & 134 &  762 &  6 &  0 & 2013-01-01 06:00:00\\\\\n",
       "\t 2013 & 1 & 1 & 601 &  600 &  1 &  844 &  850 &  -6 & B6 &  343 & N644JB & EWR & PBI & 147 & 1023 &  6 &  0 & 2013-01-01 06:00:00\\\\\n",
       "\t 2013 & 1 & 1 & 602 &  610 & -8 &  812 &  820 &  -8 & DL & 1919 & N971DL & LGA & MSP & 170 & 1020 &  6 & 10 & 2013-01-01 06:00:00\\\\\n",
       "\t 2013 & 1 & 1 & 602 &  605 & -3 &  821 &  805 &  16 & MQ & 4401 & N730MQ & LGA & DTW & 105 &  502 &  6 &  5 & 2013-01-01 06:00:00\\\\\n",
       "\t 2013 & 1 & 1 & 606 &  610 & -4 &  858 &  910 & -12 & AA & 1895 & N633AA & EWR & MIA & 152 & 1085 &  6 & 10 & 2013-01-01 06:00:00\\\\\n",
       "\t 2013 & 1 & 1 & 606 &  610 & -4 &  837 &  845 &  -8 & DL & 1743 & N3739P & JFK & ATL & 128 &  760 &  6 & 10 & 2013-01-01 06:00:00\\\\\n",
       "\t 2013 & 1 & 1 & 607 &  607 &  0 &  858 &  915 & -17 & UA & 1077 & N53442 & EWR & MIA & 157 & 1085 &  6 &  7 & 2013-01-01 06:00:00\\\\\n",
       "\t 2013 & 1 & 1 & 608 &  600 &  8 &  807 &  735 &  32 & MQ & 3768 & N9EAMQ & EWR & ORD & 139 &  719 &  6 &  0 & 2013-01-01 06:00:00\\\\\n",
       "\t ... & ... & ... & ... & ... & ... & ... & ... & ... & ... & ... & ... & ... & ... & ... & ... & ... & ... & ...\\\\\n",
       "\t 2013 & 1 & 1 & 2128 & 2125 &   3 & 2243 & 2240 &   3 & MQ & 4449 & N810MQ & JFK & DCA &  54 &  213 & 21 & 25 & 2013-01-01 21:00:00\\\\\n",
       "\t 2013 & 1 & 1 & 2129 & 2120 &   9 & 2342 & 2351 &  -9 & B6 &   97 & N625JB & JFK & DEN & 223 & 1626 & 21 & 20 & 2013-01-01 21:00:00\\\\\n",
       "\t 2013 & 1 & 1 & 2134 & 2045 &  49 &   20 & 2352 &  28 & UA & 1106 & N27733 & EWR & FLL & 152 & 1065 & 20 & 45 & 2013-01-01 20:00:00\\\\\n",
       "\t 2013 & 1 & 1 & 2136 & 2145 &  -9 &   25 &   39 & -14 & B6 &  515 & N198JB & EWR & FLL & 154 & 1065 & 21 & 45 & 2013-01-01 21:00:00\\\\\n",
       "\t 2013 & 1 & 1 & 2140 & 2135 &   5 &  210 &  224 & -14 & B6 &  701 & N284JB & JFK & SJU & 189 & 1598 & 21 & 35 & 2013-01-01 21:00:00\\\\\n",
       "\t 2013 & 1 & 1 & 2157 & 2155 &   2 &   43 &   41 &   2 & B6 &   43 & N537JB & JFK & MCO & 140 &  944 & 21 & 55 & 2013-01-01 21:00:00\\\\\n",
       "\t 2013 & 1 & 1 & 2158 & 2200 &  -2 & 2254 & 2307 & -13 & EV & 4103 & N14998 & EWR & BWI &  36 &  169 & 22 &  0 & 2013-01-01 22:00:00\\\\\n",
       "\t 2013 & 1 & 1 & 2205 & 1720 & 285 &   46 & 2040 & 246 & AA & 1999 & N5DNAA & EWR & MIA & 146 & 1085 & 17 & 20 & 2013-01-01 17:00:00\\\\\n",
       "\t 2013 & 1 & 1 & 2209 & 2145 &  24 &   58 &   37 &  21 & B6 &   35 & N608JB & JFK & PBI & 143 & 1028 & 21 & 45 & 2013-01-01 21:00:00\\\\\n",
       "\t 2013 & 1 & 1 & 2209 & 2155 &  14 & 2400 & 2337 &  23 & B6 & 1109 & N216JB & JFK & RDU &  86 &  427 & 21 & 55 & 2013-01-01 21:00:00\\\\\n",
       "\t 2013 & 1 & 1 & 2211 & 2145 &  26 & 2339 & 2311 &  28 & B6 &  104 & N228JB & JFK & BUF &  64 &  301 & 21 & 45 & 2013-01-01 21:00:00\\\\\n",
       "\t 2013 & 1 & 1 & 2217 & 2229 & -12 &  249 &  315 & -26 & B6 &  713 & N547JB & JFK & SJU & 191 & 1598 & 22 & 29 & 2013-01-01 22:00:00\\\\\n",
       "\t 2013 & 1 & 1 & 2217 & 2130 &  47 &  140 &   27 &  73 & B6 &   21 & N516JB & JFK & TPA & 163 & 1005 & 21 & 30 & 2013-01-01 21:00:00\\\\\n",
       "\t 2013 & 1 & 1 & 2221 & 2000 & 141 & 2331 & 2124 & 127 & EV & 4462 & N13566 & EWR & BUF &  56 &  282 & 20 &  0 & 2013-01-01 20:00:00\\\\\n",
       "\t 2013 & 1 & 1 & 2224 & 2200 &  24 & 2324 & 2316 &   8 & EV & 4206 & N16561 & EWR & PWM &  47 &  284 & 22 &  0 & 2013-01-01 22:00:00\\\\\n",
       "\t 2013 & 1 & 1 & 2229 & 2159 &  30 &  149 &  100 &  49 & B6 &   11 & N531JB & JFK & FLL & 153 & 1069 & 21 & 59 & 2013-01-01 21:00:00\\\\\n",
       "\t 2013 & 1 & 1 & 2240 & 2245 &  -5 & 2340 & 2356 & -16 & B6 &  608 & N279JB & JFK & PWM &  44 &  273 & 22 & 45 & 2013-01-01 22:00:00\\\\\n",
       "\t 2013 & 1 & 1 & 2250 & 2255 &  -5 & 2352 & 2359 &  -7 & B6 & 1018 & N521JB & JFK & BOS &  37 &  187 & 22 & 55 & 2013-01-01 22:00:00\\\\\n",
       "\t 2013 & 1 & 1 & 2302 & 2200 &  62 & 2342 & 2253 &  49 & EV & 4276 & N13903 & EWR & BDL &  24 &  116 & 22 &  0 & 2013-01-01 22:00:00\\\\\n",
       "\t 2013 & 1 & 1 & 2306 & 2245 &  21 &   28 &    5 &  23 & B6 &   30 & N281JB & JFK & ROC &  59 &  264 & 22 & 45 & 2013-01-01 22:00:00\\\\\n",
       "\t 2013 & 1 & 1 & 2307 & 2245 &  22 &   32 & 2357 &  35 & B6 &  128 & N178JB & JFK & BTV &  59 &  266 & 22 & 45 & 2013-01-01 22:00:00\\\\\n",
       "\t 2013 & 1 & 1 & 2310 & 2255 &  15 &   24 &   15 &   9 & B6 &  112 & N646JB & JFK & BUF &  57 &  301 & 22 & 55 & 2013-01-01 22:00:00\\\\\n",
       "\t 2013 & 1 & 1 & 2312 & 2000 & 192 &   21 & 2110 & 191 & EV & 4312 & N13958 & EWR & DCA &  44 &  199 & 20 &  0 & 2013-01-01 20:00:00\\\\\n",
       "\t 2013 & 1 & 1 & 2323 & 2200 &  83 &   22 & 2313 &  69 & EV & 4257 & N13538 & EWR & BTV &  44 &  266 & 22 &  0 & 2013-01-01 22:00:00\\\\\n",
       "\t 2013 & 1 & 1 & 2326 & 2130 & 116 &  131 &   18 &  73 & B6 &  199 & N594JB & JFK & LAS & 290 & 2248 & 21 & 30 & 2013-01-01 21:00:00\\\\\n",
       "\t 2013 & 1 & 1 & 2327 & 2250 &  37 &   32 & 2359 &  33 & B6 &   22 & N639JB & JFK & SYR &  45 &  209 & 22 & 50 & 2013-01-01 22:00:00\\\\\n",
       "\t 2013 & 1 & 1 & 2343 & 1724 & 379 &  314 & 1938 & 456 & EV & 4321 & N21197 & EWR & MCI & 222 & 1092 & 17 & 24 & 2013-01-01 17:00:00\\\\\n",
       "\t 2013 & 1 & 1 & 2353 & 2359 &  -6 &  425 &  445 & -20 & B6 &  739 & N591JB & JFK & PSE & 195 & 1617 & 23 & 59 & 2013-01-01 23:00:00\\\\\n",
       "\t 2013 & 1 & 1 & 2353 & 2359 &  -6 &  418 &  442 & -24 & B6 &  707 & N794JB & JFK & SJU & 185 & 1598 & 23 & 59 & 2013-01-01 23:00:00\\\\\n",
       "\t 2013 & 1 & 1 & 2356 & 2359 &  -3 &  425 &  437 & -12 & B6 &  727 & N588JB & JFK & BQN & 186 & 1576 & 23 & 59 & 2013-01-01 23:00:00\\\\\n",
       "\\end{tabular}\n"
      ],
      "text/markdown": [
       "\n",
       "A tibble: 842 x 19\n",
       "\n",
       "| year &lt;int&gt; | month &lt;int&gt; | day &lt;int&gt; | dep_time &lt;int&gt; | sched_dep_time &lt;int&gt; | dep_delay &lt;dbl&gt; | arr_time &lt;int&gt; | sched_arr_time &lt;int&gt; | arr_delay &lt;dbl&gt; | carrier &lt;chr&gt; | flight &lt;int&gt; | tailnum &lt;chr&gt; | origin &lt;chr&gt; | dest &lt;chr&gt; | air_time &lt;dbl&gt; | distance &lt;dbl&gt; | hour &lt;dbl&gt; | minute &lt;dbl&gt; | time_hour &lt;dttm&gt; |\n",
       "|---|---|---|---|---|---|---|---|---|---|---|---|---|---|---|---|---|---|---|\n",
       "| 2013 | 1 | 1 |  NA | 1630 | NA |   NA | 1815 |  NA | EV | 4308 | N18120 | EWR | RDU |  NA |  416 | 16 | 30 | 2013-01-01 16:00:00 |\n",
       "| 2013 | 1 | 1 |  NA | 1935 | NA |   NA | 2240 |  NA | AA |  791 | N3EHAA | LGA | DFW |  NA | 1389 | 19 | 35 | 2013-01-01 19:00:00 |\n",
       "| 2013 | 1 | 1 |  NA | 1500 | NA |   NA | 1825 |  NA | AA | 1925 | N3EVAA | LGA | MIA |  NA | 1096 | 15 |  0 | 2013-01-01 15:00:00 |\n",
       "| 2013 | 1 | 1 |  NA |  600 | NA |   NA |  901 |  NA | B6 |  125 | N618JB | JFK | FLL |  NA | 1069 |  6 |  0 | 2013-01-01 06:00:00 |\n",
       "| 2013 | 1 | 1 | 517 |  515 |  2 |  830 |  819 |  11 | UA | 1545 | N14228 | EWR | IAH | 227 | 1400 |  5 | 15 | 2013-01-01 05:00:00 |\n",
       "| 2013 | 1 | 1 | 533 |  529 |  4 |  850 |  830 |  20 | UA | 1714 | N24211 | LGA | IAH | 227 | 1416 |  5 | 29 | 2013-01-01 05:00:00 |\n",
       "| 2013 | 1 | 1 | 542 |  540 |  2 |  923 |  850 |  33 | AA | 1141 | N619AA | JFK | MIA | 160 | 1089 |  5 | 40 | 2013-01-01 05:00:00 |\n",
       "| 2013 | 1 | 1 | 544 |  545 | -1 | 1004 | 1022 | -18 | B6 |  725 | N804JB | JFK | BQN | 183 | 1576 |  5 | 45 | 2013-01-01 05:00:00 |\n",
       "| 2013 | 1 | 1 | 554 |  600 | -6 |  812 |  837 | -25 | DL |  461 | N668DN | LGA | ATL | 116 |  762 |  6 |  0 | 2013-01-01 06:00:00 |\n",
       "| 2013 | 1 | 1 | 554 |  558 | -4 |  740 |  728 |  12 | UA | 1696 | N39463 | EWR | ORD | 150 |  719 |  5 | 58 | 2013-01-01 05:00:00 |\n",
       "| 2013 | 1 | 1 | 555 |  600 | -5 |  913 |  854 |  19 | B6 |  507 | N516JB | EWR | FLL | 158 | 1065 |  6 |  0 | 2013-01-01 06:00:00 |\n",
       "| 2013 | 1 | 1 | 557 |  600 | -3 |  709 |  723 | -14 | EV | 5708 | N829AS | LGA | IAD |  53 |  229 |  6 |  0 | 2013-01-01 06:00:00 |\n",
       "| 2013 | 1 | 1 | 557 |  600 | -3 |  838 |  846 |  -8 | B6 |   79 | N593JB | JFK | MCO | 140 |  944 |  6 |  0 | 2013-01-01 06:00:00 |\n",
       "| 2013 | 1 | 1 | 558 |  600 | -2 |  753 |  745 |   8 | AA |  301 | N3ALAA | LGA | ORD | 138 |  733 |  6 |  0 | 2013-01-01 06:00:00 |\n",
       "| 2013 | 1 | 1 | 558 |  600 | -2 |  849 |  851 |  -2 | B6 |   49 | N793JB | JFK | PBI | 149 | 1028 |  6 |  0 | 2013-01-01 06:00:00 |\n",
       "| 2013 | 1 | 1 | 558 |  600 | -2 |  853 |  856 |  -3 | B6 |   71 | N657JB | JFK | TPA | 158 | 1005 |  6 |  0 | 2013-01-01 06:00:00 |\n",
       "| 2013 | 1 | 1 | 558 |  600 | -2 |  924 |  917 |   7 | UA |  194 | N29129 | JFK | LAX | 345 | 2475 |  6 |  0 | 2013-01-01 06:00:00 |\n",
       "| 2013 | 1 | 1 | 558 |  600 | -2 |  923 |  937 | -14 | UA | 1124 | N53441 | EWR | SFO | 361 | 2565 |  6 |  0 | 2013-01-01 06:00:00 |\n",
       "| 2013 | 1 | 1 | 559 |  600 | -1 |  941 |  910 |  31 | AA |  707 | N3DUAA | LGA | DFW | 257 | 1389 |  6 |  0 | 2013-01-01 06:00:00 |\n",
       "| 2013 | 1 | 1 | 559 |  559 |  0 |  702 |  706 |  -4 | B6 | 1806 | N708JB | JFK | BOS |  44 |  187 |  5 | 59 | 2013-01-01 05:00:00 |\n",
       "| 2013 | 1 | 1 | 559 |  600 | -1 |  854 |  902 |  -8 | UA | 1187 | N76515 | EWR | LAS | 337 | 2227 |  6 |  0 | 2013-01-01 06:00:00 |\n",
       "| 2013 | 1 | 1 | 600 |  600 |  0 |  851 |  858 |  -7 | B6 |  371 | N595JB | LGA | FLL | 152 | 1076 |  6 |  0 | 2013-01-01 06:00:00 |\n",
       "| 2013 | 1 | 1 | 600 |  600 |  0 |  837 |  825 |  12 | MQ | 4650 | N542MQ | LGA | ATL | 134 |  762 |  6 |  0 | 2013-01-01 06:00:00 |\n",
       "| 2013 | 1 | 1 | 601 |  600 |  1 |  844 |  850 |  -6 | B6 |  343 | N644JB | EWR | PBI | 147 | 1023 |  6 |  0 | 2013-01-01 06:00:00 |\n",
       "| 2013 | 1 | 1 | 602 |  610 | -8 |  812 |  820 |  -8 | DL | 1919 | N971DL | LGA | MSP | 170 | 1020 |  6 | 10 | 2013-01-01 06:00:00 |\n",
       "| 2013 | 1 | 1 | 602 |  605 | -3 |  821 |  805 |  16 | MQ | 4401 | N730MQ | LGA | DTW | 105 |  502 |  6 |  5 | 2013-01-01 06:00:00 |\n",
       "| 2013 | 1 | 1 | 606 |  610 | -4 |  858 |  910 | -12 | AA | 1895 | N633AA | EWR | MIA | 152 | 1085 |  6 | 10 | 2013-01-01 06:00:00 |\n",
       "| 2013 | 1 | 1 | 606 |  610 | -4 |  837 |  845 |  -8 | DL | 1743 | N3739P | JFK | ATL | 128 |  760 |  6 | 10 | 2013-01-01 06:00:00 |\n",
       "| 2013 | 1 | 1 | 607 |  607 |  0 |  858 |  915 | -17 | UA | 1077 | N53442 | EWR | MIA | 157 | 1085 |  6 |  7 | 2013-01-01 06:00:00 |\n",
       "| 2013 | 1 | 1 | 608 |  600 |  8 |  807 |  735 |  32 | MQ | 3768 | N9EAMQ | EWR | ORD | 139 |  719 |  6 |  0 | 2013-01-01 06:00:00 |\n",
       "| ... | ... | ... | ... | ... | ... | ... | ... | ... | ... | ... | ... | ... | ... | ... | ... | ... | ... | ... |\n",
       "| 2013 | 1 | 1 | 2128 | 2125 |   3 | 2243 | 2240 |   3 | MQ | 4449 | N810MQ | JFK | DCA |  54 |  213 | 21 | 25 | 2013-01-01 21:00:00 |\n",
       "| 2013 | 1 | 1 | 2129 | 2120 |   9 | 2342 | 2351 |  -9 | B6 |   97 | N625JB | JFK | DEN | 223 | 1626 | 21 | 20 | 2013-01-01 21:00:00 |\n",
       "| 2013 | 1 | 1 | 2134 | 2045 |  49 |   20 | 2352 |  28 | UA | 1106 | N27733 | EWR | FLL | 152 | 1065 | 20 | 45 | 2013-01-01 20:00:00 |\n",
       "| 2013 | 1 | 1 | 2136 | 2145 |  -9 |   25 |   39 | -14 | B6 |  515 | N198JB | EWR | FLL | 154 | 1065 | 21 | 45 | 2013-01-01 21:00:00 |\n",
       "| 2013 | 1 | 1 | 2140 | 2135 |   5 |  210 |  224 | -14 | B6 |  701 | N284JB | JFK | SJU | 189 | 1598 | 21 | 35 | 2013-01-01 21:00:00 |\n",
       "| 2013 | 1 | 1 | 2157 | 2155 |   2 |   43 |   41 |   2 | B6 |   43 | N537JB | JFK | MCO | 140 |  944 | 21 | 55 | 2013-01-01 21:00:00 |\n",
       "| 2013 | 1 | 1 | 2158 | 2200 |  -2 | 2254 | 2307 | -13 | EV | 4103 | N14998 | EWR | BWI |  36 |  169 | 22 |  0 | 2013-01-01 22:00:00 |\n",
       "| 2013 | 1 | 1 | 2205 | 1720 | 285 |   46 | 2040 | 246 | AA | 1999 | N5DNAA | EWR | MIA | 146 | 1085 | 17 | 20 | 2013-01-01 17:00:00 |\n",
       "| 2013 | 1 | 1 | 2209 | 2145 |  24 |   58 |   37 |  21 | B6 |   35 | N608JB | JFK | PBI | 143 | 1028 | 21 | 45 | 2013-01-01 21:00:00 |\n",
       "| 2013 | 1 | 1 | 2209 | 2155 |  14 | 2400 | 2337 |  23 | B6 | 1109 | N216JB | JFK | RDU |  86 |  427 | 21 | 55 | 2013-01-01 21:00:00 |\n",
       "| 2013 | 1 | 1 | 2211 | 2145 |  26 | 2339 | 2311 |  28 | B6 |  104 | N228JB | JFK | BUF |  64 |  301 | 21 | 45 | 2013-01-01 21:00:00 |\n",
       "| 2013 | 1 | 1 | 2217 | 2229 | -12 |  249 |  315 | -26 | B6 |  713 | N547JB | JFK | SJU | 191 | 1598 | 22 | 29 | 2013-01-01 22:00:00 |\n",
       "| 2013 | 1 | 1 | 2217 | 2130 |  47 |  140 |   27 |  73 | B6 |   21 | N516JB | JFK | TPA | 163 | 1005 | 21 | 30 | 2013-01-01 21:00:00 |\n",
       "| 2013 | 1 | 1 | 2221 | 2000 | 141 | 2331 | 2124 | 127 | EV | 4462 | N13566 | EWR | BUF |  56 |  282 | 20 |  0 | 2013-01-01 20:00:00 |\n",
       "| 2013 | 1 | 1 | 2224 | 2200 |  24 | 2324 | 2316 |   8 | EV | 4206 | N16561 | EWR | PWM |  47 |  284 | 22 |  0 | 2013-01-01 22:00:00 |\n",
       "| 2013 | 1 | 1 | 2229 | 2159 |  30 |  149 |  100 |  49 | B6 |   11 | N531JB | JFK | FLL | 153 | 1069 | 21 | 59 | 2013-01-01 21:00:00 |\n",
       "| 2013 | 1 | 1 | 2240 | 2245 |  -5 | 2340 | 2356 | -16 | B6 |  608 | N279JB | JFK | PWM |  44 |  273 | 22 | 45 | 2013-01-01 22:00:00 |\n",
       "| 2013 | 1 | 1 | 2250 | 2255 |  -5 | 2352 | 2359 |  -7 | B6 | 1018 | N521JB | JFK | BOS |  37 |  187 | 22 | 55 | 2013-01-01 22:00:00 |\n",
       "| 2013 | 1 | 1 | 2302 | 2200 |  62 | 2342 | 2253 |  49 | EV | 4276 | N13903 | EWR | BDL |  24 |  116 | 22 |  0 | 2013-01-01 22:00:00 |\n",
       "| 2013 | 1 | 1 | 2306 | 2245 |  21 |   28 |    5 |  23 | B6 |   30 | N281JB | JFK | ROC |  59 |  264 | 22 | 45 | 2013-01-01 22:00:00 |\n",
       "| 2013 | 1 | 1 | 2307 | 2245 |  22 |   32 | 2357 |  35 | B6 |  128 | N178JB | JFK | BTV |  59 |  266 | 22 | 45 | 2013-01-01 22:00:00 |\n",
       "| 2013 | 1 | 1 | 2310 | 2255 |  15 |   24 |   15 |   9 | B6 |  112 | N646JB | JFK | BUF |  57 |  301 | 22 | 55 | 2013-01-01 22:00:00 |\n",
       "| 2013 | 1 | 1 | 2312 | 2000 | 192 |   21 | 2110 | 191 | EV | 4312 | N13958 | EWR | DCA |  44 |  199 | 20 |  0 | 2013-01-01 20:00:00 |\n",
       "| 2013 | 1 | 1 | 2323 | 2200 |  83 |   22 | 2313 |  69 | EV | 4257 | N13538 | EWR | BTV |  44 |  266 | 22 |  0 | 2013-01-01 22:00:00 |\n",
       "| 2013 | 1 | 1 | 2326 | 2130 | 116 |  131 |   18 |  73 | B6 |  199 | N594JB | JFK | LAS | 290 | 2248 | 21 | 30 | 2013-01-01 21:00:00 |\n",
       "| 2013 | 1 | 1 | 2327 | 2250 |  37 |   32 | 2359 |  33 | B6 |   22 | N639JB | JFK | SYR |  45 |  209 | 22 | 50 | 2013-01-01 22:00:00 |\n",
       "| 2013 | 1 | 1 | 2343 | 1724 | 379 |  314 | 1938 | 456 | EV | 4321 | N21197 | EWR | MCI | 222 | 1092 | 17 | 24 | 2013-01-01 17:00:00 |\n",
       "| 2013 | 1 | 1 | 2353 | 2359 |  -6 |  425 |  445 | -20 | B6 |  739 | N591JB | JFK | PSE | 195 | 1617 | 23 | 59 | 2013-01-01 23:00:00 |\n",
       "| 2013 | 1 | 1 | 2353 | 2359 |  -6 |  418 |  442 | -24 | B6 |  707 | N794JB | JFK | SJU | 185 | 1598 | 23 | 59 | 2013-01-01 23:00:00 |\n",
       "| 2013 | 1 | 1 | 2356 | 2359 |  -3 |  425 |  437 | -12 | B6 |  727 | N588JB | JFK | BQN | 186 | 1576 | 23 | 59 | 2013-01-01 23:00:00 |\n",
       "\n"
      ],
      "text/plain": [
       "    year month day dep_time sched_dep_time dep_delay arr_time sched_arr_time\n",
       "1   2013 1     1    NA      1630           NA          NA     1815          \n",
       "2   2013 1     1    NA      1935           NA          NA     2240          \n",
       "3   2013 1     1    NA      1500           NA          NA     1825          \n",
       "4   2013 1     1    NA       600           NA          NA      901          \n",
       "5   2013 1     1   517       515            2         830      819          \n",
       "6   2013 1     1   533       529            4         850      830          \n",
       "7   2013 1     1   542       540            2         923      850          \n",
       "8   2013 1     1   544       545           -1        1004     1022          \n",
       "9   2013 1     1   554       600           -6         812      837          \n",
       "10  2013 1     1   554       558           -4         740      728          \n",
       "11  2013 1     1   555       600           -5         913      854          \n",
       "12  2013 1     1   557       600           -3         709      723          \n",
       "13  2013 1     1   557       600           -3         838      846          \n",
       "14  2013 1     1   558       600           -2         753      745          \n",
       "15  2013 1     1   558       600           -2         849      851          \n",
       "16  2013 1     1   558       600           -2         853      856          \n",
       "17  2013 1     1   558       600           -2         924      917          \n",
       "18  2013 1     1   558       600           -2         923      937          \n",
       "19  2013 1     1   559       600           -1         941      910          \n",
       "20  2013 1     1   559       559            0         702      706          \n",
       "21  2013 1     1   559       600           -1         854      902          \n",
       "22  2013 1     1   600       600            0         851      858          \n",
       "23  2013 1     1   600       600            0         837      825          \n",
       "24  2013 1     1   601       600            1         844      850          \n",
       "25  2013 1     1   602       610           -8         812      820          \n",
       "26  2013 1     1   602       605           -3         821      805          \n",
       "27  2013 1     1   606       610           -4         858      910          \n",
       "28  2013 1     1   606       610           -4         837      845          \n",
       "29  2013 1     1   607       607            0         858      915          \n",
       "30  2013 1     1   608       600            8         807      735          \n",
       "... ...  ...   ... ...      ...            ...       ...      ...           \n",
       "813 2013 1     1   2128     2125             3       2243     2240          \n",
       "814 2013 1     1   2129     2120             9       2342     2351          \n",
       "815 2013 1     1   2134     2045            49         20     2352          \n",
       "816 2013 1     1   2136     2145            -9         25       39          \n",
       "817 2013 1     1   2140     2135             5        210      224          \n",
       "818 2013 1     1   2157     2155             2         43       41          \n",
       "819 2013 1     1   2158     2200            -2       2254     2307          \n",
       "820 2013 1     1   2205     1720           285         46     2040          \n",
       "821 2013 1     1   2209     2145            24         58       37          \n",
       "822 2013 1     1   2209     2155            14       2400     2337          \n",
       "823 2013 1     1   2211     2145            26       2339     2311          \n",
       "824 2013 1     1   2217     2229           -12        249      315          \n",
       "825 2013 1     1   2217     2130            47        140       27          \n",
       "826 2013 1     1   2221     2000           141       2331     2124          \n",
       "827 2013 1     1   2224     2200            24       2324     2316          \n",
       "828 2013 1     1   2229     2159            30        149      100          \n",
       "829 2013 1     1   2240     2245            -5       2340     2356          \n",
       "830 2013 1     1   2250     2255            -5       2352     2359          \n",
       "831 2013 1     1   2302     2200            62       2342     2253          \n",
       "832 2013 1     1   2306     2245            21         28        5          \n",
       "833 2013 1     1   2307     2245            22         32     2357          \n",
       "834 2013 1     1   2310     2255            15         24       15          \n",
       "835 2013 1     1   2312     2000           192         21     2110          \n",
       "836 2013 1     1   2323     2200            83         22     2313          \n",
       "837 2013 1     1   2326     2130           116        131       18          \n",
       "838 2013 1     1   2327     2250            37         32     2359          \n",
       "839 2013 1     1   2343     1724           379        314     1938          \n",
       "840 2013 1     1   2353     2359            -6        425      445          \n",
       "841 2013 1     1   2353     2359            -6        418      442          \n",
       "842 2013 1     1   2356     2359            -3        425      437          \n",
       "    arr_delay carrier flight tailnum origin dest air_time distance hour minute\n",
       "1    NA       EV      4308   N18120  EWR    RDU   NA       416     16   30    \n",
       "2    NA       AA       791   N3EHAA  LGA    DFW   NA      1389     19   35    \n",
       "3    NA       AA      1925   N3EVAA  LGA    MIA   NA      1096     15    0    \n",
       "4    NA       B6       125   N618JB  JFK    FLL   NA      1069      6    0    \n",
       "5    11       UA      1545   N14228  EWR    IAH  227      1400      5   15    \n",
       "6    20       UA      1714   N24211  LGA    IAH  227      1416      5   29    \n",
       "7    33       AA      1141   N619AA  JFK    MIA  160      1089      5   40    \n",
       "8   -18       B6       725   N804JB  JFK    BQN  183      1576      5   45    \n",
       "9   -25       DL       461   N668DN  LGA    ATL  116       762      6    0    \n",
       "10   12       UA      1696   N39463  EWR    ORD  150       719      5   58    \n",
       "11   19       B6       507   N516JB  EWR    FLL  158      1065      6    0    \n",
       "12  -14       EV      5708   N829AS  LGA    IAD   53       229      6    0    \n",
       "13   -8       B6        79   N593JB  JFK    MCO  140       944      6    0    \n",
       "14    8       AA       301   N3ALAA  LGA    ORD  138       733      6    0    \n",
       "15   -2       B6        49   N793JB  JFK    PBI  149      1028      6    0    \n",
       "16   -3       B6        71   N657JB  JFK    TPA  158      1005      6    0    \n",
       "17    7       UA       194   N29129  JFK    LAX  345      2475      6    0    \n",
       "18  -14       UA      1124   N53441  EWR    SFO  361      2565      6    0    \n",
       "19   31       AA       707   N3DUAA  LGA    DFW  257      1389      6    0    \n",
       "20   -4       B6      1806   N708JB  JFK    BOS   44       187      5   59    \n",
       "21   -8       UA      1187   N76515  EWR    LAS  337      2227      6    0    \n",
       "22   -7       B6       371   N595JB  LGA    FLL  152      1076      6    0    \n",
       "23   12       MQ      4650   N542MQ  LGA    ATL  134       762      6    0    \n",
       "24   -6       B6       343   N644JB  EWR    PBI  147      1023      6    0    \n",
       "25   -8       DL      1919   N971DL  LGA    MSP  170      1020      6   10    \n",
       "26   16       MQ      4401   N730MQ  LGA    DTW  105       502      6    5    \n",
       "27  -12       AA      1895   N633AA  EWR    MIA  152      1085      6   10    \n",
       "28   -8       DL      1743   N3739P  JFK    ATL  128       760      6   10    \n",
       "29  -17       UA      1077   N53442  EWR    MIA  157      1085      6    7    \n",
       "30   32       MQ      3768   N9EAMQ  EWR    ORD  139       719      6    0    \n",
       "... ...       ...     ...    ...     ...    ...  ...      ...      ...  ...   \n",
       "813   3       MQ      4449   N810MQ  JFK    DCA   54       213     21   25    \n",
       "814  -9       B6        97   N625JB  JFK    DEN  223      1626     21   20    \n",
       "815  28       UA      1106   N27733  EWR    FLL  152      1065     20   45    \n",
       "816 -14       B6       515   N198JB  EWR    FLL  154      1065     21   45    \n",
       "817 -14       B6       701   N284JB  JFK    SJU  189      1598     21   35    \n",
       "818   2       B6        43   N537JB  JFK    MCO  140       944     21   55    \n",
       "819 -13       EV      4103   N14998  EWR    BWI   36       169     22    0    \n",
       "820 246       AA      1999   N5DNAA  EWR    MIA  146      1085     17   20    \n",
       "821  21       B6        35   N608JB  JFK    PBI  143      1028     21   45    \n",
       "822  23       B6      1109   N216JB  JFK    RDU   86       427     21   55    \n",
       "823  28       B6       104   N228JB  JFK    BUF   64       301     21   45    \n",
       "824 -26       B6       713   N547JB  JFK    SJU  191      1598     22   29    \n",
       "825  73       B6        21   N516JB  JFK    TPA  163      1005     21   30    \n",
       "826 127       EV      4462   N13566  EWR    BUF   56       282     20    0    \n",
       "827   8       EV      4206   N16561  EWR    PWM   47       284     22    0    \n",
       "828  49       B6        11   N531JB  JFK    FLL  153      1069     21   59    \n",
       "829 -16       B6       608   N279JB  JFK    PWM   44       273     22   45    \n",
       "830  -7       B6      1018   N521JB  JFK    BOS   37       187     22   55    \n",
       "831  49       EV      4276   N13903  EWR    BDL   24       116     22    0    \n",
       "832  23       B6        30   N281JB  JFK    ROC   59       264     22   45    \n",
       "833  35       B6       128   N178JB  JFK    BTV   59       266     22   45    \n",
       "834   9       B6       112   N646JB  JFK    BUF   57       301     22   55    \n",
       "835 191       EV      4312   N13958  EWR    DCA   44       199     20    0    \n",
       "836  69       EV      4257   N13538  EWR    BTV   44       266     22    0    \n",
       "837  73       B6       199   N594JB  JFK    LAS  290      2248     21   30    \n",
       "838  33       B6        22   N639JB  JFK    SYR   45       209     22   50    \n",
       "839 456       EV      4321   N21197  EWR    MCI  222      1092     17   24    \n",
       "840 -20       B6       739   N591JB  JFK    PSE  195      1617     23   59    \n",
       "841 -24       B6       707   N794JB  JFK    SJU  185      1598     23   59    \n",
       "842 -12       B6       727   N588JB  JFK    BQN  186      1576     23   59    \n",
       "    time_hour          \n",
       "1   2013-01-01 16:00:00\n",
       "2   2013-01-01 19:00:00\n",
       "3   2013-01-01 15:00:00\n",
       "4   2013-01-01 06:00:00\n",
       "5   2013-01-01 05:00:00\n",
       "6   2013-01-01 05:00:00\n",
       "7   2013-01-01 05:00:00\n",
       "8   2013-01-01 05:00:00\n",
       "9   2013-01-01 06:00:00\n",
       "10  2013-01-01 05:00:00\n",
       "11  2013-01-01 06:00:00\n",
       "12  2013-01-01 06:00:00\n",
       "13  2013-01-01 06:00:00\n",
       "14  2013-01-01 06:00:00\n",
       "15  2013-01-01 06:00:00\n",
       "16  2013-01-01 06:00:00\n",
       "17  2013-01-01 06:00:00\n",
       "18  2013-01-01 06:00:00\n",
       "19  2013-01-01 06:00:00\n",
       "20  2013-01-01 05:00:00\n",
       "21  2013-01-01 06:00:00\n",
       "22  2013-01-01 06:00:00\n",
       "23  2013-01-01 06:00:00\n",
       "24  2013-01-01 06:00:00\n",
       "25  2013-01-01 06:00:00\n",
       "26  2013-01-01 06:00:00\n",
       "27  2013-01-01 06:00:00\n",
       "28  2013-01-01 06:00:00\n",
       "29  2013-01-01 06:00:00\n",
       "30  2013-01-01 06:00:00\n",
       "... ...                \n",
       "813 2013-01-01 21:00:00\n",
       "814 2013-01-01 21:00:00\n",
       "815 2013-01-01 20:00:00\n",
       "816 2013-01-01 21:00:00\n",
       "817 2013-01-01 21:00:00\n",
       "818 2013-01-01 21:00:00\n",
       "819 2013-01-01 22:00:00\n",
       "820 2013-01-01 17:00:00\n",
       "821 2013-01-01 21:00:00\n",
       "822 2013-01-01 21:00:00\n",
       "823 2013-01-01 21:00:00\n",
       "824 2013-01-01 22:00:00\n",
       "825 2013-01-01 21:00:00\n",
       "826 2013-01-01 20:00:00\n",
       "827 2013-01-01 22:00:00\n",
       "828 2013-01-01 21:00:00\n",
       "829 2013-01-01 22:00:00\n",
       "830 2013-01-01 22:00:00\n",
       "831 2013-01-01 22:00:00\n",
       "832 2013-01-01 22:00:00\n",
       "833 2013-01-01 22:00:00\n",
       "834 2013-01-01 22:00:00\n",
       "835 2013-01-01 20:00:00\n",
       "836 2013-01-01 22:00:00\n",
       "837 2013-01-01 21:00:00\n",
       "838 2013-01-01 22:00:00\n",
       "839 2013-01-01 17:00:00\n",
       "840 2013-01-01 23:00:00\n",
       "841 2013-01-01 23:00:00\n",
       "842 2013-01-01 23:00:00"
      ]
     },
     "metadata": {},
     "output_type": "display_data"
    }
   ],
   "source": [
    "flights |> \n",
    "  filter(month == 1, day == 1) |> \n",
    "  arrange(desc(is.na(dep_time)), dep_time)"
   ]
  },
  {
   "cell_type": "markdown",
   "metadata": {},
   "source": [
    "### Exercises:\n",
    "1. Use mutate(), is.na(), and count() together to describe how the missing values in dep_time, sched_dep_time and dep_delay are connected."
   ]
  },
  {
   "cell_type": "markdown",
   "metadata": {},
   "source": [
    "## 12.3 Boolean Algebra\n",
    "`!, &, xor, |`"
   ]
  },
  {
   "cell_type": "code",
   "execution_count": 72,
   "metadata": {
    "vscode": {
     "languageId": "r"
    }
   },
   "outputs": [
    {
     "data": {
      "text/html": [
       "<table class=\"dataframe\">\n",
       "<caption>A tibble: 3 x 3</caption>\n",
       "<thead>\n",
       "\t<tr><th scope=col>x</th><th scope=col>and</th><th scope=col>or</th></tr>\n",
       "\t<tr><th scope=col>&lt;lgl&gt;</th><th scope=col>&lt;lgl&gt;</th><th scope=col>&lt;lgl&gt;</th></tr>\n",
       "</thead>\n",
       "<tbody>\n",
       "\t<tr><td> TRUE</td><td>   NA</td><td>TRUE</td></tr>\n",
       "\t<tr><td>FALSE</td><td>FALSE</td><td>  NA</td></tr>\n",
       "\t<tr><td>   NA</td><td>   NA</td><td>  NA</td></tr>\n",
       "</tbody>\n",
       "</table>\n"
      ],
      "text/latex": [
       "A tibble: 3 x 3\n",
       "\\begin{tabular}{lll}\n",
       " x & and & or\\\\\n",
       " <lgl> & <lgl> & <lgl>\\\\\n",
       "\\hline\n",
       "\t  TRUE &    NA & TRUE\\\\\n",
       "\t FALSE & FALSE &   NA\\\\\n",
       "\t    NA &    NA &   NA\\\\\n",
       "\\end{tabular}\n"
      ],
      "text/markdown": [
       "\n",
       "A tibble: 3 x 3\n",
       "\n",
       "| x &lt;lgl&gt; | and &lt;lgl&gt; | or &lt;lgl&gt; |\n",
       "|---|---|---|\n",
       "|  TRUE |    NA | TRUE |\n",
       "| FALSE | FALSE |   NA |\n",
       "|    NA |    NA |   NA |\n",
       "\n"
      ],
      "text/plain": [
       "  x     and   or  \n",
       "1  TRUE    NA TRUE\n",
       "2 FALSE FALSE   NA\n",
       "3    NA    NA   NA"
      ]
     },
     "metadata": {},
     "output_type": "display_data"
    }
   ],
   "source": [
    "df <- tibble(x = c(TRUE, FALSE, NA))\n",
    "\n",
    "df |> \n",
    "  mutate(\n",
    "    and = x & NA,\n",
    "    or = x | NA\n",
    "  )"
   ]
  },
  {
   "cell_type": "code",
   "execution_count": 73,
   "metadata": {
    "vscode": {
     "languageId": "r"
    }
   },
   "outputs": [
    {
     "data": {
      "text/html": [
       "<table class=\"dataframe\">\n",
       "<caption>A tibble: 55403 x 19</caption>\n",
       "<thead>\n",
       "\t<tr><th scope=col>year</th><th scope=col>month</th><th scope=col>day</th><th scope=col>dep_time</th><th scope=col>sched_dep_time</th><th scope=col>dep_delay</th><th scope=col>arr_time</th><th scope=col>sched_arr_time</th><th scope=col>arr_delay</th><th scope=col>carrier</th><th scope=col>flight</th><th scope=col>tailnum</th><th scope=col>origin</th><th scope=col>dest</th><th scope=col>air_time</th><th scope=col>distance</th><th scope=col>hour</th><th scope=col>minute</th><th scope=col>time_hour</th></tr>\n",
       "\t<tr><th scope=col>&lt;int&gt;</th><th scope=col>&lt;int&gt;</th><th scope=col>&lt;int&gt;</th><th scope=col>&lt;int&gt;</th><th scope=col>&lt;int&gt;</th><th scope=col>&lt;dbl&gt;</th><th scope=col>&lt;int&gt;</th><th scope=col>&lt;int&gt;</th><th scope=col>&lt;dbl&gt;</th><th scope=col>&lt;chr&gt;</th><th scope=col>&lt;int&gt;</th><th scope=col>&lt;chr&gt;</th><th scope=col>&lt;chr&gt;</th><th scope=col>&lt;chr&gt;</th><th scope=col>&lt;dbl&gt;</th><th scope=col>&lt;dbl&gt;</th><th scope=col>&lt;dbl&gt;</th><th scope=col>&lt;dbl&gt;</th><th scope=col>&lt;dttm&gt;</th></tr>\n",
       "</thead>\n",
       "<tbody>\n",
       "\t<tr><td>2013</td><td>11</td><td>1</td><td>  5</td><td>2359</td><td>  6</td><td>352</td><td> 345</td><td>  7</td><td>B6</td><td> 745</td><td>N568JB</td><td>JFK</td><td>PSE</td><td>205</td><td>1617</td><td>23</td><td>59</td><td>2013-11-01 23:00:00</td></tr>\n",
       "\t<tr><td>2013</td><td>11</td><td>1</td><td> 35</td><td>2250</td><td>105</td><td>123</td><td>2356</td><td> 87</td><td>B6</td><td>1816</td><td>N353JB</td><td>JFK</td><td>SYR</td><td> 36</td><td> 209</td><td>22</td><td>50</td><td>2013-11-01 22:00:00</td></tr>\n",
       "\t<tr><td>2013</td><td>11</td><td>1</td><td>455</td><td> 500</td><td> -5</td><td>641</td><td> 651</td><td>-10</td><td>US</td><td>1895</td><td>N192UW</td><td>EWR</td><td>CLT</td><td> 88</td><td> 529</td><td> 5</td><td> 0</td><td>2013-11-01 05:00:00</td></tr>\n",
       "\t<tr><td>2013</td><td>11</td><td>1</td><td>539</td><td> 545</td><td> -6</td><td>856</td><td> 827</td><td> 29</td><td>UA</td><td>1714</td><td>N38727</td><td>LGA</td><td>IAH</td><td>229</td><td>1416</td><td> 5</td><td>45</td><td>2013-11-01 05:00:00</td></tr>\n",
       "\t<tr><td>2013</td><td>11</td><td>1</td><td>542</td><td> 545</td><td> -3</td><td>831</td><td> 855</td><td>-24</td><td>AA</td><td>2243</td><td>N5CLAA</td><td>JFK</td><td>MIA</td><td>147</td><td>1089</td><td> 5</td><td>45</td><td>2013-11-01 05:00:00</td></tr>\n",
       "\t<tr><td>2013</td><td>11</td><td>1</td><td>549</td><td> 600</td><td>-11</td><td>912</td><td> 923</td><td>-11</td><td>UA</td><td> 303</td><td>N595UA</td><td>JFK</td><td>SFO</td><td>359</td><td>2586</td><td> 6</td><td> 0</td><td>2013-11-01 06:00:00</td></tr>\n",
       "\t<tr><td>2013</td><td>11</td><td>1</td><td>550</td><td> 600</td><td>-10</td><td>705</td><td> 659</td><td>  6</td><td>US</td><td>2167</td><td>N748UW</td><td>LGA</td><td>DCA</td><td> 57</td><td> 214</td><td> 6</td><td> 0</td><td>2013-11-01 06:00:00</td></tr>\n",
       "\t<tr><td>2013</td><td>11</td><td>1</td><td>554</td><td> 600</td><td> -6</td><td>659</td><td> 701</td><td> -2</td><td>US</td><td>2134</td><td>N742PS</td><td>LGA</td><td>BOS</td><td> 40</td><td> 184</td><td> 6</td><td> 0</td><td>2013-11-01 06:00:00</td></tr>\n",
       "\t<tr><td>2013</td><td>11</td><td>1</td><td>554</td><td> 600</td><td> -6</td><td>826</td><td> 827</td><td> -1</td><td>DL</td><td> 563</td><td>N912DE</td><td>LGA</td><td>ATL</td><td>126</td><td> 762</td><td> 6</td><td> 0</td><td>2013-11-01 06:00:00</td></tr>\n",
       "\t<tr><td>2013</td><td>11</td><td>1</td><td>554</td><td> 600</td><td> -6</td><td>749</td><td> 751</td><td> -2</td><td>DL</td><td> 731</td><td>N315NB</td><td>LGA</td><td>DTW</td><td> 93</td><td> 502</td><td> 6</td><td> 0</td><td>2013-11-01 06:00:00</td></tr>\n",
       "\t<tr><td>2013</td><td>11</td><td>1</td><td>555</td><td> 600</td><td> -5</td><td>847</td><td> 854</td><td> -7</td><td>B6</td><td> 605</td><td>N640JB</td><td>EWR</td><td>FLL</td><td>149</td><td>1065</td><td> 6</td><td> 0</td><td>2013-11-01 06:00:00</td></tr>\n",
       "\t<tr><td>2013</td><td>11</td><td>1</td><td>555</td><td> 600</td><td> -5</td><td>839</td><td> 846</td><td> -7</td><td>B6</td><td> 583</td><td>N661JB</td><td>JFK</td><td>MCO</td><td>136</td><td> 944</td><td> 6</td><td> 0</td><td>2013-11-01 06:00:00</td></tr>\n",
       "\t<tr><td>2013</td><td>11</td><td>1</td><td>555</td><td> 600</td><td> -5</td><td>929</td><td> 943</td><td>-14</td><td>B6</td><td>1403</td><td>N746JB</td><td>JFK</td><td>SJU</td><td>196</td><td>1598</td><td> 6</td><td> 0</td><td>2013-11-01 06:00:00</td></tr>\n",
       "\t<tr><td>2013</td><td>11</td><td>1</td><td>556</td><td> 600</td><td> -4</td><td>834</td><td> 851</td><td>-17</td><td>UA</td><td> 407</td><td>N834UA</td><td>EWR</td><td>TPA</td><td>142</td><td> 997</td><td> 6</td><td> 0</td><td>2013-11-01 06:00:00</td></tr>\n",
       "\t<tr><td>2013</td><td>11</td><td>1</td><td>558</td><td> 600</td><td> -2</td><td>727</td><td> 730</td><td> -3</td><td>UA</td><td> 279</td><td>N459UA</td><td>EWR</td><td>ORD</td><td>118</td><td> 719</td><td> 6</td><td> 0</td><td>2013-11-01 06:00:00</td></tr>\n",
       "\t<tr><td>2013</td><td>11</td><td>1</td><td>558</td><td> 600</td><td> -2</td><td>650</td><td> 658</td><td> -8</td><td>US</td><td>1909</td><td>N950UW</td><td>LGA</td><td>PHL</td><td> 38</td><td>  96</td><td> 6</td><td> 0</td><td>2013-11-01 06:00:00</td></tr>\n",
       "\t<tr><td>2013</td><td>11</td><td>1</td><td>558</td><td> 600</td><td> -2</td><td>914</td><td> 905</td><td>  9</td><td>AA</td><td>1175</td><td>N3GHAA</td><td>LGA</td><td>MIA</td><td>155</td><td>1096</td><td> 6</td><td> 0</td><td>2013-11-01 06:00:00</td></tr>\n",
       "\t<tr><td>2013</td><td>11</td><td>1</td><td>558</td><td> 600</td><td> -2</td><td>720</td><td> 715</td><td>  5</td><td>WN</td><td> 464</td><td>N390SW</td><td>EWR</td><td>MDW</td><td>117</td><td> 711</td><td> 6</td><td> 0</td><td>2013-11-01 06:00:00</td></tr>\n",
       "\t<tr><td>2013</td><td>11</td><td>1</td><td>559</td><td> 600</td><td> -1</td><td>756</td><td> 730</td><td> 26</td><td>AA</td><td> 301</td><td>N4YHAA</td><td>LGA</td><td>ORD</td><td>119</td><td> 733</td><td> 6</td><td> 0</td><td>2013-11-01 06:00:00</td></tr>\n",
       "\t<tr><td>2013</td><td>11</td><td>1</td><td>600</td><td> 600</td><td>  0</td><td>709</td><td> 716</td><td> -7</td><td>EV</td><td>5716</td><td>N820AS</td><td>JFK</td><td>IAD</td><td> 49</td><td> 228</td><td> 6</td><td> 0</td><td>2013-11-01 06:00:00</td></tr>\n",
       "\t<tr><td>2013</td><td>11</td><td>1</td><td>600</td><td> 600</td><td>  0</td><td>725</td><td> 721</td><td>  4</td><td>UA</td><td>1198</td><td>N23707</td><td>LGA</td><td>ORD</td><td>121</td><td> 733</td><td> 6</td><td> 0</td><td>2013-11-01 06:00:00</td></tr>\n",
       "\t<tr><td>2013</td><td>11</td><td>1</td><td>601</td><td> 600</td><td>  1</td><td>853</td><td> 856</td><td> -3</td><td>B6</td><td> 371</td><td>N570JB</td><td>LGA</td><td>FLL</td><td>150</td><td>1076</td><td> 6</td><td> 0</td><td>2013-11-01 06:00:00</td></tr>\n",
       "\t<tr><td>2013</td><td>11</td><td>1</td><td>601</td><td> 610</td><td> -9</td><td>803</td><td> 813</td><td>-10</td><td>DL</td><td>1919</td><td>N922DL</td><td>LGA</td><td>MSP</td><td>153</td><td>1020</td><td> 6</td><td>10</td><td>2013-11-01 06:00:00</td></tr>\n",
       "\t<tr><td>2013</td><td>11</td><td>1</td><td>602</td><td> 600</td><td>  2</td><td>843</td><td> 815</td><td> 28</td><td>FL</td><td> 345</td><td>N353AT</td><td>LGA</td><td>ATL</td><td>131</td><td> 762</td><td> 6</td><td> 0</td><td>2013-11-01 06:00:00</td></tr>\n",
       "\t<tr><td>2013</td><td>11</td><td>1</td><td>603</td><td> 600</td><td>  3</td><td>717</td><td> 711</td><td>  6</td><td>EV</td><td>4533</td><td>N11109</td><td>EWR</td><td>BUF</td><td> 53</td><td> 282</td><td> 6</td><td> 0</td><td>2013-11-01 06:00:00</td></tr>\n",
       "\t<tr><td>2013</td><td>11</td><td>1</td><td>604</td><td> 610</td><td> -6</td><td>855</td><td> 855</td><td>  0</td><td>AA</td><td>1103</td><td>N3FTAA</td><td>LGA</td><td>DFW</td><td>205</td><td>1389</td><td> 6</td><td>10</td><td>2013-11-01 06:00:00</td></tr>\n",
       "\t<tr><td>2013</td><td>11</td><td>1</td><td>606</td><td> 615</td><td> -9</td><td>746</td><td> 750</td><td> -4</td><td>MQ</td><td>3525</td><td>N834MQ</td><td>LGA</td><td>RDU</td><td> 74</td><td> 431</td><td> 6</td><td>15</td><td>2013-11-01 06:00:00</td></tr>\n",
       "\t<tr><td>2013</td><td>11</td><td>1</td><td>606</td><td> 615</td><td> -9</td><td>807</td><td> 817</td><td>-10</td><td>US</td><td>1899</td><td>N199UW</td><td>JFK</td><td>CLT</td><td> 93</td><td> 541</td><td> 6</td><td>15</td><td>2013-11-01 06:00:00</td></tr>\n",
       "\t<tr><td>2013</td><td>11</td><td>1</td><td>606</td><td> 610</td><td> -4</td><td>752</td><td> 745</td><td>  7</td><td>WN</td><td>2609</td><td>N440LV</td><td>LGA</td><td>STL</td><td>142</td><td> 888</td><td> 6</td><td>10</td><td>2013-11-01 06:00:00</td></tr>\n",
       "\t<tr><td>2013</td><td>11</td><td>1</td><td>607</td><td> 611</td><td> -4</td><td>857</td><td> 912</td><td>-15</td><td>B6</td><td> 601</td><td>N597JB</td><td>JFK</td><td>FLL</td><td>149</td><td>1069</td><td> 6</td><td>11</td><td>2013-11-01 06:00:00</td></tr>\n",
       "\t<tr><td>...</td><td>...</td><td>...</td><td>...</td><td>...</td><td>...</td><td>...</td><td>...</td><td>...</td><td>...</td><td>...</td><td>...</td><td>...</td><td>...</td><td>...</td><td>...</td><td>...</td><td>...</td><td>...</td></tr>\n",
       "\t<tr><td>2013</td><td>12</td><td>31</td><td>2155</td><td>2039</td><td> 76</td><td> 253</td><td>2355</td><td> NA</td><td>B6</td><td>1205</td><td>N627JB</td><td>JFK</td><td>PDX</td><td> NA</td><td>2454</td><td>20</td><td>39</td><td>2013-12-31 20:00:00</td></tr>\n",
       "\t<tr><td>2013</td><td>12</td><td>31</td><td>2155</td><td>2150</td><td>  5</td><td> 110</td><td>  51</td><td> 19</td><td>B6</td><td>1901</td><td>N729JB</td><td>JFK</td><td>FLL</td><td>164</td><td>1069</td><td>21</td><td>50</td><td>2013-12-31 21:00:00</td></tr>\n",
       "\t<tr><td>2013</td><td>12</td><td>31</td><td>2159</td><td>2155</td><td>  4</td><td>  55</td><td>  46</td><td>  9</td><td>B6</td><td>2053</td><td>N593JB</td><td>JFK</td><td>PBI</td><td>155</td><td>1028</td><td>21</td><td>55</td><td>2013-12-31 21:00:00</td></tr>\n",
       "\t<tr><td>2013</td><td>12</td><td>31</td><td>2206</td><td>2110</td><td> 56</td><td>  44</td><td>2339</td><td> 65</td><td>B6</td><td> 775</td><td>N184JB</td><td>JFK</td><td>MSY</td><td>195</td><td>1182</td><td>21</td><td>10</td><td>2013-12-31 21:00:00</td></tr>\n",
       "\t<tr><td>2013</td><td>12</td><td>31</td><td>2211</td><td>2159</td><td> 12</td><td> 100</td><td>  45</td><td> 15</td><td>B6</td><td>1183</td><td>N715JB</td><td>JFK</td><td>MCO</td><td>148</td><td> 944</td><td>21</td><td>59</td><td>2013-12-31 21:00:00</td></tr>\n",
       "\t<tr><td>2013</td><td>12</td><td>31</td><td>2218</td><td>2219</td><td> -1</td><td> 315</td><td> 304</td><td> 11</td><td>B6</td><td>1203</td><td>N625JB</td><td>JFK</td><td>SJU</td><td>202</td><td>1598</td><td>22</td><td>19</td><td>2013-12-31 22:00:00</td></tr>\n",
       "\t<tr><td>2013</td><td>12</td><td>31</td><td>2235</td><td>2245</td><td>-10</td><td>2351</td><td>2355</td><td> -4</td><td>B6</td><td> 234</td><td>N355JB</td><td>JFK</td><td>BTV</td><td> 49</td><td> 266</td><td>22</td><td>45</td><td>2013-12-31 22:00:00</td></tr>\n",
       "\t<tr><td>2013</td><td>12</td><td>31</td><td>2245</td><td>2250</td><td> -5</td><td>2359</td><td>2356</td><td>  3</td><td>B6</td><td>1816</td><td>N318JB</td><td>JFK</td><td>SYR</td><td> 51</td><td> 209</td><td>22</td><td>50</td><td>2013-12-31 22:00:00</td></tr>\n",
       "\t<tr><td>2013</td><td>12</td><td>31</td><td>2310</td><td>2255</td><td> 15</td><td>   7</td><td>2356</td><td> 11</td><td>B6</td><td> 718</td><td>N279JB</td><td>JFK</td><td>BOS</td><td> 40</td><td> 187</td><td>22</td><td>55</td><td>2013-12-31 22:00:00</td></tr>\n",
       "\t<tr><td>2013</td><td>12</td><td>31</td><td>2321</td><td>2250</td><td> 31</td><td>  46</td><td>   8</td><td> 38</td><td>B6</td><td>2002</td><td>N179JB</td><td>JFK</td><td>BUF</td><td> 66</td><td> 301</td><td>22</td><td>50</td><td>2013-12-31 22:00:00</td></tr>\n",
       "\t<tr><td>2013</td><td>12</td><td>31</td><td>2328</td><td>2330</td><td> -2</td><td> 412</td><td> 409</td><td>  3</td><td>B6</td><td>1389</td><td>N651JB</td><td>EWR</td><td>SJU</td><td>198</td><td>1608</td><td>23</td><td>30</td><td>2013-12-31 23:00:00</td></tr>\n",
       "\t<tr><td>2013</td><td>12</td><td>31</td><td>2332</td><td>2245</td><td> 47</td><td>  58</td><td>   3</td><td> 55</td><td>B6</td><td> 486</td><td>N334JB</td><td>JFK</td><td>ROC</td><td> 60</td><td> 264</td><td>22</td><td>45</td><td>2013-12-31 22:00:00</td></tr>\n",
       "\t<tr><td>2013</td><td>12</td><td>31</td><td>2355</td><td>2359</td><td> -4</td><td> 430</td><td> 440</td><td>-10</td><td>B6</td><td>1503</td><td>N509JB</td><td>JFK</td><td>SJU</td><td>195</td><td>1598</td><td>23</td><td>59</td><td>2013-12-31 23:00:00</td></tr>\n",
       "\t<tr><td>2013</td><td>12</td><td>31</td><td>2356</td><td>2359</td><td> -3</td><td> 436</td><td> 445</td><td> -9</td><td>B6</td><td> 745</td><td>N665JB</td><td>JFK</td><td>PSE</td><td>200</td><td>1617</td><td>23</td><td>59</td><td>2013-12-31 23:00:00</td></tr>\n",
       "\t<tr><td>2013</td><td>12</td><td>31</td><td>  NA</td><td>1520</td><td> NA</td><td>  NA</td><td>1705</td><td> NA</td><td>AA</td><td> 341</td><td>N568AA</td><td>LGA</td><td>ORD</td><td> NA</td><td> 733</td><td>15</td><td>20</td><td>2013-12-31 15:00:00</td></tr>\n",
       "\t<tr><td>2013</td><td>12</td><td>31</td><td>  NA</td><td>2025</td><td> NA</td><td>  NA</td><td>2205</td><td> NA</td><td>AA</td><td> 371</td><td>N482AA</td><td>LGA</td><td>ORD</td><td> NA</td><td> 733</td><td>20</td><td>25</td><td>2013-12-31 20:00:00</td></tr>\n",
       "\t<tr><td>2013</td><td>12</td><td>31</td><td>  NA</td><td>1932</td><td> NA</td><td>  NA</td><td>2305</td><td> NA</td><td>B6</td><td> 161</td><td>N516JB</td><td>JFK</td><td>SMF</td><td> NA</td><td>2521</td><td>19</td><td>32</td><td>2013-12-31 19:00:00</td></tr>\n",
       "\t<tr><td>2013</td><td>12</td><td>31</td><td>  NA</td><td>1505</td><td> NA</td><td>  NA</td><td>1725</td><td> NA</td><td>EV</td><td>4181</td><td>N24103</td><td>EWR</td><td>MCI</td><td> NA</td><td>1092</td><td>15</td><td> 5</td><td>2013-12-31 15:00:00</td></tr>\n",
       "\t<tr><td>2013</td><td>12</td><td>31</td><td>  NA</td><td>1000</td><td> NA</td><td>  NA</td><td>1252</td><td> NA</td><td>UA</td><td>1124</td><td>NA    </td><td>EWR</td><td>EGE</td><td> NA</td><td>1725</td><td>10</td><td> 0</td><td>2013-12-31 10:00:00</td></tr>\n",
       "\t<tr><td>2013</td><td>12</td><td>31</td><td>  NA</td><td> 840</td><td> NA</td><td>  NA</td><td>1205</td><td> NA</td><td>UA</td><td>1151</td><td>NA    </td><td>EWR</td><td>SEA</td><td> NA</td><td>2402</td><td> 8</td><td>40</td><td>2013-12-31 08:00:00</td></tr>\n",
       "\t<tr><td>2013</td><td>12</td><td>31</td><td>  NA</td><td> 754</td><td> NA</td><td>  NA</td><td>1118</td><td> NA</td><td>UA</td><td>1455</td><td>NA    </td><td>EWR</td><td>LAX</td><td> NA</td><td>2454</td><td> 7</td><td>54</td><td>2013-12-31 07:00:00</td></tr>\n",
       "\t<tr><td>2013</td><td>12</td><td>31</td><td>  NA</td><td>2000</td><td> NA</td><td>  NA</td><td>2146</td><td> NA</td><td>UA</td><td>1482</td><td>NA    </td><td>EWR</td><td>ORD</td><td> NA</td><td> 719</td><td>20</td><td> 0</td><td>2013-12-31 20:00:00</td></tr>\n",
       "\t<tr><td>2013</td><td>12</td><td>31</td><td>  NA</td><td>1500</td><td> NA</td><td>  NA</td><td>1817</td><td> NA</td><td>UA</td><td>1483</td><td>NA    </td><td>EWR</td><td>AUS</td><td> NA</td><td>1504</td><td>15</td><td> 0</td><td>2013-12-31 15:00:00</td></tr>\n",
       "\t<tr><td>2013</td><td>12</td><td>31</td><td>  NA</td><td>1430</td><td> NA</td><td>  NA</td><td>1750</td><td> NA</td><td>UA</td><td>1493</td><td>NA    </td><td>EWR</td><td>LAX</td><td> NA</td><td>2454</td><td>14</td><td>30</td><td>2013-12-31 14:00:00</td></tr>\n",
       "\t<tr><td>2013</td><td>12</td><td>31</td><td>  NA</td><td> 855</td><td> NA</td><td>  NA</td><td>1142</td><td> NA</td><td>UA</td><td>1506</td><td>NA    </td><td>EWR</td><td>JAC</td><td> NA</td><td>1874</td><td> 8</td><td>55</td><td>2013-12-31 08:00:00</td></tr>\n",
       "\t<tr><td>2013</td><td>12</td><td>31</td><td>  NA</td><td> 705</td><td> NA</td><td>  NA</td><td> 931</td><td> NA</td><td>UA</td><td>1729</td><td>NA    </td><td>EWR</td><td>DEN</td><td> NA</td><td>1605</td><td> 7</td><td> 5</td><td>2013-12-31 07:00:00</td></tr>\n",
       "\t<tr><td>2013</td><td>12</td><td>31</td><td>  NA</td><td> 825</td><td> NA</td><td>  NA</td><td>1029</td><td> NA</td><td>US</td><td>1831</td><td>NA    </td><td>JFK</td><td>CLT</td><td> NA</td><td> 541</td><td> 8</td><td>25</td><td>2013-12-31 08:00:00</td></tr>\n",
       "\t<tr><td>2013</td><td>12</td><td>31</td><td>  NA</td><td>1615</td><td> NA</td><td>  NA</td><td>1800</td><td> NA</td><td>MQ</td><td>3301</td><td>N844MQ</td><td>LGA</td><td>RDU</td><td> NA</td><td> 431</td><td>16</td><td>15</td><td>2013-12-31 16:00:00</td></tr>\n",
       "\t<tr><td>2013</td><td>12</td><td>31</td><td>  NA</td><td> 600</td><td> NA</td><td>  NA</td><td> 735</td><td> NA</td><td>UA</td><td> 219</td><td>NA    </td><td>EWR</td><td>ORD</td><td> NA</td><td> 719</td><td> 6</td><td> 0</td><td>2013-12-31 06:00:00</td></tr>\n",
       "\t<tr><td>2013</td><td>12</td><td>31</td><td>  NA</td><td> 830</td><td> NA</td><td>  NA</td><td>1154</td><td> NA</td><td>UA</td><td> 443</td><td>NA    </td><td>JFK</td><td>LAX</td><td> NA</td><td>2475</td><td> 8</td><td>30</td><td>2013-12-31 08:00:00</td></tr>\n",
       "</tbody>\n",
       "</table>\n"
      ],
      "text/latex": [
       "A tibble: 55403 x 19\n",
       "\\begin{tabular}{lllllllllllllllllll}\n",
       " year & month & day & dep\\_time & sched\\_dep\\_time & dep\\_delay & arr\\_time & sched\\_arr\\_time & arr\\_delay & carrier & flight & tailnum & origin & dest & air\\_time & distance & hour & minute & time\\_hour\\\\\n",
       " <int> & <int> & <int> & <int> & <int> & <dbl> & <int> & <int> & <dbl> & <chr> & <int> & <chr> & <chr> & <chr> & <dbl> & <dbl> & <dbl> & <dbl> & <dttm>\\\\\n",
       "\\hline\n",
       "\t 2013 & 11 & 1 &   5 & 2359 &   6 & 352 &  345 &   7 & B6 &  745 & N568JB & JFK & PSE & 205 & 1617 & 23 & 59 & 2013-11-01 23:00:00\\\\\n",
       "\t 2013 & 11 & 1 &  35 & 2250 & 105 & 123 & 2356 &  87 & B6 & 1816 & N353JB & JFK & SYR &  36 &  209 & 22 & 50 & 2013-11-01 22:00:00\\\\\n",
       "\t 2013 & 11 & 1 & 455 &  500 &  -5 & 641 &  651 & -10 & US & 1895 & N192UW & EWR & CLT &  88 &  529 &  5 &  0 & 2013-11-01 05:00:00\\\\\n",
       "\t 2013 & 11 & 1 & 539 &  545 &  -6 & 856 &  827 &  29 & UA & 1714 & N38727 & LGA & IAH & 229 & 1416 &  5 & 45 & 2013-11-01 05:00:00\\\\\n",
       "\t 2013 & 11 & 1 & 542 &  545 &  -3 & 831 &  855 & -24 & AA & 2243 & N5CLAA & JFK & MIA & 147 & 1089 &  5 & 45 & 2013-11-01 05:00:00\\\\\n",
       "\t 2013 & 11 & 1 & 549 &  600 & -11 & 912 &  923 & -11 & UA &  303 & N595UA & JFK & SFO & 359 & 2586 &  6 &  0 & 2013-11-01 06:00:00\\\\\n",
       "\t 2013 & 11 & 1 & 550 &  600 & -10 & 705 &  659 &   6 & US & 2167 & N748UW & LGA & DCA &  57 &  214 &  6 &  0 & 2013-11-01 06:00:00\\\\\n",
       "\t 2013 & 11 & 1 & 554 &  600 &  -6 & 659 &  701 &  -2 & US & 2134 & N742PS & LGA & BOS &  40 &  184 &  6 &  0 & 2013-11-01 06:00:00\\\\\n",
       "\t 2013 & 11 & 1 & 554 &  600 &  -6 & 826 &  827 &  -1 & DL &  563 & N912DE & LGA & ATL & 126 &  762 &  6 &  0 & 2013-11-01 06:00:00\\\\\n",
       "\t 2013 & 11 & 1 & 554 &  600 &  -6 & 749 &  751 &  -2 & DL &  731 & N315NB & LGA & DTW &  93 &  502 &  6 &  0 & 2013-11-01 06:00:00\\\\\n",
       "\t 2013 & 11 & 1 & 555 &  600 &  -5 & 847 &  854 &  -7 & B6 &  605 & N640JB & EWR & FLL & 149 & 1065 &  6 &  0 & 2013-11-01 06:00:00\\\\\n",
       "\t 2013 & 11 & 1 & 555 &  600 &  -5 & 839 &  846 &  -7 & B6 &  583 & N661JB & JFK & MCO & 136 &  944 &  6 &  0 & 2013-11-01 06:00:00\\\\\n",
       "\t 2013 & 11 & 1 & 555 &  600 &  -5 & 929 &  943 & -14 & B6 & 1403 & N746JB & JFK & SJU & 196 & 1598 &  6 &  0 & 2013-11-01 06:00:00\\\\\n",
       "\t 2013 & 11 & 1 & 556 &  600 &  -4 & 834 &  851 & -17 & UA &  407 & N834UA & EWR & TPA & 142 &  997 &  6 &  0 & 2013-11-01 06:00:00\\\\\n",
       "\t 2013 & 11 & 1 & 558 &  600 &  -2 & 727 &  730 &  -3 & UA &  279 & N459UA & EWR & ORD & 118 &  719 &  6 &  0 & 2013-11-01 06:00:00\\\\\n",
       "\t 2013 & 11 & 1 & 558 &  600 &  -2 & 650 &  658 &  -8 & US & 1909 & N950UW & LGA & PHL &  38 &   96 &  6 &  0 & 2013-11-01 06:00:00\\\\\n",
       "\t 2013 & 11 & 1 & 558 &  600 &  -2 & 914 &  905 &   9 & AA & 1175 & N3GHAA & LGA & MIA & 155 & 1096 &  6 &  0 & 2013-11-01 06:00:00\\\\\n",
       "\t 2013 & 11 & 1 & 558 &  600 &  -2 & 720 &  715 &   5 & WN &  464 & N390SW & EWR & MDW & 117 &  711 &  6 &  0 & 2013-11-01 06:00:00\\\\\n",
       "\t 2013 & 11 & 1 & 559 &  600 &  -1 & 756 &  730 &  26 & AA &  301 & N4YHAA & LGA & ORD & 119 &  733 &  6 &  0 & 2013-11-01 06:00:00\\\\\n",
       "\t 2013 & 11 & 1 & 600 &  600 &   0 & 709 &  716 &  -7 & EV & 5716 & N820AS & JFK & IAD &  49 &  228 &  6 &  0 & 2013-11-01 06:00:00\\\\\n",
       "\t 2013 & 11 & 1 & 600 &  600 &   0 & 725 &  721 &   4 & UA & 1198 & N23707 & LGA & ORD & 121 &  733 &  6 &  0 & 2013-11-01 06:00:00\\\\\n",
       "\t 2013 & 11 & 1 & 601 &  600 &   1 & 853 &  856 &  -3 & B6 &  371 & N570JB & LGA & FLL & 150 & 1076 &  6 &  0 & 2013-11-01 06:00:00\\\\\n",
       "\t 2013 & 11 & 1 & 601 &  610 &  -9 & 803 &  813 & -10 & DL & 1919 & N922DL & LGA & MSP & 153 & 1020 &  6 & 10 & 2013-11-01 06:00:00\\\\\n",
       "\t 2013 & 11 & 1 & 602 &  600 &   2 & 843 &  815 &  28 & FL &  345 & N353AT & LGA & ATL & 131 &  762 &  6 &  0 & 2013-11-01 06:00:00\\\\\n",
       "\t 2013 & 11 & 1 & 603 &  600 &   3 & 717 &  711 &   6 & EV & 4533 & N11109 & EWR & BUF &  53 &  282 &  6 &  0 & 2013-11-01 06:00:00\\\\\n",
       "\t 2013 & 11 & 1 & 604 &  610 &  -6 & 855 &  855 &   0 & AA & 1103 & N3FTAA & LGA & DFW & 205 & 1389 &  6 & 10 & 2013-11-01 06:00:00\\\\\n",
       "\t 2013 & 11 & 1 & 606 &  615 &  -9 & 746 &  750 &  -4 & MQ & 3525 & N834MQ & LGA & RDU &  74 &  431 &  6 & 15 & 2013-11-01 06:00:00\\\\\n",
       "\t 2013 & 11 & 1 & 606 &  615 &  -9 & 807 &  817 & -10 & US & 1899 & N199UW & JFK & CLT &  93 &  541 &  6 & 15 & 2013-11-01 06:00:00\\\\\n",
       "\t 2013 & 11 & 1 & 606 &  610 &  -4 & 752 &  745 &   7 & WN & 2609 & N440LV & LGA & STL & 142 &  888 &  6 & 10 & 2013-11-01 06:00:00\\\\\n",
       "\t 2013 & 11 & 1 & 607 &  611 &  -4 & 857 &  912 & -15 & B6 &  601 & N597JB & JFK & FLL & 149 & 1069 &  6 & 11 & 2013-11-01 06:00:00\\\\\n",
       "\t ... & ... & ... & ... & ... & ... & ... & ... & ... & ... & ... & ... & ... & ... & ... & ... & ... & ... & ...\\\\\n",
       "\t 2013 & 12 & 31 & 2155 & 2039 &  76 &  253 & 2355 &  NA & B6 & 1205 & N627JB & JFK & PDX &  NA & 2454 & 20 & 39 & 2013-12-31 20:00:00\\\\\n",
       "\t 2013 & 12 & 31 & 2155 & 2150 &   5 &  110 &   51 &  19 & B6 & 1901 & N729JB & JFK & FLL & 164 & 1069 & 21 & 50 & 2013-12-31 21:00:00\\\\\n",
       "\t 2013 & 12 & 31 & 2159 & 2155 &   4 &   55 &   46 &   9 & B6 & 2053 & N593JB & JFK & PBI & 155 & 1028 & 21 & 55 & 2013-12-31 21:00:00\\\\\n",
       "\t 2013 & 12 & 31 & 2206 & 2110 &  56 &   44 & 2339 &  65 & B6 &  775 & N184JB & JFK & MSY & 195 & 1182 & 21 & 10 & 2013-12-31 21:00:00\\\\\n",
       "\t 2013 & 12 & 31 & 2211 & 2159 &  12 &  100 &   45 &  15 & B6 & 1183 & N715JB & JFK & MCO & 148 &  944 & 21 & 59 & 2013-12-31 21:00:00\\\\\n",
       "\t 2013 & 12 & 31 & 2218 & 2219 &  -1 &  315 &  304 &  11 & B6 & 1203 & N625JB & JFK & SJU & 202 & 1598 & 22 & 19 & 2013-12-31 22:00:00\\\\\n",
       "\t 2013 & 12 & 31 & 2235 & 2245 & -10 & 2351 & 2355 &  -4 & B6 &  234 & N355JB & JFK & BTV &  49 &  266 & 22 & 45 & 2013-12-31 22:00:00\\\\\n",
       "\t 2013 & 12 & 31 & 2245 & 2250 &  -5 & 2359 & 2356 &   3 & B6 & 1816 & N318JB & JFK & SYR &  51 &  209 & 22 & 50 & 2013-12-31 22:00:00\\\\\n",
       "\t 2013 & 12 & 31 & 2310 & 2255 &  15 &    7 & 2356 &  11 & B6 &  718 & N279JB & JFK & BOS &  40 &  187 & 22 & 55 & 2013-12-31 22:00:00\\\\\n",
       "\t 2013 & 12 & 31 & 2321 & 2250 &  31 &   46 &    8 &  38 & B6 & 2002 & N179JB & JFK & BUF &  66 &  301 & 22 & 50 & 2013-12-31 22:00:00\\\\\n",
       "\t 2013 & 12 & 31 & 2328 & 2330 &  -2 &  412 &  409 &   3 & B6 & 1389 & N651JB & EWR & SJU & 198 & 1608 & 23 & 30 & 2013-12-31 23:00:00\\\\\n",
       "\t 2013 & 12 & 31 & 2332 & 2245 &  47 &   58 &    3 &  55 & B6 &  486 & N334JB & JFK & ROC &  60 &  264 & 22 & 45 & 2013-12-31 22:00:00\\\\\n",
       "\t 2013 & 12 & 31 & 2355 & 2359 &  -4 &  430 &  440 & -10 & B6 & 1503 & N509JB & JFK & SJU & 195 & 1598 & 23 & 59 & 2013-12-31 23:00:00\\\\\n",
       "\t 2013 & 12 & 31 & 2356 & 2359 &  -3 &  436 &  445 &  -9 & B6 &  745 & N665JB & JFK & PSE & 200 & 1617 & 23 & 59 & 2013-12-31 23:00:00\\\\\n",
       "\t 2013 & 12 & 31 &   NA & 1520 &  NA &   NA & 1705 &  NA & AA &  341 & N568AA & LGA & ORD &  NA &  733 & 15 & 20 & 2013-12-31 15:00:00\\\\\n",
       "\t 2013 & 12 & 31 &   NA & 2025 &  NA &   NA & 2205 &  NA & AA &  371 & N482AA & LGA & ORD &  NA &  733 & 20 & 25 & 2013-12-31 20:00:00\\\\\n",
       "\t 2013 & 12 & 31 &   NA & 1932 &  NA &   NA & 2305 &  NA & B6 &  161 & N516JB & JFK & SMF &  NA & 2521 & 19 & 32 & 2013-12-31 19:00:00\\\\\n",
       "\t 2013 & 12 & 31 &   NA & 1505 &  NA &   NA & 1725 &  NA & EV & 4181 & N24103 & EWR & MCI &  NA & 1092 & 15 &  5 & 2013-12-31 15:00:00\\\\\n",
       "\t 2013 & 12 & 31 &   NA & 1000 &  NA &   NA & 1252 &  NA & UA & 1124 & NA     & EWR & EGE &  NA & 1725 & 10 &  0 & 2013-12-31 10:00:00\\\\\n",
       "\t 2013 & 12 & 31 &   NA &  840 &  NA &   NA & 1205 &  NA & UA & 1151 & NA     & EWR & SEA &  NA & 2402 &  8 & 40 & 2013-12-31 08:00:00\\\\\n",
       "\t 2013 & 12 & 31 &   NA &  754 &  NA &   NA & 1118 &  NA & UA & 1455 & NA     & EWR & LAX &  NA & 2454 &  7 & 54 & 2013-12-31 07:00:00\\\\\n",
       "\t 2013 & 12 & 31 &   NA & 2000 &  NA &   NA & 2146 &  NA & UA & 1482 & NA     & EWR & ORD &  NA &  719 & 20 &  0 & 2013-12-31 20:00:00\\\\\n",
       "\t 2013 & 12 & 31 &   NA & 1500 &  NA &   NA & 1817 &  NA & UA & 1483 & NA     & EWR & AUS &  NA & 1504 & 15 &  0 & 2013-12-31 15:00:00\\\\\n",
       "\t 2013 & 12 & 31 &   NA & 1430 &  NA &   NA & 1750 &  NA & UA & 1493 & NA     & EWR & LAX &  NA & 2454 & 14 & 30 & 2013-12-31 14:00:00\\\\\n",
       "\t 2013 & 12 & 31 &   NA &  855 &  NA &   NA & 1142 &  NA & UA & 1506 & NA     & EWR & JAC &  NA & 1874 &  8 & 55 & 2013-12-31 08:00:00\\\\\n",
       "\t 2013 & 12 & 31 &   NA &  705 &  NA &   NA &  931 &  NA & UA & 1729 & NA     & EWR & DEN &  NA & 1605 &  7 &  5 & 2013-12-31 07:00:00\\\\\n",
       "\t 2013 & 12 & 31 &   NA &  825 &  NA &   NA & 1029 &  NA & US & 1831 & NA     & JFK & CLT &  NA &  541 &  8 & 25 & 2013-12-31 08:00:00\\\\\n",
       "\t 2013 & 12 & 31 &   NA & 1615 &  NA &   NA & 1800 &  NA & MQ & 3301 & N844MQ & LGA & RDU &  NA &  431 & 16 & 15 & 2013-12-31 16:00:00\\\\\n",
       "\t 2013 & 12 & 31 &   NA &  600 &  NA &   NA &  735 &  NA & UA &  219 & NA     & EWR & ORD &  NA &  719 &  6 &  0 & 2013-12-31 06:00:00\\\\\n",
       "\t 2013 & 12 & 31 &   NA &  830 &  NA &   NA & 1154 &  NA & UA &  443 & NA     & JFK & LAX &  NA & 2475 &  8 & 30 & 2013-12-31 08:00:00\\\\\n",
       "\\end{tabular}\n"
      ],
      "text/markdown": [
       "\n",
       "A tibble: 55403 x 19\n",
       "\n",
       "| year &lt;int&gt; | month &lt;int&gt; | day &lt;int&gt; | dep_time &lt;int&gt; | sched_dep_time &lt;int&gt; | dep_delay &lt;dbl&gt; | arr_time &lt;int&gt; | sched_arr_time &lt;int&gt; | arr_delay &lt;dbl&gt; | carrier &lt;chr&gt; | flight &lt;int&gt; | tailnum &lt;chr&gt; | origin &lt;chr&gt; | dest &lt;chr&gt; | air_time &lt;dbl&gt; | distance &lt;dbl&gt; | hour &lt;dbl&gt; | minute &lt;dbl&gt; | time_hour &lt;dttm&gt; |\n",
       "|---|---|---|---|---|---|---|---|---|---|---|---|---|---|---|---|---|---|---|\n",
       "| 2013 | 11 | 1 |   5 | 2359 |   6 | 352 |  345 |   7 | B6 |  745 | N568JB | JFK | PSE | 205 | 1617 | 23 | 59 | 2013-11-01 23:00:00 |\n",
       "| 2013 | 11 | 1 |  35 | 2250 | 105 | 123 | 2356 |  87 | B6 | 1816 | N353JB | JFK | SYR |  36 |  209 | 22 | 50 | 2013-11-01 22:00:00 |\n",
       "| 2013 | 11 | 1 | 455 |  500 |  -5 | 641 |  651 | -10 | US | 1895 | N192UW | EWR | CLT |  88 |  529 |  5 |  0 | 2013-11-01 05:00:00 |\n",
       "| 2013 | 11 | 1 | 539 |  545 |  -6 | 856 |  827 |  29 | UA | 1714 | N38727 | LGA | IAH | 229 | 1416 |  5 | 45 | 2013-11-01 05:00:00 |\n",
       "| 2013 | 11 | 1 | 542 |  545 |  -3 | 831 |  855 | -24 | AA | 2243 | N5CLAA | JFK | MIA | 147 | 1089 |  5 | 45 | 2013-11-01 05:00:00 |\n",
       "| 2013 | 11 | 1 | 549 |  600 | -11 | 912 |  923 | -11 | UA |  303 | N595UA | JFK | SFO | 359 | 2586 |  6 |  0 | 2013-11-01 06:00:00 |\n",
       "| 2013 | 11 | 1 | 550 |  600 | -10 | 705 |  659 |   6 | US | 2167 | N748UW | LGA | DCA |  57 |  214 |  6 |  0 | 2013-11-01 06:00:00 |\n",
       "| 2013 | 11 | 1 | 554 |  600 |  -6 | 659 |  701 |  -2 | US | 2134 | N742PS | LGA | BOS |  40 |  184 |  6 |  0 | 2013-11-01 06:00:00 |\n",
       "| 2013 | 11 | 1 | 554 |  600 |  -6 | 826 |  827 |  -1 | DL |  563 | N912DE | LGA | ATL | 126 |  762 |  6 |  0 | 2013-11-01 06:00:00 |\n",
       "| 2013 | 11 | 1 | 554 |  600 |  -6 | 749 |  751 |  -2 | DL |  731 | N315NB | LGA | DTW |  93 |  502 |  6 |  0 | 2013-11-01 06:00:00 |\n",
       "| 2013 | 11 | 1 | 555 |  600 |  -5 | 847 |  854 |  -7 | B6 |  605 | N640JB | EWR | FLL | 149 | 1065 |  6 |  0 | 2013-11-01 06:00:00 |\n",
       "| 2013 | 11 | 1 | 555 |  600 |  -5 | 839 |  846 |  -7 | B6 |  583 | N661JB | JFK | MCO | 136 |  944 |  6 |  0 | 2013-11-01 06:00:00 |\n",
       "| 2013 | 11 | 1 | 555 |  600 |  -5 | 929 |  943 | -14 | B6 | 1403 | N746JB | JFK | SJU | 196 | 1598 |  6 |  0 | 2013-11-01 06:00:00 |\n",
       "| 2013 | 11 | 1 | 556 |  600 |  -4 | 834 |  851 | -17 | UA |  407 | N834UA | EWR | TPA | 142 |  997 |  6 |  0 | 2013-11-01 06:00:00 |\n",
       "| 2013 | 11 | 1 | 558 |  600 |  -2 | 727 |  730 |  -3 | UA |  279 | N459UA | EWR | ORD | 118 |  719 |  6 |  0 | 2013-11-01 06:00:00 |\n",
       "| 2013 | 11 | 1 | 558 |  600 |  -2 | 650 |  658 |  -8 | US | 1909 | N950UW | LGA | PHL |  38 |   96 |  6 |  0 | 2013-11-01 06:00:00 |\n",
       "| 2013 | 11 | 1 | 558 |  600 |  -2 | 914 |  905 |   9 | AA | 1175 | N3GHAA | LGA | MIA | 155 | 1096 |  6 |  0 | 2013-11-01 06:00:00 |\n",
       "| 2013 | 11 | 1 | 558 |  600 |  -2 | 720 |  715 |   5 | WN |  464 | N390SW | EWR | MDW | 117 |  711 |  6 |  0 | 2013-11-01 06:00:00 |\n",
       "| 2013 | 11 | 1 | 559 |  600 |  -1 | 756 |  730 |  26 | AA |  301 | N4YHAA | LGA | ORD | 119 |  733 |  6 |  0 | 2013-11-01 06:00:00 |\n",
       "| 2013 | 11 | 1 | 600 |  600 |   0 | 709 |  716 |  -7 | EV | 5716 | N820AS | JFK | IAD |  49 |  228 |  6 |  0 | 2013-11-01 06:00:00 |\n",
       "| 2013 | 11 | 1 | 600 |  600 |   0 | 725 |  721 |   4 | UA | 1198 | N23707 | LGA | ORD | 121 |  733 |  6 |  0 | 2013-11-01 06:00:00 |\n",
       "| 2013 | 11 | 1 | 601 |  600 |   1 | 853 |  856 |  -3 | B6 |  371 | N570JB | LGA | FLL | 150 | 1076 |  6 |  0 | 2013-11-01 06:00:00 |\n",
       "| 2013 | 11 | 1 | 601 |  610 |  -9 | 803 |  813 | -10 | DL | 1919 | N922DL | LGA | MSP | 153 | 1020 |  6 | 10 | 2013-11-01 06:00:00 |\n",
       "| 2013 | 11 | 1 | 602 |  600 |   2 | 843 |  815 |  28 | FL |  345 | N353AT | LGA | ATL | 131 |  762 |  6 |  0 | 2013-11-01 06:00:00 |\n",
       "| 2013 | 11 | 1 | 603 |  600 |   3 | 717 |  711 |   6 | EV | 4533 | N11109 | EWR | BUF |  53 |  282 |  6 |  0 | 2013-11-01 06:00:00 |\n",
       "| 2013 | 11 | 1 | 604 |  610 |  -6 | 855 |  855 |   0 | AA | 1103 | N3FTAA | LGA | DFW | 205 | 1389 |  6 | 10 | 2013-11-01 06:00:00 |\n",
       "| 2013 | 11 | 1 | 606 |  615 |  -9 | 746 |  750 |  -4 | MQ | 3525 | N834MQ | LGA | RDU |  74 |  431 |  6 | 15 | 2013-11-01 06:00:00 |\n",
       "| 2013 | 11 | 1 | 606 |  615 |  -9 | 807 |  817 | -10 | US | 1899 | N199UW | JFK | CLT |  93 |  541 |  6 | 15 | 2013-11-01 06:00:00 |\n",
       "| 2013 | 11 | 1 | 606 |  610 |  -4 | 752 |  745 |   7 | WN | 2609 | N440LV | LGA | STL | 142 |  888 |  6 | 10 | 2013-11-01 06:00:00 |\n",
       "| 2013 | 11 | 1 | 607 |  611 |  -4 | 857 |  912 | -15 | B6 |  601 | N597JB | JFK | FLL | 149 | 1069 |  6 | 11 | 2013-11-01 06:00:00 |\n",
       "| ... | ... | ... | ... | ... | ... | ... | ... | ... | ... | ... | ... | ... | ... | ... | ... | ... | ... | ... |\n",
       "| 2013 | 12 | 31 | 2155 | 2039 |  76 |  253 | 2355 |  NA | B6 | 1205 | N627JB | JFK | PDX |  NA | 2454 | 20 | 39 | 2013-12-31 20:00:00 |\n",
       "| 2013 | 12 | 31 | 2155 | 2150 |   5 |  110 |   51 |  19 | B6 | 1901 | N729JB | JFK | FLL | 164 | 1069 | 21 | 50 | 2013-12-31 21:00:00 |\n",
       "| 2013 | 12 | 31 | 2159 | 2155 |   4 |   55 |   46 |   9 | B6 | 2053 | N593JB | JFK | PBI | 155 | 1028 | 21 | 55 | 2013-12-31 21:00:00 |\n",
       "| 2013 | 12 | 31 | 2206 | 2110 |  56 |   44 | 2339 |  65 | B6 |  775 | N184JB | JFK | MSY | 195 | 1182 | 21 | 10 | 2013-12-31 21:00:00 |\n",
       "| 2013 | 12 | 31 | 2211 | 2159 |  12 |  100 |   45 |  15 | B6 | 1183 | N715JB | JFK | MCO | 148 |  944 | 21 | 59 | 2013-12-31 21:00:00 |\n",
       "| 2013 | 12 | 31 | 2218 | 2219 |  -1 |  315 |  304 |  11 | B6 | 1203 | N625JB | JFK | SJU | 202 | 1598 | 22 | 19 | 2013-12-31 22:00:00 |\n",
       "| 2013 | 12 | 31 | 2235 | 2245 | -10 | 2351 | 2355 |  -4 | B6 |  234 | N355JB | JFK | BTV |  49 |  266 | 22 | 45 | 2013-12-31 22:00:00 |\n",
       "| 2013 | 12 | 31 | 2245 | 2250 |  -5 | 2359 | 2356 |   3 | B6 | 1816 | N318JB | JFK | SYR |  51 |  209 | 22 | 50 | 2013-12-31 22:00:00 |\n",
       "| 2013 | 12 | 31 | 2310 | 2255 |  15 |    7 | 2356 |  11 | B6 |  718 | N279JB | JFK | BOS |  40 |  187 | 22 | 55 | 2013-12-31 22:00:00 |\n",
       "| 2013 | 12 | 31 | 2321 | 2250 |  31 |   46 |    8 |  38 | B6 | 2002 | N179JB | JFK | BUF |  66 |  301 | 22 | 50 | 2013-12-31 22:00:00 |\n",
       "| 2013 | 12 | 31 | 2328 | 2330 |  -2 |  412 |  409 |   3 | B6 | 1389 | N651JB | EWR | SJU | 198 | 1608 | 23 | 30 | 2013-12-31 23:00:00 |\n",
       "| 2013 | 12 | 31 | 2332 | 2245 |  47 |   58 |    3 |  55 | B6 |  486 | N334JB | JFK | ROC |  60 |  264 | 22 | 45 | 2013-12-31 22:00:00 |\n",
       "| 2013 | 12 | 31 | 2355 | 2359 |  -4 |  430 |  440 | -10 | B6 | 1503 | N509JB | JFK | SJU | 195 | 1598 | 23 | 59 | 2013-12-31 23:00:00 |\n",
       "| 2013 | 12 | 31 | 2356 | 2359 |  -3 |  436 |  445 |  -9 | B6 |  745 | N665JB | JFK | PSE | 200 | 1617 | 23 | 59 | 2013-12-31 23:00:00 |\n",
       "| 2013 | 12 | 31 |   NA | 1520 |  NA |   NA | 1705 |  NA | AA |  341 | N568AA | LGA | ORD |  NA |  733 | 15 | 20 | 2013-12-31 15:00:00 |\n",
       "| 2013 | 12 | 31 |   NA | 2025 |  NA |   NA | 2205 |  NA | AA |  371 | N482AA | LGA | ORD |  NA |  733 | 20 | 25 | 2013-12-31 20:00:00 |\n",
       "| 2013 | 12 | 31 |   NA | 1932 |  NA |   NA | 2305 |  NA | B6 |  161 | N516JB | JFK | SMF |  NA | 2521 | 19 | 32 | 2013-12-31 19:00:00 |\n",
       "| 2013 | 12 | 31 |   NA | 1505 |  NA |   NA | 1725 |  NA | EV | 4181 | N24103 | EWR | MCI |  NA | 1092 | 15 |  5 | 2013-12-31 15:00:00 |\n",
       "| 2013 | 12 | 31 |   NA | 1000 |  NA |   NA | 1252 |  NA | UA | 1124 | NA     | EWR | EGE |  NA | 1725 | 10 |  0 | 2013-12-31 10:00:00 |\n",
       "| 2013 | 12 | 31 |   NA |  840 |  NA |   NA | 1205 |  NA | UA | 1151 | NA     | EWR | SEA |  NA | 2402 |  8 | 40 | 2013-12-31 08:00:00 |\n",
       "| 2013 | 12 | 31 |   NA |  754 |  NA |   NA | 1118 |  NA | UA | 1455 | NA     | EWR | LAX |  NA | 2454 |  7 | 54 | 2013-12-31 07:00:00 |\n",
       "| 2013 | 12 | 31 |   NA | 2000 |  NA |   NA | 2146 |  NA | UA | 1482 | NA     | EWR | ORD |  NA |  719 | 20 |  0 | 2013-12-31 20:00:00 |\n",
       "| 2013 | 12 | 31 |   NA | 1500 |  NA |   NA | 1817 |  NA | UA | 1483 | NA     | EWR | AUS |  NA | 1504 | 15 |  0 | 2013-12-31 15:00:00 |\n",
       "| 2013 | 12 | 31 |   NA | 1430 |  NA |   NA | 1750 |  NA | UA | 1493 | NA     | EWR | LAX |  NA | 2454 | 14 | 30 | 2013-12-31 14:00:00 |\n",
       "| 2013 | 12 | 31 |   NA |  855 |  NA |   NA | 1142 |  NA | UA | 1506 | NA     | EWR | JAC |  NA | 1874 |  8 | 55 | 2013-12-31 08:00:00 |\n",
       "| 2013 | 12 | 31 |   NA |  705 |  NA |   NA |  931 |  NA | UA | 1729 | NA     | EWR | DEN |  NA | 1605 |  7 |  5 | 2013-12-31 07:00:00 |\n",
       "| 2013 | 12 | 31 |   NA |  825 |  NA |   NA | 1029 |  NA | US | 1831 | NA     | JFK | CLT |  NA |  541 |  8 | 25 | 2013-12-31 08:00:00 |\n",
       "| 2013 | 12 | 31 |   NA | 1615 |  NA |   NA | 1800 |  NA | MQ | 3301 | N844MQ | LGA | RDU |  NA |  431 | 16 | 15 | 2013-12-31 16:00:00 |\n",
       "| 2013 | 12 | 31 |   NA |  600 |  NA |   NA |  735 |  NA | UA |  219 | NA     | EWR | ORD |  NA |  719 |  6 |  0 | 2013-12-31 06:00:00 |\n",
       "| 2013 | 12 | 31 |   NA |  830 |  NA |   NA | 1154 |  NA | UA |  443 | NA     | JFK | LAX |  NA | 2475 |  8 | 30 | 2013-12-31 08:00:00 |\n",
       "\n"
      ],
      "text/plain": [
       "      year month day dep_time sched_dep_time dep_delay arr_time sched_arr_time\n",
       "1     2013 11    1     5      2359             6       352       345          \n",
       "2     2013 11    1    35      2250           105       123      2356          \n",
       "3     2013 11    1   455       500            -5       641       651          \n",
       "4     2013 11    1   539       545            -6       856       827          \n",
       "5     2013 11    1   542       545            -3       831       855          \n",
       "6     2013 11    1   549       600           -11       912       923          \n",
       "7     2013 11    1   550       600           -10       705       659          \n",
       "8     2013 11    1   554       600            -6       659       701          \n",
       "9     2013 11    1   554       600            -6       826       827          \n",
       "10    2013 11    1   554       600            -6       749       751          \n",
       "11    2013 11    1   555       600            -5       847       854          \n",
       "12    2013 11    1   555       600            -5       839       846          \n",
       "13    2013 11    1   555       600            -5       929       943          \n",
       "14    2013 11    1   556       600            -4       834       851          \n",
       "15    2013 11    1   558       600            -2       727       730          \n",
       "16    2013 11    1   558       600            -2       650       658          \n",
       "17    2013 11    1   558       600            -2       914       905          \n",
       "18    2013 11    1   558       600            -2       720       715          \n",
       "19    2013 11    1   559       600            -1       756       730          \n",
       "20    2013 11    1   600       600             0       709       716          \n",
       "21    2013 11    1   600       600             0       725       721          \n",
       "22    2013 11    1   601       600             1       853       856          \n",
       "23    2013 11    1   601       610            -9       803       813          \n",
       "24    2013 11    1   602       600             2       843       815          \n",
       "25    2013 11    1   603       600             3       717       711          \n",
       "26    2013 11    1   604       610            -6       855       855          \n",
       "27    2013 11    1   606       615            -9       746       750          \n",
       "28    2013 11    1   606       615            -9       807       817          \n",
       "29    2013 11    1   606       610            -4       752       745          \n",
       "30    2013 11    1   607       611            -4       857       912          \n",
       "...   ...  ...   ... ...      ...            ...       ...      ...           \n",
       "55374 2013 12    31  2155     2039            76        253     2355          \n",
       "55375 2013 12    31  2155     2150             5        110       51          \n",
       "55376 2013 12    31  2159     2155             4         55       46          \n",
       "55377 2013 12    31  2206     2110            56         44     2339          \n",
       "55378 2013 12    31  2211     2159            12        100       45          \n",
       "55379 2013 12    31  2218     2219            -1        315      304          \n",
       "55380 2013 12    31  2235     2245           -10       2351     2355          \n",
       "55381 2013 12    31  2245     2250            -5       2359     2356          \n",
       "55382 2013 12    31  2310     2255            15          7     2356          \n",
       "55383 2013 12    31  2321     2250            31         46        8          \n",
       "55384 2013 12    31  2328     2330            -2        412      409          \n",
       "55385 2013 12    31  2332     2245            47         58        3          \n",
       "55386 2013 12    31  2355     2359            -4        430      440          \n",
       "55387 2013 12    31  2356     2359            -3        436      445          \n",
       "55388 2013 12    31    NA     1520            NA         NA     1705          \n",
       "55389 2013 12    31    NA     2025            NA         NA     2205          \n",
       "55390 2013 12    31    NA     1932            NA         NA     2305          \n",
       "55391 2013 12    31    NA     1505            NA         NA     1725          \n",
       "55392 2013 12    31    NA     1000            NA         NA     1252          \n",
       "55393 2013 12    31    NA      840            NA         NA     1205          \n",
       "55394 2013 12    31    NA      754            NA         NA     1118          \n",
       "55395 2013 12    31    NA     2000            NA         NA     2146          \n",
       "55396 2013 12    31    NA     1500            NA         NA     1817          \n",
       "55397 2013 12    31    NA     1430            NA         NA     1750          \n",
       "55398 2013 12    31    NA      855            NA         NA     1142          \n",
       "55399 2013 12    31    NA      705            NA         NA      931          \n",
       "55400 2013 12    31    NA      825            NA         NA     1029          \n",
       "55401 2013 12    31    NA     1615            NA         NA     1800          \n",
       "55402 2013 12    31    NA      600            NA         NA      735          \n",
       "55403 2013 12    31    NA      830            NA         NA     1154          \n",
       "      arr_delay carrier flight tailnum origin dest air_time distance hour\n",
       "1       7       B6       745   N568JB  JFK    PSE  205      1617     23  \n",
       "2      87       B6      1816   N353JB  JFK    SYR   36       209     22  \n",
       "3     -10       US      1895   N192UW  EWR    CLT   88       529      5  \n",
       "4      29       UA      1714   N38727  LGA    IAH  229      1416      5  \n",
       "5     -24       AA      2243   N5CLAA  JFK    MIA  147      1089      5  \n",
       "6     -11       UA       303   N595UA  JFK    SFO  359      2586      6  \n",
       "7       6       US      2167   N748UW  LGA    DCA   57       214      6  \n",
       "8      -2       US      2134   N742PS  LGA    BOS   40       184      6  \n",
       "9      -1       DL       563   N912DE  LGA    ATL  126       762      6  \n",
       "10     -2       DL       731   N315NB  LGA    DTW   93       502      6  \n",
       "11     -7       B6       605   N640JB  EWR    FLL  149      1065      6  \n",
       "12     -7       B6       583   N661JB  JFK    MCO  136       944      6  \n",
       "13    -14       B6      1403   N746JB  JFK    SJU  196      1598      6  \n",
       "14    -17       UA       407   N834UA  EWR    TPA  142       997      6  \n",
       "15     -3       UA       279   N459UA  EWR    ORD  118       719      6  \n",
       "16     -8       US      1909   N950UW  LGA    PHL   38        96      6  \n",
       "17      9       AA      1175   N3GHAA  LGA    MIA  155      1096      6  \n",
       "18      5       WN       464   N390SW  EWR    MDW  117       711      6  \n",
       "19     26       AA       301   N4YHAA  LGA    ORD  119       733      6  \n",
       "20     -7       EV      5716   N820AS  JFK    IAD   49       228      6  \n",
       "21      4       UA      1198   N23707  LGA    ORD  121       733      6  \n",
       "22     -3       B6       371   N570JB  LGA    FLL  150      1076      6  \n",
       "23    -10       DL      1919   N922DL  LGA    MSP  153      1020      6  \n",
       "24     28       FL       345   N353AT  LGA    ATL  131       762      6  \n",
       "25      6       EV      4533   N11109  EWR    BUF   53       282      6  \n",
       "26      0       AA      1103   N3FTAA  LGA    DFW  205      1389      6  \n",
       "27     -4       MQ      3525   N834MQ  LGA    RDU   74       431      6  \n",
       "28    -10       US      1899   N199UW  JFK    CLT   93       541      6  \n",
       "29      7       WN      2609   N440LV  LGA    STL  142       888      6  \n",
       "30    -15       B6       601   N597JB  JFK    FLL  149      1069      6  \n",
       "...   ...       ...     ...    ...     ...    ...  ...      ...      ... \n",
       "55374  NA       B6      1205   N627JB  JFK    PDX   NA      2454     20  \n",
       "55375  19       B6      1901   N729JB  JFK    FLL  164      1069     21  \n",
       "55376   9       B6      2053   N593JB  JFK    PBI  155      1028     21  \n",
       "55377  65       B6       775   N184JB  JFK    MSY  195      1182     21  \n",
       "55378  15       B6      1183   N715JB  JFK    MCO  148       944     21  \n",
       "55379  11       B6      1203   N625JB  JFK    SJU  202      1598     22  \n",
       "55380  -4       B6       234   N355JB  JFK    BTV   49       266     22  \n",
       "55381   3       B6      1816   N318JB  JFK    SYR   51       209     22  \n",
       "55382  11       B6       718   N279JB  JFK    BOS   40       187     22  \n",
       "55383  38       B6      2002   N179JB  JFK    BUF   66       301     22  \n",
       "55384   3       B6      1389   N651JB  EWR    SJU  198      1608     23  \n",
       "55385  55       B6       486   N334JB  JFK    ROC   60       264     22  \n",
       "55386 -10       B6      1503   N509JB  JFK    SJU  195      1598     23  \n",
       "55387  -9       B6       745   N665JB  JFK    PSE  200      1617     23  \n",
       "55388  NA       AA       341   N568AA  LGA    ORD   NA       733     15  \n",
       "55389  NA       AA       371   N482AA  LGA    ORD   NA       733     20  \n",
       "55390  NA       B6       161   N516JB  JFK    SMF   NA      2521     19  \n",
       "55391  NA       EV      4181   N24103  EWR    MCI   NA      1092     15  \n",
       "55392  NA       UA      1124   NA      EWR    EGE   NA      1725     10  \n",
       "55393  NA       UA      1151   NA      EWR    SEA   NA      2402      8  \n",
       "55394  NA       UA      1455   NA      EWR    LAX   NA      2454      7  \n",
       "55395  NA       UA      1482   NA      EWR    ORD   NA       719     20  \n",
       "55396  NA       UA      1483   NA      EWR    AUS   NA      1504     15  \n",
       "55397  NA       UA      1493   NA      EWR    LAX   NA      2454     14  \n",
       "55398  NA       UA      1506   NA      EWR    JAC   NA      1874      8  \n",
       "55399  NA       UA      1729   NA      EWR    DEN   NA      1605      7  \n",
       "55400  NA       US      1831   NA      JFK    CLT   NA       541      8  \n",
       "55401  NA       MQ      3301   N844MQ  LGA    RDU   NA       431     16  \n",
       "55402  NA       UA       219   NA      EWR    ORD   NA       719      6  \n",
       "55403  NA       UA       443   NA      JFK    LAX   NA      2475      8  \n",
       "      minute time_hour          \n",
       "1     59     2013-11-01 23:00:00\n",
       "2     50     2013-11-01 22:00:00\n",
       "3      0     2013-11-01 05:00:00\n",
       "4     45     2013-11-01 05:00:00\n",
       "5     45     2013-11-01 05:00:00\n",
       "6      0     2013-11-01 06:00:00\n",
       "7      0     2013-11-01 06:00:00\n",
       "8      0     2013-11-01 06:00:00\n",
       "9      0     2013-11-01 06:00:00\n",
       "10     0     2013-11-01 06:00:00\n",
       "11     0     2013-11-01 06:00:00\n",
       "12     0     2013-11-01 06:00:00\n",
       "13     0     2013-11-01 06:00:00\n",
       "14     0     2013-11-01 06:00:00\n",
       "15     0     2013-11-01 06:00:00\n",
       "16     0     2013-11-01 06:00:00\n",
       "17     0     2013-11-01 06:00:00\n",
       "18     0     2013-11-01 06:00:00\n",
       "19     0     2013-11-01 06:00:00\n",
       "20     0     2013-11-01 06:00:00\n",
       "21     0     2013-11-01 06:00:00\n",
       "22     0     2013-11-01 06:00:00\n",
       "23    10     2013-11-01 06:00:00\n",
       "24     0     2013-11-01 06:00:00\n",
       "25     0     2013-11-01 06:00:00\n",
       "26    10     2013-11-01 06:00:00\n",
       "27    15     2013-11-01 06:00:00\n",
       "28    15     2013-11-01 06:00:00\n",
       "29    10     2013-11-01 06:00:00\n",
       "30    11     2013-11-01 06:00:00\n",
       "...   ...    ...                \n",
       "55374 39     2013-12-31 20:00:00\n",
       "55375 50     2013-12-31 21:00:00\n",
       "55376 55     2013-12-31 21:00:00\n",
       "55377 10     2013-12-31 21:00:00\n",
       "55378 59     2013-12-31 21:00:00\n",
       "55379 19     2013-12-31 22:00:00\n",
       "55380 45     2013-12-31 22:00:00\n",
       "55381 50     2013-12-31 22:00:00\n",
       "55382 55     2013-12-31 22:00:00\n",
       "55383 50     2013-12-31 22:00:00\n",
       "55384 30     2013-12-31 23:00:00\n",
       "55385 45     2013-12-31 22:00:00\n",
       "55386 59     2013-12-31 23:00:00\n",
       "55387 59     2013-12-31 23:00:00\n",
       "55388 20     2013-12-31 15:00:00\n",
       "55389 25     2013-12-31 20:00:00\n",
       "55390 32     2013-12-31 19:00:00\n",
       "55391  5     2013-12-31 15:00:00\n",
       "55392  0     2013-12-31 10:00:00\n",
       "55393 40     2013-12-31 08:00:00\n",
       "55394 54     2013-12-31 07:00:00\n",
       "55395  0     2013-12-31 20:00:00\n",
       "55396  0     2013-12-31 15:00:00\n",
       "55397 30     2013-12-31 14:00:00\n",
       "55398 55     2013-12-31 08:00:00\n",
       "55399  5     2013-12-31 07:00:00\n",
       "55400 25     2013-12-31 08:00:00\n",
       "55401 15     2013-12-31 16:00:00\n",
       "55402  0     2013-12-31 06:00:00\n",
       "55403 30     2013-12-31 08:00:00"
      ]
     },
     "metadata": {},
     "output_type": "display_data"
    }
   ],
   "source": [
    "flights |> \n",
    "  filter(month %in% c(11, 12))"
   ]
  },
  {
   "cell_type": "markdown",
   "metadata": {},
   "source": [
    "### Exercises\n",
    "1. Find all flights where `arr_delay` is missing but dep_delay is not. Find all flights where neither `arr_time` nor `sched_arr_time` are missing, but arr_delay is.\n",
    "2. How many flights have a missing `dep_time`? What other variables are missing in these rows? What might these rows represent?\n",
    "3. Assuming that a missing dep_time implies that a flight is cancelled, look at the number of cancelled flights per day. Is there a pattern? Is there a connection between the proportion of cancelled flights and the average delay of non-cancelled flights?"
   ]
  },
  {
   "cell_type": "markdown",
   "metadata": {},
   "source": [
    "## 12.4 Summarizes\n",
    "### Logical summarizes"
   ]
  },
  {
   "cell_type": "markdown",
   "metadata": {},
   "source": [
    "### Nummeric summaries of logical vectors"
   ]
  },
  {
   "cell_type": "markdown",
   "metadata": {},
   "source": [
    "### Logical subsetting"
   ]
  },
  {
   "cell_type": "markdown",
   "metadata": {},
   "source": [
    "### Exercises"
   ]
  },
  {
   "cell_type": "markdown",
   "metadata": {},
   "source": [
    "## 12.5 Conditional transformations"
   ]
  },
  {
   "cell_type": "markdown",
   "metadata": {},
   "source": [
    "### `if_else()`"
   ]
  },
  {
   "cell_type": "markdown",
   "metadata": {},
   "source": [
    "### `case_when()`"
   ]
  },
  {
   "cell_type": "markdown",
   "metadata": {},
   "source": [
    "### Compatible types"
   ]
  },
  {
   "cell_type": "markdown",
   "metadata": {},
   "source": [
    "### Exercises"
   ]
  },
  {
   "cell_type": "markdown",
   "metadata": {},
   "source": [
    "## 12.6 Summary"
   ]
  },
  {
   "cell_type": "markdown",
   "metadata": {},
   "source": [
    "# C13. Numbers"
   ]
  },
  {
   "cell_type": "markdown",
   "metadata": {},
   "source": [
    "## 13.2 Making numbers"
   ]
  },
  {
   "cell_type": "markdown",
   "metadata": {},
   "source": [
    "## 13.3 Counts"
   ]
  },
  {
   "cell_type": "markdown",
   "metadata": {},
   "source": [
    "## 13.4 Numeric transformations"
   ]
  },
  {
   "cell_type": "markdown",
   "metadata": {},
   "source": [
    "## 13.5 General transformations"
   ]
  },
  {
   "cell_type": "markdown",
   "metadata": {},
   "source": [
    "## 13.6 Numeric summaries"
   ]
  },
  {
   "cell_type": "markdown",
   "metadata": {},
   "source": [
    "## 13.7 Summary"
   ]
  },
  {
   "cell_type": "markdown",
   "metadata": {},
   "source": [
    "# C14. Strings"
   ]
  },
  {
   "cell_type": "markdown",
   "metadata": {},
   "source": [
    "## 14.2 Creating a string"
   ]
  },
  {
   "cell_type": "markdown",
   "metadata": {},
   "source": [
    "## 14.3 Creating many strings from data"
   ]
  },
  {
   "cell_type": "markdown",
   "metadata": {},
   "source": [
    "## 14.4 Extracting data from strings\n"
   ]
  },
  {
   "cell_type": "markdown",
   "metadata": {},
   "source": [
    "## 14.5 Letters"
   ]
  },
  {
   "cell_type": "markdown",
   "metadata": {},
   "source": [
    "## 14.6 Non-English text"
   ]
  },
  {
   "cell_type": "markdown",
   "metadata": {},
   "source": [
    "## 14.7 Summary"
   ]
  },
  {
   "cell_type": "markdown",
   "metadata": {},
   "source": [
    "# C15 Regular Expressions"
   ]
  },
  {
   "cell_type": "code",
   "execution_count": 74,
   "metadata": {
    "vscode": {
     "languageId": "r"
    }
   },
   "outputs": [],
   "source": [
    "library(tidyverse)\n",
    "library(babynames)"
   ]
  },
  {
   "cell_type": "markdown",
   "metadata": {},
   "source": [
    "## 15.2 Pattern basics"
   ]
  },
  {
   "cell_type": "markdown",
   "metadata": {},
   "source": [
    "## 15.3 Key functions"
   ]
  },
  {
   "cell_type": "markdown",
   "metadata": {},
   "source": [
    "## 15.4 Pattern details"
   ]
  },
  {
   "cell_type": "markdown",
   "metadata": {},
   "source": [
    "## 15.5 Pattern control"
   ]
  },
  {
   "cell_type": "markdown",
   "metadata": {},
   "source": [
    "## 15.6 Practice"
   ]
  },
  {
   "cell_type": "markdown",
   "metadata": {},
   "source": [
    "## 15.7 Regular expressions in other places"
   ]
  },
  {
   "cell_type": "markdown",
   "metadata": {},
   "source": [
    "## 15.8 Summary"
   ]
  },
  {
   "cell_type": "markdown",
   "metadata": {},
   "source": [
    "# C16. Factors"
   ]
  },
  {
   "cell_type": "markdown",
   "metadata": {},
   "source": [
    "## 16.2 Factor basics"
   ]
  },
  {
   "cell_type": "markdown",
   "metadata": {},
   "source": [
    "## 16.3 General Social Survey"
   ]
  },
  {
   "cell_type": "markdown",
   "metadata": {},
   "source": [
    "## 16.4 Modifying factor order"
   ]
  },
  {
   "cell_type": "markdown",
   "metadata": {},
   "source": [
    "## 16.5 Modifying factor levels"
   ]
  },
  {
   "cell_type": "markdown",
   "metadata": {},
   "source": [
    "## 16.6 Ordered factors"
   ]
  },
  {
   "cell_type": "markdown",
   "metadata": {},
   "source": [
    "## 16.7 Summary"
   ]
  },
  {
   "cell_type": "markdown",
   "metadata": {},
   "source": [
    "# C17. Dates and Times"
   ]
  },
  {
   "cell_type": "markdown",
   "metadata": {},
   "source": [
    "## 17.2 Creating date/times"
   ]
  },
  {
   "cell_type": "markdown",
   "metadata": {},
   "source": [
    "## 17.3 Date-time components"
   ]
  },
  {
   "cell_type": "markdown",
   "metadata": {},
   "source": [
    "## 17.4 Time spans"
   ]
  },
  {
   "cell_type": "markdown",
   "metadata": {},
   "source": [
    "## 17.5 Time zones"
   ]
  },
  {
   "cell_type": "markdown",
   "metadata": {},
   "source": [
    "## 17.6 Summary"
   ]
  },
  {
   "cell_type": "markdown",
   "metadata": {},
   "source": [
    "# C18. Missing Values"
   ]
  },
  {
   "cell_type": "markdown",
   "metadata": {},
   "source": [
    "## 18.2 Explicit missing values"
   ]
  },
  {
   "cell_type": "markdown",
   "metadata": {},
   "source": [
    "## 18.3 Implicit missing values"
   ]
  },
  {
   "cell_type": "markdown",
   "metadata": {},
   "source": [
    "## 18.4 Factors and empty groups"
   ]
  },
  {
   "cell_type": "markdown",
   "metadata": {},
   "source": [
    "## 18.5 Summary"
   ]
  },
  {
   "cell_type": "markdown",
   "metadata": {},
   "source": [
    "# C19. Joins"
   ]
  },
  {
   "cell_type": "markdown",
   "metadata": {},
   "source": [
    "## 19.2 Keys"
   ]
  },
  {
   "cell_type": "markdown",
   "metadata": {},
   "source": [
    "## 19.3 Basic joins"
   ]
  },
  {
   "cell_type": "markdown",
   "metadata": {},
   "source": [
    "## 19.4 How do joins work?"
   ]
  },
  {
   "cell_type": "markdown",
   "metadata": {},
   "source": [
    "## 19.5 Non-equi joins"
   ]
  },
  {
   "cell_type": "markdown",
   "metadata": {},
   "source": [
    "## 19.6 Summary"
   ]
  },
  {
   "cell_type": "markdown",
   "metadata": {},
   "source": []
  }
 ],
 "metadata": {
  "kernelspec": {
   "display_name": "R",
   "language": "R",
   "name": "ir"
  },
  "language_info": {
   "codemirror_mode": "r",
   "file_extension": ".r",
   "mimetype": "text/x-r-source",
   "name": "R",
   "pygments_lexer": "r",
   "version": "4.3.2"
  }
 },
 "nbformat": 4,
 "nbformat_minor": 2
}
