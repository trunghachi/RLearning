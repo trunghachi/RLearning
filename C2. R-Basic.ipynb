{
 "cells": [
  {
   "cell_type": "markdown",
   "metadata": {},
   "source": [
    "1. What is the sum of the first 100 positive integers? The formula for the sum of integers 1 through n is  n(n+1)/2 and then use R to compute the sum of 1 through 100 using the formula. What is the sum?"
   ]
  },
  {
   "cell_type": "code",
   "execution_count": 168,
   "metadata": {
    "vscode": {
     "languageId": "r"
    }
   },
   "outputs": [
    {
     "data": {
      "text/html": [
       "5050"
      ],
      "text/latex": [
       "5050"
      ],
      "text/markdown": [
       "5050"
      ],
      "text/plain": [
       "[1] 5050"
      ]
     },
     "metadata": {},
     "output_type": "display_data"
    }
   ],
   "source": [
    "n <- 100\n",
    "n*(n+1)/2"
   ]
  },
  {
   "cell_type": "markdown",
   "metadata": {},
   "source": [
    "2. Now use the same formula to compute the sum of the integers from 1 through 1000."
   ]
  },
  {
   "cell_type": "code",
   "execution_count": 169,
   "metadata": {
    "vscode": {
     "languageId": "r"
    }
   },
   "outputs": [
    {
     "data": {
      "text/html": [
       "500500"
      ],
      "text/latex": [
       "500500"
      ],
      "text/markdown": [
       "500500"
      ],
      "text/plain": [
       "[1] 500500"
      ]
     },
     "metadata": {},
     "output_type": "display_data"
    }
   ],
   "source": [
    "n <- 1000\n",
    "n*(n+1)/2"
   ]
  },
  {
   "cell_type": "markdown",
   "metadata": {},
   "source": [
    "3. Look at the result of typing the following code into R:\n",
    "```\n",
    "n <- 1000\n",
    "x <- seq(1, n)\n",
    "sum(x)\n",
    "```\n",
    "Based on the result, what do you think the functions `seq` and `sum` do? You can use help.\n",
    "\n",
    "* sum creates a list of numbers and seq adds them up.\n",
    "* seq creates a list of numbers and sum adds them up.\n",
    "* seq creates a random list and sum computes the sum of 1 through 1,000.\n",
    "* sum always returns the same number."
   ]
  },
  {
   "cell_type": "code",
   "execution_count": 170,
   "metadata": {
    "vscode": {
     "languageId": "r"
    }
   },
   "outputs": [
    {
     "data": {
      "text/html": [
       "500500"
      ],
      "text/latex": [
       "500500"
      ],
      "text/markdown": [
       "500500"
      ],
      "text/plain": [
       "[1] 500500"
      ]
     },
     "metadata": {},
     "output_type": "display_data"
    }
   ],
   "source": [
    "n <- 1000\n",
    "x <- seq(1, n)\n",
    "sum(x)"
   ]
  },
  {
   "cell_type": "markdown",
   "metadata": {},
   "source": [
    "4. In math and programming, we say that we evaluate a function when we replace the argument with a given value. So if we type `sqrt(4)`, we evaluate the sqrt function. In R, you can evaluate a function inside another function. The evaluations happen from the inside out. Use one line of code to compute the log, in base 10, of the square root of 100."
   ]
  },
  {
   "cell_type": "code",
   "execution_count": 171,
   "metadata": {
    "vscode": {
     "languageId": "r"
    }
   },
   "outputs": [
    {
     "data": {
      "text/html": [
       "1"
      ],
      "text/latex": [
       "1"
      ],
      "text/markdown": [
       "1"
      ],
      "text/plain": [
       "[1] 1"
      ]
     },
     "metadata": {},
     "output_type": "display_data"
    }
   ],
   "source": [
    "log10(sqrt(100))"
   ]
  },
  {
   "cell_type": "markdown",
   "metadata": {},
   "source": [
    "5. Which of the following will always return the numeric value stored in x? You can try out examples and use the help system if you want."
   ]
  },
  {
   "cell_type": "code",
   "execution_count": 172,
   "metadata": {
    "vscode": {
     "languageId": "r"
    }
   },
   "outputs": [
    {
     "data": {
      "text/html": [
       "11.5129254649702"
      ],
      "text/latex": [
       "11.5129254649702"
      ],
      "text/markdown": [
       "11.5129254649702"
      ],
      "text/plain": [
       "[1] 11.51293"
      ]
     },
     "metadata": {},
     "output_type": "display_data"
    },
    {
     "data": {
      "text/html": [
       "6.98970004336019"
      ],
      "text/latex": [
       "6.98970004336019"
      ],
      "text/markdown": [
       "6.98970004336019"
      ],
      "text/plain": [
       "[1] 6.9897"
      ]
     },
     "metadata": {},
     "output_type": "display_data"
    },
    {
     "data": {
      "text/html": [
       "5"
      ],
      "text/latex": [
       "5"
      ],
      "text/markdown": [
       "5"
      ],
      "text/plain": [
       "[1] 5"
      ]
     },
     "metadata": {},
     "output_type": "display_data"
    },
    {
     "data": {
      "text/html": [
       "10.1953128981289"
      ],
      "text/latex": [
       "10.1953128981289"
      ],
      "text/markdown": [
       "10.1953128981289"
      ],
      "text/plain": [
       "[1] 10.19531"
      ]
     },
     "metadata": {},
     "output_type": "display_data"
    }
   ],
   "source": [
    "x <- 5\n",
    "log(10^x)\n",
    "log10(x^10)\n",
    "log(exp(x))\n",
    "exp(log(x, base = 2))"
   ]
  },
  {
   "cell_type": "markdown",
   "metadata": {},
   "source": [
    "6. Make sure the US murders dataset is loaded. Use the function str to examine the structure of the murders object. Which of the following best describes the variables represented in this data frame?\n",
    "\n",
    "* The 51 states.\n",
    "* The murder rates for all 50 states and DC.\n",
    "* **The state name, the abbreviation of the state name, the state’s region, and the state’s population and total number of murders for 2010.**\n",
    "* str shows no relevant information."
   ]
  },
  {
   "cell_type": "code",
   "execution_count": 173,
   "metadata": {
    "vscode": {
     "languageId": "r"
    }
   },
   "outputs": [],
   "source": [
    "library(tidyverse)\n",
    "library(dslabs)"
   ]
  },
  {
   "cell_type": "code",
   "execution_count": 174,
   "metadata": {
    "vscode": {
     "languageId": "r"
    }
   },
   "outputs": [
    {
     "data": {
      "text/html": [
       "'data.frame'"
      ],
      "text/latex": [
       "'data.frame'"
      ],
      "text/markdown": [
       "'data.frame'"
      ],
      "text/plain": [
       "[1] \"data.frame\""
      ]
     },
     "metadata": {},
     "output_type": "display_data"
    },
    {
     "name": "stdout",
     "output_type": "stream",
     "text": [
      "'data.frame':\t51 obs. of  5 variables:\n",
      " $ state     : chr  \"Alabama\" \"Alaska\" \"Arizona\" \"Arkansas\" ...\n",
      " $ abb       : chr  \"AL\" \"AK\" \"AZ\" \"AR\" ...\n",
      " $ region    : Factor w/ 4 levels \"Northeast\",\"South\",..: 2 4 4 2 4 4 1 2 2 2 ...\n",
      " $ population: num  4779736 710231 6392017 2915918 37253956 ...\n",
      " $ total     : num  135 19 232 93 1257 ...\n"
     ]
    }
   ],
   "source": [
    "class(murders)\n",
    "str(murders)\n"
   ]
  },
  {
   "cell_type": "markdown",
   "metadata": {},
   "source": [
    "7. What are the column names used by the data frame for these five variables?"
   ]
  },
  {
   "cell_type": "code",
   "execution_count": 175,
   "metadata": {
    "vscode": {
     "languageId": "r"
    }
   },
   "outputs": [
    {
     "data": {
      "text/html": [
       "<style>\n",
       ".list-inline {list-style: none; margin:0; padding: 0}\n",
       ".list-inline>li {display: inline-block}\n",
       ".list-inline>li:not(:last-child)::after {content: \"\\00b7\"; padding: 0 .5ex}\n",
       "</style>\n",
       "<ol class=list-inline><li>'state'</li><li>'abb'</li><li>'region'</li><li>'population'</li><li>'total'</li></ol>\n"
      ],
      "text/latex": [
       "\\begin{enumerate*}\n",
       "\\item 'state'\n",
       "\\item 'abb'\n",
       "\\item 'region'\n",
       "\\item 'population'\n",
       "\\item 'total'\n",
       "\\end{enumerate*}\n"
      ],
      "text/markdown": [
       "1. 'state'\n",
       "2. 'abb'\n",
       "3. 'region'\n",
       "4. 'population'\n",
       "5. 'total'\n",
       "\n",
       "\n"
      ],
      "text/plain": [
       "[1] \"state\"      \"abb\"        \"region\"     \"population\" \"total\"     "
      ]
     },
     "metadata": {},
     "output_type": "display_data"
    }
   ],
   "source": [
    "names(murders)"
   ]
  },
  {
   "cell_type": "markdown",
   "metadata": {},
   "source": [
    "8. Use the accessor $ to extract the state abbreviations and assign them to the object a. What is the class of this object?"
   ]
  },
  {
   "cell_type": "code",
   "execution_count": 176,
   "metadata": {
    "vscode": {
     "languageId": "r"
    }
   },
   "outputs": [
    {
     "data": {
      "text/html": [
       "'character'"
      ],
      "text/latex": [
       "'character'"
      ],
      "text/markdown": [
       "'character'"
      ],
      "text/plain": [
       "[1] \"character\""
      ]
     },
     "metadata": {},
     "output_type": "display_data"
    },
    {
     "data": {
      "text/html": [
       "<style>\n",
       ".list-inline {list-style: none; margin:0; padding: 0}\n",
       ".list-inline>li {display: inline-block}\n",
       ".list-inline>li:not(:last-child)::after {content: \"\\00b7\"; padding: 0 .5ex}\n",
       "</style>\n",
       "<ol class=list-inline><li>'AL'</li><li>'AK'</li><li>'AZ'</li><li>'AR'</li><li>'CA'</li><li>'CO'</li><li>'CT'</li><li>'DE'</li><li>'DC'</li><li>'FL'</li><li>'GA'</li><li>'HI'</li><li>'ID'</li><li>'IL'</li><li>'IN'</li><li>'IA'</li><li>'KS'</li><li>'KY'</li><li>'LA'</li><li>'ME'</li><li>'MD'</li><li>'MA'</li><li>'MI'</li><li>'MN'</li><li>'MS'</li><li>'MO'</li><li>'MT'</li><li>'NE'</li><li>'NV'</li><li>'NH'</li><li>'NJ'</li><li>'NM'</li><li>'NY'</li><li>'NC'</li><li>'ND'</li><li>'OH'</li><li>'OK'</li><li>'OR'</li><li>'PA'</li><li>'RI'</li><li>'SC'</li><li>'SD'</li><li>'TN'</li><li>'TX'</li><li>'UT'</li><li>'VT'</li><li>'VA'</li><li>'WA'</li><li>'WV'</li><li>'WI'</li><li>'WY'</li></ol>\n"
      ],
      "text/latex": [
       "\\begin{enumerate*}\n",
       "\\item 'AL'\n",
       "\\item 'AK'\n",
       "\\item 'AZ'\n",
       "\\item 'AR'\n",
       "\\item 'CA'\n",
       "\\item 'CO'\n",
       "\\item 'CT'\n",
       "\\item 'DE'\n",
       "\\item 'DC'\n",
       "\\item 'FL'\n",
       "\\item 'GA'\n",
       "\\item 'HI'\n",
       "\\item 'ID'\n",
       "\\item 'IL'\n",
       "\\item 'IN'\n",
       "\\item 'IA'\n",
       "\\item 'KS'\n",
       "\\item 'KY'\n",
       "\\item 'LA'\n",
       "\\item 'ME'\n",
       "\\item 'MD'\n",
       "\\item 'MA'\n",
       "\\item 'MI'\n",
       "\\item 'MN'\n",
       "\\item 'MS'\n",
       "\\item 'MO'\n",
       "\\item 'MT'\n",
       "\\item 'NE'\n",
       "\\item 'NV'\n",
       "\\item 'NH'\n",
       "\\item 'NJ'\n",
       "\\item 'NM'\n",
       "\\item 'NY'\n",
       "\\item 'NC'\n",
       "\\item 'ND'\n",
       "\\item 'OH'\n",
       "\\item 'OK'\n",
       "\\item 'OR'\n",
       "\\item 'PA'\n",
       "\\item 'RI'\n",
       "\\item 'SC'\n",
       "\\item 'SD'\n",
       "\\item 'TN'\n",
       "\\item 'TX'\n",
       "\\item 'UT'\n",
       "\\item 'VT'\n",
       "\\item 'VA'\n",
       "\\item 'WA'\n",
       "\\item 'WV'\n",
       "\\item 'WI'\n",
       "\\item 'WY'\n",
       "\\end{enumerate*}\n"
      ],
      "text/markdown": [
       "1. 'AL'\n",
       "2. 'AK'\n",
       "3. 'AZ'\n",
       "4. 'AR'\n",
       "5. 'CA'\n",
       "6. 'CO'\n",
       "7. 'CT'\n",
       "8. 'DE'\n",
       "9. 'DC'\n",
       "10. 'FL'\n",
       "11. 'GA'\n",
       "12. 'HI'\n",
       "13. 'ID'\n",
       "14. 'IL'\n",
       "15. 'IN'\n",
       "16. 'IA'\n",
       "17. 'KS'\n",
       "18. 'KY'\n",
       "19. 'LA'\n",
       "20. 'ME'\n",
       "21. 'MD'\n",
       "22. 'MA'\n",
       "23. 'MI'\n",
       "24. 'MN'\n",
       "25. 'MS'\n",
       "26. 'MO'\n",
       "27. 'MT'\n",
       "28. 'NE'\n",
       "29. 'NV'\n",
       "30. 'NH'\n",
       "31. 'NJ'\n",
       "32. 'NM'\n",
       "33. 'NY'\n",
       "34. 'NC'\n",
       "35. 'ND'\n",
       "36. 'OH'\n",
       "37. 'OK'\n",
       "38. 'OR'\n",
       "39. 'PA'\n",
       "40. 'RI'\n",
       "41. 'SC'\n",
       "42. 'SD'\n",
       "43. 'TN'\n",
       "44. 'TX'\n",
       "45. 'UT'\n",
       "46. 'VT'\n",
       "47. 'VA'\n",
       "48. 'WA'\n",
       "49. 'WV'\n",
       "50. 'WI'\n",
       "51. 'WY'\n",
       "\n",
       "\n"
      ],
      "text/plain": [
       " [1] \"AL\" \"AK\" \"AZ\" \"AR\" \"CA\" \"CO\" \"CT\" \"DE\" \"DC\" \"FL\" \"GA\" \"HI\" \"ID\" \"IL\" \"IN\"\n",
       "[16] \"IA\" \"KS\" \"KY\" \"LA\" \"ME\" \"MD\" \"MA\" \"MI\" \"MN\" \"MS\" \"MO\" \"MT\" \"NE\" \"NV\" \"NH\"\n",
       "[31] \"NJ\" \"NM\" \"NY\" \"NC\" \"ND\" \"OH\" \"OK\" \"OR\" \"PA\" \"RI\" \"SC\" \"SD\" \"TN\" \"TX\" \"UT\"\n",
       "[46] \"VT\" \"VA\" \"WA\" \"WV\" \"WI\" \"WY\""
      ]
     },
     "metadata": {},
     "output_type": "display_data"
    }
   ],
   "source": [
    "a <- murders$abb\n",
    "class(a)\n",
    "a"
   ]
  },
  {
   "cell_type": "markdown",
   "metadata": {},
   "source": [
    "9. Now use the square brackets to extract the state abbreviations and assign them to the object b. Use the identical function to determine if a and b are the same."
   ]
  },
  {
   "cell_type": "code",
   "execution_count": 177,
   "metadata": {
    "vscode": {
     "languageId": "r"
    }
   },
   "outputs": [
    {
     "data": {
      "text/html": [
       "<style>\n",
       ".list-inline {list-style: none; margin:0; padding: 0}\n",
       ".list-inline>li {display: inline-block}\n",
       ".list-inline>li:not(:last-child)::after {content: \"\\00b7\"; padding: 0 .5ex}\n",
       "</style>\n",
       "<ol class=list-inline><li>'AL'</li><li>'AK'</li><li>'AZ'</li><li>'AR'</li><li>'CA'</li><li>'CO'</li><li>'CT'</li><li>'DE'</li><li>'DC'</li><li>'FL'</li><li>'GA'</li><li>'HI'</li><li>'ID'</li><li>'IL'</li><li>'IN'</li><li>'IA'</li><li>'KS'</li><li>'KY'</li><li>'LA'</li><li>'ME'</li><li>'MD'</li><li>'MA'</li><li>'MI'</li><li>'MN'</li><li>'MS'</li><li>'MO'</li><li>'MT'</li><li>'NE'</li><li>'NV'</li><li>'NH'</li><li>'NJ'</li><li>'NM'</li><li>'NY'</li><li>'NC'</li><li>'ND'</li><li>'OH'</li><li>'OK'</li><li>'OR'</li><li>'PA'</li><li>'RI'</li><li>'SC'</li><li>'SD'</li><li>'TN'</li><li>'TX'</li><li>'UT'</li><li>'VT'</li><li>'VA'</li><li>'WA'</li><li>'WV'</li><li>'WI'</li><li>'WY'</li></ol>\n"
      ],
      "text/latex": [
       "\\begin{enumerate*}\n",
       "\\item 'AL'\n",
       "\\item 'AK'\n",
       "\\item 'AZ'\n",
       "\\item 'AR'\n",
       "\\item 'CA'\n",
       "\\item 'CO'\n",
       "\\item 'CT'\n",
       "\\item 'DE'\n",
       "\\item 'DC'\n",
       "\\item 'FL'\n",
       "\\item 'GA'\n",
       "\\item 'HI'\n",
       "\\item 'ID'\n",
       "\\item 'IL'\n",
       "\\item 'IN'\n",
       "\\item 'IA'\n",
       "\\item 'KS'\n",
       "\\item 'KY'\n",
       "\\item 'LA'\n",
       "\\item 'ME'\n",
       "\\item 'MD'\n",
       "\\item 'MA'\n",
       "\\item 'MI'\n",
       "\\item 'MN'\n",
       "\\item 'MS'\n",
       "\\item 'MO'\n",
       "\\item 'MT'\n",
       "\\item 'NE'\n",
       "\\item 'NV'\n",
       "\\item 'NH'\n",
       "\\item 'NJ'\n",
       "\\item 'NM'\n",
       "\\item 'NY'\n",
       "\\item 'NC'\n",
       "\\item 'ND'\n",
       "\\item 'OH'\n",
       "\\item 'OK'\n",
       "\\item 'OR'\n",
       "\\item 'PA'\n",
       "\\item 'RI'\n",
       "\\item 'SC'\n",
       "\\item 'SD'\n",
       "\\item 'TN'\n",
       "\\item 'TX'\n",
       "\\item 'UT'\n",
       "\\item 'VT'\n",
       "\\item 'VA'\n",
       "\\item 'WA'\n",
       "\\item 'WV'\n",
       "\\item 'WI'\n",
       "\\item 'WY'\n",
       "\\end{enumerate*}\n"
      ],
      "text/markdown": [
       "1. 'AL'\n",
       "2. 'AK'\n",
       "3. 'AZ'\n",
       "4. 'AR'\n",
       "5. 'CA'\n",
       "6. 'CO'\n",
       "7. 'CT'\n",
       "8. 'DE'\n",
       "9. 'DC'\n",
       "10. 'FL'\n",
       "11. 'GA'\n",
       "12. 'HI'\n",
       "13. 'ID'\n",
       "14. 'IL'\n",
       "15. 'IN'\n",
       "16. 'IA'\n",
       "17. 'KS'\n",
       "18. 'KY'\n",
       "19. 'LA'\n",
       "20. 'ME'\n",
       "21. 'MD'\n",
       "22. 'MA'\n",
       "23. 'MI'\n",
       "24. 'MN'\n",
       "25. 'MS'\n",
       "26. 'MO'\n",
       "27. 'MT'\n",
       "28. 'NE'\n",
       "29. 'NV'\n",
       "30. 'NH'\n",
       "31. 'NJ'\n",
       "32. 'NM'\n",
       "33. 'NY'\n",
       "34. 'NC'\n",
       "35. 'ND'\n",
       "36. 'OH'\n",
       "37. 'OK'\n",
       "38. 'OR'\n",
       "39. 'PA'\n",
       "40. 'RI'\n",
       "41. 'SC'\n",
       "42. 'SD'\n",
       "43. 'TN'\n",
       "44. 'TX'\n",
       "45. 'UT'\n",
       "46. 'VT'\n",
       "47. 'VA'\n",
       "48. 'WA'\n",
       "49. 'WV'\n",
       "50. 'WI'\n",
       "51. 'WY'\n",
       "\n",
       "\n"
      ],
      "text/plain": [
       " [1] \"AL\" \"AK\" \"AZ\" \"AR\" \"CA\" \"CO\" \"CT\" \"DE\" \"DC\" \"FL\" \"GA\" \"HI\" \"ID\" \"IL\" \"IN\"\n",
       "[16] \"IA\" \"KS\" \"KY\" \"LA\" \"ME\" \"MD\" \"MA\" \"MI\" \"MN\" \"MS\" \"MO\" \"MT\" \"NE\" \"NV\" \"NH\"\n",
       "[31] \"NJ\" \"NM\" \"NY\" \"NC\" \"ND\" \"OH\" \"OK\" \"OR\" \"PA\" \"RI\" \"SC\" \"SD\" \"TN\" \"TX\" \"UT\"\n",
       "[46] \"VT\" \"VA\" \"WA\" \"WV\" \"WI\" \"WY\""
      ]
     },
     "metadata": {},
     "output_type": "display_data"
    }
   ],
   "source": [
    "b <- murders[[\"abb\"]]\n",
    "b"
   ]
  },
  {
   "cell_type": "markdown",
   "metadata": {},
   "source": [
    "10. We saw that the region column stores a factor. You can corroborate this by typing:\n",
    "```\n",
    "class(murders$region)\n",
    "```\n",
    "With one line of code, use the functions levels and length to determine the number of regions defined by this dataset."
   ]
  },
  {
   "cell_type": "code",
   "execution_count": 178,
   "metadata": {
    "vscode": {
     "languageId": "r"
    }
   },
   "outputs": [
    {
     "data": {
      "text/html": [
       "'factor'"
      ],
      "text/latex": [
       "'factor'"
      ],
      "text/markdown": [
       "'factor'"
      ],
      "text/plain": [
       "[1] \"factor\""
      ]
     },
     "metadata": {},
     "output_type": "display_data"
    }
   ],
   "source": [
    "class(murders$region)"
   ]
  },
  {
   "cell_type": "markdown",
   "metadata": {},
   "source": [
    "11. The function `table` takes a vector and returns the frequency of each element. You can quickly see how many states are in each region by applying this function. Use this function in one line of code to create a table of number of states per region."
   ]
  },
  {
   "cell_type": "code",
   "execution_count": 179,
   "metadata": {
    "vscode": {
     "languageId": "r"
    }
   },
   "outputs": [
    {
     "data": {
      "text/plain": [
       "\n",
       "    Northeast         South North Central          West \n",
       "            9            17            12            13 "
      ]
     },
     "metadata": {},
     "output_type": "display_data"
    }
   ],
   "source": [
    "table(murders$region)"
   ]
  },
  {
   "cell_type": "markdown",
   "metadata": {},
   "source": [
    "12. Use the function `c` to create a vector with the average high temperatures in January for Beijing, Lagos, Paris, Rio de Janeiro, San Juan, and Toronto, which are 35, 88, 42, 84, 81, and 30 degrees Fahrenheit. Call the object `temp`.\n",
    "\n",
    "13. Now create a vector with the city names and call the object city.\n",
    "\n",
    "14. Use the names function and the objects defined in the previous exercises to associate the temperature data with its corresponding city.\n",
    "\n",
    "15. Use the `[` and : operators to access the temperature of the first three cities on the list.\n",
    "\n",
    "16. Use the `[` operator to access the temperature of Paris and San Juan.\n",
    "\n",
    "17. Use the `:` operator to create a sequence of numbers `13, 14, ...73`.\n",
    "\n",
    "18. Create a vector containing all the positive odd numbers smaller than 100."
   ]
  },
  {
   "cell_type": "code",
   "execution_count": 180,
   "metadata": {
    "vscode": {
     "languageId": "r"
    }
   },
   "outputs": [
    {
     "data": {
      "text/html": [
       "'numeric'"
      ],
      "text/latex": [
       "'numeric'"
      ],
      "text/markdown": [
       "'numeric'"
      ],
      "text/plain": [
       "[1] \"numeric\""
      ]
     },
     "metadata": {},
     "output_type": "display_data"
    },
    {
     "data": {
      "text/html": [
       "<strong>Rio de Janiero:</strong> 84"
      ],
      "text/latex": [
       "\\textbf{Rio de Janiero:} 84"
      ],
      "text/markdown": [
       "**Rio de Janiero:** 84"
      ],
      "text/plain": [
       "Rio de Janiero \n",
       "            84 "
      ]
     },
     "metadata": {},
     "output_type": "display_data"
    },
    {
     "data": {
      "text/html": [
       "<strong>Paris:</strong> 42"
      ],
      "text/latex": [
       "\\textbf{Paris:} 42"
      ],
      "text/markdown": [
       "**Paris:** 42"
      ],
      "text/plain": [
       "Paris \n",
       "   42 "
      ]
     },
     "metadata": {},
     "output_type": "display_data"
    },
    {
     "data": {
      "text/html": [
       "<strong>Paris:</strong> 42"
      ],
      "text/latex": [
       "\\textbf{Paris:} 42"
      ],
      "text/markdown": [
       "**Paris:** 42"
      ],
      "text/plain": [
       "Paris \n",
       "   42 "
      ]
     },
     "metadata": {},
     "output_type": "display_data"
    }
   ],
   "source": [
    "temp <- c(\"Beijing\" = 35, \"Lagos\" = 88, \"Paris\" = 42, \"Rio de Janiero\" = 84, \"San Juan\" = 81, \"Toronto\" = 30)\n",
    "\n",
    "class(temp)\n",
    "temp[\"Rio de Janiero\"]\n",
    "temp[3]\n",
    "\n",
    "temp2 <- c(35, 88, 42, 84, 81, 30)\n",
    "city <- c(\"Beijing\", \"Lagos\", \"Paris\", \"Rio de Janeiro\", \"San Juan\", \"Toronto\")\n",
    "names(temp2) <- city\n",
    "\n",
    "temp2[\"Paris\"]"
   ]
  },
  {
   "cell_type": "code",
   "execution_count": 181,
   "metadata": {
    "vscode": {
     "languageId": "r"
    }
   },
   "outputs": [
    {
     "data": {
      "text/html": [
       "<style>\n",
       ".dl-inline {width: auto; margin:0; padding: 0}\n",
       ".dl-inline>dt, .dl-inline>dd {float: none; width: auto; display: inline-block}\n",
       ".dl-inline>dt::after {content: \":\\0020\"; padding-right: .5ex}\n",
       ".dl-inline>dt:not(:first-of-type) {padding-left: .5ex}\n",
       "</style><dl class=dl-inline><dt>Beijing</dt><dd>35</dd><dt>Lagos</dt><dd>88</dd><dt>Paris</dt><dd>42</dd></dl>\n"
      ],
      "text/latex": [
       "\\begin{description*}\n",
       "\\item[Beijing] 35\n",
       "\\item[Lagos] 88\n",
       "\\item[Paris] 42\n",
       "\\end{description*}\n"
      ],
      "text/markdown": [
       "Beijing\n",
       ":   35Lagos\n",
       ":   88Paris\n",
       ":   42\n",
       "\n"
      ],
      "text/plain": [
       "Beijing   Lagos   Paris \n",
       "     35      88      42 "
      ]
     },
     "metadata": {},
     "output_type": "display_data"
    },
    {
     "data": {
      "text/html": [
       "<style>\n",
       ".dl-inline {width: auto; margin:0; padding: 0}\n",
       ".dl-inline>dt, .dl-inline>dd {float: none; width: auto; display: inline-block}\n",
       ".dl-inline>dt::after {content: \":\\0020\"; padding-right: .5ex}\n",
       ".dl-inline>dt:not(:first-of-type) {padding-left: .5ex}\n",
       "</style><dl class=dl-inline><dt>Paris</dt><dd>42</dd><dt>San Juan</dt><dd>81</dd></dl>\n"
      ],
      "text/latex": [
       "\\begin{description*}\n",
       "\\item[Paris] 42\n",
       "\\item[San Juan] 81\n",
       "\\end{description*}\n"
      ],
      "text/markdown": [
       "Paris\n",
       ":   42San Juan\n",
       ":   81\n",
       "\n"
      ],
      "text/plain": [
       "   Paris San Juan \n",
       "      42       81 "
      ]
     },
     "metadata": {},
     "output_type": "display_data"
    }
   ],
   "source": [
    "temp[1:3]\n",
    "temp[c(\"Paris\", \"San Juan\")]"
   ]
  },
  {
   "cell_type": "code",
   "execution_count": 182,
   "metadata": {
    "vscode": {
     "languageId": "r"
    }
   },
   "outputs": [
    {
     "data": {
      "text/html": [
       "'numeric'"
      ],
      "text/latex": [
       "'numeric'"
      ],
      "text/markdown": [
       "'numeric'"
      ],
      "text/plain": [
       "[1] \"numeric\""
      ]
     },
     "metadata": {},
     "output_type": "display_data"
    }
   ],
   "source": [
    "z = seq(1:62) + 11\n",
    "class(z)"
   ]
  },
  {
   "cell_type": "markdown",
   "metadata": {},
   "source": [
    "19. Create a vector of numbers that starts at 6, does not pass 55, and adds numbers in increments of 4/7: 6, 6 + 4/7, 6 + 8/7, and so on. How many numbers does the list have? Hint: use seq and length.\n",
    "\n",
    "20. What is the class of the following object `a <- seq(1, 10, 0.5)`?\n",
    "\n",
    "21. What is the class of the following object `a <- seq(1, 10)`?\n",
    "\n",
    "22. The class of class(a<-1) is numeric, not integer. R defaults to numeric and to force an integer, you need to add the letter `L`. Confirm that the class of `1L` is integer.\n",
    "\n",
    "23. Define the following vector:\n",
    "\n",
    "`x <- c(\"1\", \"3\", \"5\")`\n",
    "\n",
    "and coerce it to get integers."
   ]
  },
  {
   "cell_type": "code",
   "execution_count": 183,
   "metadata": {
    "vscode": {
     "languageId": "r"
    }
   },
   "outputs": [
    {
     "data": {
      "text/html": [
       "86"
      ],
      "text/latex": [
       "86"
      ],
      "text/markdown": [
       "86"
      ],
      "text/plain": [
       "[1] 86"
      ]
     },
     "metadata": {},
     "output_type": "display_data"
    },
    {
     "data": {
      "text/html": [
       "'numeric'"
      ],
      "text/latex": [
       "'numeric'"
      ],
      "text/markdown": [
       "'numeric'"
      ],
      "text/plain": [
       "[1] \"numeric\""
      ]
     },
     "metadata": {},
     "output_type": "display_data"
    },
    {
     "data": {
      "text/html": [
       "'integer'"
      ],
      "text/latex": [
       "'integer'"
      ],
      "text/markdown": [
       "'integer'"
      ],
      "text/plain": [
       "[1] \"integer\""
      ]
     },
     "metadata": {},
     "output_type": "display_data"
    },
    {
     "data": {
      "text/html": [
       "'numeric'"
      ],
      "text/latex": [
       "'numeric'"
      ],
      "text/markdown": [
       "'numeric'"
      ],
      "text/plain": [
       "[1] \"numeric\""
      ]
     },
     "metadata": {},
     "output_type": "display_data"
    },
    {
     "data": {
      "text/html": [
       "'integer'"
      ],
      "text/latex": [
       "'integer'"
      ],
      "text/markdown": [
       "'integer'"
      ],
      "text/plain": [
       "[1] \"integer\""
      ]
     },
     "metadata": {},
     "output_type": "display_data"
    }
   ],
   "source": [
    "n1 <- seq(6, 55, 4/7)\n",
    "length(n1)\n",
    "\n",
    "a <- seq(1, 10, 0.5)\n",
    "class(a)\n",
    "\n",
    "b <- seq(1, 10)\n",
    "class(b)\n",
    "class(1)\n",
    "class(1L)"
   ]
  },
  {
   "cell_type": "code",
   "execution_count": 184,
   "metadata": {
    "vscode": {
     "languageId": "r"
    }
   },
   "outputs": [
    {
     "data": {
      "text/html": [
       "'character'"
      ],
      "text/latex": [
       "'character'"
      ],
      "text/markdown": [
       "'character'"
      ],
      "text/plain": [
       "[1] \"character\""
      ]
     },
     "metadata": {},
     "output_type": "display_data"
    },
    {
     "data": {
      "text/html": [
       "'integer'"
      ],
      "text/latex": [
       "'integer'"
      ],
      "text/markdown": [
       "'integer'"
      ],
      "text/plain": [
       "[1] \"integer\""
      ]
     },
     "metadata": {},
     "output_type": "display_data"
    },
    {
     "data": {
      "text/html": [
       "<style>\n",
       ".list-inline {list-style: none; margin:0; padding: 0}\n",
       ".list-inline>li {display: inline-block}\n",
       ".list-inline>li:not(:last-child)::after {content: \"\\00b7\"; padding: 0 .5ex}\n",
       "</style>\n",
       "<ol class=list-inline><li>1</li><li>3</li><li>5</li></ol>\n"
      ],
      "text/latex": [
       "\\begin{enumerate*}\n",
       "\\item 1\n",
       "\\item 3\n",
       "\\item 5\n",
       "\\end{enumerate*}\n"
      ],
      "text/markdown": [
       "1. 1\n",
       "2. 3\n",
       "3. 5\n",
       "\n",
       "\n"
      ],
      "text/plain": [
       "[1] 1 3 5"
      ]
     },
     "metadata": {},
     "output_type": "display_data"
    }
   ],
   "source": [
    "x <- c(\"1\", \"3\", \"5\")\n",
    "class(x)\n",
    "y = as.integer(x)\n",
    "class(y)\n",
    "y"
   ]
  },
  {
   "cell_type": "markdown",
   "metadata": {},
   "source": [
    "24. For exercises 24-31 we will use the US murders dataset. Make sure you load it prior to starting. Use the $ operator to access the population size data and store it as the object pop. Then use the sort function to redefine pop so that it is sorted. Finally, use the `[` operator to report the smallest population size.\n",
    "\n",
    "25. Now instead of the smallest population size, find the index of the entry with the smallest population size. Hint: use order instead of sort.\n",
    "\n",
    "26. We can actually perform the same operation as in the previous exercise using the function which.min. Write one line of code that does this.\n",
    "\n",
    "27. Now we know how small the smallest state is and we know which row represents it. Which state is it? Define a variable states to be the state names from the murders data frame. Report the name of the state with the smallest population.\n",
    "\n",
    "28. You can create a data frame using the data.frame function. Here is a quick example:\n",
    "```\n",
    "temp <- c(35, 88, 42, 84, 81, 30)\n",
    "city <- c(\"Beijing\", \"Lagos\", \"Paris\", \"Rio de Janeiro\", \n",
    "          \"San Juan\", \"Toronto\")\n",
    "city_temps <- data.frame(name = city, temperature = temp)\n",
    "```\n",
    "Use the `rank` function to determine the population rank of each state from smallest population size to biggest. Save these ranks in an object called ranks, then create a data frame with the state name and its rank. Call the data `frame my_df`."
   ]
  },
  {
   "cell_type": "code",
   "execution_count": 185,
   "metadata": {
    "vscode": {
     "languageId": "r"
    }
   },
   "outputs": [
    {
     "data": {
      "text/html": [
       "563626"
      ],
      "text/latex": [
       "563626"
      ],
      "text/markdown": [
       "563626"
      ],
      "text/plain": [
       "[1] 563626"
      ]
     },
     "metadata": {},
     "output_type": "display_data"
    },
    {
     "data": {
      "text/html": [
       "<style>\n",
       ".list-inline {list-style: none; margin:0; padding: 0}\n",
       ".list-inline>li {display: inline-block}\n",
       ".list-inline>li:not(:last-child)::after {content: \"\\00b7\"; padding: 0 .5ex}\n",
       "</style>\n",
       "<ol class=list-inline><li>51</li><li>9</li><li>46</li><li>35</li><li>2</li><li>42</li><li>8</li><li>27</li><li>40</li><li>30</li><li>20</li><li>12</li><li>13</li><li>28</li><li>49</li><li>32</li><li>29</li><li>45</li><li>17</li><li>4</li><li>25</li><li>16</li><li>7</li><li>37</li><li>38</li><li>18</li><li>19</li><li>41</li><li>1</li><li>6</li><li>24</li><li>50</li><li>21</li><li>26</li><li>43</li><li>3</li><li>15</li><li>22</li><li>48</li><li>47</li><li>31</li><li>34</li><li>23</li><li>11</li><li>36</li><li>39</li><li>14</li><li>33</li><li>10</li><li>44</li><li>5</li></ol>\n"
      ],
      "text/latex": [
       "\\begin{enumerate*}\n",
       "\\item 51\n",
       "\\item 9\n",
       "\\item 46\n",
       "\\item 35\n",
       "\\item 2\n",
       "\\item 42\n",
       "\\item 8\n",
       "\\item 27\n",
       "\\item 40\n",
       "\\item 30\n",
       "\\item 20\n",
       "\\item 12\n",
       "\\item 13\n",
       "\\item 28\n",
       "\\item 49\n",
       "\\item 32\n",
       "\\item 29\n",
       "\\item 45\n",
       "\\item 17\n",
       "\\item 4\n",
       "\\item 25\n",
       "\\item 16\n",
       "\\item 7\n",
       "\\item 37\n",
       "\\item 38\n",
       "\\item 18\n",
       "\\item 19\n",
       "\\item 41\n",
       "\\item 1\n",
       "\\item 6\n",
       "\\item 24\n",
       "\\item 50\n",
       "\\item 21\n",
       "\\item 26\n",
       "\\item 43\n",
       "\\item 3\n",
       "\\item 15\n",
       "\\item 22\n",
       "\\item 48\n",
       "\\item 47\n",
       "\\item 31\n",
       "\\item 34\n",
       "\\item 23\n",
       "\\item 11\n",
       "\\item 36\n",
       "\\item 39\n",
       "\\item 14\n",
       "\\item 33\n",
       "\\item 10\n",
       "\\item 44\n",
       "\\item 5\n",
       "\\end{enumerate*}\n"
      ],
      "text/markdown": [
       "1. 51\n",
       "2. 9\n",
       "3. 46\n",
       "4. 35\n",
       "5. 2\n",
       "6. 42\n",
       "7. 8\n",
       "8. 27\n",
       "9. 40\n",
       "10. 30\n",
       "11. 20\n",
       "12. 12\n",
       "13. 13\n",
       "14. 28\n",
       "15. 49\n",
       "16. 32\n",
       "17. 29\n",
       "18. 45\n",
       "19. 17\n",
       "20. 4\n",
       "21. 25\n",
       "22. 16\n",
       "23. 7\n",
       "24. 37\n",
       "25. 38\n",
       "26. 18\n",
       "27. 19\n",
       "28. 41\n",
       "29. 1\n",
       "30. 6\n",
       "31. 24\n",
       "32. 50\n",
       "33. 21\n",
       "34. 26\n",
       "35. 43\n",
       "36. 3\n",
       "37. 15\n",
       "38. 22\n",
       "39. 48\n",
       "40. 47\n",
       "41. 31\n",
       "42. 34\n",
       "43. 23\n",
       "44. 11\n",
       "45. 36\n",
       "46. 39\n",
       "47. 14\n",
       "48. 33\n",
       "49. 10\n",
       "50. 44\n",
       "51. 5\n",
       "\n",
       "\n"
      ],
      "text/plain": [
       " [1] 51  9 46 35  2 42  8 27 40 30 20 12 13 28 49 32 29 45 17  4 25 16  7 37 38\n",
       "[26] 18 19 41  1  6 24 50 21 26 43  3 15 22 48 47 31 34 23 11 36 39 14 33 10 44\n",
       "[51]  5"
      ]
     },
     "metadata": {},
     "output_type": "display_data"
    },
    {
     "data": {
      "text/html": [
       "'WY'"
      ],
      "text/latex": [
       "'WY'"
      ],
      "text/markdown": [
       "'WY'"
      ],
      "text/plain": [
       "[1] \"WY\""
      ]
     },
     "metadata": {},
     "output_type": "display_data"
    },
    {
     "data": {
      "text/html": [
       "'WY'"
      ],
      "text/latex": [
       "'WY'"
      ],
      "text/markdown": [
       "'WY'"
      ],
      "text/plain": [
       "[1] \"WY\""
      ]
     },
     "metadata": {},
     "output_type": "display_data"
    },
    {
     "data": {
      "text/html": [
       "'Wyoming'"
      ],
      "text/latex": [
       "'Wyoming'"
      ],
      "text/markdown": [
       "'Wyoming'"
      ],
      "text/plain": [
       "[1] \"Wyoming\""
      ]
     },
     "metadata": {},
     "output_type": "display_data"
    }
   ],
   "source": [
    "pop = sort(murders$population)\n",
    "pop[1]\n",
    "t <- order(murders$population)\n",
    "t\n",
    "murders$abb[t[1]]\n",
    "\n",
    "x = which.min(murders$population)\n",
    "murders$abb[x]\n",
    "\n",
    "states  <- murders$state\n",
    "states[x]"
   ]
  },
  {
   "cell_type": "code",
   "execution_count": 186,
   "metadata": {
    "vscode": {
     "languageId": "r"
    }
   },
   "outputs": [],
   "source": [
    "temp <- c(35, 88, 42, 84, 81, 30)\n",
    "city <- c(\"Beijing\", \"Lagos\", \"Paris\", \"Rio de Janeiro\", \n",
    "          \"San Juan\", \"Toronto\")\n",
    "city_temps <- data.frame(name = city, temperature = temp)"
   ]
  },
  {
   "cell_type": "code",
   "execution_count": 187,
   "metadata": {
    "vscode": {
     "languageId": "r"
    }
   },
   "outputs": [
    {
     "data": {
      "text/html": [
       "<style>\n",
       ".list-inline {list-style: none; margin:0; padding: 0}\n",
       ".list-inline>li {display: inline-block}\n",
       ".list-inline>li:not(:last-child)::after {content: \"\\00b7\"; padding: 0 .5ex}\n",
       "</style>\n",
       "<ol class=list-inline><li>29</li><li>5</li><li>36</li><li>20</li><li>51</li><li>30</li><li>23</li><li>7</li><li>2</li><li>49</li><li>44</li><li>12</li><li>13</li><li>47</li><li>37</li><li>22</li><li>19</li><li>26</li><li>27</li><li>11</li><li>33</li><li>38</li><li>43</li><li>31</li><li>21</li><li>34</li><li>8</li><li>14</li><li>17</li><li>10</li><li>41</li><li>16</li><li>48</li><li>42</li><li>4</li><li>45</li><li>24</li><li>25</li><li>46</li><li>9</li><li>28</li><li>6</li><li>35</li><li>50</li><li>18</li><li>3</li><li>40</li><li>39</li><li>15</li><li>32</li><li>1</li></ol>\n"
      ],
      "text/latex": [
       "\\begin{enumerate*}\n",
       "\\item 29\n",
       "\\item 5\n",
       "\\item 36\n",
       "\\item 20\n",
       "\\item 51\n",
       "\\item 30\n",
       "\\item 23\n",
       "\\item 7\n",
       "\\item 2\n",
       "\\item 49\n",
       "\\item 44\n",
       "\\item 12\n",
       "\\item 13\n",
       "\\item 47\n",
       "\\item 37\n",
       "\\item 22\n",
       "\\item 19\n",
       "\\item 26\n",
       "\\item 27\n",
       "\\item 11\n",
       "\\item 33\n",
       "\\item 38\n",
       "\\item 43\n",
       "\\item 31\n",
       "\\item 21\n",
       "\\item 34\n",
       "\\item 8\n",
       "\\item 14\n",
       "\\item 17\n",
       "\\item 10\n",
       "\\item 41\n",
       "\\item 16\n",
       "\\item 48\n",
       "\\item 42\n",
       "\\item 4\n",
       "\\item 45\n",
       "\\item 24\n",
       "\\item 25\n",
       "\\item 46\n",
       "\\item 9\n",
       "\\item 28\n",
       "\\item 6\n",
       "\\item 35\n",
       "\\item 50\n",
       "\\item 18\n",
       "\\item 3\n",
       "\\item 40\n",
       "\\item 39\n",
       "\\item 15\n",
       "\\item 32\n",
       "\\item 1\n",
       "\\end{enumerate*}\n"
      ],
      "text/markdown": [
       "1. 29\n",
       "2. 5\n",
       "3. 36\n",
       "4. 20\n",
       "5. 51\n",
       "6. 30\n",
       "7. 23\n",
       "8. 7\n",
       "9. 2\n",
       "10. 49\n",
       "11. 44\n",
       "12. 12\n",
       "13. 13\n",
       "14. 47\n",
       "15. 37\n",
       "16. 22\n",
       "17. 19\n",
       "18. 26\n",
       "19. 27\n",
       "20. 11\n",
       "21. 33\n",
       "22. 38\n",
       "23. 43\n",
       "24. 31\n",
       "25. 21\n",
       "26. 34\n",
       "27. 8\n",
       "28. 14\n",
       "29. 17\n",
       "30. 10\n",
       "31. 41\n",
       "32. 16\n",
       "33. 48\n",
       "34. 42\n",
       "35. 4\n",
       "36. 45\n",
       "37. 24\n",
       "38. 25\n",
       "39. 46\n",
       "40. 9\n",
       "41. 28\n",
       "42. 6\n",
       "43. 35\n",
       "44. 50\n",
       "45. 18\n",
       "46. 3\n",
       "47. 40\n",
       "48. 39\n",
       "49. 15\n",
       "50. 32\n",
       "51. 1\n",
       "\n",
       "\n"
      ],
      "text/plain": [
       " [1] 29  5 36 20 51 30 23  7  2 49 44 12 13 47 37 22 19 26 27 11 33 38 43 31 21\n",
       "[26] 34  8 14 17 10 41 16 48 42  4 45 24 25 46  9 28  6 35 50 18  3 40 39 15 32\n",
       "[51]  1"
      ]
     },
     "metadata": {},
     "output_type": "display_data"
    },
    {
     "data": {
      "text/html": [
       "<table class=\"dataframe\">\n",
       "<caption>A data.frame: 51 × 2</caption>\n",
       "<thead>\n",
       "\t<tr><th scope=col>state</th><th scope=col>rank</th></tr>\n",
       "\t<tr><th scope=col>&lt;chr&gt;</th><th scope=col>&lt;dbl&gt;</th></tr>\n",
       "</thead>\n",
       "<tbody>\n",
       "\t<tr><td>California          </td><td>51</td></tr>\n",
       "\t<tr><td>Texas               </td><td>50</td></tr>\n",
       "\t<tr><td>Florida             </td><td>49</td></tr>\n",
       "\t<tr><td>New York            </td><td>48</td></tr>\n",
       "\t<tr><td>Illinois            </td><td>47</td></tr>\n",
       "\t<tr><td>Pennsylvania        </td><td>46</td></tr>\n",
       "\t<tr><td>Ohio                </td><td>45</td></tr>\n",
       "\t<tr><td>Georgia             </td><td>44</td></tr>\n",
       "\t<tr><td>Michigan            </td><td>43</td></tr>\n",
       "\t<tr><td>North Carolina      </td><td>42</td></tr>\n",
       "\t<tr><td>New Jersey          </td><td>41</td></tr>\n",
       "\t<tr><td>Virginia            </td><td>40</td></tr>\n",
       "\t<tr><td>Washington          </td><td>39</td></tr>\n",
       "\t<tr><td>Massachusetts       </td><td>38</td></tr>\n",
       "\t<tr><td>Indiana             </td><td>37</td></tr>\n",
       "\t<tr><td>Arizona             </td><td>36</td></tr>\n",
       "\t<tr><td>Tennessee           </td><td>35</td></tr>\n",
       "\t<tr><td>Missouri            </td><td>34</td></tr>\n",
       "\t<tr><td>Maryland            </td><td>33</td></tr>\n",
       "\t<tr><td>Wisconsin           </td><td>32</td></tr>\n",
       "\t<tr><td>Minnesota           </td><td>31</td></tr>\n",
       "\t<tr><td>Colorado            </td><td>30</td></tr>\n",
       "\t<tr><td>Alabama             </td><td>29</td></tr>\n",
       "\t<tr><td>South Carolina      </td><td>28</td></tr>\n",
       "\t<tr><td>Louisiana           </td><td>27</td></tr>\n",
       "\t<tr><td>Kentucky            </td><td>26</td></tr>\n",
       "\t<tr><td>Oregon              </td><td>25</td></tr>\n",
       "\t<tr><td>Oklahoma            </td><td>24</td></tr>\n",
       "\t<tr><td>Connecticut         </td><td>23</td></tr>\n",
       "\t<tr><td>Iowa                </td><td>22</td></tr>\n",
       "\t<tr><td>Mississippi         </td><td>21</td></tr>\n",
       "\t<tr><td>Arkansas            </td><td>20</td></tr>\n",
       "\t<tr><td>Kansas              </td><td>19</td></tr>\n",
       "\t<tr><td>Utah                </td><td>18</td></tr>\n",
       "\t<tr><td>Nevada              </td><td>17</td></tr>\n",
       "\t<tr><td>New Mexico          </td><td>16</td></tr>\n",
       "\t<tr><td>West Virginia       </td><td>15</td></tr>\n",
       "\t<tr><td>Nebraska            </td><td>14</td></tr>\n",
       "\t<tr><td>Idaho               </td><td>13</td></tr>\n",
       "\t<tr><td>Hawaii              </td><td>12</td></tr>\n",
       "\t<tr><td>Maine               </td><td>11</td></tr>\n",
       "\t<tr><td>New Hampshire       </td><td>10</td></tr>\n",
       "\t<tr><td>Rhode Island        </td><td> 9</td></tr>\n",
       "\t<tr><td>Montana             </td><td> 8</td></tr>\n",
       "\t<tr><td>Delaware            </td><td> 7</td></tr>\n",
       "\t<tr><td>South Dakota        </td><td> 6</td></tr>\n",
       "\t<tr><td>Alaska              </td><td> 5</td></tr>\n",
       "\t<tr><td>North Dakota        </td><td> 4</td></tr>\n",
       "\t<tr><td>Vermont             </td><td> 3</td></tr>\n",
       "\t<tr><td>District of Columbia</td><td> 2</td></tr>\n",
       "\t<tr><td>Wyoming             </td><td> 1</td></tr>\n",
       "</tbody>\n",
       "</table>\n"
      ],
      "text/latex": [
       "A data.frame: 51 × 2\n",
       "\\begin{tabular}{ll}\n",
       " state & rank\\\\\n",
       " <chr> & <dbl>\\\\\n",
       "\\hline\n",
       "\t California           & 51\\\\\n",
       "\t Texas                & 50\\\\\n",
       "\t Florida              & 49\\\\\n",
       "\t New York             & 48\\\\\n",
       "\t Illinois             & 47\\\\\n",
       "\t Pennsylvania         & 46\\\\\n",
       "\t Ohio                 & 45\\\\\n",
       "\t Georgia              & 44\\\\\n",
       "\t Michigan             & 43\\\\\n",
       "\t North Carolina       & 42\\\\\n",
       "\t New Jersey           & 41\\\\\n",
       "\t Virginia             & 40\\\\\n",
       "\t Washington           & 39\\\\\n",
       "\t Massachusetts        & 38\\\\\n",
       "\t Indiana              & 37\\\\\n",
       "\t Arizona              & 36\\\\\n",
       "\t Tennessee            & 35\\\\\n",
       "\t Missouri             & 34\\\\\n",
       "\t Maryland             & 33\\\\\n",
       "\t Wisconsin            & 32\\\\\n",
       "\t Minnesota            & 31\\\\\n",
       "\t Colorado             & 30\\\\\n",
       "\t Alabama              & 29\\\\\n",
       "\t South Carolina       & 28\\\\\n",
       "\t Louisiana            & 27\\\\\n",
       "\t Kentucky             & 26\\\\\n",
       "\t Oregon               & 25\\\\\n",
       "\t Oklahoma             & 24\\\\\n",
       "\t Connecticut          & 23\\\\\n",
       "\t Iowa                 & 22\\\\\n",
       "\t Mississippi          & 21\\\\\n",
       "\t Arkansas             & 20\\\\\n",
       "\t Kansas               & 19\\\\\n",
       "\t Utah                 & 18\\\\\n",
       "\t Nevada               & 17\\\\\n",
       "\t New Mexico           & 16\\\\\n",
       "\t West Virginia        & 15\\\\\n",
       "\t Nebraska             & 14\\\\\n",
       "\t Idaho                & 13\\\\\n",
       "\t Hawaii               & 12\\\\\n",
       "\t Maine                & 11\\\\\n",
       "\t New Hampshire        & 10\\\\\n",
       "\t Rhode Island         &  9\\\\\n",
       "\t Montana              &  8\\\\\n",
       "\t Delaware             &  7\\\\\n",
       "\t South Dakota         &  6\\\\\n",
       "\t Alaska               &  5\\\\\n",
       "\t North Dakota         &  4\\\\\n",
       "\t Vermont              &  3\\\\\n",
       "\t District of Columbia &  2\\\\\n",
       "\t Wyoming              &  1\\\\\n",
       "\\end{tabular}\n"
      ],
      "text/markdown": [
       "\n",
       "A data.frame: 51 × 2\n",
       "\n",
       "| state &lt;chr&gt; | rank &lt;dbl&gt; |\n",
       "|---|---|\n",
       "| California           | 51 |\n",
       "| Texas                | 50 |\n",
       "| Florida              | 49 |\n",
       "| New York             | 48 |\n",
       "| Illinois             | 47 |\n",
       "| Pennsylvania         | 46 |\n",
       "| Ohio                 | 45 |\n",
       "| Georgia              | 44 |\n",
       "| Michigan             | 43 |\n",
       "| North Carolina       | 42 |\n",
       "| New Jersey           | 41 |\n",
       "| Virginia             | 40 |\n",
       "| Washington           | 39 |\n",
       "| Massachusetts        | 38 |\n",
       "| Indiana              | 37 |\n",
       "| Arizona              | 36 |\n",
       "| Tennessee            | 35 |\n",
       "| Missouri             | 34 |\n",
       "| Maryland             | 33 |\n",
       "| Wisconsin            | 32 |\n",
       "| Minnesota            | 31 |\n",
       "| Colorado             | 30 |\n",
       "| Alabama              | 29 |\n",
       "| South Carolina       | 28 |\n",
       "| Louisiana            | 27 |\n",
       "| Kentucky             | 26 |\n",
       "| Oregon               | 25 |\n",
       "| Oklahoma             | 24 |\n",
       "| Connecticut          | 23 |\n",
       "| Iowa                 | 22 |\n",
       "| Mississippi          | 21 |\n",
       "| Arkansas             | 20 |\n",
       "| Kansas               | 19 |\n",
       "| Utah                 | 18 |\n",
       "| Nevada               | 17 |\n",
       "| New Mexico           | 16 |\n",
       "| West Virginia        | 15 |\n",
       "| Nebraska             | 14 |\n",
       "| Idaho                | 13 |\n",
       "| Hawaii               | 12 |\n",
       "| Maine                | 11 |\n",
       "| New Hampshire        | 10 |\n",
       "| Rhode Island         |  9 |\n",
       "| Montana              |  8 |\n",
       "| Delaware             |  7 |\n",
       "| South Dakota         |  6 |\n",
       "| Alaska               |  5 |\n",
       "| North Dakota         |  4 |\n",
       "| Vermont              |  3 |\n",
       "| District of Columbia |  2 |\n",
       "| Wyoming              |  1 |\n",
       "\n"
      ],
      "text/plain": [
       "   state                rank\n",
       "1  California           51  \n",
       "2  Texas                50  \n",
       "3  Florida              49  \n",
       "4  New York             48  \n",
       "5  Illinois             47  \n",
       "6  Pennsylvania         46  \n",
       "7  Ohio                 45  \n",
       "8  Georgia              44  \n",
       "9  Michigan             43  \n",
       "10 North Carolina       42  \n",
       "11 New Jersey           41  \n",
       "12 Virginia             40  \n",
       "13 Washington           39  \n",
       "14 Massachusetts        38  \n",
       "15 Indiana              37  \n",
       "16 Arizona              36  \n",
       "17 Tennessee            35  \n",
       "18 Missouri             34  \n",
       "19 Maryland             33  \n",
       "20 Wisconsin            32  \n",
       "21 Minnesota            31  \n",
       "22 Colorado             30  \n",
       "23 Alabama              29  \n",
       "24 South Carolina       28  \n",
       "25 Louisiana            27  \n",
       "26 Kentucky             26  \n",
       "27 Oregon               25  \n",
       "28 Oklahoma             24  \n",
       "29 Connecticut          23  \n",
       "30 Iowa                 22  \n",
       "31 Mississippi          21  \n",
       "32 Arkansas             20  \n",
       "33 Kansas               19  \n",
       "34 Utah                 18  \n",
       "35 Nevada               17  \n",
       "36 New Mexico           16  \n",
       "37 West Virginia        15  \n",
       "38 Nebraska             14  \n",
       "39 Idaho                13  \n",
       "40 Hawaii               12  \n",
       "41 Maine                11  \n",
       "42 New Hampshire        10  \n",
       "43 Rhode Island          9  \n",
       "44 Montana               8  \n",
       "45 Delaware              7  \n",
       "46 South Dakota          6  \n",
       "47 Alaska                5  \n",
       "48 North Dakota          4  \n",
       "49 Vermont               3  \n",
       "50 District of Columbia  2  \n",
       "51 Wyoming               1  "
      ]
     },
     "metadata": {},
     "output_type": "display_data"
    }
   ],
   "source": [
    "# Use the `rank` function to determine the population rank of each state from smallest population size to biggest.\n",
    "# Save these ranks in an object called ranks,\n",
    "#  then create a data frame with the state name and its rank. Call the data `frame my_df`.\n",
    "\n",
    "\n",
    "ranks = rank(murders$population)\n",
    "ranks\n",
    "\n",
    "frame_my_df <- data.frame(state = murders$state, rank = ranks) # !!!!\n",
    "frame_my_df <- arrange(frame_my_df, desc(rank))\n",
    "frame_my_df"
   ]
  },
  {
   "cell_type": "markdown",
   "metadata": {},
   "source": [
    "32. In exercises 28 we created the temp data frame:\n",
    "```\n",
    "temp <- c(35, 88, 42, 84, 81, 30)\n",
    "city <- c(\"Beijing\", \"Lagos\", \"Paris\", \"Rio de Janeiro\", \n",
    "          \"San Juan\", \"Toronto\")\n",
    "city_temps <- data.frame(name = city, temperature = temp)\n",
    "```\n",
    "Remake the data frame using the code above, but add a line that converts the temperature from Fahrenheit to Celsius. The conversion is \n",
    " \n",
    "$C=5/9*(F-32)$ ."
   ]
  },
  {
   "cell_type": "code",
   "execution_count": 188,
   "metadata": {
    "vscode": {
     "languageId": "r"
    }
   },
   "outputs": [
    {
     "data": {
      "text/html": [
       "<table class=\"dataframe\">\n",
       "<caption>A data.frame: 6 × 3</caption>\n",
       "<thead>\n",
       "\t<tr><th scope=col>name</th><th scope=col>temperature</th><th scope=col>celcious</th></tr>\n",
       "\t<tr><th scope=col>&lt;chr&gt;</th><th scope=col>&lt;dbl&gt;</th><th scope=col>&lt;dbl&gt;</th></tr>\n",
       "</thead>\n",
       "<tbody>\n",
       "\t<tr><td>Beijing       </td><td>35</td><td> 1.67</td></tr>\n",
       "\t<tr><td>Lagos         </td><td>88</td><td>31.11</td></tr>\n",
       "\t<tr><td>Paris         </td><td>42</td><td> 5.56</td></tr>\n",
       "\t<tr><td>Rio de Janeiro</td><td>84</td><td>28.89</td></tr>\n",
       "\t<tr><td>San Juan      </td><td>81</td><td>27.22</td></tr>\n",
       "\t<tr><td>Toronto       </td><td>30</td><td>-1.11</td></tr>\n",
       "</tbody>\n",
       "</table>\n"
      ],
      "text/latex": [
       "A data.frame: 6 × 3\n",
       "\\begin{tabular}{lll}\n",
       " name & temperature & celcious\\\\\n",
       " <chr> & <dbl> & <dbl>\\\\\n",
       "\\hline\n",
       "\t Beijing        & 35 &  1.67\\\\\n",
       "\t Lagos          & 88 & 31.11\\\\\n",
       "\t Paris          & 42 &  5.56\\\\\n",
       "\t Rio de Janeiro & 84 & 28.89\\\\\n",
       "\t San Juan       & 81 & 27.22\\\\\n",
       "\t Toronto        & 30 & -1.11\\\\\n",
       "\\end{tabular}\n"
      ],
      "text/markdown": [
       "\n",
       "A data.frame: 6 × 3\n",
       "\n",
       "| name &lt;chr&gt; | temperature &lt;dbl&gt; | celcious &lt;dbl&gt; |\n",
       "|---|---|---|\n",
       "| Beijing        | 35 |  1.67 |\n",
       "| Lagos          | 88 | 31.11 |\n",
       "| Paris          | 42 |  5.56 |\n",
       "| Rio de Janeiro | 84 | 28.89 |\n",
       "| San Juan       | 81 | 27.22 |\n",
       "| Toronto        | 30 | -1.11 |\n",
       "\n"
      ],
      "text/plain": [
       "  name           temperature celcious\n",
       "1 Beijing        35           1.67   \n",
       "2 Lagos          88          31.11   \n",
       "3 Paris          42           5.56   \n",
       "4 Rio de Janeiro 84          28.89   \n",
       "5 San Juan       81          27.22   \n",
       "6 Toronto        30          -1.11   "
      ]
     },
     "metadata": {},
     "output_type": "display_data"
    }
   ],
   "source": [
    "temp <- c(35, 88, 42, 84, 81, 30)\n",
    "city <- c(\"Beijing\", \"Lagos\", \"Paris\", \"Rio de Janeiro\", \n",
    "          \"San Juan\", \"Toronto\")\n",
    "city_temps <- data.frame(\n",
    "        name = city, \n",
    "        temperature = temp,\n",
    "        celcious = round(5/9*(temp-32), digits = 2)\n",
    "    )\n",
    "\n",
    "city_temps\n"
   ]
  },
  {
   "cell_type": "code",
   "execution_count": 189,
   "metadata": {
    "vscode": {
     "languageId": "r"
    }
   },
   "outputs": [
    {
     "data": {
      "text/html": [
       "1.64393456668156"
      ],
      "text/latex": [
       "1.64393456668156"
      ],
      "text/markdown": [
       "1.64393456668156"
      ],
      "text/plain": [
       "[1] 1.643935"
      ]
     },
     "metadata": {},
     "output_type": "display_data"
    },
    {
     "data": {
      "text/html": [
       "1.64493406684823"
      ],
      "text/latex": [
       "1.64493406684823"
      ],
      "text/markdown": [
       "1.64493406684823"
      ],
      "text/plain": [
       "[1] 1.644934"
      ]
     },
     "metadata": {},
     "output_type": "display_data"
    }
   ],
   "source": [
    "s <- 0\n",
    "for (x in 1:1000) {\n",
    "  s <- s + 1/(x*x)\n",
    "}\n",
    "s\n",
    "s1 = pi * pi / 6\n",
    "s1"
   ]
  },
  {
   "cell_type": "markdown",
   "metadata": {},
   "source": [
    "34. Compute the per 100,000 murder rate for each state and store it in the object murder_rate. Then compute the average murder rate for the US using the function mean. What is the average?"
   ]
  },
  {
   "cell_type": "markdown",
   "metadata": {},
   "source": [
    "35. Compute the per 100,000 murder rate for each state and store it in an object called murder_rate. Then use logical operators to create a logical vector named low that tells us which entries of murder_rate are lower than 1.\n",
    "\n",
    "36. Now use the results from the previous exercise and the function which to determine the indices of murder_rate associated with values lower than 1.\n",
    "\n",
    "37. Use the results from the previous exercise to report the names of the states with murder rates lower than 1."
   ]
  },
  {
   "cell_type": "code",
   "execution_count": 190,
   "metadata": {
    "vscode": {
     "languageId": "r"
    }
   },
   "outputs": [
    {
     "data": {
      "text/html": [
       "2.77912545066711"
      ],
      "text/latex": [
       "2.77912545066711"
      ],
      "text/markdown": [
       "2.77912545066711"
      ],
      "text/plain": [
       "[1] 2.779125"
      ]
     },
     "metadata": {},
     "output_type": "display_data"
    },
    {
     "data": {
      "text/html": [
       "<style>\n",
       ".list-inline {list-style: none; margin:0; padding: 0}\n",
       ".list-inline>li {display: inline-block}\n",
       ".list-inline>li:not(:last-child)::after {content: \"\\00b7\"; padding: 0 .5ex}\n",
       "</style>\n",
       "<ol class=list-inline><li>FALSE</li><li>FALSE</li><li>FALSE</li><li>FALSE</li><li>FALSE</li><li>FALSE</li><li>FALSE</li><li>FALSE</li><li>FALSE</li><li>FALSE</li><li>FALSE</li><li>TRUE</li><li>TRUE</li><li>FALSE</li><li>FALSE</li><li>TRUE</li><li>FALSE</li><li>FALSE</li><li>FALSE</li><li>TRUE</li><li>FALSE</li><li>FALSE</li><li>FALSE</li><li>TRUE</li><li>FALSE</li><li>FALSE</li><li>FALSE</li><li>FALSE</li><li>FALSE</li><li>TRUE</li><li>FALSE</li><li>FALSE</li><li>FALSE</li><li>FALSE</li><li>TRUE</li><li>FALSE</li><li>FALSE</li><li>TRUE</li><li>FALSE</li><li>FALSE</li><li>FALSE</li><li>TRUE</li><li>FALSE</li><li>FALSE</li><li>TRUE</li><li>TRUE</li><li>FALSE</li><li>FALSE</li><li>FALSE</li><li>FALSE</li><li>TRUE</li></ol>\n"
      ],
      "text/latex": [
       "\\begin{enumerate*}\n",
       "\\item FALSE\n",
       "\\item FALSE\n",
       "\\item FALSE\n",
       "\\item FALSE\n",
       "\\item FALSE\n",
       "\\item FALSE\n",
       "\\item FALSE\n",
       "\\item FALSE\n",
       "\\item FALSE\n",
       "\\item FALSE\n",
       "\\item FALSE\n",
       "\\item TRUE\n",
       "\\item TRUE\n",
       "\\item FALSE\n",
       "\\item FALSE\n",
       "\\item TRUE\n",
       "\\item FALSE\n",
       "\\item FALSE\n",
       "\\item FALSE\n",
       "\\item TRUE\n",
       "\\item FALSE\n",
       "\\item FALSE\n",
       "\\item FALSE\n",
       "\\item TRUE\n",
       "\\item FALSE\n",
       "\\item FALSE\n",
       "\\item FALSE\n",
       "\\item FALSE\n",
       "\\item FALSE\n",
       "\\item TRUE\n",
       "\\item FALSE\n",
       "\\item FALSE\n",
       "\\item FALSE\n",
       "\\item FALSE\n",
       "\\item TRUE\n",
       "\\item FALSE\n",
       "\\item FALSE\n",
       "\\item TRUE\n",
       "\\item FALSE\n",
       "\\item FALSE\n",
       "\\item FALSE\n",
       "\\item TRUE\n",
       "\\item FALSE\n",
       "\\item FALSE\n",
       "\\item TRUE\n",
       "\\item TRUE\n",
       "\\item FALSE\n",
       "\\item FALSE\n",
       "\\item FALSE\n",
       "\\item FALSE\n",
       "\\item TRUE\n",
       "\\end{enumerate*}\n"
      ],
      "text/markdown": [
       "1. FALSE\n",
       "2. FALSE\n",
       "3. FALSE\n",
       "4. FALSE\n",
       "5. FALSE\n",
       "6. FALSE\n",
       "7. FALSE\n",
       "8. FALSE\n",
       "9. FALSE\n",
       "10. FALSE\n",
       "11. FALSE\n",
       "12. TRUE\n",
       "13. TRUE\n",
       "14. FALSE\n",
       "15. FALSE\n",
       "16. TRUE\n",
       "17. FALSE\n",
       "18. FALSE\n",
       "19. FALSE\n",
       "20. TRUE\n",
       "21. FALSE\n",
       "22. FALSE\n",
       "23. FALSE\n",
       "24. TRUE\n",
       "25. FALSE\n",
       "26. FALSE\n",
       "27. FALSE\n",
       "28. FALSE\n",
       "29. FALSE\n",
       "30. TRUE\n",
       "31. FALSE\n",
       "32. FALSE\n",
       "33. FALSE\n",
       "34. FALSE\n",
       "35. TRUE\n",
       "36. FALSE\n",
       "37. FALSE\n",
       "38. TRUE\n",
       "39. FALSE\n",
       "40. FALSE\n",
       "41. FALSE\n",
       "42. TRUE\n",
       "43. FALSE\n",
       "44. FALSE\n",
       "45. TRUE\n",
       "46. TRUE\n",
       "47. FALSE\n",
       "48. FALSE\n",
       "49. FALSE\n",
       "50. FALSE\n",
       "51. TRUE\n",
       "\n",
       "\n"
      ],
      "text/plain": [
       " [1] FALSE FALSE FALSE FALSE FALSE FALSE FALSE FALSE FALSE FALSE FALSE  TRUE\n",
       "[13]  TRUE FALSE FALSE  TRUE FALSE FALSE FALSE  TRUE FALSE FALSE FALSE  TRUE\n",
       "[25] FALSE FALSE FALSE FALSE FALSE  TRUE FALSE FALSE FALSE FALSE  TRUE FALSE\n",
       "[37] FALSE  TRUE FALSE FALSE FALSE  TRUE FALSE FALSE  TRUE  TRUE FALSE FALSE\n",
       "[49] FALSE FALSE  TRUE"
      ]
     },
     "metadata": {},
     "output_type": "display_data"
    },
    {
     "data": {
      "text/html": [
       "<style>\n",
       ".list-inline {list-style: none; margin:0; padding: 0}\n",
       ".list-inline>li {display: inline-block}\n",
       ".list-inline>li:not(:last-child)::after {content: \"\\00b7\"; padding: 0 .5ex}\n",
       "</style>\n",
       "<ol class=list-inline><li>12</li><li>13</li><li>16</li><li>20</li><li>24</li><li>30</li><li>35</li><li>38</li><li>42</li><li>45</li><li>46</li><li>51</li></ol>\n"
      ],
      "text/latex": [
       "\\begin{enumerate*}\n",
       "\\item 12\n",
       "\\item 13\n",
       "\\item 16\n",
       "\\item 20\n",
       "\\item 24\n",
       "\\item 30\n",
       "\\item 35\n",
       "\\item 38\n",
       "\\item 42\n",
       "\\item 45\n",
       "\\item 46\n",
       "\\item 51\n",
       "\\end{enumerate*}\n"
      ],
      "text/markdown": [
       "1. 12\n",
       "2. 13\n",
       "3. 16\n",
       "4. 20\n",
       "5. 24\n",
       "6. 30\n",
       "7. 35\n",
       "8. 38\n",
       "9. 42\n",
       "10. 45\n",
       "11. 46\n",
       "12. 51\n",
       "\n",
       "\n"
      ],
      "text/plain": [
       " [1] 12 13 16 20 24 30 35 38 42 45 46 51"
      ]
     },
     "metadata": {},
     "output_type": "display_data"
    },
    {
     "data": {
      "text/html": [
       "<style>\n",
       ".list-inline {list-style: none; margin:0; padding: 0}\n",
       ".list-inline>li {display: inline-block}\n",
       ".list-inline>li:not(:last-child)::after {content: \"\\00b7\"; padding: 0 .5ex}\n",
       "</style>\n",
       "<ol class=list-inline><li>'Hawaii'</li><li>'Idaho'</li><li>'Iowa'</li><li>'Maine'</li><li>'Minnesota'</li><li>'New Hampshire'</li><li>'North Dakota'</li><li>'Oregon'</li><li>'South Dakota'</li><li>'Utah'</li><li>'Vermont'</li><li>'Wyoming'</li></ol>\n"
      ],
      "text/latex": [
       "\\begin{enumerate*}\n",
       "\\item 'Hawaii'\n",
       "\\item 'Idaho'\n",
       "\\item 'Iowa'\n",
       "\\item 'Maine'\n",
       "\\item 'Minnesota'\n",
       "\\item 'New Hampshire'\n",
       "\\item 'North Dakota'\n",
       "\\item 'Oregon'\n",
       "\\item 'South Dakota'\n",
       "\\item 'Utah'\n",
       "\\item 'Vermont'\n",
       "\\item 'Wyoming'\n",
       "\\end{enumerate*}\n"
      ],
      "text/markdown": [
       "1. 'Hawaii'\n",
       "2. 'Idaho'\n",
       "3. 'Iowa'\n",
       "4. 'Maine'\n",
       "5. 'Minnesota'\n",
       "6. 'New Hampshire'\n",
       "7. 'North Dakota'\n",
       "8. 'Oregon'\n",
       "9. 'South Dakota'\n",
       "10. 'Utah'\n",
       "11. 'Vermont'\n",
       "12. 'Wyoming'\n",
       "\n",
       "\n"
      ],
      "text/plain": [
       " [1] \"Hawaii\"        \"Idaho\"         \"Iowa\"          \"Maine\"        \n",
       " [5] \"Minnesota\"     \"New Hampshire\" \"North Dakota\"  \"Oregon\"       \n",
       " [9] \"South Dakota\"  \"Utah\"          \"Vermont\"       \"Wyoming\"      "
      ]
     },
     "metadata": {},
     "output_type": "display_data"
    }
   ],
   "source": [
    "murder_rate = murders$total/murders$population*100000\n",
    "avg = mean(murder_rate)\n",
    "avg\n",
    "\n",
    "low = murder_rate < 1\n",
    "low\n",
    "\n",
    "indices <- which(low)\n",
    "indices\n",
    "\n",
    "murders$state[indices]\n"
   ]
  },
  {
   "cell_type": "markdown",
   "metadata": {},
   "source": [
    "38. Now extend the code from the exercise to report the states in the Northeast with murder rates lower than 1. Hint: use the previously defined logical vector low and the logical operator &.\n",
    "\n",
    "39. In a previous exercise we computed the murder rate for each state and the average of these numbers. How many states are below the average?\n",
    "\n",
    "40. Use the match function to identify the states with abbreviations AK, MI, and IA. Hint: start by defining an index of the entries of murders$abb that match the three abbreviations, then use the `[` operator to extract the states.\n",
    "\n",
    "41. Use the %in% operator to create a logical vector that answers the question: which of the following are actual abbreviations: MA, ME, MI, MO, MU?"
   ]
  },
  {
   "cell_type": "code",
   "execution_count": 191,
   "metadata": {
    "vscode": {
     "languageId": "r"
    }
   },
   "outputs": [
    {
     "data": {
      "text/html": [
       "<style>\n",
       ".list-inline {list-style: none; margin:0; padding: 0}\n",
       ".list-inline>li {display: inline-block}\n",
       ".list-inline>li:not(:last-child)::after {content: \"\\00b7\"; padding: 0 .5ex}\n",
       "</style>\n",
       "<ol class=list-inline><li>'Maine'</li><li>'New Hampshire'</li><li>'Vermont'</li></ol>\n"
      ],
      "text/latex": [
       "\\begin{enumerate*}\n",
       "\\item 'Maine'\n",
       "\\item 'New Hampshire'\n",
       "\\item 'Vermont'\n",
       "\\end{enumerate*}\n"
      ],
      "text/markdown": [
       "1. 'Maine'\n",
       "2. 'New Hampshire'\n",
       "3. 'Vermont'\n",
       "\n",
       "\n"
      ],
      "text/plain": [
       "[1] \"Maine\"         \"New Hampshire\" \"Vermont\"      "
      ]
     },
     "metadata": {},
     "output_type": "display_data"
    },
    {
     "data": {
      "text/html": [
       "27"
      ],
      "text/latex": [
       "27"
      ],
      "text/markdown": [
       "27"
      ],
      "text/plain": [
       "[1] 27"
      ]
     },
     "metadata": {},
     "output_type": "display_data"
    }
   ],
   "source": [
    "murders$state[low & murders$region == \"Northeast\"]\n",
    "\n",
    "under_avg <- murder_rate < avg\n",
    "length(murders$state[under_avg])"
   ]
  },
  {
   "cell_type": "code",
   "execution_count": 192,
   "metadata": {
    "vscode": {
     "languageId": "r"
    }
   },
   "outputs": [
    {
     "data": {
      "text/html": [
       "<style>\n",
       ".list-inline {list-style: none; margin:0; padding: 0}\n",
       ".list-inline>li {display: inline-block}\n",
       ".list-inline>li:not(:last-child)::after {content: \"\\00b7\"; padding: 0 .5ex}\n",
       "</style>\n",
       "<ol class=list-inline><li>2</li><li>23</li><li>16</li></ol>\n"
      ],
      "text/latex": [
       "\\begin{enumerate*}\n",
       "\\item 2\n",
       "\\item 23\n",
       "\\item 16\n",
       "\\end{enumerate*}\n"
      ],
      "text/markdown": [
       "1. 2\n",
       "2. 23\n",
       "3. 16\n",
       "\n",
       "\n"
      ],
      "text/plain": [
       "[1]  2 23 16"
      ]
     },
     "metadata": {},
     "output_type": "display_data"
    },
    {
     "data": {
      "text/html": [
       "<style>\n",
       ".list-inline {list-style: none; margin:0; padding: 0}\n",
       ".list-inline>li {display: inline-block}\n",
       ".list-inline>li:not(:last-child)::after {content: \"\\00b7\"; padding: 0 .5ex}\n",
       "</style>\n",
       "<ol class=list-inline><li>'Alaska'</li><li>'Michigan'</li><li>'Iowa'</li></ol>\n"
      ],
      "text/latex": [
       "\\begin{enumerate*}\n",
       "\\item 'Alaska'\n",
       "\\item 'Michigan'\n",
       "\\item 'Iowa'\n",
       "\\end{enumerate*}\n"
      ],
      "text/markdown": [
       "1. 'Alaska'\n",
       "2. 'Michigan'\n",
       "3. 'Iowa'\n",
       "\n",
       "\n"
      ],
      "text/plain": [
       "[1] \"Alaska\"   \"Michigan\" \"Iowa\"    "
      ]
     },
     "metadata": {},
     "output_type": "display_data"
    },
    {
     "data": {
      "text/html": [
       "<style>\n",
       ".list-inline {list-style: none; margin:0; padding: 0}\n",
       ".list-inline>li {display: inline-block}\n",
       ".list-inline>li:not(:last-child)::after {content: \"\\00b7\"; padding: 0 .5ex}\n",
       "</style>\n",
       "<ol class=list-inline><li>TRUE</li><li>TRUE</li><li>TRUE</li><li>TRUE</li><li>FALSE</li></ol>\n"
      ],
      "text/latex": [
       "\\begin{enumerate*}\n",
       "\\item TRUE\n",
       "\\item TRUE\n",
       "\\item TRUE\n",
       "\\item TRUE\n",
       "\\item FALSE\n",
       "\\end{enumerate*}\n"
      ],
      "text/markdown": [
       "1. TRUE\n",
       "2. TRUE\n",
       "3. TRUE\n",
       "4. TRUE\n",
       "5. FALSE\n",
       "\n",
       "\n"
      ],
      "text/plain": [
       "[1]  TRUE  TRUE  TRUE  TRUE FALSE"
      ]
     },
     "metadata": {},
     "output_type": "display_data"
    }
   ],
   "source": [
    "AMI = match(c(\"AK\", \"MI\", \"IA\"), murders$abb)\n",
    "AMI\n",
    "murders$state[AMI]\n",
    "\n",
    "MMMM <- c(\"MA\", \"ME\", \"MI\", \"MO\", \"MU\") \n",
    "MM_TRUE <- MMMM %in% murders$abb \n",
    "MM_TRUE"
   ]
  },
  {
   "cell_type": "markdown",
   "metadata": {},
   "source": [
    "\n",
    "42. Extend the code you used in exercise 7 to report the one entry that is not an actual abbreviation. Hint: use the ! operator, which turns FALSE into TRUE and vice versa, then which to obtain an index.\n",
    "\n",
    "43. We made a plot of total murders versus population and noted a strong relationship. Not surprisingly, states with larger populations had more murders.\n",
    "```\n",
    "population_in_millions <- murders$population/10^6\n",
    "total_gun_murders <- murders$total\n",
    "plot(population_in_millions, total_gun_murders)\n",
    "```\n",
    "Keep in mind that many states have populations below 5 million and are bunched up. We may gain further insights from making this plot in the log scale. Transform the variables using the log10 transformation and then plot them.\n",
    "\n",
    "44. Create a histogram of the state populations.\n",
    "\n",
    "45. Generate boxplots of the state populations by region."
   ]
  },
  {
   "cell_type": "code",
   "execution_count": 193,
   "metadata": {
    "vscode": {
     "languageId": "r"
    }
   },
   "outputs": [
    {
     "name": "stdout",
     "output_type": "stream",
     "text": [
      "[1] \"MU\"\n"
     ]
    }
   ],
   "source": [
    "for (i in 1:length(MMMM)) {\n",
    "  if (!MM_TRUE[i]){\n",
    "    print(MMMM[i])\n",
    "  }\n",
    "}"
   ]
  },
  {
   "cell_type": "code",
   "execution_count": 194,
   "metadata": {
    "vscode": {
     "languageId": "r"
    }
   },
   "outputs": [
    {
     "data": {
      "image/png": "[encoded data removed]",
      "text/plain": [
       "plot without title"
      ]
     },
     "metadata": {
      "image/png": {
       "height": 420,
       "width": 420
      }
     },
     "output_type": "display_data"
    }
   ],
   "source": [
    "population_in_millions <- log10(murders$population/10^6)\n",
    "total_gun_murders <- log10(murders$total)\n",
    "plot(population_in_millions, total_gun_murders)\n"
   ]
  },
  {
   "cell_type": "code",
   "execution_count": 195,
   "metadata": {
    "vscode": {
     "languageId": "r"
    }
   },
   "outputs": [
    {
     "data": {
      "image/png": "[encoded data removed]",
      "text/plain": [
       "Plot with title \"Histogram of murders$population/10^6\""
      ]
     },
     "metadata": {
      "image/png": {
       "height": 420,
       "width": 420
      }
     },
     "output_type": "display_data"
    }
   ],
   "source": [
    "hist(murders$population/10^6)"
   ]
  },
  {
   "cell_type": "code",
   "execution_count": 196,
   "metadata": {
    "vscode": {
     "languageId": "r"
    }
   },
   "outputs": [
    {
     "data": {
      "image/png": "[encoded data removed]",
      "text/plain": [
       "plot without title"
      ]
     },
     "metadata": {
      "image/png": {
       "height": 420,
       "width": 420
      }
     },
     "output_type": "display_data"
    }
   ],
   "source": [
    "boxplot(murders$population/10^6 ~ murders$region, data = murders)"
   ]
  }
 ],
 "metadata": {
  "kernelspec": {
   "display_name": "R",
   "language": "R",
   "name": "ir"
  },
  "language_info": {
   "codemirror_mode": "r",
   "file_extension": ".r",
   "mimetype": "text/x-r-source",
   "name": "R",
   "pygments_lexer": "r",
   "version": "4.3.2"
  }
 },
 "nbformat": 4,
 "nbformat_minor": 2
}
