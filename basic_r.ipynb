{
 "cells": [
  {
   "cell_type": "markdown",
   "metadata": {},
   "source": [
    "# R INRODUCTION\n",
    "\n",
    "[Learn from w3schools](https://www.w3schools.com/r/r_intro.asp)\n",
    "\n",
    "* It is a great resource for data analysis, data visualization, data science and machine learning\n",
    "* It provides many statistical techniques (such as statistical tests, classification, clustering and data reduction)\n",
    "* It is easy to draw graphs in R, like pie charts, histograms, box plot, scatter plot, etc++\n",
    "* It works on different platforms (Windows, Mac, Linux)\n",
    "* It is open-source and free\n",
    "* It has a large community support\n",
    "* It has many packages (libraries of functions) that can be used to solve different problems\n",
    "\n",
    "## How to install:\n",
    "[How to Install R](https://cloud.r-project.org/)\n",
    "\n",
    "[R with Jupyter Notebook](https://marketsplash.com/tutorials/r/how-to-use-r-in-jupyter-notebooks/)\n",
    "\n",
    "[R with VSCode](https://code.visualstudio.com/docs/languages/r)"
   ]
  },
  {
   "cell_type": "markdown",
   "metadata": {},
   "source": [
    "## R Syntax"
   ]
  },
  {
   "cell_type": "code",
   "execution_count": 193,
   "metadata": {
    "vscode": {
     "languageId": "r"
    }
   },
   "outputs": [
    {
     "data": {
      "text/html": [
       "'Hello World!'"
      ],
      "text/latex": [
       "'Hello World!'"
      ],
      "text/markdown": [
       "'Hello World!'"
      ],
      "text/plain": [
       "[1] \"Hello World!\""
      ]
     },
     "metadata": {},
     "output_type": "display_data"
    },
    {
     "data": {
      "text/html": [
       "10"
      ],
      "text/latex": [
       "10"
      ],
      "text/markdown": [
       "10"
      ],
      "text/plain": [
       "[1] 10"
      ]
     },
     "metadata": {},
     "output_type": "display_data"
    }
   ],
   "source": [
    "\"Hello World!\"\n",
    "5 + 5"
   ]
  },
  {
   "cell_type": "code",
   "execution_count": 194,
   "metadata": {
    "vscode": {
     "languageId": "r"
    }
   },
   "outputs": [
    {
     "name": "stdout",
     "output_type": "stream",
     "text": [
      "[1] 1\n",
      "[1] 2\n",
      "[1] 3\n",
      "[1] 4\n",
      "[1] 5\n",
      "[1] 6\n",
      "[1] 7\n",
      "[1] 8\n",
      "[1] 9\n",
      "[1] 10\n"
     ]
    }
   ],
   "source": [
    "for (x in 1:10) {\n",
    "  print(x)\n",
    "}"
   ]
  },
  {
   "cell_type": "code",
   "execution_count": 195,
   "metadata": {
    "vscode": {
     "languageId": "r"
    }
   },
   "outputs": [
    {
     "name": "stdout",
     "output_type": "stream",
     "text": [
      "[1] \"Hello World!\"\n"
     ]
    }
   ],
   "source": [
    "# This is a comment\n",
    "print(\"Hello World!\")"
   ]
  },
  {
   "cell_type": "markdown",
   "metadata": {},
   "source": [
    "## R Variables\n",
    "### Creating Variables in R"
   ]
  },
  {
   "cell_type": "code",
   "execution_count": 196,
   "metadata": {
    "vscode": {
     "languageId": "r"
    }
   },
   "outputs": [
    {
     "data": {
      "text/html": [
       "'John'"
      ],
      "text/latex": [
       "'John'"
      ],
      "text/markdown": [
       "'John'"
      ],
      "text/plain": [
       "[1] \"John\""
      ]
     },
     "metadata": {},
     "output_type": "display_data"
    },
    {
     "data": {
      "text/html": [
       "40"
      ],
      "text/latex": [
       "40"
      ],
      "text/markdown": [
       "40"
      ],
      "text/plain": [
       "[1] 40"
      ]
     },
     "metadata": {},
     "output_type": "display_data"
    }
   ],
   "source": [
    "name <- \"John\"\n",
    "age <- 40\n",
    "\n",
    "name   # output \"John\"\n",
    "age    # output 40"
   ]
  },
  {
   "cell_type": "code",
   "execution_count": 197,
   "metadata": {
    "vscode": {
     "languageId": "r"
    }
   },
   "outputs": [
    {
     "data": {
      "text/html": [
       "'John Doe'"
      ],
      "text/latex": [
       "'John Doe'"
      ],
      "text/markdown": [
       "'John Doe'"
      ],
      "text/plain": [
       "[1] \"John Doe\""
      ]
     },
     "metadata": {},
     "output_type": "display_data"
    }
   ],
   "source": [
    "name <- \"John Doe\"\n",
    "\n",
    "name # auto-print the value of the name variable"
   ]
  },
  {
   "cell_type": "code",
   "execution_count": 198,
   "metadata": {
    "vscode": {
     "languageId": "r"
    }
   },
   "outputs": [
    {
     "name": "stdout",
     "output_type": "stream",
     "text": [
      "[1] 1\n",
      "[1] 2\n",
      "[1] 3\n",
      "[1] 4\n",
      "[1] 5\n",
      "[1] 6\n",
      "[1] 7\n",
      "[1] 8\n",
      "[1] 9\n",
      "[1] 10\n"
     ]
    }
   ],
   "source": [
    "for (x in 1:10) {\n",
    "  print(x)\n",
    "}"
   ]
  },
  {
   "cell_type": "markdown",
   "metadata": {},
   "source": [
    "### Concatenate Elements"
   ]
  },
  {
   "cell_type": "code",
   "execution_count": 199,
   "metadata": {
    "vscode": {
     "languageId": "r"
    }
   },
   "outputs": [
    {
     "data": {
      "text/html": [
       "'R is awesome'"
      ],
      "text/latex": [
       "'R is awesome'"
      ],
      "text/markdown": [
       "'R is awesome'"
      ],
      "text/plain": [
       "[1] \"R is awesome\""
      ]
     },
     "metadata": {},
     "output_type": "display_data"
    }
   ],
   "source": [
    "text <- \"awesome\"\n",
    "\n",
    "paste(\"R is\", text)"
   ]
  },
  {
   "cell_type": "code",
   "execution_count": 200,
   "metadata": {
    "vscode": {
     "languageId": "r"
    }
   },
   "outputs": [
    {
     "data": {
      "text/html": [
       "'R is awesome'"
      ],
      "text/latex": [
       "'R is awesome'"
      ],
      "text/markdown": [
       "'R is awesome'"
      ],
      "text/plain": [
       "[1] \"R is awesome\""
      ]
     },
     "metadata": {},
     "output_type": "display_data"
    }
   ],
   "source": [
    "text1 <- \"R is\"\n",
    "text2 <- \"awesome\"\n",
    "\n",
    "paste(text1, text2)"
   ]
  },
  {
   "cell_type": "code",
   "execution_count": 201,
   "metadata": {
    "vscode": {
     "languageId": "r"
    }
   },
   "outputs": [
    {
     "data": {
      "text/html": [
       "15"
      ],
      "text/latex": [
       "15"
      ],
      "text/markdown": [
       "15"
      ],
      "text/plain": [
       "[1] 15"
      ]
     },
     "metadata": {},
     "output_type": "display_data"
    }
   ],
   "source": [
    "num1 <- 5\n",
    "num2 <- 10\n",
    "\n",
    "num1 + num2"
   ]
  },
  {
   "cell_type": "markdown",
   "metadata": {},
   "source": [
    "### Multiple Variables"
   ]
  },
  {
   "cell_type": "code",
   "execution_count": 202,
   "metadata": {
    "vscode": {
     "languageId": "r"
    }
   },
   "outputs": [
    {
     "data": {
      "text/html": [
       "'Orange'"
      ],
      "text/latex": [
       "'Orange'"
      ],
      "text/markdown": [
       "'Orange'"
      ],
      "text/plain": [
       "[1] \"Orange\""
      ]
     },
     "metadata": {},
     "output_type": "display_data"
    },
    {
     "data": {
      "text/html": [
       "'Orange'"
      ],
      "text/latex": [
       "'Orange'"
      ],
      "text/markdown": [
       "'Orange'"
      ],
      "text/plain": [
       "[1] \"Orange\""
      ]
     },
     "metadata": {},
     "output_type": "display_data"
    },
    {
     "data": {
      "text/html": [
       "'Orange'"
      ],
      "text/latex": [
       "'Orange'"
      ],
      "text/markdown": [
       "'Orange'"
      ],
      "text/plain": [
       "[1] \"Orange\""
      ]
     },
     "metadata": {},
     "output_type": "display_data"
    }
   ],
   "source": [
    "# Assign the same value to multiple variables in one line\n",
    "var1 <- var2 <- var3 <- \"Orange\"\n",
    "\n",
    "# Print variable values\n",
    "var1\n",
    "var2\n",
    "var3"
   ]
  },
  {
   "cell_type": "markdown",
   "metadata": {},
   "source": [
    "### Variable Names (Identifiers)\n",
    "* A variable can have a short name (like `x` and `y`) or a more descriptive name (`age`, `carname`, `total_volume`). Rules for R variables are:\n",
    "* A variable name must start with a letter and can be a combination of letters, digits, period(`.`)\n",
    "* and underscore(`_`). If it starts with period(`.`), it cannot be followed by a digit.\n",
    "* A variable name cannot start with a number or underscore (`_`)\n",
    "* Variable names are case-sensitive (`age`, `Age` and `AGE` are three different variables)\n",
    "* Reserved words cannot be used as variables (`TRUE`, `FALSE`, `NULL`, `if`...)"
   ]
  },
  {
   "cell_type": "code",
   "execution_count": 203,
   "metadata": {
    "vscode": {
     "languageId": "r"
    }
   },
   "outputs": [],
   "source": [
    "# Legal variable names:\n",
    "myvar <- \"John\"\n",
    "my_var <- \"John\"\n",
    "myVar <- \"John\"\n",
    "MYVAR <- \"John\"\n",
    "myvar2 <- \"John\"\n",
    ".myvar <- \"John\"\n",
    "\n",
    "# Illegal variable names:\n",
    "# 2myvar <- \"John\"\n",
    "# my-var <- \"John\"\n",
    "# my var <- \"John\"\n",
    "# _my_var <- \"John\"\n",
    "# my_v@ar <- \"John\"\n",
    "# TRUE <- \"John\""
   ]
  },
  {
   "cell_type": "code",
   "execution_count": 204,
   "metadata": {
    "vscode": {
     "languageId": "r"
    }
   },
   "outputs": [],
   "source": [
    "my_var <- 30 # my_var is type of numeric\n",
    "my_var <- \"Sally\" # my_var is now of type character (aka string)"
   ]
  },
  {
   "cell_type": "markdown",
   "metadata": {},
   "source": [
    "## R Basic Data Types\n",
    "Basic data types in R can be divided into the following types:\n",
    "\n",
    "* `numeric` - (10.5, 55, 787)\n",
    "* `integer` - (1L, 55L, 100L, where the letter \"L\" declares this as an integer)\n",
    "* `complex` - (9 + 3i, where \"i\" is the imaginary part)\n",
    "* character (a.k.a. `string`) - (\"k\", \"R is exciting\", \"FALSE\", \"11.5\")\n",
    "* logical (a.k.a. `boolean`) - (**TRUE** or **FALSE**)\n",
    "\n",
    "We can use the class() function to check the data type of a variable:"
   ]
  },
  {
   "cell_type": "code",
   "execution_count": 205,
   "metadata": {
    "vscode": {
     "languageId": "r"
    }
   },
   "outputs": [
    {
     "data": {
      "text/html": [
       "'numeric'"
      ],
      "text/latex": [
       "'numeric'"
      ],
      "text/markdown": [
       "'numeric'"
      ],
      "text/plain": [
       "[1] \"numeric\""
      ]
     },
     "metadata": {},
     "output_type": "display_data"
    },
    {
     "data": {
      "text/html": [
       "'integer'"
      ],
      "text/latex": [
       "'integer'"
      ],
      "text/markdown": [
       "'integer'"
      ],
      "text/plain": [
       "[1] \"integer\""
      ]
     },
     "metadata": {},
     "output_type": "display_data"
    },
    {
     "data": {
      "text/html": [
       "'complex'"
      ],
      "text/latex": [
       "'complex'"
      ],
      "text/markdown": [
       "'complex'"
      ],
      "text/plain": [
       "[1] \"complex\""
      ]
     },
     "metadata": {},
     "output_type": "display_data"
    },
    {
     "data": {
      "text/html": [
       "'character'"
      ],
      "text/latex": [
       "'character'"
      ],
      "text/markdown": [
       "'character'"
      ],
      "text/plain": [
       "[1] \"character\""
      ]
     },
     "metadata": {},
     "output_type": "display_data"
    },
    {
     "data": {
      "text/html": [
       "'logical'"
      ],
      "text/latex": [
       "'logical'"
      ],
      "text/markdown": [
       "'logical'"
      ],
      "text/plain": [
       "[1] \"logical\""
      ]
     },
     "metadata": {},
     "output_type": "display_data"
    }
   ],
   "source": [
    "# numeric\n",
    "x <- 10.5\n",
    "class(x)\n",
    "\n",
    "# integer\n",
    "x <- 1000L\n",
    "class(x)\n",
    "\n",
    "# complex\n",
    "x <- 9i + 3\n",
    "class(x)\n",
    "\n",
    "# character/string\n",
    "x <- \"R is exciting\"\n",
    "class(x)\n",
    "\n",
    "# logical/boolean\n",
    "x <- TRUE\n",
    "class(x)"
   ]
  },
  {
   "cell_type": "markdown",
   "metadata": {},
   "source": [
    "## R Numbers\n",
    "There are three number types in R:\n",
    "\n",
    "* numeric\n",
    "* integer\n",
    "* complex\n",
    "\n",
    "Variables of number types are created when you assign a value to them:"
   ]
  },
  {
   "cell_type": "code",
   "execution_count": 206,
   "metadata": {
    "vscode": {
     "languageId": "r"
    }
   },
   "outputs": [],
   "source": [
    "x <- 10.5   # numeric\n",
    "y <- 10L    # integer\n",
    "z <- 1i     # complex"
   ]
  },
  {
   "cell_type": "code",
   "execution_count": 207,
   "metadata": {
    "vscode": {
     "languageId": "r"
    }
   },
   "outputs": [
    {
     "data": {
      "text/html": [
       "10.5"
      ],
      "text/latex": [
       "10.5"
      ],
      "text/markdown": [
       "10.5"
      ],
      "text/plain": [
       "[1] 10.5"
      ]
     },
     "metadata": {},
     "output_type": "display_data"
    },
    {
     "data": {
      "text/html": [
       "55"
      ],
      "text/latex": [
       "55"
      ],
      "text/markdown": [
       "55"
      ],
      "text/plain": [
       "[1] 55"
      ]
     },
     "metadata": {},
     "output_type": "display_data"
    },
    {
     "data": {
      "text/html": [
       "'numeric'"
      ],
      "text/latex": [
       "'numeric'"
      ],
      "text/markdown": [
       "'numeric'"
      ],
      "text/plain": [
       "[1] \"numeric\""
      ]
     },
     "metadata": {},
     "output_type": "display_data"
    },
    {
     "data": {
      "text/html": [
       "'numeric'"
      ],
      "text/latex": [
       "'numeric'"
      ],
      "text/markdown": [
       "'numeric'"
      ],
      "text/plain": [
       "[1] \"numeric\""
      ]
     },
     "metadata": {},
     "output_type": "display_data"
    }
   ],
   "source": [
    "# numeric\n",
    "x <- 10.5\n",
    "y <- 55\n",
    "\n",
    "# Print values of x and y\n",
    "x\n",
    "y\n",
    "\n",
    "# Print the class name of x and y\n",
    "class(x)\n",
    "class(y)"
   ]
  },
  {
   "cell_type": "code",
   "execution_count": 208,
   "metadata": {
    "vscode": {
     "languageId": "r"
    }
   },
   "outputs": [
    {
     "data": {
      "text/html": [
       "1000"
      ],
      "text/latex": [
       "1000"
      ],
      "text/markdown": [
       "1000"
      ],
      "text/plain": [
       "[1] 1000"
      ]
     },
     "metadata": {},
     "output_type": "display_data"
    },
    {
     "data": {
      "text/html": [
       "55"
      ],
      "text/latex": [
       "55"
      ],
      "text/markdown": [
       "55"
      ],
      "text/plain": [
       "[1] 55"
      ]
     },
     "metadata": {},
     "output_type": "display_data"
    },
    {
     "data": {
      "text/html": [
       "'integer'"
      ],
      "text/latex": [
       "'integer'"
      ],
      "text/markdown": [
       "'integer'"
      ],
      "text/plain": [
       "[1] \"integer\""
      ]
     },
     "metadata": {},
     "output_type": "display_data"
    },
    {
     "data": {
      "text/html": [
       "'integer'"
      ],
      "text/latex": [
       "'integer'"
      ],
      "text/markdown": [
       "'integer'"
      ],
      "text/plain": [
       "[1] \"integer\""
      ]
     },
     "metadata": {},
     "output_type": "display_data"
    }
   ],
   "source": [
    "# integer\n",
    "x <- 1000L\n",
    "y <- 55L\n",
    "\n",
    "# Print values of x and y\n",
    "x\n",
    "y\n",
    "\n",
    "# Print the class name of x and y\n",
    "class(x)\n",
    "class(y)"
   ]
  },
  {
   "cell_type": "code",
   "execution_count": 209,
   "metadata": {
    "vscode": {
     "languageId": "r"
    }
   },
   "outputs": [
    {
     "data": {
      "text/html": [
       "3+5i"
      ],
      "text/latex": [
       "3+5i"
      ],
      "text/markdown": [
       "3+5i"
      ],
      "text/plain": [
       "[1] 3+5i"
      ]
     },
     "metadata": {},
     "output_type": "display_data"
    },
    {
     "data": {
      "text/html": [
       "0+5i"
      ],
      "text/latex": [
       "0+5i"
      ],
      "text/markdown": [
       "0+5i"
      ],
      "text/plain": [
       "[1] 0+5i"
      ]
     },
     "metadata": {},
     "output_type": "display_data"
    },
    {
     "data": {
      "text/html": [
       "'complex'"
      ],
      "text/latex": [
       "'complex'"
      ],
      "text/markdown": [
       "'complex'"
      ],
      "text/plain": [
       "[1] \"complex\""
      ]
     },
     "metadata": {},
     "output_type": "display_data"
    },
    {
     "data": {
      "text/html": [
       "'complex'"
      ],
      "text/latex": [
       "'complex'"
      ],
      "text/markdown": [
       "'complex'"
      ],
      "text/plain": [
       "[1] \"complex\""
      ]
     },
     "metadata": {},
     "output_type": "display_data"
    }
   ],
   "source": [
    "# complex\n",
    "x <- 3+5i\n",
    "y <- 5i\n",
    "\n",
    "# Print values of x and y\n",
    "x\n",
    "y\n",
    "\n",
    "# Print the class name of x and y\n",
    "class(x)\n",
    "class(y)"
   ]
  },
  {
   "cell_type": "markdown",
   "metadata": {},
   "source": [
    "## Type Conversion\n",
    "You can convert from one type to another with the **following functions**:\n",
    "\n",
    "* `as.numeric()`\n",
    "* `as.integer()`\n",
    "* `as.complex()`"
   ]
  },
  {
   "cell_type": "code",
   "execution_count": 210,
   "metadata": {
    "vscode": {
     "languageId": "r"
    }
   },
   "outputs": [
    {
     "data": {
      "text/html": [
       "1"
      ],
      "text/latex": [
       "1"
      ],
      "text/markdown": [
       "1"
      ],
      "text/plain": [
       "[1] 1"
      ]
     },
     "metadata": {},
     "output_type": "display_data"
    },
    {
     "data": {
      "text/html": [
       "2"
      ],
      "text/latex": [
       "2"
      ],
      "text/markdown": [
       "2"
      ],
      "text/plain": [
       "[1] 2"
      ]
     },
     "metadata": {},
     "output_type": "display_data"
    },
    {
     "data": {
      "text/html": [
       "'numeric'"
      ],
      "text/latex": [
       "'numeric'"
      ],
      "text/markdown": [
       "'numeric'"
      ],
      "text/plain": [
       "[1] \"numeric\""
      ]
     },
     "metadata": {},
     "output_type": "display_data"
    },
    {
     "data": {
      "text/html": [
       "'integer'"
      ],
      "text/latex": [
       "'integer'"
      ],
      "text/markdown": [
       "'integer'"
      ],
      "text/plain": [
       "[1] \"integer\""
      ]
     },
     "metadata": {},
     "output_type": "display_data"
    }
   ],
   "source": [
    "x <- 1L # integer\n",
    "y <- 2 # numeric\n",
    "\n",
    "# convert from integer to numeric:\n",
    "a <- as.numeric(x)\n",
    "\n",
    "# convert from numeric to integer:\n",
    "b <- as.integer(y)\n",
    "\n",
    "# print values of x and y\n",
    "x\n",
    "y\n",
    "\n",
    "# print the class name of a and b\n",
    "class(a)\n",
    "class(b)"
   ]
  },
  {
   "cell_type": "markdown",
   "metadata": {},
   "source": [
    "## R Math\n",
    "### Build-in Math Function"
   ]
  },
  {
   "cell_type": "code",
   "execution_count": 211,
   "metadata": {
    "vscode": {
     "languageId": "r"
    }
   },
   "outputs": [
    {
     "data": {
      "text/html": [
       "15"
      ],
      "text/latex": [
       "15"
      ],
      "text/markdown": [
       "15"
      ],
      "text/plain": [
       "[1] 15"
      ]
     },
     "metadata": {},
     "output_type": "display_data"
    },
    {
     "data": {
      "text/html": [
       "5"
      ],
      "text/latex": [
       "5"
      ],
      "text/markdown": [
       "5"
      ],
      "text/plain": [
       "[1] 5"
      ]
     },
     "metadata": {},
     "output_type": "display_data"
    },
    {
     "data": {
      "text/html": [
       "4"
      ],
      "text/latex": [
       "4"
      ],
      "text/markdown": [
       "4"
      ],
      "text/plain": [
       "[1] 4"
      ]
     },
     "metadata": {},
     "output_type": "display_data"
    },
    {
     "data": {
      "text/html": [
       "4.7"
      ],
      "text/latex": [
       "4.7"
      ],
      "text/markdown": [
       "4.7"
      ],
      "text/plain": [
       "[1] 4.7"
      ]
     },
     "metadata": {},
     "output_type": "display_data"
    },
    {
     "data": {
      "text/html": [
       "2"
      ],
      "text/latex": [
       "2"
      ],
      "text/markdown": [
       "2"
      ],
      "text/plain": [
       "[1] 2"
      ]
     },
     "metadata": {},
     "output_type": "display_data"
    },
    {
     "data": {
      "text/html": [
       "1"
      ],
      "text/latex": [
       "1"
      ],
      "text/markdown": [
       "1"
      ],
      "text/plain": [
       "[1] 1"
      ]
     },
     "metadata": {},
     "output_type": "display_data"
    }
   ],
   "source": [
    "max(5, 10, 15)\n",
    "\n",
    "min(5, 10, 15)\n",
    "\n",
    "sqrt(16)\n",
    "\n",
    "abs(-4.7)\n",
    "\n",
    "ceiling(1.4)\n",
    "\n",
    "floor(1.4)"
   ]
  },
  {
   "cell_type": "markdown",
   "metadata": {},
   "source": [
    "## String Literals\n",
    "Strings are used for storing text.\n",
    "\n",
    "A string is surrounded by either single quotation marks, or double quotation marks:\n",
    "\n",
    "`\"hello\"` is the same as `'hello'`:"
   ]
  },
  {
   "cell_type": "code",
   "execution_count": 212,
   "metadata": {
    "vscode": {
     "languageId": "r"
    }
   },
   "outputs": [
    {
     "data": {
      "text/html": [
       "'hello'"
      ],
      "text/latex": [
       "'hello'"
      ],
      "text/markdown": [
       "'hello'"
      ],
      "text/plain": [
       "[1] \"hello\""
      ]
     },
     "metadata": {},
     "output_type": "display_data"
    }
   ],
   "source": [
    "# Assign a String to a Variable\n",
    "\n",
    "str <-\"hello\"\n",
    "str"
   ]
  },
  {
   "cell_type": "code",
   "execution_count": 213,
   "metadata": {
    "vscode": {
     "languageId": "r"
    }
   },
   "outputs": [
    {
     "data": {
      "text/html": [
       "'Lorem ipsum dolor sit amet,\\nconsectetur adipiscing elit,\\nsed do eiusmod tempor incididunt\\nut labore et dolore magna aliqua.'"
      ],
      "text/latex": [
       "'Lorem ipsum dolor sit amet,\\textbackslash{}nconsectetur adipiscing elit,\\textbackslash{}nsed do eiusmod tempor incididunt\\textbackslash{}nut labore et dolore magna aliqua.'"
      ],
      "text/markdown": [
       "'Lorem ipsum dolor sit amet,\\nconsectetur adipiscing elit,\\nsed do eiusmod tempor incididunt\\nut labore et dolore magna aliqua.'"
      ],
      "text/plain": [
       "[1] \"Lorem ipsum dolor sit amet,\\nconsectetur adipiscing elit,\\nsed do eiusmod tempor incididunt\\nut labore et dolore magna aliqua.\""
      ]
     },
     "metadata": {},
     "output_type": "display_data"
    }
   ],
   "source": [
    "# Multiline string\n",
    "str <- \"Lorem ipsum dolor sit amet,\n",
    "consectetur adipiscing elit,\n",
    "sed do eiusmod tempor incididunt\n",
    "ut labore et dolore magna aliqua.\"\n",
    "\n",
    "str # print the value of str"
   ]
  },
  {
   "cell_type": "markdown",
   "metadata": {},
   "source": [
    "However, note that R will add a \"\\n\" at the end of each line break. This is called an escape character, and the n character indicates a new line.\n",
    "\n",
    "If you want the line breaks to be inserted at the same position as in the code, use the cat() function:"
   ]
  },
  {
   "cell_type": "code",
   "execution_count": 214,
   "metadata": {
    "vscode": {
     "languageId": "r"
    }
   },
   "outputs": [
    {
     "name": "stdout",
     "output_type": "stream",
     "text": [
      "Lorem ipsum dolor sit amet,\n",
      "consectetur adipiscing elit,\n",
      "sed do eiusmod tempor incididunt\n",
      "ut labore et dolore magna aliqua."
     ]
    }
   ],
   "source": [
    "str <- \"Lorem ipsum dolor sit amet,\n",
    "consectetur adipiscing elit,\n",
    "sed do eiusmod tempor incididunt\n",
    "ut labore et dolore magna aliqua.\"\n",
    "\n",
    "cat(str)"
   ]
  },
  {
   "cell_type": "markdown",
   "metadata": {},
   "source": [
    "### String Length\n",
    "There are many usesful string functions in R.\n",
    "\n",
    "For example, to find the number of characters in a string, use the `nchar()` function:"
   ]
  },
  {
   "cell_type": "code",
   "execution_count": 215,
   "metadata": {
    "vscode": {
     "languageId": "r"
    }
   },
   "outputs": [
    {
     "data": {
      "text/html": [
       "12"
      ],
      "text/latex": [
       "12"
      ],
      "text/markdown": [
       "12"
      ],
      "text/plain": [
       "[1] 12"
      ]
     },
     "metadata": {},
     "output_type": "display_data"
    }
   ],
   "source": [
    "str <- \"Hello World!\"\n",
    "\n",
    "nchar(str)"
   ]
  },
  {
   "cell_type": "markdown",
   "metadata": {},
   "source": [
    "### Check a String\n",
    "Use the `grepl()` function to check if a character or a sequence of characters are present in a string:"
   ]
  },
  {
   "cell_type": "code",
   "execution_count": 216,
   "metadata": {
    "vscode": {
     "languageId": "r"
    }
   },
   "outputs": [
    {
     "data": {
      "text/html": [
       "TRUE"
      ],
      "text/latex": [
       "TRUE"
      ],
      "text/markdown": [
       "TRUE"
      ],
      "text/plain": [
       "[1] TRUE"
      ]
     },
     "metadata": {},
     "output_type": "display_data"
    },
    {
     "data": {
      "text/html": [
       "TRUE"
      ],
      "text/latex": [
       "TRUE"
      ],
      "text/markdown": [
       "TRUE"
      ],
      "text/plain": [
       "[1] TRUE"
      ]
     },
     "metadata": {},
     "output_type": "display_data"
    },
    {
     "data": {
      "text/html": [
       "FALSE"
      ],
      "text/latex": [
       "FALSE"
      ],
      "text/markdown": [
       "FALSE"
      ],
      "text/plain": [
       "[1] FALSE"
      ]
     },
     "metadata": {},
     "output_type": "display_data"
    }
   ],
   "source": [
    "str <- \"Hello World!\"\n",
    "\n",
    "grepl(\"H\", str)\n",
    "grepl(\"Hello\", str)\n",
    "grepl(\"X\", str)"
   ]
  },
  {
   "cell_type": "markdown",
   "metadata": {},
   "source": [
    "### Combine Two Strings\n",
    "Use the `paste()` function to merge/concatenate two strings:"
   ]
  },
  {
   "cell_type": "code",
   "execution_count": 217,
   "metadata": {
    "vscode": {
     "languageId": "r"
    }
   },
   "outputs": [
    {
     "data": {
      "text/html": [
       "'Hello World'"
      ],
      "text/latex": [
       "'Hello World'"
      ],
      "text/markdown": [
       "'Hello World'"
      ],
      "text/plain": [
       "[1] \"Hello World\""
      ]
     },
     "metadata": {},
     "output_type": "display_data"
    }
   ],
   "source": [
    "str1 <- \"Hello\"\n",
    "str2 <- \"World\"\n",
    "\n",
    "paste(str1, str2)"
   ]
  },
  {
   "cell_type": "markdown",
   "metadata": {},
   "source": [
    "## Escape Characters\n",
    "To insert characters that are illegal in a string, you must use an escape character.\n",
    "\n",
    "An escape character is a backslash `\\` followed by the character you want to insert.\n",
    "\n",
    "An example of an illegal character is a double quote inside a string that is surrounded by double quotes:"
   ]
  },
  {
   "cell_type": "code",
   "execution_count": 218,
   "metadata": {
    "vscode": {
     "languageId": "r"
    }
   },
   "outputs": [
    {
     "data": {
      "text/html": [
       "'We are the so-called \"Vikings\", from the north.'"
      ],
      "text/latex": [
       "'We are the so-called \"Vikings\", from the north.'"
      ],
      "text/markdown": [
       "'We are the so-called \"Vikings\", from the north.'"
      ],
      "text/plain": [
       "[1] \"We are the so-called \\\"Vikings\\\", from the north.\""
      ]
     },
     "metadata": {},
     "output_type": "display_data"
    },
    {
     "name": "stdout",
     "output_type": "stream",
     "text": [
      "We are the so-called \"Vikings\", from the north."
     ]
    }
   ],
   "source": [
    "str <- \"We are the so-called \\\"Vikings\\\", from the north.\"\n",
    "\n",
    "str\n",
    "cat(str)"
   ]
  },
  {
   "cell_type": "markdown",
   "metadata": {},
   "source": [
    "Note that auto-printing the str variable will print the backslash in the output. You can use the cat() function to print it without backslash.\n",
    "\n",
    "Other escape characters in R:\n",
    "\n",
    "| Code | Result |\n",
    "|:-------:|------:|\n",
    "| `\\\\` | Backslash |\n",
    "| `\\n` | New Line |\n",
    "| `\\r` | Carriage Return |\n",
    "| `\\t`| Tab |\n",
    "| `\\b` | Backspace |\n",
    "\n"
   ]
  },
  {
   "cell_type": "markdown",
   "metadata": {},
   "source": [
    "## R Booleans (Logical Values)"
   ]
  },
  {
   "cell_type": "code",
   "execution_count": 219,
   "metadata": {
    "vscode": {
     "languageId": "r"
    }
   },
   "outputs": [
    {
     "data": {
      "text/html": [
       "TRUE"
      ],
      "text/latex": [
       "TRUE"
      ],
      "text/markdown": [
       "TRUE"
      ],
      "text/plain": [
       "[1] TRUE"
      ]
     },
     "metadata": {},
     "output_type": "display_data"
    },
    {
     "data": {
      "text/html": [
       "FALSE"
      ],
      "text/latex": [
       "FALSE"
      ],
      "text/markdown": [
       "FALSE"
      ],
      "text/plain": [
       "[1] FALSE"
      ]
     },
     "metadata": {},
     "output_type": "display_data"
    },
    {
     "data": {
      "text/html": [
       "FALSE"
      ],
      "text/latex": [
       "FALSE"
      ],
      "text/markdown": [
       "FALSE"
      ],
      "text/plain": [
       "[1] FALSE"
      ]
     },
     "metadata": {},
     "output_type": "display_data"
    }
   ],
   "source": [
    "10 > 9    # TRUE because 10 is greater than 9\n",
    "10 == 9   # FALSE because 10 is not equal to 9\n",
    "10 < 9    # FALSE because 10 is greater than 9"
   ]
  },
  {
   "cell_type": "code",
   "execution_count": 220,
   "metadata": {
    "vscode": {
     "languageId": "r"
    }
   },
   "outputs": [
    {
     "data": {
      "text/html": [
       "TRUE"
      ],
      "text/latex": [
       "TRUE"
      ],
      "text/markdown": [
       "TRUE"
      ],
      "text/plain": [
       "[1] TRUE"
      ]
     },
     "metadata": {},
     "output_type": "display_data"
    }
   ],
   "source": [
    "a <- 10\n",
    "b <- 9\n",
    "\n",
    "a > b"
   ]
  },
  {
   "cell_type": "code",
   "execution_count": 221,
   "metadata": {
    "vscode": {
     "languageId": "r"
    }
   },
   "outputs": [
    {
     "name": "stdout",
     "output_type": "stream",
     "text": [
      "[1] \"b is not greater than a\"\n"
     ]
    }
   ],
   "source": [
    "a <- 200\n",
    "b <- 33\n",
    "\n",
    "if (b > a) {\n",
    "  print (\"b is greater than a\")\n",
    "} else {\n",
    "  print(\"b is not greater than a\")\n",
    "}"
   ]
  },
  {
   "cell_type": "markdown",
   "metadata": {},
   "source": [
    "## R Operators\n",
    "\n",
    "\n",
    "R divides the operators in the following groups:\n",
    "\n",
    "* Arithmetic operators\n",
    "* Assignment operators\n",
    "* Comparison operators\n",
    "* Logical operators\n",
    "* Miscellaneous operators\n",
    "\n",
    "R Arithmetic Operators\n",
    "Arithmetic operators are used with numeric values to perform common mathematical operations:"
   ]
  },
  {
   "cell_type": "markdown",
   "metadata": {},
   "source": [
    "| Operator | Name | Example |\n",
    "|:-------|:------|:-------:|\n",
    "| `+` | Addition | `x + y` |\n",
    "| `-` | Subtraction | `x - y` |\n",
    "| `*` | Multiplication | `x * y` |\n",
    "| `/` | Division | `x / y` |\n",
    "| `^` | Exponent | `x ^ y` |\n",
    "| `%%` | Modulus (Remainder from division) | `x %% y` |\n",
    "| `%/%` | Integer Division | `x%/%y` |"
   ]
  },
  {
   "cell_type": "code",
   "execution_count": 222,
   "metadata": {
    "vscode": {
     "languageId": "r"
    }
   },
   "outputs": [
    {
     "data": {
      "text/html": [
       "16"
      ],
      "text/latex": [
       "16"
      ],
      "text/markdown": [
       "16"
      ],
      "text/plain": [
       "[1] 16"
      ]
     },
     "metadata": {},
     "output_type": "display_data"
    },
    {
     "data": {
      "text/html": [
       "6"
      ],
      "text/latex": [
       "6"
      ],
      "text/markdown": [
       "6"
      ],
      "text/plain": [
       "[1] 6"
      ]
     },
     "metadata": {},
     "output_type": "display_data"
    },
    {
     "data": {
      "text/html": [
       "2.2"
      ],
      "text/latex": [
       "2.2"
      ],
      "text/markdown": [
       "2.2"
      ],
      "text/plain": [
       "[1] 2.2"
      ]
     },
     "metadata": {},
     "output_type": "display_data"
    },
    {
     "data": {
      "text/html": [
       "161051"
      ],
      "text/latex": [
       "161051"
      ],
      "text/markdown": [
       "161051"
      ],
      "text/plain": [
       "[1] 161051"
      ]
     },
     "metadata": {},
     "output_type": "display_data"
    },
    {
     "data": {
      "text/html": [
       "1"
      ],
      "text/latex": [
       "1"
      ],
      "text/markdown": [
       "1"
      ],
      "text/plain": [
       "[1] 1"
      ]
     },
     "metadata": {},
     "output_type": "display_data"
    },
    {
     "data": {
      "text/html": [
       "2"
      ],
      "text/latex": [
       "2"
      ],
      "text/markdown": [
       "2"
      ],
      "text/plain": [
       "[1] 2"
      ]
     },
     "metadata": {},
     "output_type": "display_data"
    }
   ],
   "source": [
    "11+5\n",
    "11-5\n",
    "11/5\n",
    "11^5\n",
    "11%%5\n",
    "11%/%5"
   ]
  },
  {
   "cell_type": "markdown",
   "metadata": {},
   "source": [
    "### R Assignment Operators\n",
    "Assignment operators are used to assign values to variables:"
   ]
  },
  {
   "cell_type": "code",
   "execution_count": 223,
   "metadata": {
    "vscode": {
     "languageId": "r"
    }
   },
   "outputs": [
    {
     "data": {
      "text/html": [
       "3"
      ],
      "text/latex": [
       "3"
      ],
      "text/markdown": [
       "3"
      ],
      "text/plain": [
       "[1] 3"
      ]
     },
     "metadata": {},
     "output_type": "display_data"
    }
   ],
   "source": [
    "my_var <- 3\n",
    "\n",
    "my_var <<- 3 # global asigner\n",
    "\n",
    "3 -> my_var\n",
    "\n",
    "3 ->> my_var\n",
    "\n",
    "my_var # print my_var"
   ]
  },
  {
   "cell_type": "markdown",
   "metadata": {},
   "source": [
    "### R Comparison Operators\n",
    "Comparison operators are used to compare two values:\n",
    "\n",
    "| Operator | Name | Example |\n",
    "|:-------|:------|:-------:|\n",
    "| `==` | Equal | `x == y` |\t\n",
    "| `!=` | Not equal | `x != y`|\t\n",
    "| `>`  | Greater than | `x > y`|\n",
    "| `<` | Less than | `x < y` |\n",
    "| `>=` | Greater than or equal to | `x >= y` |\n",
    "| `<=` | Less than or equal to | `x <= y` |"
   ]
  },
  {
   "cell_type": "markdown",
   "metadata": {},
   "source": [
    "### R Logical Operators\n",
    "Logical operators are used to combine conditional statements:\n",
    "\n",
    "| Operator | Description | Example |\n",
    "|:-------|:------|:-------:|\n",
    "|`&` | Element-wise Logical AND operator. It returns TRUE if both elements are TRUE| |\n",
    "|`&&` | Logical AND operator - Returns TRUE if both statements are TRUE| |\n",
    "| `|` | Elementwise- Logical OR operator. It returns TRUE if one of the statement is TRUE| |\n",
    "| `||` | Logical OR operator. It returns TRUE if one of the statement is TRUE.| |\n",
    "| `!`| Logical NOT - returns FALSE if statement is TRUE| |\n",
    "\n",
    "R Miscellaneous Operators\n",
    "Miscellaneous operators are used to manipulate data:\n",
    "\n",
    "Operator\tDescription\tExample\n",
    ":\tCreates a series of numbers in a sequence\tx <- 1:10\n",
    "%in%\tFind out if an element belongs to a vector\tx %in% y\n",
    "%*%\tMatrix Multiplication\tx <- Matrix1 %*% Matrix2\n"
   ]
  },
  {
   "cell_type": "markdown",
   "metadata": {},
   "source": [
    "### R Logical Operators\n",
    "Logical operators are used to combine conditional statements:\n",
    "\n",
    "| Operator | Description | Example |\n",
    "|:-------|:------|:-------:|\n",
    "| `&` | Element-wise Logical AND operator. It returns TRUE if both elements are TRUE | |\n",
    "| `&&` | Logical AND operator - Returns TRUE if both statements are TRUE | |\n",
    "| `\\|` | Elementwise- Logical OR operator. It returns TRUE if one of the statement is TRUE | |\n",
    "| `\\|\\|` | Logical OR operator. It returns TRUE if one of the statement is TRUE | |\n",
    "| `!` | Logical NOT - returns FALSE if statement is TRUE | |"
   ]
  },
  {
   "cell_type": "markdown",
   "metadata": {},
   "source": [
    "### R Miscellaneous Operators\n",
    "Miscellaneous operators are used to manipulate data:\n",
    "\n",
    "| Operator | Description | Example |\n",
    "|:-------|:------|:-------:|\n",
    "|`:`|Creates a series of numbers in a sequence|`x <- 1:10`|\n",
    "|`%in%`|Find out if an element belongs to a vector|`x %in% y`|\n",
    "|`%*%`|Matrix Multiplication|`x <- Matrix1 %*% Matrix2`|\n"
   ]
  },
  {
   "cell_type": "markdown",
   "metadata": {},
   "source": [
    "## The if, if...else Statement"
   ]
  },
  {
   "cell_type": "code",
   "execution_count": 224,
   "metadata": {
    "vscode": {
     "languageId": "r"
    }
   },
   "outputs": [
    {
     "name": "stdout",
     "output_type": "stream",
     "text": [
      "[1] \"b is greater than a\"\n"
     ]
    }
   ],
   "source": [
    "a <- 33\n",
    "b <- 200\n",
    "\n",
    "if (b > a) {\n",
    "  print(\"b is greater than a\")\n",
    "}"
   ]
  },
  {
   "cell_type": "code",
   "execution_count": 225,
   "metadata": {
    "vscode": {
     "languageId": "r"
    }
   },
   "outputs": [
    {
     "name": "stdout",
     "output_type": "stream",
     "text": [
      "[1] \"a and b are equal\"\n"
     ]
    }
   ],
   "source": [
    "a <- 33\n",
    "b <- 33\n",
    "\n",
    "if (b > a) {\n",
    "  print(\"b is greater than a\")\n",
    "} else if (a == b) {\n",
    "  print (\"a and b are equal\")\n",
    "}"
   ]
  },
  {
   "cell_type": "code",
   "execution_count": 226,
   "metadata": {
    "vscode": {
     "languageId": "r"
    }
   },
   "outputs": [
    {
     "name": "stdout",
     "output_type": "stream",
     "text": [
      "[1] \"a is greater than b\"\n"
     ]
    }
   ],
   "source": [
    "a <- 200\n",
    "b <- 33\n",
    "\n",
    "if (b > a) {\n",
    "  print(\"b is greater than a\")\n",
    "} else if (a == b) {\n",
    "  print(\"a and b are equal\")\n",
    "} else {\n",
    "  print(\"a is greater than b\")\n",
    "}"
   ]
  },
  {
   "cell_type": "markdown",
   "metadata": {},
   "source": [
    "### Nested `If` Statements"
   ]
  },
  {
   "cell_type": "code",
   "execution_count": 227,
   "metadata": {
    "vscode": {
     "languageId": "r"
    }
   },
   "outputs": [
    {
     "name": "stdout",
     "output_type": "stream",
     "text": [
      "[1] \"Above ten\"\n",
      "[1] \"and also above 20!\"\n"
     ]
    }
   ],
   "source": [
    "x <- 41\n",
    "\n",
    "if (x > 10) {\n",
    "  print(\"Above ten\")\n",
    "  if (x > 20) {\n",
    "    print(\"and also above 20!\")\n",
    "  } else {\n",
    "    print(\"but not above 20.\")\n",
    "  }\n",
    "} else {\n",
    "  print(\"below 10.\")\n",
    "}"
   ]
  },
  {
   "cell_type": "code",
   "execution_count": 228,
   "metadata": {
    "vscode": {
     "languageId": "r"
    }
   },
   "outputs": [
    {
     "name": "stdout",
     "output_type": "stream",
     "text": [
      "[1] \"Both conditions are true\"\n"
     ]
    }
   ],
   "source": [
    "a <- 200\n",
    "b <- 33\n",
    "c <- 500\n",
    "\n",
    "if (a > b & c > a) {\n",
    "  print(\"Both conditions are true\")\n",
    "}"
   ]
  },
  {
   "cell_type": "code",
   "execution_count": 229,
   "metadata": {
    "vscode": {
     "languageId": "r"
    }
   },
   "outputs": [
    {
     "name": "stdout",
     "output_type": "stream",
     "text": [
      "[1] \"At least one of the conditions is true\"\n"
     ]
    }
   ],
   "source": [
    "a <- 200\n",
    "b <- 33\n",
    "c <- 500\n",
    "\n",
    "if (a > b | a > c) {\n",
    "  print(\"At least one of the conditions is true\")\n",
    "}"
   ]
  },
  {
   "cell_type": "markdown",
   "metadata": {},
   "source": [
    "## Loops\n",
    "Loops can execute a block of code as long as a specified condition is reached.\n",
    "\n",
    "Loops are handy because they save time, reduce errors, and they make code more readable.\n",
    "\n",
    "R has two loop commands:\n",
    "\n",
    "* while loops\n",
    "* for loops\n",
    "\n",
    "### while loops"
   ]
  },
  {
   "cell_type": "code",
   "execution_count": 230,
   "metadata": {
    "vscode": {
     "languageId": "r"
    }
   },
   "outputs": [
    {
     "name": "stdout",
     "output_type": "stream",
     "text": [
      "[1] 1\n",
      "[1] 2\n",
      "[1] 3\n",
      "[1] 4\n",
      "[1] 5\n",
      "[1] 6\n"
     ]
    }
   ],
   "source": [
    "i <- 1\n",
    "while (i < 6) {\n",
    "  print(i)\n",
    "  i <- i + 1\n",
    "}\n",
    "print(i)"
   ]
  },
  {
   "cell_type": "code",
   "execution_count": 231,
   "metadata": {
    "vscode": {
     "languageId": "r"
    }
   },
   "outputs": [
    {
     "name": "stdout",
     "output_type": "stream",
     "text": [
      "[1] 1\n",
      "[1] 2\n",
      "[1] 3\n"
     ]
    }
   ],
   "source": [
    "# break\n",
    "i <- 1\n",
    "while (i < 6) {\n",
    "  print(i)\n",
    "  i <- i + 1\n",
    "  if (i == 4) {\n",
    "    break\n",
    "  }\n",
    "}"
   ]
  },
  {
   "cell_type": "code",
   "execution_count": 232,
   "metadata": {
    "vscode": {
     "languageId": "r"
    }
   },
   "outputs": [
    {
     "name": "stdout",
     "output_type": "stream",
     "text": [
      "[1] 1\n",
      "[1] 2\n",
      "[1] 4\n",
      "[1] 5\n",
      "[1] 6\n"
     ]
    }
   ],
   "source": [
    "# next\n",
    "i <- 0\n",
    "while (i < 6) {\n",
    "  i <- i + 1\n",
    "  if (i == 3) {\n",
    "    next\n",
    "  }\n",
    "  print(i)\n",
    "}"
   ]
  },
  {
   "cell_type": "code",
   "execution_count": 233,
   "metadata": {
    "vscode": {
     "languageId": "r"
    }
   },
   "outputs": [
    {
     "name": "stdout",
     "output_type": "stream",
     "text": [
      "[1] \"No Yahtzee\"\n",
      "[1] \"No Yahtzee\"\n",
      "[1] \"No Yahtzee\"\n",
      "[1] \"No Yahtzee\"\n",
      "[1] \"No Yahtzee\"\n",
      "[1] \"Yahtzee!\"\n"
     ]
    }
   ],
   "source": [
    "dice <- 1\n",
    "while (dice <= 6) {\n",
    "  if (dice < 6) {\n",
    "    print(\"No Yahtzee\")\n",
    "  } else {\n",
    "    print(\"Yahtzee!\")\n",
    "  }\n",
    "  dice <- dice + 1\n",
    "}"
   ]
  },
  {
   "cell_type": "markdown",
   "metadata": {},
   "source": [
    "### for loops"
   ]
  },
  {
   "cell_type": "code",
   "execution_count": 234,
   "metadata": {
    "vscode": {
     "languageId": "r"
    }
   },
   "outputs": [
    {
     "name": "stdout",
     "output_type": "stream",
     "text": [
      "[1] 1\n",
      "[1] 2\n",
      "[1] 3\n",
      "[1] 4\n",
      "[1] 5\n",
      "[1] 6\n",
      "[1] 7\n",
      "[1] 8\n",
      "[1] 9\n",
      "[1] 10\n"
     ]
    }
   ],
   "source": [
    "for (x in 1:10) {\n",
    "  print(x)\n",
    "}"
   ]
  },
  {
   "cell_type": "code",
   "execution_count": 235,
   "metadata": {
    "vscode": {
     "languageId": "r"
    }
   },
   "outputs": [
    {
     "name": "stdout",
     "output_type": "stream",
     "text": [
      "[1] \"apple\"\n",
      "[1] \"banana\"\n",
      "[1] \"cherry\"\n"
     ]
    }
   ],
   "source": [
    "fruits <- list(\"apple\", \"banana\", \"cherry\")\n",
    "\n",
    "for (x in fruits) {\n",
    "  print(x)\n",
    "}"
   ]
  },
  {
   "cell_type": "code",
   "execution_count": 236,
   "metadata": {
    "vscode": {
     "languageId": "r"
    }
   },
   "outputs": [
    {
     "name": "stdout",
     "output_type": "stream",
     "text": [
      "[1] 1\n",
      "[1] 2\n",
      "[1] 3\n",
      "[1] 4\n",
      "[1] 5\n",
      "[1] 6\n"
     ]
    }
   ],
   "source": [
    "dice <- c(1, 2, 3, 4, 5, 6)\n",
    "\n",
    "for (x in dice) {\n",
    "  print(x)\n",
    "}"
   ]
  },
  {
   "cell_type": "code",
   "execution_count": 237,
   "metadata": {
    "vscode": {
     "languageId": "r"
    }
   },
   "outputs": [
    {
     "name": "stdout",
     "output_type": "stream",
     "text": [
      "[1] \"apple\"\n",
      "[1] \"banana\"\n"
     ]
    }
   ],
   "source": [
    "# break\n",
    "fruits <- list(\"apple\", \"banana\", \"cherry\")\n",
    "\n",
    "for (x in fruits) {\n",
    "  if (x == \"cherry\") {\n",
    "    break\n",
    "  }\n",
    "  print(x)\n",
    "}"
   ]
  },
  {
   "cell_type": "code",
   "execution_count": 238,
   "metadata": {
    "vscode": {
     "languageId": "r"
    }
   },
   "outputs": [
    {
     "name": "stdout",
     "output_type": "stream",
     "text": [
      "[1] \"apple\"\n",
      "[1] \"cherry\"\n"
     ]
    }
   ],
   "source": [
    "# next\n",
    "fruits <- list(\"apple\", \"banana\", \"cherry\")\n",
    "\n",
    "for (x in fruits) {\n",
    "  if (x == \"banana\") {\n",
    "    next\n",
    "  }\n",
    "  print(x)\n",
    "}"
   ]
  },
  {
   "cell_type": "code",
   "execution_count": 239,
   "metadata": {
    "vscode": {
     "languageId": "r"
    }
   },
   "outputs": [
    {
     "name": "stdout",
     "output_type": "stream",
     "text": [
      "[1] \"The dice number is 1 Not Yahtzee\"\n",
      "[1] \"The dice number is 2 Not Yahtzee\"\n",
      "[1] \"The dice number is 3 Not Yahtzee\"\n",
      "[1] \"The dice number is 4 Not Yahtzee\"\n",
      "[1] \"The dice number is 5 Not Yahtzee\"\n",
      "[1] \"The dice number is 6 Yahtzee!\"\n"
     ]
    }
   ],
   "source": [
    "dice <- 1:6\n",
    "\n",
    "for(x in dice) {\n",
    "  if (x == 6) {\n",
    "    print(paste(\"The dice number is\", x, \"Yahtzee!\"))\n",
    "  } else {\n",
    "    print(paste(\"The dice number is\", x, \"Not Yahtzee\"))\n",
    "  }\n",
    "}"
   ]
  },
  {
   "cell_type": "code",
   "execution_count": 240,
   "metadata": {
    "vscode": {
     "languageId": "r"
    }
   },
   "outputs": [
    {
     "name": "stdout",
     "output_type": "stream",
     "text": [
      "[1] \"red apple\"\n",
      "[1] \"red banana\"\n",
      "[1] \"red cherry\"\n",
      "[1] \"big apple\"\n",
      "[1] \"big banana\"\n",
      "[1] \"big cherry\"\n",
      "[1] \"tasty apple\"\n",
      "[1] \"tasty banana\"\n",
      "[1] \"tasty cherry\"\n"
     ]
    }
   ],
   "source": [
    "# Nested loops\n",
    "adj <- list(\"red\", \"big\", \"tasty\")\n",
    "\n",
    "fruits <- list(\"apple\", \"banana\", \"cherry\")\n",
    "  for (x in adj) {\n",
    "    for (y in fruits) {\n",
    "      print(paste(x, y))\n",
    "  }\n",
    "}"
   ]
  },
  {
   "cell_type": "markdown",
   "metadata": {},
   "source": [
    "## Function\n",
    "### Creating a Function\n",
    "To create a function, use the `function()` keyword:"
   ]
  },
  {
   "cell_type": "code",
   "execution_count": 241,
   "metadata": {
    "vscode": {
     "languageId": "r"
    }
   },
   "outputs": [],
   "source": [
    "my_function <- function() { # create a function with the name my_function\n",
    "  print(\"Hello World!\")\n",
    "}"
   ]
  },
  {
   "cell_type": "code",
   "execution_count": 242,
   "metadata": {
    "vscode": {
     "languageId": "r"
    }
   },
   "outputs": [
    {
     "name": "stdout",
     "output_type": "stream",
     "text": [
      "[1] \"Hello World!\"\n"
     ]
    }
   ],
   "source": [
    "my_function() # call the function named my_function"
   ]
  },
  {
   "cell_type": "code",
   "execution_count": 243,
   "metadata": {
    "vscode": {
     "languageId": "r"
    }
   },
   "outputs": [
    {
     "data": {
      "text/html": [
       "'Peter Griffin'"
      ],
      "text/latex": [
       "'Peter Griffin'"
      ],
      "text/markdown": [
       "'Peter Griffin'"
      ],
      "text/plain": [
       "[1] \"Peter Griffin\""
      ]
     },
     "metadata": {},
     "output_type": "display_data"
    },
    {
     "data": {
      "text/html": [
       "'Lois Griffin'"
      ],
      "text/latex": [
       "'Lois Griffin'"
      ],
      "text/markdown": [
       "'Lois Griffin'"
      ],
      "text/plain": [
       "[1] \"Lois Griffin\""
      ]
     },
     "metadata": {},
     "output_type": "display_data"
    },
    {
     "data": {
      "text/html": [
       "'Stewie Griffin'"
      ],
      "text/latex": [
       "'Stewie Griffin'"
      ],
      "text/markdown": [
       "'Stewie Griffin'"
      ],
      "text/plain": [
       "[1] \"Stewie Griffin\""
      ]
     },
     "metadata": {},
     "output_type": "display_data"
    }
   ],
   "source": [
    "my_function <- function(fname) {\n",
    "  paste(fname, \"Griffin\")\n",
    "}\n",
    "\n",
    "my_function(\"Peter\")\n",
    "my_function(\"Lois\")\n",
    "my_function(\"Stewie\")"
   ]
  },
  {
   "cell_type": "markdown",
   "metadata": {},
   "source": [
    "#### Number of Arguments\n",
    "By default, a function must be called with the correct number of arguments. Meaning that if your function expects 2 arguments, you have to call the function with 2 arguments, not more, and not less (otherwise you will get an error):"
   ]
  },
  {
   "cell_type": "code",
   "execution_count": 244,
   "metadata": {
    "vscode": {
     "languageId": "r"
    }
   },
   "outputs": [
    {
     "data": {
      "text/html": [
       "'Peter Griffin'"
      ],
      "text/latex": [
       "'Peter Griffin'"
      ],
      "text/markdown": [
       "'Peter Griffin'"
      ],
      "text/plain": [
       "[1] \"Peter Griffin\""
      ]
     },
     "metadata": {},
     "output_type": "display_data"
    }
   ],
   "source": [
    "my_function <- function(fname, lname) {\n",
    "  paste(fname, lname)\n",
    "}\n",
    "\n",
    "my_function(\"Peter\", \"Griffin\")"
   ]
  },
  {
   "cell_type": "markdown",
   "metadata": {},
   "source": [
    "#### Default parameter value"
   ]
  },
  {
   "cell_type": "code",
   "execution_count": 245,
   "metadata": {
    "vscode": {
     "languageId": "r"
    }
   },
   "outputs": [
    {
     "data": {
      "text/html": [
       "'I am from Sweden'"
      ],
      "text/latex": [
       "'I am from Sweden'"
      ],
      "text/markdown": [
       "'I am from Sweden'"
      ],
      "text/plain": [
       "[1] \"I am from Sweden\""
      ]
     },
     "metadata": {},
     "output_type": "display_data"
    },
    {
     "data": {
      "text/html": [
       "'I am from India'"
      ],
      "text/latex": [
       "'I am from India'"
      ],
      "text/markdown": [
       "'I am from India'"
      ],
      "text/plain": [
       "[1] \"I am from India\""
      ]
     },
     "metadata": {},
     "output_type": "display_data"
    },
    {
     "data": {
      "text/html": [
       "'I am from Norway'"
      ],
      "text/latex": [
       "'I am from Norway'"
      ],
      "text/markdown": [
       "'I am from Norway'"
      ],
      "text/plain": [
       "[1] \"I am from Norway\""
      ]
     },
     "metadata": {},
     "output_type": "display_data"
    },
    {
     "data": {
      "text/html": [
       "'I am from USA'"
      ],
      "text/latex": [
       "'I am from USA'"
      ],
      "text/markdown": [
       "'I am from USA'"
      ],
      "text/plain": [
       "[1] \"I am from USA\""
      ]
     },
     "metadata": {},
     "output_type": "display_data"
    }
   ],
   "source": [
    "my_function <- function(country = \"Norway\") {\n",
    "  paste(\"I am from\", country)\n",
    "}\n",
    "\n",
    "my_function(\"Sweden\")\n",
    "my_function(\"India\")\n",
    "my_function() # will get the default value, which is Norway\n",
    "my_function(\"USA\")"
   ]
  },
  {
   "cell_type": "markdown",
   "metadata": {},
   "source": [
    "#### Return values"
   ]
  },
  {
   "cell_type": "code",
   "execution_count": 246,
   "metadata": {
    "vscode": {
     "languageId": "r"
    }
   },
   "outputs": [
    {
     "name": "stdout",
     "output_type": "stream",
     "text": [
      "[1] 15\n",
      "[1] 25\n",
      "[1] 45\n"
     ]
    }
   ],
   "source": [
    "my_function <- function(x) {\n",
    "  return (5 * x)\n",
    "}\n",
    "\n",
    "print(my_function(3))\n",
    "print(my_function(5))\n",
    "print(my_function(9))"
   ]
  },
  {
   "cell_type": "markdown",
   "metadata": {},
   "source": [
    "### Nested Functions\n",
    "There are two ways to create a nested function:\n",
    "\n",
    "* Call a function within another function.\n",
    "* Write a function within a function.\n",
    "#### Call a function within another function"
   ]
  },
  {
   "cell_type": "code",
   "execution_count": 247,
   "metadata": {
    "vscode": {
     "languageId": "r"
    }
   },
   "outputs": [
    {
     "data": {
      "text/html": [
       "10"
      ],
      "text/latex": [
       "10"
      ],
      "text/markdown": [
       "10"
      ],
      "text/plain": [
       "[1] 10"
      ]
     },
     "metadata": {},
     "output_type": "display_data"
    }
   ],
   "source": [
    "Nested_function <- function(x, y) {\n",
    "  a <- x + y\n",
    "  return(a)\n",
    "}\n",
    "\n",
    "Nested_function(Nested_function(2,2), Nested_function(3,3))"
   ]
  },
  {
   "cell_type": "markdown",
   "metadata": {},
   "source": [
    "#### Write a function within a function"
   ]
  },
  {
   "cell_type": "code",
   "execution_count": 248,
   "metadata": {
    "vscode": {
     "languageId": "r"
    }
   },
   "outputs": [
    {
     "data": {
      "text/html": [
       "8"
      ],
      "text/latex": [
       "8"
      ],
      "text/markdown": [
       "8"
      ],
      "text/plain": [
       "[1] 8"
      ]
     },
     "metadata": {},
     "output_type": "display_data"
    }
   ],
   "source": [
    "Outer_func <- function(x) {\n",
    "  Inner_func <- function(y) {\n",
    "    a <- x + y\n",
    "    return(a)\n",
    "  }\n",
    "  return (Inner_func)\n",
    "}\n",
    "output <- Outer_func(3) # To call the Outer_func\n",
    "output(5)"
   ]
  },
  {
   "cell_type": "markdown",
   "metadata": {},
   "source": [
    "### Recursion"
   ]
  },
  {
   "cell_type": "code",
   "execution_count": 249,
   "metadata": {
    "vscode": {
     "languageId": "r"
    }
   },
   "outputs": [
    {
     "name": "stdout",
     "output_type": "stream",
     "text": [
      "[1] 1\n",
      "[1] 3\n",
      "[1] 6\n",
      "[1] 10\n",
      "[1] 15\n",
      "[1] 21\n"
     ]
    }
   ],
   "source": [
    "tri_recursion <- function(k) {\n",
    "  if (k > 0) {\n",
    "    result <- k + tri_recursion(k - 1)\n",
    "    print(result)\n",
    "  } else {\n",
    "    result = 0\n",
    "    return(result)\n",
    "  }\n",
    "}\n",
    "tri_recursion(6)"
   ]
  },
  {
   "cell_type": "markdown",
   "metadata": {},
   "source": [
    "#### Global variables"
   ]
  },
  {
   "cell_type": "code",
   "execution_count": 250,
   "metadata": {
    "vscode": {
     "languageId": "r"
    }
   },
   "outputs": [
    {
     "data": {
      "text/html": [
       "'R is awesome'"
      ],
      "text/latex": [
       "'R is awesome'"
      ],
      "text/markdown": [
       "'R is awesome'"
      ],
      "text/plain": [
       "[1] \"R is awesome\""
      ]
     },
     "metadata": {},
     "output_type": "display_data"
    }
   ],
   "source": [
    "txt <- \"awesome\"\n",
    "my_function <- function() {\n",
    "  paste(\"R is\", txt)\n",
    "}\n",
    "\n",
    "my_function()"
   ]
  },
  {
   "cell_type": "code",
   "execution_count": 251,
   "metadata": {
    "vscode": {
     "languageId": "r"
    }
   },
   "outputs": [
    {
     "data": {
      "text/html": [
       "'R is fantastic'"
      ],
      "text/latex": [
       "'R is fantastic'"
      ],
      "text/markdown": [
       "'R is fantastic'"
      ],
      "text/plain": [
       "[1] \"R is fantastic\""
      ]
     },
     "metadata": {},
     "output_type": "display_data"
    },
    {
     "data": {
      "text/html": [
       "'global variable'"
      ],
      "text/latex": [
       "'global variable'"
      ],
      "text/markdown": [
       "'global variable'"
      ],
      "text/plain": [
       "[1] \"global variable\""
      ]
     },
     "metadata": {},
     "output_type": "display_data"
    }
   ],
   "source": [
    "txt <- \"global variable\"\n",
    "my_function <- function() {\n",
    "  txt = \"fantastic\"\n",
    "  paste(\"R is\", txt)\n",
    "}\n",
    "\n",
    "my_function()\n",
    "\n",
    "txt # print txt"
   ]
  },
  {
   "cell_type": "markdown",
   "metadata": {},
   "source": [
    "#### The Global Assignment Operator\n",
    "Normally, when you create a variable inside a function, that variable is local, and can only be used inside that function.\n",
    "\n",
    "To create a global variable inside a function, you can use the global assignment operator `<<-`"
   ]
  },
  {
   "cell_type": "code",
   "execution_count": 252,
   "metadata": {
    "vscode": {
     "languageId": "r"
    }
   },
   "outputs": [
    {
     "data": {
      "text/html": [
       "'R is fantastic'"
      ],
      "text/latex": [
       "'R is fantastic'"
      ],
      "text/markdown": [
       "'R is fantastic'"
      ],
      "text/plain": [
       "[1] \"R is fantastic\""
      ]
     },
     "metadata": {},
     "output_type": "display_data"
    },
    {
     "name": "stdout",
     "output_type": "stream",
     "text": [
      "[1] \"fantastic\"\n"
     ]
    }
   ],
   "source": [
    "# If you use the assignment operator <<-, the variable belongs to the global scope:\n",
    "my_function <- function() {\n",
    "txt <<- \"fantastic\"\n",
    "  paste(\"R is\", txt)\n",
    "}\n",
    "\n",
    "my_function()\n",
    "\n",
    "print(txt)"
   ]
  },
  {
   "cell_type": "code",
   "execution_count": 253,
   "metadata": {
    "vscode": {
     "languageId": "r"
    }
   },
   "outputs": [
    {
     "data": {
      "text/html": [
       "'R is fantastic'"
      ],
      "text/latex": [
       "'R is fantastic'"
      ],
      "text/markdown": [
       "'R is fantastic'"
      ],
      "text/plain": [
       "[1] \"R is fantastic\""
      ]
     },
     "metadata": {},
     "output_type": "display_data"
    },
    {
     "data": {
      "text/html": [
       "'R is fantastic'"
      ],
      "text/latex": [
       "'R is fantastic'"
      ],
      "text/markdown": [
       "'R is fantastic'"
      ],
      "text/plain": [
       "[1] \"R is fantastic\""
      ]
     },
     "metadata": {},
     "output_type": "display_data"
    }
   ],
   "source": [
    "# Also, use the global assignment operator if you want to change a global variable inside a function:\n",
    "txt <- \"awesome\"\n",
    "my_function <- function() {\n",
    "  txt <<- \"fantastic\"\n",
    "  paste(\"R is\", txt)\n",
    "}\n",
    "\n",
    "my_function()\n",
    "\n",
    "paste(\"R is\", txt)"
   ]
  },
  {
   "cell_type": "markdown",
   "metadata": {},
   "source": [
    "# R DATA STRUCTURE"
   ]
  },
  {
   "cell_type": "markdown",
   "metadata": {},
   "source": [
    "## Vector"
   ]
  },
  {
   "cell_type": "code",
   "execution_count": 254,
   "metadata": {
    "vscode": {
     "languageId": "r"
    }
   },
   "outputs": [
    {
     "data": {
      "text/html": [
       "<style>\n",
       ".list-inline {list-style: none; margin:0; padding: 0}\n",
       ".list-inline>li {display: inline-block}\n",
       ".list-inline>li:not(:last-child)::after {content: \"\\00b7\"; padding: 0 .5ex}\n",
       "</style>\n",
       "<ol class=list-inline><li>'banana'</li><li>'apple'</li><li>'orange'</li></ol>\n"
      ],
      "text/latex": [
       "\\begin{enumerate*}\n",
       "\\item 'banana'\n",
       "\\item 'apple'\n",
       "\\item 'orange'\n",
       "\\end{enumerate*}\n"
      ],
      "text/markdown": [
       "1. 'banana'\n",
       "2. 'apple'\n",
       "3. 'orange'\n",
       "\n",
       "\n"
      ],
      "text/plain": [
       "[1] \"banana\" \"apple\"  \"orange\""
      ]
     },
     "metadata": {},
     "output_type": "display_data"
    },
    {
     "data": {
      "text/html": [
       "3"
      ],
      "text/latex": [
       "3"
      ],
      "text/markdown": [
       "3"
      ],
      "text/plain": [
       "[1] 3"
      ]
     },
     "metadata": {},
     "output_type": "display_data"
    },
    {
     "data": {
      "text/html": [
       "<style>\n",
       ".list-inline {list-style: none; margin:0; padding: 0}\n",
       ".list-inline>li {display: inline-block}\n",
       ".list-inline>li:not(:last-child)::after {content: \"\\00b7\"; padding: 0 .5ex}\n",
       "</style>\n",
       "<ol class=list-inline><li>1</li><li>2</li><li>3</li></ol>\n"
      ],
      "text/latex": [
       "\\begin{enumerate*}\n",
       "\\item 1\n",
       "\\item 2\n",
       "\\item 3\n",
       "\\end{enumerate*}\n"
      ],
      "text/markdown": [
       "1. 1\n",
       "2. 2\n",
       "3. 3\n",
       "\n",
       "\n"
      ],
      "text/plain": [
       "[1] 1 2 3"
      ]
     },
     "metadata": {},
     "output_type": "display_data"
    },
    {
     "data": {
      "text/html": [
       "<style>\n",
       ".list-inline {list-style: none; margin:0; padding: 0}\n",
       ".list-inline>li {display: inline-block}\n",
       ".list-inline>li:not(:last-child)::after {content: \"\\00b7\"; padding: 0 .5ex}\n",
       "</style>\n",
       "<ol class=list-inline><li>1.5</li><li>2.5</li><li>3.5</li><li>4.5</li><li>5.5</li><li>6.5</li></ol>\n"
      ],
      "text/latex": [
       "\\begin{enumerate*}\n",
       "\\item 1.5\n",
       "\\item 2.5\n",
       "\\item 3.5\n",
       "\\item 4.5\n",
       "\\item 5.5\n",
       "\\item 6.5\n",
       "\\end{enumerate*}\n"
      ],
      "text/markdown": [
       "1. 1.5\n",
       "2. 2.5\n",
       "3. 3.5\n",
       "4. 4.5\n",
       "5. 5.5\n",
       "6. 6.5\n",
       "\n",
       "\n"
      ],
      "text/plain": [
       "[1] 1.5 2.5 3.5 4.5 5.5 6.5"
      ]
     },
     "metadata": {},
     "output_type": "display_data"
    },
    {
     "data": {
      "text/html": [
       "<style>\n",
       ".list-inline {list-style: none; margin:0; padding: 0}\n",
       ".list-inline>li {display: inline-block}\n",
       ".list-inline>li:not(:last-child)::after {content: \"\\00b7\"; padding: 0 .5ex}\n",
       "</style>\n",
       "<ol class=list-inline><li>1.5</li><li>2.5</li><li>3.5</li><li>4.5</li><li>5.5</li></ol>\n"
      ],
      "text/latex": [
       "\\begin{enumerate*}\n",
       "\\item 1.5\n",
       "\\item 2.5\n",
       "\\item 3.5\n",
       "\\item 4.5\n",
       "\\item 5.5\n",
       "\\end{enumerate*}\n"
      ],
      "text/markdown": [
       "1. 1.5\n",
       "2. 2.5\n",
       "3. 3.5\n",
       "4. 4.5\n",
       "5. 5.5\n",
       "\n",
       "\n"
      ],
      "text/plain": [
       "[1] 1.5 2.5 3.5 4.5 5.5"
      ]
     },
     "metadata": {},
     "output_type": "display_data"
    }
   ],
   "source": [
    "# Vector of strings\n",
    "fruits <- c(\"banana\", \"apple\", \"orange\")\n",
    "\n",
    "# Print fruits\n",
    "fruits\n",
    "length(fruits)\n",
    "\n",
    "# Vector of numerical values\n",
    "numbers <- c(1, 2, 3)\n",
    "\n",
    "# Print numbers\n",
    "numbers\n",
    "\n",
    "# Vector with numerical decimals in a sequence\n",
    "numbers1 <- 1.5:6.5\n",
    "numbers1\n",
    "\n",
    "# Vector with numerical decimals in a sequence where the last element is not used\n",
    "numbers2 <- 1.5:6.3\n",
    "numbers2"
   ]
  },
  {
   "cell_type": "code",
   "execution_count": 255,
   "metadata": {
    "vscode": {
     "languageId": "r"
    }
   },
   "outputs": [
    {
     "data": {
      "text/html": [
       "<style>\n",
       ".list-inline {list-style: none; margin:0; padding: 0}\n",
       ".list-inline>li {display: inline-block}\n",
       ".list-inline>li:not(:last-child)::after {content: \"\\00b7\"; padding: 0 .5ex}\n",
       "</style>\n",
       "<ol class=list-inline><li>'apple'</li><li>'banana'</li><li>'lemon'</li><li>'mango'</li><li>'orange'</li></ol>\n"
      ],
      "text/latex": [
       "\\begin{enumerate*}\n",
       "\\item 'apple'\n",
       "\\item 'banana'\n",
       "\\item 'lemon'\n",
       "\\item 'mango'\n",
       "\\item 'orange'\n",
       "\\end{enumerate*}\n"
      ],
      "text/markdown": [
       "1. 'apple'\n",
       "2. 'banana'\n",
       "3. 'lemon'\n",
       "4. 'mango'\n",
       "5. 'orange'\n",
       "\n",
       "\n"
      ],
      "text/plain": [
       "[1] \"apple\"  \"banana\" \"lemon\"  \"mango\"  \"orange\""
      ]
     },
     "metadata": {},
     "output_type": "display_data"
    },
    {
     "data": {
      "text/html": [
       "<style>\n",
       ".list-inline {list-style: none; margin:0; padding: 0}\n",
       ".list-inline>li {display: inline-block}\n",
       ".list-inline>li:not(:last-child)::after {content: \"\\00b7\"; padding: 0 .5ex}\n",
       "</style>\n",
       "<ol class=list-inline><li>2</li><li>3</li><li>5</li><li>7</li><li>13</li><li>20</li></ol>\n"
      ],
      "text/latex": [
       "\\begin{enumerate*}\n",
       "\\item 2\n",
       "\\item 3\n",
       "\\item 5\n",
       "\\item 7\n",
       "\\item 13\n",
       "\\item 20\n",
       "\\end{enumerate*}\n"
      ],
      "text/markdown": [
       "1. 2\n",
       "2. 3\n",
       "3. 5\n",
       "4. 7\n",
       "5. 13\n",
       "6. 20\n",
       "\n",
       "\n"
      ],
      "text/plain": [
       "[1]  2  3  5  7 13 20"
      ]
     },
     "metadata": {},
     "output_type": "display_data"
    }
   ],
   "source": [
    "fruits <- c(\"banana\", \"apple\", \"orange\", \"mango\", \"lemon\")\n",
    "numbers <- c(13, 3, 5, 7, 20, 2)\n",
    "\n",
    "sort(fruits)  # Sort a string\n",
    "sort(numbers) # Sort numbers"
   ]
  },
  {
   "cell_type": "code",
   "execution_count": 256,
   "metadata": {
    "vscode": {
     "languageId": "r"
    }
   },
   "outputs": [
    {
     "data": {
      "text/html": [
       "'banana'"
      ],
      "text/latex": [
       "'banana'"
      ],
      "text/markdown": [
       "'banana'"
      ],
      "text/plain": [
       "[1] \"banana\""
      ]
     },
     "metadata": {},
     "output_type": "display_data"
    },
    {
     "data": {
      "text/html": [
       "<style>\n",
       ".list-inline {list-style: none; margin:0; padding: 0}\n",
       ".list-inline>li {display: inline-block}\n",
       ".list-inline>li:not(:last-child)::after {content: \"\\00b7\"; padding: 0 .5ex}\n",
       "</style>\n",
       "<ol class=list-inline><li>'banana'</li><li>'mango'</li></ol>\n"
      ],
      "text/latex": [
       "\\begin{enumerate*}\n",
       "\\item 'banana'\n",
       "\\item 'mango'\n",
       "\\end{enumerate*}\n"
      ],
      "text/markdown": [
       "1. 'banana'\n",
       "2. 'mango'\n",
       "\n",
       "\n"
      ],
      "text/plain": [
       "[1] \"banana\" \"mango\" "
      ]
     },
     "metadata": {},
     "output_type": "display_data"
    },
    {
     "data": {
      "text/html": [
       "<style>\n",
       ".list-inline {list-style: none; margin:0; padding: 0}\n",
       ".list-inline>li {display: inline-block}\n",
       ".list-inline>li:not(:last-child)::after {content: \"\\00b7\"; padding: 0 .5ex}\n",
       "</style>\n",
       "<ol class=list-inline><li>'apple'</li><li>'orange'</li><li>'mango'</li><li>'lemon'</li></ol>\n"
      ],
      "text/latex": [
       "\\begin{enumerate*}\n",
       "\\item 'apple'\n",
       "\\item 'orange'\n",
       "\\item 'mango'\n",
       "\\item 'lemon'\n",
       "\\end{enumerate*}\n"
      ],
      "text/markdown": [
       "1. 'apple'\n",
       "2. 'orange'\n",
       "3. 'mango'\n",
       "4. 'lemon'\n",
       "\n",
       "\n"
      ],
      "text/plain": [
       "[1] \"apple\"  \"orange\" \"mango\"  \"lemon\" "
      ]
     },
     "metadata": {},
     "output_type": "display_data"
    }
   ],
   "source": [
    "fruits[1]\n",
    "fruits[c(1,4)]\n",
    "\n",
    "# Access all items except for the first item\n",
    "fruits[c(-1)]"
   ]
  },
  {
   "cell_type": "code",
   "execution_count": 257,
   "metadata": {
    "vscode": {
     "languageId": "r"
    }
   },
   "outputs": [
    {
     "data": {
      "text/html": [
       "<style>\n",
       ".list-inline {list-style: none; margin:0; padding: 0}\n",
       ".list-inline>li {display: inline-block}\n",
       ".list-inline>li:not(:last-child)::after {content: \"\\00b7\"; padding: 0 .5ex}\n",
       "</style>\n",
       "<ol class=list-inline><li>'pear'</li><li>'apple'</li><li>'orange'</li><li>'mango'</li><li>'lemon'</li></ol>\n"
      ],
      "text/latex": [
       "\\begin{enumerate*}\n",
       "\\item 'pear'\n",
       "\\item 'apple'\n",
       "\\item 'orange'\n",
       "\\item 'mango'\n",
       "\\item 'lemon'\n",
       "\\end{enumerate*}\n"
      ],
      "text/markdown": [
       "1. 'pear'\n",
       "2. 'apple'\n",
       "3. 'orange'\n",
       "4. 'mango'\n",
       "5. 'lemon'\n",
       "\n",
       "\n"
      ],
      "text/plain": [
       "[1] \"pear\"   \"apple\"  \"orange\" \"mango\"  \"lemon\" "
      ]
     },
     "metadata": {},
     "output_type": "display_data"
    }
   ],
   "source": [
    "# Change \"banana\" to \"pear\"\n",
    "fruits[1] <- \"pear\"\n",
    "\n",
    "# Print fruits\n",
    "fruits"
   ]
  },
  {
   "cell_type": "code",
   "execution_count": 258,
   "metadata": {
    "vscode": {
     "languageId": "r"
    }
   },
   "outputs": [
    {
     "data": {
      "text/html": [
       "<style>\n",
       ".list-inline {list-style: none; margin:0; padding: 0}\n",
       ".list-inline>li {display: inline-block}\n",
       ".list-inline>li:not(:last-child)::after {content: \"\\00b7\"; padding: 0 .5ex}\n",
       "</style>\n",
       "<ol class=list-inline><li>1</li><li>1</li><li>1</li><li>2</li><li>2</li><li>2</li><li>3</li><li>3</li><li>3</li></ol>\n"
      ],
      "text/latex": [
       "\\begin{enumerate*}\n",
       "\\item 1\n",
       "\\item 1\n",
       "\\item 1\n",
       "\\item 2\n",
       "\\item 2\n",
       "\\item 2\n",
       "\\item 3\n",
       "\\item 3\n",
       "\\item 3\n",
       "\\end{enumerate*}\n"
      ],
      "text/markdown": [
       "1. 1\n",
       "2. 1\n",
       "3. 1\n",
       "4. 2\n",
       "5. 2\n",
       "6. 2\n",
       "7. 3\n",
       "8. 3\n",
       "9. 3\n",
       "\n",
       "\n"
      ],
      "text/plain": [
       "[1] 1 1 1 2 2 2 3 3 3"
      ]
     },
     "metadata": {},
     "output_type": "display_data"
    }
   ],
   "source": [
    "repeat_each <- rep(c(1,2,3), each = 3)\n",
    "\n",
    "repeat_each"
   ]
  },
  {
   "cell_type": "code",
   "execution_count": 259,
   "metadata": {
    "vscode": {
     "languageId": "r"
    }
   },
   "outputs": [
    {
     "data": {
      "text/html": [
       "<style>\n",
       ".list-inline {list-style: none; margin:0; padding: 0}\n",
       ".list-inline>li {display: inline-block}\n",
       ".list-inline>li:not(:last-child)::after {content: \"\\00b7\"; padding: 0 .5ex}\n",
       "</style>\n",
       "<ol class=list-inline><li>1</li><li>2</li><li>3</li><li>1</li><li>2</li><li>3</li><li>1</li><li>2</li><li>3</li></ol>\n"
      ],
      "text/latex": [
       "\\begin{enumerate*}\n",
       "\\item 1\n",
       "\\item 2\n",
       "\\item 3\n",
       "\\item 1\n",
       "\\item 2\n",
       "\\item 3\n",
       "\\item 1\n",
       "\\item 2\n",
       "\\item 3\n",
       "\\end{enumerate*}\n"
      ],
      "text/markdown": [
       "1. 1\n",
       "2. 2\n",
       "3. 3\n",
       "4. 1\n",
       "5. 2\n",
       "6. 3\n",
       "7. 1\n",
       "8. 2\n",
       "9. 3\n",
       "\n",
       "\n"
      ],
      "text/plain": [
       "[1] 1 2 3 1 2 3 1 2 3"
      ]
     },
     "metadata": {},
     "output_type": "display_data"
    }
   ],
   "source": [
    "repeat_times <- rep(c(1,2,3), times = 3)\n",
    "\n",
    "repeat_times"
   ]
  },
  {
   "cell_type": "code",
   "execution_count": 260,
   "metadata": {
    "vscode": {
     "languageId": "r"
    }
   },
   "outputs": [
    {
     "data": {
      "text/html": [
       "<style>\n",
       ".list-inline {list-style: none; margin:0; padding: 0}\n",
       ".list-inline>li {display: inline-block}\n",
       ".list-inline>li:not(:last-child)::after {content: \"\\00b7\"; padding: 0 .5ex}\n",
       "</style>\n",
       "<ol class=list-inline><li>1</li><li>1</li><li>1</li><li>1</li><li>1</li><li>2</li><li>2</li><li>3</li></ol>\n"
      ],
      "text/latex": [
       "\\begin{enumerate*}\n",
       "\\item 1\n",
       "\\item 1\n",
       "\\item 1\n",
       "\\item 1\n",
       "\\item 1\n",
       "\\item 2\n",
       "\\item 2\n",
       "\\item 3\n",
       "\\end{enumerate*}\n"
      ],
      "text/markdown": [
       "1. 1\n",
       "2. 1\n",
       "3. 1\n",
       "4. 1\n",
       "5. 1\n",
       "6. 2\n",
       "7. 2\n",
       "8. 3\n",
       "\n",
       "\n"
      ],
      "text/plain": [
       "[1] 1 1 1 1 1 2 2 3"
      ]
     },
     "metadata": {},
     "output_type": "display_data"
    }
   ],
   "source": [
    "repeat_indepent <- rep(c(1,2,3), times = c(5,2,1))\n",
    "\n",
    "repeat_indepent"
   ]
  },
  {
   "cell_type": "code",
   "execution_count": 261,
   "metadata": {
    "vscode": {
     "languageId": "r"
    }
   },
   "outputs": [
    {
     "data": {
      "text/html": [
       "<style>\n",
       ".list-inline {list-style: none; margin:0; padding: 0}\n",
       ".list-inline>li {display: inline-block}\n",
       ".list-inline>li:not(:last-child)::after {content: \"\\00b7\"; padding: 0 .5ex}\n",
       "</style>\n",
       "<ol class=list-inline><li>0</li><li>20</li><li>40</li><li>60</li><li>80</li><li>100</li></ol>\n"
      ],
      "text/latex": [
       "\\begin{enumerate*}\n",
       "\\item 0\n",
       "\\item 20\n",
       "\\item 40\n",
       "\\item 60\n",
       "\\item 80\n",
       "\\item 100\n",
       "\\end{enumerate*}\n"
      ],
      "text/markdown": [
       "1. 0\n",
       "2. 20\n",
       "3. 40\n",
       "4. 60\n",
       "5. 80\n",
       "6. 100\n",
       "\n",
       "\n"
      ],
      "text/plain": [
       "[1]   0  20  40  60  80 100"
      ]
     },
     "metadata": {},
     "output_type": "display_data"
    }
   ],
   "source": [
    "numbers <- seq(from = 0, to = 100, by = 20)\n",
    "\n",
    "numbers"
   ]
  },
  {
   "cell_type": "markdown",
   "metadata": {},
   "source": [
    "## List\n",
    "\n",
    "A list in R can contain many different data types inside it. A list is a collection of data which is **ordered** and **changeable**."
   ]
  },
  {
   "cell_type": "code",
   "execution_count": 262,
   "metadata": {
    "vscode": {
     "languageId": "r"
    }
   },
   "outputs": [
    {
     "data": {
      "text/html": [
       "<ol>\n",
       "\t<li>'apple'</li>\n",
       "\t<li>'banana'</li>\n",
       "\t<li>'cherry'</li>\n",
       "</ol>\n"
      ],
      "text/latex": [
       "\\begin{enumerate}\n",
       "\\item 'apple'\n",
       "\\item 'banana'\n",
       "\\item 'cherry'\n",
       "\\end{enumerate}\n"
      ],
      "text/markdown": [
       "1. 'apple'\n",
       "2. 'banana'\n",
       "3. 'cherry'\n",
       "\n",
       "\n"
      ],
      "text/plain": [
       "[[1]]\n",
       "[1] \"apple\"\n",
       "\n",
       "[[2]]\n",
       "[1] \"banana\"\n",
       "\n",
       "[[3]]\n",
       "[1] \"cherry\"\n"
      ]
     },
     "metadata": {},
     "output_type": "display_data"
    }
   ],
   "source": [
    "# List of strings\n",
    "thislist <- list(\"apple\", \"banana\", \"cherry\")\n",
    "\n",
    "# Print the list\n",
    "thislist"
   ]
  },
  {
   "cell_type": "code",
   "execution_count": 263,
   "metadata": {
    "vscode": {
     "languageId": "r"
    }
   },
   "outputs": [
    {
     "data": {
      "text/html": [
       "<ol>\n",
       "\t<li>'blackcurrant'</li>\n",
       "\t<li>'banana'</li>\n",
       "\t<li>'cherry'</li>\n",
       "</ol>\n"
      ],
      "text/latex": [
       "\\begin{enumerate}\n",
       "\\item 'blackcurrant'\n",
       "\\item 'banana'\n",
       "\\item 'cherry'\n",
       "\\end{enumerate}\n"
      ],
      "text/markdown": [
       "1. 'blackcurrant'\n",
       "2. 'banana'\n",
       "3. 'cherry'\n",
       "\n",
       "\n"
      ],
      "text/plain": [
       "[[1]]\n",
       "[1] \"blackcurrant\"\n",
       "\n",
       "[[2]]\n",
       "[1] \"banana\"\n",
       "\n",
       "[[3]]\n",
       "[1] \"cherry\"\n"
      ]
     },
     "metadata": {},
     "output_type": "display_data"
    }
   ],
   "source": [
    "thislist <- list(\"apple\", \"banana\", \"cherry\")\n",
    "thislist[1] <- \"blackcurrant\"\n",
    "\n",
    "# Print the updated list\n",
    "thislist"
   ]
  },
  {
   "cell_type": "code",
   "execution_count": 264,
   "metadata": {
    "vscode": {
     "languageId": "r"
    }
   },
   "outputs": [
    {
     "data": {
      "text/html": [
       "3"
      ],
      "text/latex": [
       "3"
      ],
      "text/markdown": [
       "3"
      ],
      "text/plain": [
       "[1] 3"
      ]
     },
     "metadata": {},
     "output_type": "display_data"
    }
   ],
   "source": [
    "length(thislist)"
   ]
  },
  {
   "cell_type": "code",
   "execution_count": 265,
   "metadata": {
    "vscode": {
     "languageId": "r"
    }
   },
   "outputs": [
    {
     "data": {
      "text/html": [
       "FALSE"
      ],
      "text/latex": [
       "FALSE"
      ],
      "text/markdown": [
       "FALSE"
      ],
      "text/plain": [
       "[1] FALSE"
      ]
     },
     "metadata": {},
     "output_type": "display_data"
    }
   ],
   "source": [
    "\"apple\" %in% thislist"
   ]
  },
  {
   "cell_type": "code",
   "execution_count": 266,
   "metadata": {
    "vscode": {
     "languageId": "r"
    }
   },
   "outputs": [
    {
     "data": {
      "text/html": [
       "<ol>\n",
       "\t<li>'blackcurrant'</li>\n",
       "\t<li>'banana'</li>\n",
       "\t<li>'cherry'</li>\n",
       "\t<li>'orange'</li>\n",
       "</ol>\n"
      ],
      "text/latex": [
       "\\begin{enumerate}\n",
       "\\item 'blackcurrant'\n",
       "\\item 'banana'\n",
       "\\item 'cherry'\n",
       "\\item 'orange'\n",
       "\\end{enumerate}\n"
      ],
      "text/markdown": [
       "1. 'blackcurrant'\n",
       "2. 'banana'\n",
       "3. 'cherry'\n",
       "4. 'orange'\n",
       "\n",
       "\n"
      ],
      "text/plain": [
       "[[1]]\n",
       "[1] \"blackcurrant\"\n",
       "\n",
       "[[2]]\n",
       "[1] \"banana\"\n",
       "\n",
       "[[3]]\n",
       "[1] \"cherry\"\n",
       "\n",
       "[[4]]\n",
       "[1] \"orange\"\n"
      ]
     },
     "metadata": {},
     "output_type": "display_data"
    }
   ],
   "source": [
    "append(thislist, \"orange\")"
   ]
  },
  {
   "cell_type": "code",
   "execution_count": 267,
   "metadata": {
    "vscode": {
     "languageId": "r"
    }
   },
   "outputs": [
    {
     "data": {
      "text/html": [
       "<ol>\n",
       "\t<li>'apple'</li>\n",
       "\t<li>'banana'</li>\n",
       "\t<li>'orange'</li>\n",
       "\t<li>'cherry'</li>\n",
       "</ol>\n"
      ],
      "text/latex": [
       "\\begin{enumerate}\n",
       "\\item 'apple'\n",
       "\\item 'banana'\n",
       "\\item 'orange'\n",
       "\\item 'cherry'\n",
       "\\end{enumerate}\n"
      ],
      "text/markdown": [
       "1. 'apple'\n",
       "2. 'banana'\n",
       "3. 'orange'\n",
       "4. 'cherry'\n",
       "\n",
       "\n"
      ],
      "text/plain": [
       "[[1]]\n",
       "[1] \"apple\"\n",
       "\n",
       "[[2]]\n",
       "[1] \"banana\"\n",
       "\n",
       "[[3]]\n",
       "[1] \"orange\"\n",
       "\n",
       "[[4]]\n",
       "[1] \"cherry\"\n"
      ]
     },
     "metadata": {},
     "output_type": "display_data"
    }
   ],
   "source": [
    "thislist <- list(\"apple\", \"banana\", \"cherry\")\n",
    "\n",
    "append(thislist, \"orange\", after = 2)"
   ]
  },
  {
   "cell_type": "code",
   "execution_count": 268,
   "metadata": {
    "vscode": {
     "languageId": "r"
    }
   },
   "outputs": [
    {
     "data": {
      "text/html": [
       "<ol>\n",
       "\t<li>'banana'</li>\n",
       "\t<li>'cherry'</li>\n",
       "</ol>\n"
      ],
      "text/latex": [
       "\\begin{enumerate}\n",
       "\\item 'banana'\n",
       "\\item 'cherry'\n",
       "\\end{enumerate}\n"
      ],
      "text/markdown": [
       "1. 'banana'\n",
       "2. 'cherry'\n",
       "\n",
       "\n"
      ],
      "text/plain": [
       "[[1]]\n",
       "[1] \"banana\"\n",
       "\n",
       "[[2]]\n",
       "[1] \"cherry\"\n"
      ]
     },
     "metadata": {},
     "output_type": "display_data"
    }
   ],
   "source": [
    "thislist <- list(\"apple\", \"banana\", \"cherry\")\n",
    "\n",
    "newlist <- thislist[-1]\n",
    "\n",
    "# Print the new list\n",
    "newlist"
   ]
  },
  {
   "cell_type": "code",
   "execution_count": 269,
   "metadata": {
    "vscode": {
     "languageId": "r"
    }
   },
   "outputs": [
    {
     "data": {
      "text/html": [
       "<ol>\n",
       "\t<li>'banana'</li>\n",
       "\t<li>'cherry'</li>\n",
       "\t<li>'orange'</li>\n",
       "\t<li>'kiwi'</li>\n",
       "</ol>\n"
      ],
      "text/latex": [
       "\\begin{enumerate}\n",
       "\\item 'banana'\n",
       "\\item 'cherry'\n",
       "\\item 'orange'\n",
       "\\item 'kiwi'\n",
       "\\end{enumerate}\n"
      ],
      "text/markdown": [
       "1. 'banana'\n",
       "2. 'cherry'\n",
       "3. 'orange'\n",
       "4. 'kiwi'\n",
       "\n",
       "\n"
      ],
      "text/plain": [
       "[[1]]\n",
       "[1] \"banana\"\n",
       "\n",
       "[[2]]\n",
       "[1] \"cherry\"\n",
       "\n",
       "[[3]]\n",
       "[1] \"orange\"\n",
       "\n",
       "[[4]]\n",
       "[1] \"kiwi\"\n"
      ]
     },
     "metadata": {},
     "output_type": "display_data"
    }
   ],
   "source": [
    "thislist <- list(\"apple\", \"banana\", \"cherry\", \"orange\", \"kiwi\", \"melon\", \"mango\")\n",
    "\n",
    "(thislist)[2:5]"
   ]
  },
  {
   "cell_type": "code",
   "execution_count": 270,
   "metadata": {
    "vscode": {
     "languageId": "r"
    }
   },
   "outputs": [
    {
     "name": "stdout",
     "output_type": "stream",
     "text": [
      "[1] \"apple\"\n",
      "[1] \"banana\"\n",
      "[1] \"cherry\"\n"
     ]
    }
   ],
   "source": [
    "thislist <- list(\"apple\", \"banana\", \"cherry\")\n",
    "\n",
    "for (x in thislist) {\n",
    "  print(x)\n",
    "}"
   ]
  },
  {
   "cell_type": "code",
   "execution_count": 271,
   "metadata": {
    "vscode": {
     "languageId": "r"
    }
   },
   "outputs": [
    {
     "data": {
      "text/html": [
       "<ol>\n",
       "\t<li>'a'</li>\n",
       "\t<li>'b'</li>\n",
       "\t<li>'c'</li>\n",
       "\t<li>1</li>\n",
       "\t<li>2</li>\n",
       "\t<li>3</li>\n",
       "</ol>\n"
      ],
      "text/latex": [
       "\\begin{enumerate}\n",
       "\\item 'a'\n",
       "\\item 'b'\n",
       "\\item 'c'\n",
       "\\item 1\n",
       "\\item 2\n",
       "\\item 3\n",
       "\\end{enumerate}\n"
      ],
      "text/markdown": [
       "1. 'a'\n",
       "2. 'b'\n",
       "3. 'c'\n",
       "4. 1\n",
       "5. 2\n",
       "6. 3\n",
       "\n",
       "\n"
      ],
      "text/plain": [
       "[[1]]\n",
       "[1] \"a\"\n",
       "\n",
       "[[2]]\n",
       "[1] \"b\"\n",
       "\n",
       "[[3]]\n",
       "[1] \"c\"\n",
       "\n",
       "[[4]]\n",
       "[1] 1\n",
       "\n",
       "[[5]]\n",
       "[1] 2\n",
       "\n",
       "[[6]]\n",
       "[1] 3\n"
      ]
     },
     "metadata": {},
     "output_type": "display_data"
    }
   ],
   "source": [
    "list1 <- list(\"a\", \"b\", \"c\")\n",
    "list2 <- list(1,2,3)\n",
    "list3 <- c(list1,list2)\n",
    "\n",
    "list3"
   ]
  },
  {
   "cell_type": "markdown",
   "metadata": {},
   "source": [
    "## Matrices"
   ]
  },
  {
   "cell_type": "code",
   "execution_count": 272,
   "metadata": {
    "vscode": {
     "languageId": "r"
    }
   },
   "outputs": [
    {
     "data": {
      "text/html": [
       "<table class=\"dataframe\">\n",
       "<caption>A matrix: 3 × 2 of type dbl</caption>\n",
       "<tbody>\n",
       "\t<tr><td>1</td><td>4</td></tr>\n",
       "\t<tr><td>2</td><td>5</td></tr>\n",
       "\t<tr><td>3</td><td>6</td></tr>\n",
       "</tbody>\n",
       "</table>\n"
      ],
      "text/latex": [
       "A matrix: 3 × 2 of type dbl\n",
       "\\begin{tabular}{ll}\n",
       "\t 1 & 4\\\\\n",
       "\t 2 & 5\\\\\n",
       "\t 3 & 6\\\\\n",
       "\\end{tabular}\n"
      ],
      "text/markdown": [
       "\n",
       "A matrix: 3 × 2 of type dbl\n",
       "\n",
       "| 1 | 4 |\n",
       "| 2 | 5 |\n",
       "| 3 | 6 |\n",
       "\n"
      ],
      "text/plain": [
       "     [,1] [,2]\n",
       "[1,] 1    4   \n",
       "[2,] 2    5   \n",
       "[3,] 3    6   "
      ]
     },
     "metadata": {},
     "output_type": "display_data"
    }
   ],
   "source": [
    "# Create a matrix\n",
    "thismatrix <- matrix(c(1,2,3,4,5,6), nrow = 3, ncol = 2)\n",
    "\n",
    "# Print the matrix\n",
    "thismatrix"
   ]
  },
  {
   "cell_type": "code",
   "execution_count": 273,
   "metadata": {
    "vscode": {
     "languageId": "r"
    }
   },
   "outputs": [
    {
     "data": {
      "text/html": [
       "<table class=\"dataframe\">\n",
       "<caption>A matrix: 2 × 2 of type chr</caption>\n",
       "<tbody>\n",
       "\t<tr><td>apple </td><td>cherry</td></tr>\n",
       "\t<tr><td>banana</td><td>orange</td></tr>\n",
       "</tbody>\n",
       "</table>\n"
      ],
      "text/latex": [
       "A matrix: 2 × 2 of type chr\n",
       "\\begin{tabular}{ll}\n",
       "\t apple  & cherry\\\\\n",
       "\t banana & orange\\\\\n",
       "\\end{tabular}\n"
      ],
      "text/markdown": [
       "\n",
       "A matrix: 2 × 2 of type chr\n",
       "\n",
       "| apple  | cherry |\n",
       "| banana | orange |\n",
       "\n"
      ],
      "text/plain": [
       "     [,1]   [,2]  \n",
       "[1,] apple  cherry\n",
       "[2,] banana orange"
      ]
     },
     "metadata": {},
     "output_type": "display_data"
    }
   ],
   "source": [
    "thismatrix <- matrix(c(\"apple\", \"banana\", \"cherry\", \"orange\"), nrow = 2, ncol = 2)\n",
    "\n",
    "thismatrix"
   ]
  },
  {
   "cell_type": "code",
   "execution_count": 274,
   "metadata": {
    "vscode": {
     "languageId": "r"
    }
   },
   "outputs": [
    {
     "data": {
      "text/html": [
       "'cherry'"
      ],
      "text/latex": [
       "'cherry'"
      ],
      "text/markdown": [
       "'cherry'"
      ],
      "text/plain": [
       "[1] \"cherry\""
      ]
     },
     "metadata": {},
     "output_type": "display_data"
    }
   ],
   "source": [
    "thismatrix[1, 2]"
   ]
  },
  {
   "cell_type": "code",
   "execution_count": 275,
   "metadata": {
    "vscode": {
     "languageId": "r"
    }
   },
   "outputs": [
    {
     "data": {
      "text/html": [
       "<style>\n",
       ".list-inline {list-style: none; margin:0; padding: 0}\n",
       ".list-inline>li {display: inline-block}\n",
       ".list-inline>li:not(:last-child)::after {content: \"\\00b7\"; padding: 0 .5ex}\n",
       "</style>\n",
       "<ol class=list-inline><li>'cherry'</li><li>'orange'</li></ol>\n"
      ],
      "text/latex": [
       "\\begin{enumerate*}\n",
       "\\item 'cherry'\n",
       "\\item 'orange'\n",
       "\\end{enumerate*}\n"
      ],
      "text/markdown": [
       "1. 'cherry'\n",
       "2. 'orange'\n",
       "\n",
       "\n"
      ],
      "text/plain": [
       "[1] \"cherry\" \"orange\""
      ]
     },
     "metadata": {},
     "output_type": "display_data"
    }
   ],
   "source": [
    "thismatrix[, 2]"
   ]
  },
  {
   "cell_type": "code",
   "execution_count": 276,
   "metadata": {
    "vscode": {
     "languageId": "r"
    }
   },
   "outputs": [
    {
     "data": {
      "text/html": [
       "<style>\n",
       ".list-inline {list-style: none; margin:0; padding: 0}\n",
       ".list-inline>li {display: inline-block}\n",
       ".list-inline>li:not(:last-child)::after {content: \"\\00b7\"; padding: 0 .5ex}\n",
       "</style>\n",
       "<ol class=list-inline><li>'banana'</li><li>'orange'</li></ol>\n"
      ],
      "text/latex": [
       "\\begin{enumerate*}\n",
       "\\item 'banana'\n",
       "\\item 'orange'\n",
       "\\end{enumerate*}\n"
      ],
      "text/markdown": [
       "1. 'banana'\n",
       "2. 'orange'\n",
       "\n",
       "\n"
      ],
      "text/plain": [
       "[1] \"banana\" \"orange\""
      ]
     },
     "metadata": {},
     "output_type": "display_data"
    }
   ],
   "source": [
    "thismatrix[2,]"
   ]
  },
  {
   "cell_type": "code",
   "execution_count": 277,
   "metadata": {
    "vscode": {
     "languageId": "r"
    }
   },
   "outputs": [
    {
     "data": {
      "text/html": [
       "<table class=\"dataframe\">\n",
       "<caption>A matrix: 3 × 3 of type chr</caption>\n",
       "<tbody>\n",
       "\t<tr><td>apple </td><td>orange   </td><td>pear </td></tr>\n",
       "\t<tr><td>banana</td><td>grape    </td><td>melon</td></tr>\n",
       "\t<tr><td>cherry</td><td>pineapple</td><td>fig  </td></tr>\n",
       "</tbody>\n",
       "</table>\n"
      ],
      "text/latex": [
       "A matrix: 3 × 3 of type chr\n",
       "\\begin{tabular}{lll}\n",
       "\t apple  & orange    & pear \\\\\n",
       "\t banana & grape     & melon\\\\\n",
       "\t cherry & pineapple & fig  \\\\\n",
       "\\end{tabular}\n"
      ],
      "text/markdown": [
       "\n",
       "A matrix: 3 × 3 of type chr\n",
       "\n",
       "| apple  | orange    | pear  |\n",
       "| banana | grape     | melon |\n",
       "| cherry | pineapple | fig   |\n",
       "\n"
      ],
      "text/plain": [
       "     [,1]   [,2]      [,3] \n",
       "[1,] apple  orange    pear \n",
       "[2,] banana grape     melon\n",
       "[3,] cherry pineapple fig  "
      ]
     },
     "metadata": {},
     "output_type": "display_data"
    }
   ],
   "source": [
    "thismatrix <- matrix(c(\"apple\", \"banana\", \"cherry\", \"orange\",\"grape\", \"pineapple\", \"pear\", \"melon\", \"fig\"), nrow = 3, ncol = 3)\n",
    "\n",
    "thismatrix"
   ]
  },
  {
   "cell_type": "code",
   "execution_count": 278,
   "metadata": {
    "vscode": {
     "languageId": "r"
    }
   },
   "outputs": [
    {
     "data": {
      "text/html": [
       "<table class=\"dataframe\">\n",
       "<caption>A matrix: 2 × 3 of type chr</caption>\n",
       "<tbody>\n",
       "\t<tr><td>apple </td><td>orange</td><td>pear </td></tr>\n",
       "\t<tr><td>banana</td><td>grape </td><td>melon</td></tr>\n",
       "</tbody>\n",
       "</table>\n"
      ],
      "text/latex": [
       "A matrix: 2 × 3 of type chr\n",
       "\\begin{tabular}{lll}\n",
       "\t apple  & orange & pear \\\\\n",
       "\t banana & grape  & melon\\\\\n",
       "\\end{tabular}\n"
      ],
      "text/markdown": [
       "\n",
       "A matrix: 2 × 3 of type chr\n",
       "\n",
       "| apple  | orange | pear  |\n",
       "| banana | grape  | melon |\n",
       "\n"
      ],
      "text/plain": [
       "     [,1]   [,2]   [,3] \n",
       "[1,] apple  orange pear \n",
       "[2,] banana grape  melon"
      ]
     },
     "metadata": {},
     "output_type": "display_data"
    }
   ],
   "source": [
    "thismatrix[c(1,2),]"
   ]
  },
  {
   "cell_type": "code",
   "execution_count": 279,
   "metadata": {
    "vscode": {
     "languageId": "r"
    }
   },
   "outputs": [
    {
     "data": {
      "text/html": [
       "<table class=\"dataframe\">\n",
       "<caption>A matrix: 3 × 2 of type chr</caption>\n",
       "<tbody>\n",
       "\t<tr><td>apple </td><td>orange   </td></tr>\n",
       "\t<tr><td>banana</td><td>grape    </td></tr>\n",
       "\t<tr><td>cherry</td><td>pineapple</td></tr>\n",
       "</tbody>\n",
       "</table>\n"
      ],
      "text/latex": [
       "A matrix: 3 × 2 of type chr\n",
       "\\begin{tabular}{ll}\n",
       "\t apple  & orange   \\\\\n",
       "\t banana & grape    \\\\\n",
       "\t cherry & pineapple\\\\\n",
       "\\end{tabular}\n"
      ],
      "text/markdown": [
       "\n",
       "A matrix: 3 × 2 of type chr\n",
       "\n",
       "| apple  | orange    |\n",
       "| banana | grape     |\n",
       "| cherry | pineapple |\n",
       "\n"
      ],
      "text/plain": [
       "     [,1]   [,2]     \n",
       "[1,] apple  orange   \n",
       "[2,] banana grape    \n",
       "[3,] cherry pineapple"
      ]
     },
     "metadata": {},
     "output_type": "display_data"
    }
   ],
   "source": [
    "thismatrix[, c(1,2)]"
   ]
  },
  {
   "cell_type": "markdown",
   "metadata": {},
   "source": [
    "### Add rows or columns"
   ]
  },
  {
   "cell_type": "code",
   "execution_count": 280,
   "metadata": {
    "vscode": {
     "languageId": "r"
    }
   },
   "outputs": [
    {
     "data": {
      "text/html": [
       "<table class=\"dataframe\">\n",
       "<caption>A matrix: 3 × 4 of type chr</caption>\n",
       "<tbody>\n",
       "\t<tr><td>apple </td><td>orange   </td><td>pear </td><td>strawberry</td></tr>\n",
       "\t<tr><td>banana</td><td>grape    </td><td>melon</td><td>blueberry </td></tr>\n",
       "\t<tr><td>cherry</td><td>pineapple</td><td>fig  </td><td>raspberry </td></tr>\n",
       "</tbody>\n",
       "</table>\n"
      ],
      "text/latex": [
       "A matrix: 3 × 4 of type chr\n",
       "\\begin{tabular}{llll}\n",
       "\t apple  & orange    & pear  & strawberry\\\\\n",
       "\t banana & grape     & melon & blueberry \\\\\n",
       "\t cherry & pineapple & fig   & raspberry \\\\\n",
       "\\end{tabular}\n"
      ],
      "text/markdown": [
       "\n",
       "A matrix: 3 × 4 of type chr\n",
       "\n",
       "| apple  | orange    | pear  | strawberry |\n",
       "| banana | grape     | melon | blueberry  |\n",
       "| cherry | pineapple | fig   | raspberry  |\n",
       "\n"
      ],
      "text/plain": [
       "     [,1]   [,2]      [,3]  [,4]      \n",
       "[1,] apple  orange    pear  strawberry\n",
       "[2,] banana grape     melon blueberry \n",
       "[3,] cherry pineapple fig   raspberry "
      ]
     },
     "metadata": {},
     "output_type": "display_data"
    }
   ],
   "source": [
    "# add rows or columns\n",
    "thismatrix <- matrix(c(\"apple\", \"banana\", \"cherry\", \"orange\",\"grape\", \"pineapple\", \"pear\", \"melon\", \"fig\"), nrow = 3, ncol = 3)\n",
    "\n",
    "newmatrix <- cbind(thismatrix, c(\"strawberry\", \"blueberry\", \"raspberry\"))\n",
    "\n",
    "# Print the new matrix\n",
    "newmatrix"
   ]
  },
  {
   "cell_type": "code",
   "execution_count": 281,
   "metadata": {
    "vscode": {
     "languageId": "r"
    }
   },
   "outputs": [
    {
     "data": {
      "text/html": [
       "<table class=\"dataframe\">\n",
       "<caption>A matrix: 4 × 3 of type chr</caption>\n",
       "<tbody>\n",
       "\t<tr><td>apple     </td><td>orange   </td><td>pear     </td></tr>\n",
       "\t<tr><td>banana    </td><td>grape    </td><td>melon    </td></tr>\n",
       "\t<tr><td>cherry    </td><td>pineapple</td><td>fig      </td></tr>\n",
       "\t<tr><td>strawberry</td><td>blueberry</td><td>raspberry</td></tr>\n",
       "</tbody>\n",
       "</table>\n"
      ],
      "text/latex": [
       "A matrix: 4 × 3 of type chr\n",
       "\\begin{tabular}{lll}\n",
       "\t apple      & orange    & pear     \\\\\n",
       "\t banana     & grape     & melon    \\\\\n",
       "\t cherry     & pineapple & fig      \\\\\n",
       "\t strawberry & blueberry & raspberry\\\\\n",
       "\\end{tabular}\n"
      ],
      "text/markdown": [
       "\n",
       "A matrix: 4 × 3 of type chr\n",
       "\n",
       "| apple      | orange    | pear      |\n",
       "| banana     | grape     | melon     |\n",
       "| cherry     | pineapple | fig       |\n",
       "| strawberry | blueberry | raspberry |\n",
       "\n"
      ],
      "text/plain": [
       "     [,1]       [,2]      [,3]     \n",
       "[1,] apple      orange    pear     \n",
       "[2,] banana     grape     melon    \n",
       "[3,] cherry     pineapple fig      \n",
       "[4,] strawberry blueberry raspberry"
      ]
     },
     "metadata": {},
     "output_type": "display_data"
    }
   ],
   "source": [
    "thismatrix <- matrix(c(\"apple\", \"banana\", \"cherry\", \"orange\",\"grape\", \"pineapple\", \"pear\", \"melon\", \"fig\"), nrow = 3, ncol = 3)\n",
    "\n",
    "newmatrix <- rbind(thismatrix, c(\"strawberry\", \"blueberry\", \"raspberry\"))\n",
    "\n",
    "# Print the new matrix\n",
    "newmatrix"
   ]
  },
  {
   "cell_type": "markdown",
   "metadata": {},
   "source": [
    "### Remove rows or columns"
   ]
  },
  {
   "cell_type": "code",
   "execution_count": 282,
   "metadata": {
    "vscode": {
     "languageId": "r"
    }
   },
   "outputs": [
    {
     "data": {
      "text/html": [
       "<table class=\"dataframe\">\n",
       "<caption>A matrix: 3 × 2 of type chr</caption>\n",
       "<tbody>\n",
       "\t<tr><td>apple </td><td>orange   </td></tr>\n",
       "\t<tr><td>banana</td><td>mango    </td></tr>\n",
       "\t<tr><td>cherry</td><td>pineapple</td></tr>\n",
       "</tbody>\n",
       "</table>\n"
      ],
      "text/latex": [
       "A matrix: 3 × 2 of type chr\n",
       "\\begin{tabular}{ll}\n",
       "\t apple  & orange   \\\\\n",
       "\t banana & mango    \\\\\n",
       "\t cherry & pineapple\\\\\n",
       "\\end{tabular}\n"
      ],
      "text/markdown": [
       "\n",
       "A matrix: 3 × 2 of type chr\n",
       "\n",
       "| apple  | orange    |\n",
       "| banana | mango     |\n",
       "| cherry | pineapple |\n",
       "\n"
      ],
      "text/plain": [
       "     [,1]   [,2]     \n",
       "[1,] apple  orange   \n",
       "[2,] banana mango    \n",
       "[3,] cherry pineapple"
      ]
     },
     "metadata": {},
     "output_type": "display_data"
    }
   ],
   "source": [
    "thismatrix <- matrix(c(\"apple\", \"banana\", \"cherry\", \"orange\", \"mango\", \"pineapple\"), nrow = 3, ncol =2)\n",
    "\n",
    "thismatrix"
   ]
  },
  {
   "cell_type": "code",
   "execution_count": 283,
   "metadata": {
    "vscode": {
     "languageId": "r"
    }
   },
   "outputs": [
    {
     "data": {
      "text/html": [
       "<style>\n",
       ".list-inline {list-style: none; margin:0; padding: 0}\n",
       ".list-inline>li {display: inline-block}\n",
       ".list-inline>li:not(:last-child)::after {content: \"\\00b7\"; padding: 0 .5ex}\n",
       "</style>\n",
       "<ol class=list-inline><li>'mango'</li><li>'pineapple'</li></ol>\n"
      ],
      "text/latex": [
       "\\begin{enumerate*}\n",
       "\\item 'mango'\n",
       "\\item 'pineapple'\n",
       "\\end{enumerate*}\n"
      ],
      "text/markdown": [
       "1. 'mango'\n",
       "2. 'pineapple'\n",
       "\n",
       "\n"
      ],
      "text/plain": [
       "[1] \"mango\"     \"pineapple\""
      ]
     },
     "metadata": {},
     "output_type": "display_data"
    }
   ],
   "source": [
    "#Remove the first row and the first column\n",
    "thismatrix <- thismatrix[-c(1),-c(1)]\n",
    "\n",
    "thismatrix"
   ]
  },
  {
   "cell_type": "code",
   "execution_count": 284,
   "metadata": {
    "vscode": {
     "languageId": "r"
    }
   },
   "outputs": [
    {
     "data": {
      "text/html": [
       "TRUE"
      ],
      "text/latex": [
       "TRUE"
      ],
      "text/markdown": [
       "TRUE"
      ],
      "text/plain": [
       "[1] TRUE"
      ]
     },
     "metadata": {},
     "output_type": "display_data"
    }
   ],
   "source": [
    "thismatrix <- matrix(c(\"apple\", \"banana\", \"cherry\", \"orange\"), nrow = 2, ncol = 2)\n",
    "\n",
    "\"apple\" %in% thismatrix"
   ]
  },
  {
   "cell_type": "code",
   "execution_count": 285,
   "metadata": {
    "vscode": {
     "languageId": "r"
    }
   },
   "outputs": [
    {
     "data": {
      "text/html": [
       "<style>\n",
       ".list-inline {list-style: none; margin:0; padding: 0}\n",
       ".list-inline>li {display: inline-block}\n",
       ".list-inline>li:not(:last-child)::after {content: \"\\00b7\"; padding: 0 .5ex}\n",
       "</style>\n",
       "<ol class=list-inline><li>2</li><li>2</li></ol>\n"
      ],
      "text/latex": [
       "\\begin{enumerate*}\n",
       "\\item 2\n",
       "\\item 2\n",
       "\\end{enumerate*}\n"
      ],
      "text/markdown": [
       "1. 2\n",
       "2. 2\n",
       "\n",
       "\n"
      ],
      "text/plain": [
       "[1] 2 2"
      ]
     },
     "metadata": {},
     "output_type": "display_data"
    }
   ],
   "source": [
    "dim(thismatrix)"
   ]
  },
  {
   "cell_type": "code",
   "execution_count": 286,
   "metadata": {
    "vscode": {
     "languageId": "r"
    }
   },
   "outputs": [
    {
     "data": {
      "text/html": [
       "4"
      ],
      "text/latex": [
       "4"
      ],
      "text/markdown": [
       "4"
      ],
      "text/plain": [
       "[1] 4"
      ]
     },
     "metadata": {},
     "output_type": "display_data"
    }
   ],
   "source": [
    "length(thismatrix)"
   ]
  },
  {
   "cell_type": "code",
   "execution_count": 287,
   "metadata": {
    "vscode": {
     "languageId": "r"
    }
   },
   "outputs": [
    {
     "name": "stdout",
     "output_type": "stream",
     "text": [
      "[1] \"apple\"\n",
      "[1] \"cherry\"\n",
      "[1] \"banana\"\n",
      "[1] \"orange\"\n"
     ]
    }
   ],
   "source": [
    "for (rows in 1:nrow(thismatrix)) {\n",
    "  for (columns in 1:ncol(thismatrix)) {\n",
    "    print(thismatrix[rows, columns])\n",
    "  }\n",
    "}"
   ]
  },
  {
   "cell_type": "code",
   "execution_count": 288,
   "metadata": {
    "vscode": {
     "languageId": "r"
    }
   },
   "outputs": [
    {
     "data": {
      "text/html": [
       "<table class=\"dataframe\">\n",
       "<caption>A matrix: 4 × 2 of type chr</caption>\n",
       "<tbody>\n",
       "\t<tr><td>apple </td><td>cherry    </td></tr>\n",
       "\t<tr><td>banana</td><td>grape     </td></tr>\n",
       "\t<tr><td>orange</td><td>pineapple </td></tr>\n",
       "\t<tr><td>mango </td><td>watermelon</td></tr>\n",
       "</tbody>\n",
       "</table>\n"
      ],
      "text/latex": [
       "A matrix: 4 × 2 of type chr\n",
       "\\begin{tabular}{ll}\n",
       "\t apple  & cherry    \\\\\n",
       "\t banana & grape     \\\\\n",
       "\t orange & pineapple \\\\\n",
       "\t mango  & watermelon\\\\\n",
       "\\end{tabular}\n"
      ],
      "text/markdown": [
       "\n",
       "A matrix: 4 × 2 of type chr\n",
       "\n",
       "| apple  | cherry     |\n",
       "| banana | grape      |\n",
       "| orange | pineapple  |\n",
       "| mango  | watermelon |\n",
       "\n"
      ],
      "text/plain": [
       "     [,1]   [,2]      \n",
       "[1,] apple  cherry    \n",
       "[2,] banana grape     \n",
       "[3,] orange pineapple \n",
       "[4,] mango  watermelon"
      ]
     },
     "metadata": {},
     "output_type": "display_data"
    },
    {
     "data": {
      "text/html": [
       "<table class=\"dataframe\">\n",
       "<caption>A matrix: 2 × 4 of type chr</caption>\n",
       "<tbody>\n",
       "\t<tr><td>apple </td><td>cherry</td><td>orange</td><td>pineapple </td></tr>\n",
       "\t<tr><td>banana</td><td>grape </td><td>mango </td><td>watermelon</td></tr>\n",
       "</tbody>\n",
       "</table>\n"
      ],
      "text/latex": [
       "A matrix: 2 × 4 of type chr\n",
       "\\begin{tabular}{llll}\n",
       "\t apple  & cherry & orange & pineapple \\\\\n",
       "\t banana & grape  & mango  & watermelon\\\\\n",
       "\\end{tabular}\n"
      ],
      "text/markdown": [
       "\n",
       "A matrix: 2 × 4 of type chr\n",
       "\n",
       "| apple  | cherry | orange | pineapple  |\n",
       "| banana | grape  | mango  | watermelon |\n",
       "\n"
      ],
      "text/plain": [
       "     [,1]   [,2]   [,3]   [,4]      \n",
       "[1,] apple  cherry orange pineapple \n",
       "[2,] banana grape  mango  watermelon"
      ]
     },
     "metadata": {},
     "output_type": "display_data"
    }
   ],
   "source": [
    "# Combine matrices\n",
    "Matrix1 <- matrix(c(\"apple\", \"banana\", \"cherry\", \"grape\"), nrow = 2, ncol = 2)\n",
    "Matrix2 <- matrix(c(\"orange\", \"mango\", \"pineapple\", \"watermelon\"), nrow = 2, ncol = 2)\n",
    "\n",
    "# Adding it as a rows\n",
    "Matrix_Combined <- rbind(Matrix1, Matrix2)\n",
    "Matrix_Combined\n",
    "\n",
    "# Adding it as a columns\n",
    "Matrix_Combined <- cbind(Matrix1, Matrix2)\n",
    "Matrix_Combined"
   ]
  },
  {
   "cell_type": "markdown",
   "metadata": {},
   "source": [
    "## Arrays\n",
    "\n",
    "* Compared to matrices, arrays can have more than two dimensions. (something like the *tensors*)\n",
    "* Arrays can only have one data type."
   ]
  },
  {
   "cell_type": "code",
   "execution_count": 289,
   "metadata": {
    "vscode": {
     "languageId": "r"
    }
   },
   "outputs": [
    {
     "data": {
      "text/html": [
       "<style>\n",
       ".list-inline {list-style: none; margin:0; padding: 0}\n",
       ".list-inline>li {display: inline-block}\n",
       ".list-inline>li:not(:last-child)::after {content: \"\\00b7\"; padding: 0 .5ex}\n",
       "</style>\n",
       "<ol class=list-inline><li>1</li><li>2</li><li>3</li><li>4</li><li>5</li><li>6</li><li>7</li><li>8</li><li>9</li><li>10</li><li>11</li><li>12</li><li>13</li><li>14</li><li>15</li><li>16</li><li>17</li><li>18</li><li>19</li><li>20</li><li>21</li><li>22</li><li>23</li><li>24</li></ol>\n"
      ],
      "text/latex": [
       "\\begin{enumerate*}\n",
       "\\item 1\n",
       "\\item 2\n",
       "\\item 3\n",
       "\\item 4\n",
       "\\item 5\n",
       "\\item 6\n",
       "\\item 7\n",
       "\\item 8\n",
       "\\item 9\n",
       "\\item 10\n",
       "\\item 11\n",
       "\\item 12\n",
       "\\item 13\n",
       "\\item 14\n",
       "\\item 15\n",
       "\\item 16\n",
       "\\item 17\n",
       "\\item 18\n",
       "\\item 19\n",
       "\\item 20\n",
       "\\item 21\n",
       "\\item 22\n",
       "\\item 23\n",
       "\\item 24\n",
       "\\end{enumerate*}\n"
      ],
      "text/markdown": [
       "1. 1\n",
       "2. 2\n",
       "3. 3\n",
       "4. 4\n",
       "5. 5\n",
       "6. 6\n",
       "7. 7\n",
       "8. 8\n",
       "9. 9\n",
       "10. 10\n",
       "11. 11\n",
       "12. 12\n",
       "13. 13\n",
       "14. 14\n",
       "15. 15\n",
       "16. 16\n",
       "17. 17\n",
       "18. 18\n",
       "19. 19\n",
       "20. 20\n",
       "21. 21\n",
       "22. 22\n",
       "23. 23\n",
       "24. 24\n",
       "\n",
       "\n"
      ],
      "text/plain": [
       " [1]  1  2  3  4  5  6  7  8  9 10 11 12 13 14 15 16 17 18 19 20 21 22 23 24"
      ]
     },
     "metadata": {},
     "output_type": "display_data"
    },
    {
     "data": {
      "text/html": [
       "<style>\n",
       ".list-inline {list-style: none; margin:0; padding: 0}\n",
       ".list-inline>li {display: inline-block}\n",
       ".list-inline>li:not(:last-child)::after {content: \"\\00b7\"; padding: 0 .5ex}\n",
       "</style>\n",
       "<ol class=list-inline><li>1</li><li>2</li><li>3</li><li>4</li><li>5</li><li>6</li><li>7</li><li>8</li><li>9</li><li>10</li><li>11</li><li>12</li><li>13</li><li>14</li><li>15</li><li>16</li><li>17</li><li>18</li><li>19</li><li>20</li><li>21</li><li>22</li><li>23</li><li>24</li></ol>\n"
      ],
      "text/latex": [
       "\\begin{enumerate*}\n",
       "\\item 1\n",
       "\\item 2\n",
       "\\item 3\n",
       "\\item 4\n",
       "\\item 5\n",
       "\\item 6\n",
       "\\item 7\n",
       "\\item 8\n",
       "\\item 9\n",
       "\\item 10\n",
       "\\item 11\n",
       "\\item 12\n",
       "\\item 13\n",
       "\\item 14\n",
       "\\item 15\n",
       "\\item 16\n",
       "\\item 17\n",
       "\\item 18\n",
       "\\item 19\n",
       "\\item 20\n",
       "\\item 21\n",
       "\\item 22\n",
       "\\item 23\n",
       "\\item 24\n",
       "\\end{enumerate*}\n"
      ],
      "text/markdown": [
       "1. 1\n",
       "2. 2\n",
       "3. 3\n",
       "4. 4\n",
       "5. 5\n",
       "6. 6\n",
       "7. 7\n",
       "8. 8\n",
       "9. 9\n",
       "10. 10\n",
       "11. 11\n",
       "12. 12\n",
       "13. 13\n",
       "14. 14\n",
       "15. 15\n",
       "16. 16\n",
       "17. 17\n",
       "18. 18\n",
       "19. 19\n",
       "20. 20\n",
       "21. 21\n",
       "22. 22\n",
       "23. 23\n",
       "24. 24\n",
       "\n",
       "\n"
      ],
      "text/plain": [
       ", , 1\n",
       "\n",
       "     [,1] [,2] [,3]\n",
       "[1,]    1    5    9\n",
       "[2,]    2    6   10\n",
       "[3,]    3    7   11\n",
       "[4,]    4    8   12\n",
       "\n",
       ", , 2\n",
       "\n",
       "     [,1] [,2] [,3]\n",
       "[1,]   13   17   21\n",
       "[2,]   14   18   22\n",
       "[3,]   15   19   23\n",
       "[4,]   16   20   24\n"
      ]
     },
     "metadata": {},
     "output_type": "display_data"
    }
   ],
   "source": [
    "# An array with one dimension with values ranging from 1 to 24\n",
    "thisarray <- c(1:24)\n",
    "thisarray\n",
    "\n",
    "# An array with more than one dimension\n",
    "multiarray <- array(thisarray, dim = c(4, 3, 2))\n",
    "multiarray"
   ]
  },
  {
   "cell_type": "code",
   "execution_count": 290,
   "metadata": {
    "vscode": {
     "languageId": "r"
    }
   },
   "outputs": [
    {
     "data": {
      "text/html": [
       "22"
      ],
      "text/latex": [
       "22"
      ],
      "text/markdown": [
       "22"
      ],
      "text/plain": [
       "[1] 22"
      ]
     },
     "metadata": {},
     "output_type": "display_data"
    }
   ],
   "source": [
    "multiarray[2, 3, 2]"
   ]
  },
  {
   "cell_type": "code",
   "execution_count": 291,
   "metadata": {
    "vscode": {
     "languageId": "r"
    }
   },
   "outputs": [
    {
     "data": {
      "text/html": [
       "<style>\n",
       ".list-inline {list-style: none; margin:0; padding: 0}\n",
       ".list-inline>li {display: inline-block}\n",
       ".list-inline>li:not(:last-child)::after {content: \"\\00b7\"; padding: 0 .5ex}\n",
       "</style>\n",
       "<ol class=list-inline><li>1</li><li>5</li><li>9</li></ol>\n"
      ],
      "text/latex": [
       "\\begin{enumerate*}\n",
       "\\item 1\n",
       "\\item 5\n",
       "\\item 9\n",
       "\\end{enumerate*}\n"
      ],
      "text/markdown": [
       "1. 1\n",
       "2. 5\n",
       "3. 9\n",
       "\n",
       "\n"
      ],
      "text/plain": [
       "[1] 1 5 9"
      ]
     },
     "metadata": {},
     "output_type": "display_data"
    },
    {
     "data": {
      "text/html": [
       "<style>\n",
       ".list-inline {list-style: none; margin:0; padding: 0}\n",
       ".list-inline>li {display: inline-block}\n",
       ".list-inline>li:not(:last-child)::after {content: \"\\00b7\"; padding: 0 .5ex}\n",
       "</style>\n",
       "<ol class=list-inline><li>1</li><li>2</li><li>3</li><li>4</li></ol>\n"
      ],
      "text/latex": [
       "\\begin{enumerate*}\n",
       "\\item 1\n",
       "\\item 2\n",
       "\\item 3\n",
       "\\item 4\n",
       "\\end{enumerate*}\n"
      ],
      "text/markdown": [
       "1. 1\n",
       "2. 2\n",
       "3. 3\n",
       "4. 4\n",
       "\n",
       "\n"
      ],
      "text/plain": [
       "[1] 1 2 3 4"
      ]
     },
     "metadata": {},
     "output_type": "display_data"
    }
   ],
   "source": [
    "multiarray[c(1),,1]\n",
    "multiarray[,c(1),1]"
   ]
  },
  {
   "cell_type": "code",
   "execution_count": 292,
   "metadata": {
    "vscode": {
     "languageId": "r"
    }
   },
   "outputs": [
    {
     "data": {
      "text/html": [
       "TRUE"
      ],
      "text/latex": [
       "TRUE"
      ],
      "text/markdown": [
       "TRUE"
      ],
      "text/plain": [
       "[1] TRUE"
      ]
     },
     "metadata": {},
     "output_type": "display_data"
    },
    {
     "data": {
      "text/html": [
       "<style>\n",
       ".list-inline {list-style: none; margin:0; padding: 0}\n",
       ".list-inline>li {display: inline-block}\n",
       ".list-inline>li:not(:last-child)::after {content: \"\\00b7\"; padding: 0 .5ex}\n",
       "</style>\n",
       "<ol class=list-inline><li>4</li><li>3</li><li>2</li></ol>\n"
      ],
      "text/latex": [
       "\\begin{enumerate*}\n",
       "\\item 4\n",
       "\\item 3\n",
       "\\item 2\n",
       "\\end{enumerate*}\n"
      ],
      "text/markdown": [
       "1. 4\n",
       "2. 3\n",
       "3. 2\n",
       "\n",
       "\n"
      ],
      "text/plain": [
       "[1] 4 3 2"
      ]
     },
     "metadata": {},
     "output_type": "display_data"
    },
    {
     "data": {
      "text/html": [
       "24"
      ],
      "text/latex": [
       "24"
      ],
      "text/markdown": [
       "24"
      ],
      "text/plain": [
       "[1] 24"
      ]
     },
     "metadata": {},
     "output_type": "display_data"
    }
   ],
   "source": [
    "2 %in% multiarray\n",
    "dim(multiarray)\n",
    "length(multiarray)"
   ]
  },
  {
   "cell_type": "code",
   "execution_count": 293,
   "metadata": {
    "vscode": {
     "languageId": "r"
    }
   },
   "outputs": [
    {
     "name": "stdout",
     "output_type": "stream",
     "text": [
      "[1] 1\n",
      "[1] 2\n",
      "[1] 3\n",
      "[1] 4\n",
      "[1] 5\n",
      "[1] 6\n",
      "[1] 7\n",
      "[1] 8\n",
      "[1] 9\n",
      "[1] 10\n",
      "[1] 11\n",
      "[1] 12\n",
      "[1] 13\n",
      "[1] 14\n",
      "[1] 15\n",
      "[1] 16\n",
      "[1] 17\n",
      "[1] 18\n",
      "[1] 19\n",
      "[1] 20\n",
      "[1] 21\n",
      "[1] 22\n",
      "[1] 23\n",
      "[1] 24\n"
     ]
    }
   ],
   "source": [
    "for(x in multiarray){\n",
    "  print(x)\n",
    "}"
   ]
  },
  {
   "cell_type": "markdown",
   "metadata": {},
   "source": [
    "## Data Frames\n",
    "\n",
    "**Data Frames** are data displayed in a format as a *table*.\n",
    "\n",
    "**Data Frames** can have different types of data inside it. While the first column can be `character`, the second and third can be `numeric` or `logical`. However, each column should have the same type of data.\n",
    "\n",
    "Use the `data.frame()` function to create a data frame:"
   ]
  },
  {
   "cell_type": "code",
   "execution_count": 294,
   "metadata": {
    "vscode": {
     "languageId": "r"
    }
   },
   "outputs": [
    {
     "data": {
      "text/html": [
       "<table class=\"dataframe\">\n",
       "<caption>A data.frame: 3 × 3</caption>\n",
       "<thead>\n",
       "\t<tr><th scope=col>Training</th><th scope=col>Pulse</th><th scope=col>Duration</th></tr>\n",
       "\t<tr><th scope=col>&lt;chr&gt;</th><th scope=col>&lt;dbl&gt;</th><th scope=col>&lt;dbl&gt;</th></tr>\n",
       "</thead>\n",
       "<tbody>\n",
       "\t<tr><td>Strength</td><td>100</td><td>60</td></tr>\n",
       "\t<tr><td>Stamina </td><td>150</td><td>30</td></tr>\n",
       "\t<tr><td>Other   </td><td>120</td><td>45</td></tr>\n",
       "</tbody>\n",
       "</table>\n"
      ],
      "text/latex": [
       "A data.frame: 3 × 3\n",
       "\\begin{tabular}{lll}\n",
       " Training & Pulse & Duration\\\\\n",
       " <chr> & <dbl> & <dbl>\\\\\n",
       "\\hline\n",
       "\t Strength & 100 & 60\\\\\n",
       "\t Stamina  & 150 & 30\\\\\n",
       "\t Other    & 120 & 45\\\\\n",
       "\\end{tabular}\n"
      ],
      "text/markdown": [
       "\n",
       "A data.frame: 3 × 3\n",
       "\n",
       "| Training &lt;chr&gt; | Pulse &lt;dbl&gt; | Duration &lt;dbl&gt; |\n",
       "|---|---|---|\n",
       "| Strength | 100 | 60 |\n",
       "| Stamina  | 150 | 30 |\n",
       "| Other    | 120 | 45 |\n",
       "\n"
      ],
      "text/plain": [
       "  Training Pulse Duration\n",
       "1 Strength 100   60      \n",
       "2 Stamina  150   30      \n",
       "3 Other    120   45      "
      ]
     },
     "metadata": {},
     "output_type": "display_data"
    }
   ],
   "source": [
    "# Create a data frame\n",
    "Data_Frame <- data.frame (\n",
    "  Training = c(\"Strength\", \"Stamina\", \"Other\"),\n",
    "  Pulse = c(100, 150, 120),\n",
    "  Duration = c(60, 30, 45)\n",
    ")\n",
    "\n",
    "# Print the data frame\n",
    "Data_Frame"
   ]
  },
  {
   "cell_type": "code",
   "execution_count": 295,
   "metadata": {
    "vscode": {
     "languageId": "r"
    }
   },
   "outputs": [
    {
     "data": {
      "text/html": [
       "<table class=\"dataframe\">\n",
       "<caption>A data.frame: 3 × 3</caption>\n",
       "<thead>\n",
       "\t<tr><th scope=col>Training</th><th scope=col>Pulse</th><th scope=col>Duration</th></tr>\n",
       "\t<tr><th scope=col>&lt;chr&gt;</th><th scope=col>&lt;dbl&gt;</th><th scope=col>&lt;dbl&gt;</th></tr>\n",
       "</thead>\n",
       "<tbody>\n",
       "\t<tr><td>Strength</td><td>100</td><td>60</td></tr>\n",
       "\t<tr><td>Stamina </td><td>150</td><td>30</td></tr>\n",
       "\t<tr><td>Other   </td><td>120</td><td>45</td></tr>\n",
       "</tbody>\n",
       "</table>\n"
      ],
      "text/latex": [
       "A data.frame: 3 × 3\n",
       "\\begin{tabular}{lll}\n",
       " Training & Pulse & Duration\\\\\n",
       " <chr> & <dbl> & <dbl>\\\\\n",
       "\\hline\n",
       "\t Strength & 100 & 60\\\\\n",
       "\t Stamina  & 150 & 30\\\\\n",
       "\t Other    & 120 & 45\\\\\n",
       "\\end{tabular}\n"
      ],
      "text/markdown": [
       "\n",
       "A data.frame: 3 × 3\n",
       "\n",
       "| Training &lt;chr&gt; | Pulse &lt;dbl&gt; | Duration &lt;dbl&gt; |\n",
       "|---|---|---|\n",
       "| Strength | 100 | 60 |\n",
       "| Stamina  | 150 | 30 |\n",
       "| Other    | 120 | 45 |\n",
       "\n"
      ],
      "text/plain": [
       "  Training Pulse Duration\n",
       "1 Strength 100   60      \n",
       "2 Stamina  150   30      \n",
       "3 Other    120   45      "
      ]
     },
     "metadata": {},
     "output_type": "display_data"
    },
    {
     "data": {
      "text/plain": [
       "   Training             Pulse          Duration   \n",
       " Length:3           Min.   :100.0   Min.   :30.0  \n",
       " Class :character   1st Qu.:110.0   1st Qu.:37.5  \n",
       " Mode  :character   Median :120.0   Median :45.0  \n",
       "                    Mean   :123.3   Mean   :45.0  \n",
       "                    3rd Qu.:135.0   3rd Qu.:52.5  \n",
       "                    Max.   :150.0   Max.   :60.0  "
      ]
     },
     "metadata": {},
     "output_type": "display_data"
    }
   ],
   "source": [
    "Data_Frame <- data.frame (\n",
    "  Training = c(\"Strength\", \"Stamina\", \"Other\"),\n",
    "  Pulse = c(100, 150, 120),\n",
    "  Duration = c(60, 30, 45)\n",
    ")\n",
    "\n",
    "Data_Frame\n",
    "\n",
    "summary(Data_Frame)"
   ]
  },
  {
   "cell_type": "code",
   "execution_count": 296,
   "metadata": {
    "vscode": {
     "languageId": "r"
    }
   },
   "outputs": [
    {
     "data": {
      "text/html": [
       "<table class=\"dataframe\">\n",
       "<caption>A data.frame: 3 × 1</caption>\n",
       "<thead>\n",
       "\t<tr><th scope=col>Training</th></tr>\n",
       "\t<tr><th scope=col>&lt;chr&gt;</th></tr>\n",
       "</thead>\n",
       "<tbody>\n",
       "\t<tr><td>Strength</td></tr>\n",
       "\t<tr><td>Stamina </td></tr>\n",
       "\t<tr><td>Other   </td></tr>\n",
       "</tbody>\n",
       "</table>\n"
      ],
      "text/latex": [
       "A data.frame: 3 × 1\n",
       "\\begin{tabular}{l}\n",
       " Training\\\\\n",
       " <chr>\\\\\n",
       "\\hline\n",
       "\t Strength\\\\\n",
       "\t Stamina \\\\\n",
       "\t Other   \\\\\n",
       "\\end{tabular}\n"
      ],
      "text/markdown": [
       "\n",
       "A data.frame: 3 × 1\n",
       "\n",
       "| Training &lt;chr&gt; |\n",
       "|---|\n",
       "| Strength |\n",
       "| Stamina  |\n",
       "| Other    |\n",
       "\n"
      ],
      "text/plain": [
       "  Training\n",
       "1 Strength\n",
       "2 Stamina \n",
       "3 Other   "
      ]
     },
     "metadata": {},
     "output_type": "display_data"
    },
    {
     "data": {
      "text/html": [
       "<style>\n",
       ".list-inline {list-style: none; margin:0; padding: 0}\n",
       ".list-inline>li {display: inline-block}\n",
       ".list-inline>li:not(:last-child)::after {content: \"\\00b7\"; padding: 0 .5ex}\n",
       "</style>\n",
       "<ol class=list-inline><li>'Strength'</li><li>'Stamina'</li><li>'Other'</li></ol>\n"
      ],
      "text/latex": [
       "\\begin{enumerate*}\n",
       "\\item 'Strength'\n",
       "\\item 'Stamina'\n",
       "\\item 'Other'\n",
       "\\end{enumerate*}\n"
      ],
      "text/markdown": [
       "1. 'Strength'\n",
       "2. 'Stamina'\n",
       "3. 'Other'\n",
       "\n",
       "\n"
      ],
      "text/plain": [
       "[1] \"Strength\" \"Stamina\"  \"Other\"   "
      ]
     },
     "metadata": {},
     "output_type": "display_data"
    },
    {
     "data": {
      "text/html": [
       "<style>\n",
       ".list-inline {list-style: none; margin:0; padding: 0}\n",
       ".list-inline>li {display: inline-block}\n",
       ".list-inline>li:not(:last-child)::after {content: \"\\00b7\"; padding: 0 .5ex}\n",
       "</style>\n",
       "<ol class=list-inline><li>'Strength'</li><li>'Stamina'</li><li>'Other'</li></ol>\n"
      ],
      "text/latex": [
       "\\begin{enumerate*}\n",
       "\\item 'Strength'\n",
       "\\item 'Stamina'\n",
       "\\item 'Other'\n",
       "\\end{enumerate*}\n"
      ],
      "text/markdown": [
       "1. 'Strength'\n",
       "2. 'Stamina'\n",
       "3. 'Other'\n",
       "\n",
       "\n"
      ],
      "text/plain": [
       "[1] \"Strength\" \"Stamina\"  \"Other\"   "
      ]
     },
     "metadata": {},
     "output_type": "display_data"
    }
   ],
   "source": [
    "Data_Frame <- data.frame (\n",
    "  Training = c(\"Strength\", \"Stamina\", \"Other\"),\n",
    "  Pulse = c(100, 150, 120),\n",
    "  Duration = c(60, 30, 45)\n",
    ")\n",
    "\n",
    "Data_Frame[1]\n",
    "\n",
    "Data_Frame[[\"Training\"]]\n",
    "\n",
    "Data_Frame$Training"
   ]
  },
  {
   "cell_type": "markdown",
   "metadata": {},
   "source": [
    "### Add rows"
   ]
  },
  {
   "cell_type": "code",
   "execution_count": 297,
   "metadata": {
    "vscode": {
     "languageId": "r"
    }
   },
   "outputs": [
    {
     "data": {
      "text/html": [
       "<table class=\"dataframe\">\n",
       "<caption>A data.frame: 4 × 3</caption>\n",
       "<thead>\n",
       "\t<tr><th scope=col>Training</th><th scope=col>Pulse</th><th scope=col>Duration</th></tr>\n",
       "\t<tr><th scope=col>&lt;chr&gt;</th><th scope=col>&lt;chr&gt;</th><th scope=col>&lt;chr&gt;</th></tr>\n",
       "</thead>\n",
       "<tbody>\n",
       "\t<tr><td>Strength</td><td>100</td><td>60 </td></tr>\n",
       "\t<tr><td>Stamina </td><td>150</td><td>30 </td></tr>\n",
       "\t<tr><td>Other   </td><td>120</td><td>45 </td></tr>\n",
       "\t<tr><td>Strength</td><td>110</td><td>110</td></tr>\n",
       "</tbody>\n",
       "</table>\n"
      ],
      "text/latex": [
       "A data.frame: 4 × 3\n",
       "\\begin{tabular}{lll}\n",
       " Training & Pulse & Duration\\\\\n",
       " <chr> & <chr> & <chr>\\\\\n",
       "\\hline\n",
       "\t Strength & 100 & 60 \\\\\n",
       "\t Stamina  & 150 & 30 \\\\\n",
       "\t Other    & 120 & 45 \\\\\n",
       "\t Strength & 110 & 110\\\\\n",
       "\\end{tabular}\n"
      ],
      "text/markdown": [
       "\n",
       "A data.frame: 4 × 3\n",
       "\n",
       "| Training &lt;chr&gt; | Pulse &lt;chr&gt; | Duration &lt;chr&gt; |\n",
       "|---|---|---|\n",
       "| Strength | 100 | 60  |\n",
       "| Stamina  | 150 | 30  |\n",
       "| Other    | 120 | 45  |\n",
       "| Strength | 110 | 110 |\n",
       "\n"
      ],
      "text/plain": [
       "  Training Pulse Duration\n",
       "1 Strength 100   60      \n",
       "2 Stamina  150   30      \n",
       "3 Other    120   45      \n",
       "4 Strength 110   110     "
      ]
     },
     "metadata": {},
     "output_type": "display_data"
    }
   ],
   "source": [
    "Data_Frame <- data.frame (\n",
    "  Training = c(\"Strength\", \"Stamina\", \"Other\"),\n",
    "  Pulse = c(100, 150, 120),\n",
    "  Duration = c(60, 30, 45)\n",
    ")\n",
    "\n",
    "# Add a new row\n",
    "New_row_DF <- rbind(Data_Frame, c(\"Strength\", 110, 110))\n",
    "\n",
    "# Print the new row\n",
    "New_row_DF"
   ]
  },
  {
   "cell_type": "markdown",
   "metadata": {},
   "source": [
    "### Add columns"
   ]
  },
  {
   "cell_type": "code",
   "execution_count": 298,
   "metadata": {
    "vscode": {
     "languageId": "r"
    }
   },
   "outputs": [
    {
     "data": {
      "text/html": [
       "<table class=\"dataframe\">\n",
       "<caption>A data.frame: 3 × 4</caption>\n",
       "<thead>\n",
       "\t<tr><th scope=col>Training</th><th scope=col>Pulse</th><th scope=col>Duration</th><th scope=col>Steps</th></tr>\n",
       "\t<tr><th scope=col>&lt;chr&gt;</th><th scope=col>&lt;dbl&gt;</th><th scope=col>&lt;dbl&gt;</th><th scope=col>&lt;dbl&gt;</th></tr>\n",
       "</thead>\n",
       "<tbody>\n",
       "\t<tr><td>Strength</td><td>100</td><td>60</td><td>1000</td></tr>\n",
       "\t<tr><td>Stamina </td><td>150</td><td>30</td><td>6000</td></tr>\n",
       "\t<tr><td>Other   </td><td>120</td><td>45</td><td>2000</td></tr>\n",
       "</tbody>\n",
       "</table>\n"
      ],
      "text/latex": [
       "A data.frame: 3 × 4\n",
       "\\begin{tabular}{llll}\n",
       " Training & Pulse & Duration & Steps\\\\\n",
       " <chr> & <dbl> & <dbl> & <dbl>\\\\\n",
       "\\hline\n",
       "\t Strength & 100 & 60 & 1000\\\\\n",
       "\t Stamina  & 150 & 30 & 6000\\\\\n",
       "\t Other    & 120 & 45 & 2000\\\\\n",
       "\\end{tabular}\n"
      ],
      "text/markdown": [
       "\n",
       "A data.frame: 3 × 4\n",
       "\n",
       "| Training &lt;chr&gt; | Pulse &lt;dbl&gt; | Duration &lt;dbl&gt; | Steps &lt;dbl&gt; |\n",
       "|---|---|---|---|\n",
       "| Strength | 100 | 60 | 1000 |\n",
       "| Stamina  | 150 | 30 | 6000 |\n",
       "| Other    | 120 | 45 | 2000 |\n",
       "\n"
      ],
      "text/plain": [
       "  Training Pulse Duration Steps\n",
       "1 Strength 100   60       1000 \n",
       "2 Stamina  150   30       6000 \n",
       "3 Other    120   45       2000 "
      ]
     },
     "metadata": {},
     "output_type": "display_data"
    }
   ],
   "source": [
    "Data_Frame <- data.frame (\n",
    "  Training = c(\"Strength\", \"Stamina\", \"Other\"),\n",
    "  Pulse = c(100, 150, 120),\n",
    "  Duration = c(60, 30, 45)\n",
    ")\n",
    "\n",
    "# Add a new column\n",
    "New_col_DF <- cbind(Data_Frame, Steps = c(1000, 6000, 2000))\n",
    "\n",
    "# Print the new column\n",
    "New_col_DF"
   ]
  },
  {
   "cell_type": "markdown",
   "metadata": {},
   "source": [
    "### Remove rows and cols"
   ]
  },
  {
   "cell_type": "code",
   "execution_count": 299,
   "metadata": {
    "vscode": {
     "languageId": "r"
    }
   },
   "outputs": [
    {
     "data": {
      "text/html": [
       "<table class=\"dataframe\">\n",
       "<caption>A data.frame: 2 × 2</caption>\n",
       "<thead>\n",
       "\t<tr><th></th><th scope=col>Pulse</th><th scope=col>Duration</th></tr>\n",
       "\t<tr><th></th><th scope=col>&lt;dbl&gt;</th><th scope=col>&lt;dbl&gt;</th></tr>\n",
       "</thead>\n",
       "<tbody>\n",
       "\t<tr><th scope=row>2</th><td>150</td><td>30</td></tr>\n",
       "\t<tr><th scope=row>3</th><td>120</td><td>45</td></tr>\n",
       "</tbody>\n",
       "</table>\n"
      ],
      "text/latex": [
       "A data.frame: 2 × 2\n",
       "\\begin{tabular}{r|ll}\n",
       "  & Pulse & Duration\\\\\n",
       "  & <dbl> & <dbl>\\\\\n",
       "\\hline\n",
       "\t2 & 150 & 30\\\\\n",
       "\t3 & 120 & 45\\\\\n",
       "\\end{tabular}\n"
      ],
      "text/markdown": [
       "\n",
       "A data.frame: 2 × 2\n",
       "\n",
       "| <!--/--> | Pulse &lt;dbl&gt; | Duration &lt;dbl&gt; |\n",
       "|---|---|---|\n",
       "| 2 | 150 | 30 |\n",
       "| 3 | 120 | 45 |\n",
       "\n"
      ],
      "text/plain": [
       "  Pulse Duration\n",
       "2 150   30      \n",
       "3 120   45      "
      ]
     },
     "metadata": {},
     "output_type": "display_data"
    }
   ],
   "source": [
    "Data_Frame <- data.frame (\n",
    "  Training = c(\"Strength\", \"Stamina\", \"Other\"),\n",
    "  Pulse = c(100, 150, 120),\n",
    "  Duration = c(60, 30, 45)\n",
    ")\n",
    "\n",
    "# Remove the first row and column\n",
    "Data_Frame_New <- Data_Frame[-c(1), -c(1)]\n",
    "\n",
    "# Print the new data frame\n",
    "Data_Frame_New"
   ]
  },
  {
   "cell_type": "markdown",
   "metadata": {},
   "source": [
    "### Dim"
   ]
  },
  {
   "cell_type": "code",
   "execution_count": 300,
   "metadata": {
    "vscode": {
     "languageId": "r"
    }
   },
   "outputs": [
    {
     "data": {
      "text/html": [
       "<style>\n",
       ".list-inline {list-style: none; margin:0; padding: 0}\n",
       ".list-inline>li {display: inline-block}\n",
       ".list-inline>li:not(:last-child)::after {content: \"\\00b7\"; padding: 0 .5ex}\n",
       "</style>\n",
       "<ol class=list-inline><li>3</li><li>3</li></ol>\n"
      ],
      "text/latex": [
       "\\begin{enumerate*}\n",
       "\\item 3\n",
       "\\item 3\n",
       "\\end{enumerate*}\n"
      ],
      "text/markdown": [
       "1. 3\n",
       "2. 3\n",
       "\n",
       "\n"
      ],
      "text/plain": [
       "[1] 3 3"
      ]
     },
     "metadata": {},
     "output_type": "display_data"
    },
    {
     "data": {
      "text/html": [
       "3"
      ],
      "text/latex": [
       "3"
      ],
      "text/markdown": [
       "3"
      ],
      "text/plain": [
       "[1] 3"
      ]
     },
     "metadata": {},
     "output_type": "display_data"
    },
    {
     "data": {
      "text/html": [
       "3"
      ],
      "text/latex": [
       "3"
      ],
      "text/markdown": [
       "3"
      ],
      "text/plain": [
       "[1] 3"
      ]
     },
     "metadata": {},
     "output_type": "display_data"
    },
    {
     "data": {
      "text/html": [
       "3"
      ],
      "text/latex": [
       "3"
      ],
      "text/markdown": [
       "3"
      ],
      "text/plain": [
       "[1] 3"
      ]
     },
     "metadata": {},
     "output_type": "display_data"
    }
   ],
   "source": [
    "Data_Frame <- data.frame (\n",
    "  Training = c(\"Strength\", \"Stamina\", \"Other\"),\n",
    "  Pulse = c(100, 150, 120),\n",
    "  Duration = c(60, 30, 45)\n",
    ")\n",
    "\n",
    "dim(Data_Frame)\n",
    "ncol(Data_Frame)\n",
    "nrow(Data_Frame)\n",
    "length(Data_Frame)"
   ]
  },
  {
   "cell_type": "markdown",
   "metadata": {},
   "source": [
    "### Combining Dataframes in col dim or in row dim"
   ]
  },
  {
   "cell_type": "code",
   "execution_count": 301,
   "metadata": {
    "vscode": {
     "languageId": "r"
    }
   },
   "outputs": [
    {
     "data": {
      "text/html": [
       "<table class=\"dataframe\">\n",
       "<caption>A data.frame: 6 × 3</caption>\n",
       "<thead>\n",
       "\t<tr><th scope=col>Training</th><th scope=col>Pulse</th><th scope=col>Duration</th></tr>\n",
       "\t<tr><th scope=col>&lt;chr&gt;</th><th scope=col>&lt;dbl&gt;</th><th scope=col>&lt;dbl&gt;</th></tr>\n",
       "</thead>\n",
       "<tbody>\n",
       "\t<tr><td>Strength</td><td>100</td><td>60</td></tr>\n",
       "\t<tr><td>Stamina </td><td>150</td><td>30</td></tr>\n",
       "\t<tr><td>Other   </td><td>120</td><td>45</td></tr>\n",
       "\t<tr><td>Stamina </td><td>140</td><td>30</td></tr>\n",
       "\t<tr><td>Stamina </td><td>150</td><td>30</td></tr>\n",
       "\t<tr><td>Strength</td><td>160</td><td>20</td></tr>\n",
       "</tbody>\n",
       "</table>\n"
      ],
      "text/latex": [
       "A data.frame: 6 × 3\n",
       "\\begin{tabular}{lll}\n",
       " Training & Pulse & Duration\\\\\n",
       " <chr> & <dbl> & <dbl>\\\\\n",
       "\\hline\n",
       "\t Strength & 100 & 60\\\\\n",
       "\t Stamina  & 150 & 30\\\\\n",
       "\t Other    & 120 & 45\\\\\n",
       "\t Stamina  & 140 & 30\\\\\n",
       "\t Stamina  & 150 & 30\\\\\n",
       "\t Strength & 160 & 20\\\\\n",
       "\\end{tabular}\n"
      ],
      "text/markdown": [
       "\n",
       "A data.frame: 6 × 3\n",
       "\n",
       "| Training &lt;chr&gt; | Pulse &lt;dbl&gt; | Duration &lt;dbl&gt; |\n",
       "|---|---|---|\n",
       "| Strength | 100 | 60 |\n",
       "| Stamina  | 150 | 30 |\n",
       "| Other    | 120 | 45 |\n",
       "| Stamina  | 140 | 30 |\n",
       "| Stamina  | 150 | 30 |\n",
       "| Strength | 160 | 20 |\n",
       "\n"
      ],
      "text/plain": [
       "  Training Pulse Duration\n",
       "1 Strength 100   60      \n",
       "2 Stamina  150   30      \n",
       "3 Other    120   45      \n",
       "4 Stamina  140   30      \n",
       "5 Stamina  150   30      \n",
       "6 Strength 160   20      "
      ]
     },
     "metadata": {},
     "output_type": "display_data"
    }
   ],
   "source": [
    "Data_Frame1 <- data.frame (\n",
    "  Training = c(\"Strength\", \"Stamina\", \"Other\"),\n",
    "  Pulse = c(100, 150, 120),\n",
    "  Duration = c(60, 30, 45)\n",
    ")\n",
    "\n",
    "Data_Frame2 <- data.frame (\n",
    "  Training = c(\"Stamina\", \"Stamina\", \"Strength\"),\n",
    "  Pulse = c(140, 150, 160),\n",
    "  Duration = c(30, 30, 20)\n",
    ")\n",
    "\n",
    "New_Data_Frame <- rbind(Data_Frame1, Data_Frame2)\n",
    "New_Data_Frame"
   ]
  },
  {
   "cell_type": "code",
   "execution_count": 302,
   "metadata": {
    "vscode": {
     "languageId": "r"
    }
   },
   "outputs": [
    {
     "data": {
      "text/html": [
       "<table class=\"dataframe\">\n",
       "<caption>A data.frame: 3 × 5</caption>\n",
       "<thead>\n",
       "\t<tr><th scope=col>Training</th><th scope=col>Pulse</th><th scope=col>Duration</th><th scope=col>Steps</th><th scope=col>Calories</th></tr>\n",
       "\t<tr><th scope=col>&lt;chr&gt;</th><th scope=col>&lt;dbl&gt;</th><th scope=col>&lt;dbl&gt;</th><th scope=col>&lt;dbl&gt;</th><th scope=col>&lt;dbl&gt;</th></tr>\n",
       "</thead>\n",
       "<tbody>\n",
       "\t<tr><td>Strength</td><td>100</td><td>60</td><td>3000</td><td>300</td></tr>\n",
       "\t<tr><td>Stamina </td><td>150</td><td>30</td><td>6000</td><td>400</td></tr>\n",
       "\t<tr><td>Other   </td><td>120</td><td>45</td><td>2000</td><td>300</td></tr>\n",
       "</tbody>\n",
       "</table>\n"
      ],
      "text/latex": [
       "A data.frame: 3 × 5\n",
       "\\begin{tabular}{lllll}\n",
       " Training & Pulse & Duration & Steps & Calories\\\\\n",
       " <chr> & <dbl> & <dbl> & <dbl> & <dbl>\\\\\n",
       "\\hline\n",
       "\t Strength & 100 & 60 & 3000 & 300\\\\\n",
       "\t Stamina  & 150 & 30 & 6000 & 400\\\\\n",
       "\t Other    & 120 & 45 & 2000 & 300\\\\\n",
       "\\end{tabular}\n"
      ],
      "text/markdown": [
       "\n",
       "A data.frame: 3 × 5\n",
       "\n",
       "| Training &lt;chr&gt; | Pulse &lt;dbl&gt; | Duration &lt;dbl&gt; | Steps &lt;dbl&gt; | Calories &lt;dbl&gt; |\n",
       "|---|---|---|---|---|\n",
       "| Strength | 100 | 60 | 3000 | 300 |\n",
       "| Stamina  | 150 | 30 | 6000 | 400 |\n",
       "| Other    | 120 | 45 | 2000 | 300 |\n",
       "\n"
      ],
      "text/plain": [
       "  Training Pulse Duration Steps Calories\n",
       "1 Strength 100   60       3000  300     \n",
       "2 Stamina  150   30       6000  400     \n",
       "3 Other    120   45       2000  300     "
      ]
     },
     "metadata": {},
     "output_type": "display_data"
    }
   ],
   "source": [
    "Data_Frame3 <- data.frame (\n",
    "  Training = c(\"Strength\", \"Stamina\", \"Other\"),\n",
    "  Pulse = c(100, 150, 120),\n",
    "  Duration = c(60, 30, 45)\n",
    ")\n",
    "\n",
    "Data_Frame4 <- data.frame (\n",
    "  Steps = c(3000, 6000, 2000),\n",
    "  Calories = c(300, 400, 300)\n",
    ")\n",
    "\n",
    "New_Data_Frame1 <- cbind(Data_Frame3, Data_Frame4)\n",
    "New_Data_Frame1"
   ]
  },
  {
   "cell_type": "markdown",
   "metadata": {},
   "source": [
    "## Factors\n",
    "\n",
    "Factors are used to categorize data. Examples of factors are:\n",
    "\n",
    "* Demography: Male/Female\n",
    "* Music: Rock, Pop, Classic, Jazz\n",
    "* Training: Strength, Stamina\n",
    "To create a factor, use the `factor()` function and add a vector as argument:"
   ]
  },
  {
   "cell_type": "code",
   "execution_count": 303,
   "metadata": {
    "vscode": {
     "languageId": "r"
    }
   },
   "outputs": [
    {
     "data": {
      "text/html": [
       "<style>\n",
       ".list-inline {list-style: none; margin:0; padding: 0}\n",
       ".list-inline>li {display: inline-block}\n",
       ".list-inline>li:not(:last-child)::after {content: \"\\00b7\"; padding: 0 .5ex}\n",
       "</style>\n",
       "<ol class=list-inline><li>Jazz</li><li>Rock</li><li>Classic</li><li>Classic</li><li>Pop</li><li>Jazz</li><li>Rock</li><li>Jazz</li></ol>\n",
       "\n",
       "<details>\n",
       "\t<summary style=display:list-item;cursor:pointer>\n",
       "\t\t<strong>Levels</strong>:\n",
       "\t</summary>\n",
       "\t<style>\n",
       "\t.list-inline {list-style: none; margin:0; padding: 0}\n",
       "\t.list-inline>li {display: inline-block}\n",
       "\t.list-inline>li:not(:last-child)::after {content: \"\\00b7\"; padding: 0 .5ex}\n",
       "\t</style>\n",
       "\t<ol class=list-inline><li>'Classic'</li><li>'Jazz'</li><li>'Pop'</li><li>'Rock'</li></ol>\n",
       "</details>"
      ],
      "text/latex": [
       "\\begin{enumerate*}\n",
       "\\item Jazz\n",
       "\\item Rock\n",
       "\\item Classic\n",
       "\\item Classic\n",
       "\\item Pop\n",
       "\\item Jazz\n",
       "\\item Rock\n",
       "\\item Jazz\n",
       "\\end{enumerate*}\n",
       "\n",
       "\\emph{Levels}: \\begin{enumerate*}\n",
       "\\item 'Classic'\n",
       "\\item 'Jazz'\n",
       "\\item 'Pop'\n",
       "\\item 'Rock'\n",
       "\\end{enumerate*}\n"
      ],
      "text/markdown": [
       "1. Jazz\n",
       "2. Rock\n",
       "3. Classic\n",
       "4. Classic\n",
       "5. Pop\n",
       "6. Jazz\n",
       "7. Rock\n",
       "8. Jazz\n",
       "\n",
       "\n",
       "\n",
       "**Levels**: 1. 'Classic'\n",
       "2. 'Jazz'\n",
       "3. 'Pop'\n",
       "4. 'Rock'\n",
       "\n",
       "\n"
      ],
      "text/plain": [
       "[1] Jazz    Rock    Classic Classic Pop     Jazz    Rock    Jazz   \n",
       "Levels: Classic Jazz Pop Rock"
      ]
     },
     "metadata": {},
     "output_type": "display_data"
    }
   ],
   "source": [
    "# Create a factor\n",
    "music_genre <- factor(c(\"Jazz\", \"Rock\", \"Classic\", \"Classic\", \"Pop\", \"Jazz\", \"Rock\", \"Jazz\"))\n",
    "\n",
    "# Print the factor\n",
    "music_genre"
   ]
  },
  {
   "cell_type": "code",
   "execution_count": 304,
   "metadata": {
    "vscode": {
     "languageId": "r"
    }
   },
   "outputs": [
    {
     "data": {
      "text/html": [
       "<style>\n",
       ".list-inline {list-style: none; margin:0; padding: 0}\n",
       ".list-inline>li {display: inline-block}\n",
       ".list-inline>li:not(:last-child)::after {content: \"\\00b7\"; padding: 0 .5ex}\n",
       "</style>\n",
       "<ol class=list-inline><li>'Classic'</li><li>'Jazz'</li><li>'Pop'</li><li>'Rock'</li><li>'Other'</li></ol>\n"
      ],
      "text/latex": [
       "\\begin{enumerate*}\n",
       "\\item 'Classic'\n",
       "\\item 'Jazz'\n",
       "\\item 'Pop'\n",
       "\\item 'Rock'\n",
       "\\item 'Other'\n",
       "\\end{enumerate*}\n"
      ],
      "text/markdown": [
       "1. 'Classic'\n",
       "2. 'Jazz'\n",
       "3. 'Pop'\n",
       "4. 'Rock'\n",
       "5. 'Other'\n",
       "\n",
       "\n"
      ],
      "text/plain": [
       "[1] \"Classic\" \"Jazz\"    \"Pop\"     \"Rock\"    \"Other\"  "
      ]
     },
     "metadata": {},
     "output_type": "display_data"
    }
   ],
   "source": [
    "music_genre <- factor(c(\"Jazz\", \"Rock\", \"Classic\", \"Classic\", \"Pop\", \"Jazz\", \"Rock\", \"Jazz\"), levels = c(\"Classic\", \"Jazz\", \"Pop\", \"Rock\", \"Other\"))\n",
    "\n",
    "levels(music_genre)"
   ]
  },
  {
   "cell_type": "code",
   "execution_count": 305,
   "metadata": {
    "vscode": {
     "languageId": "r"
    }
   },
   "outputs": [
    {
     "data": {
      "text/html": [
       "8"
      ],
      "text/latex": [
       "8"
      ],
      "text/markdown": [
       "8"
      ],
      "text/plain": [
       "[1] 8"
      ]
     },
     "metadata": {},
     "output_type": "display_data"
    }
   ],
   "source": [
    "length(music_genre)"
   ]
  },
  {
   "cell_type": "code",
   "execution_count": 306,
   "metadata": {
    "vscode": {
     "languageId": "r"
    }
   },
   "outputs": [
    {
     "data": {
      "text/html": [
       "Classic\n",
       "<details>\n",
       "\t<summary style=display:list-item;cursor:pointer>\n",
       "\t\t<strong>Levels</strong>:\n",
       "\t</summary>\n",
       "\t<style>\n",
       "\t.list-inline {list-style: none; margin:0; padding: 0}\n",
       "\t.list-inline>li {display: inline-block}\n",
       "\t.list-inline>li:not(:last-child)::after {content: \"\\00b7\"; padding: 0 .5ex}\n",
       "\t</style>\n",
       "\t<ol class=list-inline><li>'Classic'</li><li>'Jazz'</li><li>'Pop'</li><li>'Rock'</li><li>'Other'</li></ol>\n",
       "</details>"
      ],
      "text/latex": [
       "Classic\n",
       "\\emph{Levels}: \\begin{enumerate*}\n",
       "\\item 'Classic'\n",
       "\\item 'Jazz'\n",
       "\\item 'Pop'\n",
       "\\item 'Rock'\n",
       "\\item 'Other'\n",
       "\\end{enumerate*}\n"
      ],
      "text/markdown": [
       "Classic\n",
       "**Levels**: 1. 'Classic'\n",
       "2. 'Jazz'\n",
       "3. 'Pop'\n",
       "4. 'Rock'\n",
       "5. 'Other'\n",
       "\n",
       "\n"
      ],
      "text/plain": [
       "[1] Classic\n",
       "Levels: Classic Jazz Pop Rock Other"
      ]
     },
     "metadata": {},
     "output_type": "display_data"
    }
   ],
   "source": [
    "music_genre[3]"
   ]
  },
  {
   "cell_type": "code",
   "execution_count": 307,
   "metadata": {
    "vscode": {
     "languageId": "r"
    }
   },
   "outputs": [
    {
     "data": {
      "text/html": [
       "Pop\n",
       "<details>\n",
       "\t<summary style=display:list-item;cursor:pointer>\n",
       "\t\t<strong>Levels</strong>:\n",
       "\t</summary>\n",
       "\t<style>\n",
       "\t.list-inline {list-style: none; margin:0; padding: 0}\n",
       "\t.list-inline>li {display: inline-block}\n",
       "\t.list-inline>li:not(:last-child)::after {content: \"\\00b7\"; padding: 0 .5ex}\n",
       "\t</style>\n",
       "\t<ol class=list-inline><li>'Classic'</li><li>'Jazz'</li><li>'Pop'</li><li>'Rock'</li></ol>\n",
       "</details>"
      ],
      "text/latex": [
       "Pop\n",
       "\\emph{Levels}: \\begin{enumerate*}\n",
       "\\item 'Classic'\n",
       "\\item 'Jazz'\n",
       "\\item 'Pop'\n",
       "\\item 'Rock'\n",
       "\\end{enumerate*}\n"
      ],
      "text/markdown": [
       "Pop\n",
       "**Levels**: 1. 'Classic'\n",
       "2. 'Jazz'\n",
       "3. 'Pop'\n",
       "4. 'Rock'\n",
       "\n",
       "\n"
      ],
      "text/plain": [
       "[1] Pop\n",
       "Levels: Classic Jazz Pop Rock"
      ]
     },
     "metadata": {},
     "output_type": "display_data"
    }
   ],
   "source": [
    "music_genre <- factor(c(\"Jazz\", \"Rock\", \"Classic\", \"Classic\", \"Pop\", \"Jazz\", \"Rock\", \"Jazz\"))\n",
    "\n",
    "music_genre[3] <- \"Pop\"\n",
    "\n",
    "music_genre[3]"
   ]
  },
  {
   "cell_type": "markdown",
   "metadata": {},
   "source": [
    "Note that you cannot change the value of a specific item if it is not already specified in the factor. The following example will produce an error:\n",
    "\n",
    "```\n",
    "music_genre <- factor(c(\"Jazz\", \"Rock\", \"Classic\", \"Classic\", \"Pop\", \"Jazz\", \"Rock\", \"Jazz\"))\n",
    "\n",
    "music_genre[3] <- \"Opera\"\n",
    "\n",
    "music_genre[3]\n",
    "```\n",
    "\n",
    "However, if you have already specified it inside the levels argument, it will work:"
   ]
  },
  {
   "cell_type": "code",
   "execution_count": 308,
   "metadata": {
    "vscode": {
     "languageId": "r"
    }
   },
   "outputs": [
    {
     "data": {
      "text/html": [
       "Opera\n",
       "<details>\n",
       "\t<summary style=display:list-item;cursor:pointer>\n",
       "\t\t<strong>Levels</strong>:\n",
       "\t</summary>\n",
       "\t<style>\n",
       "\t.list-inline {list-style: none; margin:0; padding: 0}\n",
       "\t.list-inline>li {display: inline-block}\n",
       "\t.list-inline>li:not(:last-child)::after {content: \"\\00b7\"; padding: 0 .5ex}\n",
       "\t</style>\n",
       "\t<ol class=list-inline><li>'Classic'</li><li>'Jazz'</li><li>'Pop'</li><li>'Rock'</li><li>'Opera'</li></ol>\n",
       "</details>"
      ],
      "text/latex": [
       "Opera\n",
       "\\emph{Levels}: \\begin{enumerate*}\n",
       "\\item 'Classic'\n",
       "\\item 'Jazz'\n",
       "\\item 'Pop'\n",
       "\\item 'Rock'\n",
       "\\item 'Opera'\n",
       "\\end{enumerate*}\n"
      ],
      "text/markdown": [
       "Opera\n",
       "**Levels**: 1. 'Classic'\n",
       "2. 'Jazz'\n",
       "3. 'Pop'\n",
       "4. 'Rock'\n",
       "5. 'Opera'\n",
       "\n",
       "\n"
      ],
      "text/plain": [
       "[1] Opera\n",
       "Levels: Classic Jazz Pop Rock Opera"
      ]
     },
     "metadata": {},
     "output_type": "display_data"
    }
   ],
   "source": [
    "music_genre <- factor(c(\"Jazz\", \"Rock\", \"Classic\", \"Classic\", \"Pop\", \"Jazz\", \"Rock\", \"Jazz\"), levels = c(\"Classic\", \"Jazz\", \"Pop\", \"Rock\", \"Opera\"))\n",
    "\n",
    "music_genre[3] <- \"Opera\"\n",
    "\n",
    "music_genre[3]"
   ]
  },
  {
   "cell_type": "markdown",
   "metadata": {},
   "source": [
    "# GRAPHIC AND DATA VISUALIZATION"
   ]
  },
  {
   "cell_type": "markdown",
   "metadata": {},
   "source": [
    "## Simple plot"
   ]
  },
  {
   "cell_type": "code",
   "execution_count": 309,
   "metadata": {
    "vscode": {
     "languageId": "r"
    }
   },
   "outputs": [
    {
     "data": {
      "image/png": "[encoded data removed]",
      "text/plain": [
       "plot without title"
      ]
     },
     "metadata": {
      "image/png": {
       "height": 420,
       "width": 420
      }
     },
     "output_type": "display_data"
    },
    {
     "data": {
      "image/png": "[encoded data removed]",
      "text/plain": [
       "plot without title"
      ]
     },
     "metadata": {
      "image/png": {
       "height": 420,
       "width": 420
      }
     },
     "output_type": "display_data"
    },
    {
     "data": {
      "image/png": "[encoded data removed]",
      "text/plain": [
       "plot without title"
      ]
     },
     "metadata": {
      "image/png": {
       "height": 420,
       "width": 420
      }
     },
     "output_type": "display_data"
    },
    {
     "data": {
      "image/png": "[encoded data removed]",
      "text/plain": [
       "plot without title"
      ]
     },
     "metadata": {
      "image/png": {
       "height": 420,
       "width": 420
      }
     },
     "output_type": "display_data"
    }
   ],
   "source": [
    "plot(1,3)\n",
    "plot(c(1, 8), c(3, 10))\n",
    "plot(c(1, 2, 3, 4, 5), c(3, 7, 8, 9, 12))\n",
    "plot(1:10)"
   ]
  },
  {
   "cell_type": "code",
   "execution_count": 310,
   "metadata": {
    "vscode": {
     "languageId": "r"
    }
   },
   "outputs": [
    {
     "data": {
      "image/png": "[encoded data removed]",
      "text/plain": [
       "plot without title"
      ]
     },
     "metadata": {
      "image/png": {
       "height": 420,
       "width": 420
      }
     },
     "output_type": "display_data"
    }
   ],
   "source": [
    "x <- c(1, 2, 3, 4, 5)\n",
    "y <- c(3, 7, 8, 9, 12)\n",
    "\n",
    "plot(x, y)"
   ]
  },
  {
   "cell_type": "code",
   "execution_count": 311,
   "metadata": {
    "vscode": {
     "languageId": "r"
    }
   },
   "outputs": [
    {
     "data": {
      "image/png": "[encoded data removed]",
      "text/plain": [
       "plot without title"
      ]
     },
     "metadata": {
      "image/png": {
       "height": 420,
       "width": 420
      }
     },
     "output_type": "display_data"
    }
   ],
   "source": [
    "plot(1:10, type=\"l\")"
   ]
  },
  {
   "cell_type": "code",
   "execution_count": 312,
   "metadata": {
    "vscode": {
     "languageId": "r"
    }
   },
   "outputs": [
    {
     "data": {
      "image/png": "[encoded data removed]",
      "text/plain": [
       "Plot with title \"My Graph\""
      ]
     },
     "metadata": {
      "image/png": {
       "height": 420,
       "width": 420
      }
     },
     "output_type": "display_data"
    }
   ],
   "source": [
    "plot(x,y, main=\"My Graph\", col=\"red\", pch=25, cex=2, xlab=\"The x-axis\", ylab=\"The y axis\")"
   ]
  },
  {
   "cell_type": "markdown",
   "metadata": {},
   "source": [
    "## Line"
   ]
  },
  {
   "cell_type": "code",
   "execution_count": 313,
   "metadata": {
    "vscode": {
     "languageId": "r"
    }
   },
   "outputs": [
    {
     "data": {
      "image/png": "[encoded data removed]",
      "text/plain": [
       "plot without title"
      ]
     },
     "metadata": {
      "image/png": {
       "height": 420,
       "width": 420
      }
     },
     "output_type": "display_data"
    }
   ],
   "source": [
    "plot(1:10, type=\"l\", col=\"blue\", lwd=5, lty = 6)"
   ]
  },
  {
   "cell_type": "code",
   "execution_count": 314,
   "metadata": {
    "vscode": {
     "languageId": "r"
    }
   },
   "outputs": [
    {
     "data": {
      "image/png": "[encoded data removed]",
      "text/plain": [
       "plot without title"
      ]
     },
     "metadata": {
      "image/png": {
       "height": 420,
       "width": 420
      }
     },
     "output_type": "display_data"
    }
   ],
   "source": [
    "line1 <- c(1,2,3,4,5,10)\n",
    "line2 <- c(2,5,7,8,9,10)\n",
    "\n",
    "plot(line1, type = \"l\", col = \"blue\", lwd=5, lty =4)\n",
    "lines(line2, type=\"l\", col = \"red\", lwd=2, lty = 2)"
   ]
  },
  {
   "cell_type": "code",
   "execution_count": 332,
   "metadata": {
    "vscode": {
     "languageId": "r"
    }
   },
   "outputs": [
    {
     "data": {
      "image/png": "[encoded data removed]",
      "text/plain": [
       "plot without title"
      ]
     },
     "metadata": {
      "image/png": {
       "height": 420,
       "width": 420
      }
     },
     "output_type": "display_data"
    }
   ],
   "source": [
    "# Load the required library\n",
    "library(ggplot2)\n",
    "\n",
    "# Customizing the ggplot\n",
    "ggplot(data = mtcars, aes(x = wt, y = mpg)) +\n",
    "  geom_point() +\n",
    "  ggtitle(\"Car Weight vs. MPG\") +\n",
    "  xlab(\"Weight\") +\n",
    "  ylab(\"Miles Per Gallon\")"
   ]
  },
  {
   "cell_type": "markdown",
   "metadata": {},
   "source": [
    "## Scatter plots"
   ]
  },
  {
   "cell_type": "code",
   "execution_count": 315,
   "metadata": {
    "vscode": {
     "languageId": "r"
    }
   },
   "outputs": [
    {
     "data": {
      "image/png": "[encoded data removed]",
      "text/plain": [
       "Plot with title \"Observation of Cars\""
      ]
     },
     "metadata": {
      "image/png": {
       "height": 420,
       "width": 420
      }
     },
     "output_type": "display_data"
    }
   ],
   "source": [
    "# day one, the age and speed of 12 cars:\n",
    "x1 <- c(5,7,8,7,2,2,9,4,11,12,9,6)\n",
    "y1 <- c(99,86,87,88,111,103,87,94,78,77,85,86)\n",
    "\n",
    "# day two, the age and speed of 15 cars:\n",
    "x2 <- c(2,2,8,1,15,8,12,9,7,3,11,4,7,14,12)\n",
    "y2 <- c(100,105,84,105,90,99,90,95,94,100,79,112,91,80,85)\n",
    "\n",
    "plot(x1, y1, main=\"Observation of Cars\", xlab=\"Car age\", ylab=\"Car speed\", col=\"red\", cex=2)\n",
    "points(x2, y2, col=\"blue\", cex=2)"
   ]
  },
  {
   "cell_type": "markdown",
   "metadata": {},
   "source": [
    "## Pie Charts"
   ]
  },
  {
   "cell_type": "code",
   "execution_count": 316,
   "metadata": {
    "vscode": {
     "languageId": "r"
    }
   },
   "outputs": [
    {
     "data": {
      "image/png": "[encoded data removed]",
      "text/plain": [
       "plot without title"
      ]
     },
     "metadata": {
      "image/png": {
       "height": 420,
       "width": 420
      }
     },
     "output_type": "display_data"
    }
   ],
   "source": [
    "# Create a vector of pies\n",
    "x <- c(10,20,30,40)\n",
    "\n",
    "# Display the pie chart and start the first pie at 90 degrees\n",
    "pie(x, init.angle = 90)"
   ]
  },
  {
   "cell_type": "code",
   "execution_count": 317,
   "metadata": {
    "vscode": {
     "languageId": "r"
    }
   },
   "outputs": [
    {
     "data": {
      "image/png": "[encoded data removed]",
      "text/plain": [
       "Plot with title \"Fruits\""
      ]
     },
     "metadata": {
      "image/png": {
       "height": 420,
       "width": 420
      }
     },
     "output_type": "display_data"
    }
   ],
   "source": [
    "# Create a vector of pies\n",
    "x <- c(10,20,30,40)\n",
    "\n",
    "# Create a vector of labels\n",
    "mylabel <- c(\"Apples\", \"Bananas\", \"Cherries\", \"Dates\")\n",
    "\n",
    "# Display the pie chart with labels\n",
    "pie(x, label = mylabel, main = \"Fruits\")"
   ]
  },
  {
   "cell_type": "code",
   "execution_count": 318,
   "metadata": {
    "vscode": {
     "languageId": "r"
    }
   },
   "outputs": [
    {
     "data": {
      "image/png": "[encoded data removed]",
      "text/plain": [
       "Plot with title \"Fruits\""
      ]
     },
     "metadata": {
      "image/png": {
       "height": 420,
       "width": 420
      }
     },
     "output_type": "display_data"
    }
   ],
   "source": [
    "# Create a vector of colors\n",
    "colors <- c(\"blue\", \"yellow\", \"green\", \"violet\")\n",
    "\n",
    "# Display the pie chart with colors\n",
    "pie(x, label = mylabel, main = \"Fruits\", col = colors)"
   ]
  },
  {
   "cell_type": "markdown",
   "metadata": {},
   "source": [
    "The legend can be positioned as either:\n",
    "\n",
    "`bottomright`, `bottom`, `bottomleft`, `left`, `topleft`, `top`, `topright`, `right`, `center`"
   ]
  },
  {
   "cell_type": "code",
   "execution_count": 319,
   "metadata": {
    "vscode": {
     "languageId": "r"
    }
   },
   "outputs": [
    {
     "data": {
      "image/png": "[encoded data removed]",
      "text/plain": [
       "Plot with title \"Pie Chart\""
      ]
     },
     "metadata": {
      "image/png": {
       "height": 420,
       "width": 420
      }
     },
     "output_type": "display_data"
    }
   ],
   "source": [
    "# Create a vector of labels\n",
    "mylabel <- c(\"Apples\", \"Bananas\", \"Cherries\", \"Dates\")\n",
    "\n",
    "# Create a vector of colors\n",
    "colors <- c(\"blue\", \"yellow\", \"green\", \"black\")\n",
    "\n",
    "# Display the pie chart with colors\n",
    "pie(x, label = mylabel, main = \"Pie Chart\", col = colors)\n",
    "\n",
    "# Display the explanation box\n",
    "legend(\"bottomright\", mylabel, fill = colors)"
   ]
  },
  {
   "cell_type": "markdown",
   "metadata": {},
   "source": [
    "## Bars"
   ]
  },
  {
   "cell_type": "code",
   "execution_count": 320,
   "metadata": {
    "vscode": {
     "languageId": "r"
    }
   },
   "outputs": [
    {
     "data": {
      "image/png": "[encoded data removed]",
      "text/plain": [
       "plot without title"
      ]
     },
     "metadata": {
      "image/png": {
       "height": 420,
       "width": 420
      }
     },
     "output_type": "display_data"
    }
   ],
   "source": [
    "# x-axis values\n",
    "x <- c(\"A\", \"B\", \"C\", \"D\")\n",
    "\n",
    "# y-axis values\n",
    "y <- c(2, 4, 6, 8)\n",
    "\n",
    "barplot(y, names.arg = x, col = \"red\", density = 10, width = c(1,2,3,4), horiz=TRUE)"
   ]
  },
  {
   "cell_type": "markdown",
   "metadata": {},
   "source": [
    "# BASIC STATISTICS"
   ]
  },
  {
   "cell_type": "markdown",
   "metadata": {},
   "source": [
    "The R language was developed by two statisticians. It has many built-in functionalities, in addition to libraries for the exact purpose of statistical analysis.\n",
    "\n",
    "Statistics is the science of analyzing, reviewing and conclude data.\n",
    "\n",
    "Some basic statistical numbers include:\n",
    "\n",
    "* Mean, median and mode\n",
    "* Minimum and maximum value\n",
    "* Percentiles\n",
    "* Variance and Standard Devation\n",
    "* Covariance and Correlation\n",
    "* Probability distributions\n",
    "\n",
    "### Dataset\n",
    "\n",
    "There is a popular built-in data set in R called `mtcars` (*Motor Trend Car Road Tests*), which is retrieved from the 1974 Motor Trend US Magazine.\n",
    "\n",
    "In the examples below, we will use the `mtcars` data set, for statistical purposes:"
   ]
  },
  {
   "cell_type": "code",
   "execution_count": 321,
   "metadata": {
    "vscode": {
     "languageId": "r"
    }
   },
   "outputs": [
    {
     "data": {
      "text/html": [
       "<table class=\"dataframe\">\n",
       "<caption>A data.frame: 32 × 11</caption>\n",
       "<thead>\n",
       "\t<tr><th></th><th scope=col>mpg</th><th scope=col>cyl</th><th scope=col>disp</th><th scope=col>hp</th><th scope=col>drat</th><th scope=col>wt</th><th scope=col>qsec</th><th scope=col>vs</th><th scope=col>am</th><th scope=col>gear</th><th scope=col>carb</th></tr>\n",
       "\t<tr><th></th><th scope=col>&lt;dbl&gt;</th><th scope=col>&lt;dbl&gt;</th><th scope=col>&lt;dbl&gt;</th><th scope=col>&lt;dbl&gt;</th><th scope=col>&lt;dbl&gt;</th><th scope=col>&lt;dbl&gt;</th><th scope=col>&lt;dbl&gt;</th><th scope=col>&lt;dbl&gt;</th><th scope=col>&lt;dbl&gt;</th><th scope=col>&lt;dbl&gt;</th><th scope=col>&lt;dbl&gt;</th></tr>\n",
       "</thead>\n",
       "<tbody>\n",
       "\t<tr><th scope=row>Mazda RX4</th><td>21.0</td><td>6</td><td>160.0</td><td>110</td><td>3.90</td><td>2.620</td><td>16.46</td><td>0</td><td>1</td><td>4</td><td>4</td></tr>\n",
       "\t<tr><th scope=row>Mazda RX4 Wag</th><td>21.0</td><td>6</td><td>160.0</td><td>110</td><td>3.90</td><td>2.875</td><td>17.02</td><td>0</td><td>1</td><td>4</td><td>4</td></tr>\n",
       "\t<tr><th scope=row>Datsun 710</th><td>22.8</td><td>4</td><td>108.0</td><td> 93</td><td>3.85</td><td>2.320</td><td>18.61</td><td>1</td><td>1</td><td>4</td><td>1</td></tr>\n",
       "\t<tr><th scope=row>Hornet 4 Drive</th><td>21.4</td><td>6</td><td>258.0</td><td>110</td><td>3.08</td><td>3.215</td><td>19.44</td><td>1</td><td>0</td><td>3</td><td>1</td></tr>\n",
       "\t<tr><th scope=row>Hornet Sportabout</th><td>18.7</td><td>8</td><td>360.0</td><td>175</td><td>3.15</td><td>3.440</td><td>17.02</td><td>0</td><td>0</td><td>3</td><td>2</td></tr>\n",
       "\t<tr><th scope=row>Valiant</th><td>18.1</td><td>6</td><td>225.0</td><td>105</td><td>2.76</td><td>3.460</td><td>20.22</td><td>1</td><td>0</td><td>3</td><td>1</td></tr>\n",
       "\t<tr><th scope=row>Duster 360</th><td>14.3</td><td>8</td><td>360.0</td><td>245</td><td>3.21</td><td>3.570</td><td>15.84</td><td>0</td><td>0</td><td>3</td><td>4</td></tr>\n",
       "\t<tr><th scope=row>Merc 240D</th><td>24.4</td><td>4</td><td>146.7</td><td> 62</td><td>3.69</td><td>3.190</td><td>20.00</td><td>1</td><td>0</td><td>4</td><td>2</td></tr>\n",
       "\t<tr><th scope=row>Merc 230</th><td>22.8</td><td>4</td><td>140.8</td><td> 95</td><td>3.92</td><td>3.150</td><td>22.90</td><td>1</td><td>0</td><td>4</td><td>2</td></tr>\n",
       "\t<tr><th scope=row>Merc 280</th><td>19.2</td><td>6</td><td>167.6</td><td>123</td><td>3.92</td><td>3.440</td><td>18.30</td><td>1</td><td>0</td><td>4</td><td>4</td></tr>\n",
       "\t<tr><th scope=row>Merc 280C</th><td>17.8</td><td>6</td><td>167.6</td><td>123</td><td>3.92</td><td>3.440</td><td>18.90</td><td>1</td><td>0</td><td>4</td><td>4</td></tr>\n",
       "\t<tr><th scope=row>Merc 450SE</th><td>16.4</td><td>8</td><td>275.8</td><td>180</td><td>3.07</td><td>4.070</td><td>17.40</td><td>0</td><td>0</td><td>3</td><td>3</td></tr>\n",
       "\t<tr><th scope=row>Merc 450SL</th><td>17.3</td><td>8</td><td>275.8</td><td>180</td><td>3.07</td><td>3.730</td><td>17.60</td><td>0</td><td>0</td><td>3</td><td>3</td></tr>\n",
       "\t<tr><th scope=row>Merc 450SLC</th><td>15.2</td><td>8</td><td>275.8</td><td>180</td><td>3.07</td><td>3.780</td><td>18.00</td><td>0</td><td>0</td><td>3</td><td>3</td></tr>\n",
       "\t<tr><th scope=row>Cadillac Fleetwood</th><td>10.4</td><td>8</td><td>472.0</td><td>205</td><td>2.93</td><td>5.250</td><td>17.98</td><td>0</td><td>0</td><td>3</td><td>4</td></tr>\n",
       "\t<tr><th scope=row>Lincoln Continental</th><td>10.4</td><td>8</td><td>460.0</td><td>215</td><td>3.00</td><td>5.424</td><td>17.82</td><td>0</td><td>0</td><td>3</td><td>4</td></tr>\n",
       "\t<tr><th scope=row>Chrysler Imperial</th><td>14.7</td><td>8</td><td>440.0</td><td>230</td><td>3.23</td><td>5.345</td><td>17.42</td><td>0</td><td>0</td><td>3</td><td>4</td></tr>\n",
       "\t<tr><th scope=row>Fiat 128</th><td>32.4</td><td>4</td><td> 78.7</td><td> 66</td><td>4.08</td><td>2.200</td><td>19.47</td><td>1</td><td>1</td><td>4</td><td>1</td></tr>\n",
       "\t<tr><th scope=row>Honda Civic</th><td>30.4</td><td>4</td><td> 75.7</td><td> 52</td><td>4.93</td><td>1.615</td><td>18.52</td><td>1</td><td>1</td><td>4</td><td>2</td></tr>\n",
       "\t<tr><th scope=row>Toyota Corolla</th><td>33.9</td><td>4</td><td> 71.1</td><td> 65</td><td>4.22</td><td>1.835</td><td>19.90</td><td>1</td><td>1</td><td>4</td><td>1</td></tr>\n",
       "\t<tr><th scope=row>Toyota Corona</th><td>21.5</td><td>4</td><td>120.1</td><td> 97</td><td>3.70</td><td>2.465</td><td>20.01</td><td>1</td><td>0</td><td>3</td><td>1</td></tr>\n",
       "\t<tr><th scope=row>Dodge Challenger</th><td>15.5</td><td>8</td><td>318.0</td><td>150</td><td>2.76</td><td>3.520</td><td>16.87</td><td>0</td><td>0</td><td>3</td><td>2</td></tr>\n",
       "\t<tr><th scope=row>AMC Javelin</th><td>15.2</td><td>8</td><td>304.0</td><td>150</td><td>3.15</td><td>3.435</td><td>17.30</td><td>0</td><td>0</td><td>3</td><td>2</td></tr>\n",
       "\t<tr><th scope=row>Camaro Z28</th><td>13.3</td><td>8</td><td>350.0</td><td>245</td><td>3.73</td><td>3.840</td><td>15.41</td><td>0</td><td>0</td><td>3</td><td>4</td></tr>\n",
       "\t<tr><th scope=row>Pontiac Firebird</th><td>19.2</td><td>8</td><td>400.0</td><td>175</td><td>3.08</td><td>3.845</td><td>17.05</td><td>0</td><td>0</td><td>3</td><td>2</td></tr>\n",
       "\t<tr><th scope=row>Fiat X1-9</th><td>27.3</td><td>4</td><td> 79.0</td><td> 66</td><td>4.08</td><td>1.935</td><td>18.90</td><td>1</td><td>1</td><td>4</td><td>1</td></tr>\n",
       "\t<tr><th scope=row>Porsche 914-2</th><td>26.0</td><td>4</td><td>120.3</td><td> 91</td><td>4.43</td><td>2.140</td><td>16.70</td><td>0</td><td>1</td><td>5</td><td>2</td></tr>\n",
       "\t<tr><th scope=row>Lotus Europa</th><td>30.4</td><td>4</td><td> 95.1</td><td>113</td><td>3.77</td><td>1.513</td><td>16.90</td><td>1</td><td>1</td><td>5</td><td>2</td></tr>\n",
       "\t<tr><th scope=row>Ford Pantera L</th><td>15.8</td><td>8</td><td>351.0</td><td>264</td><td>4.22</td><td>3.170</td><td>14.50</td><td>0</td><td>1</td><td>5</td><td>4</td></tr>\n",
       "\t<tr><th scope=row>Ferrari Dino</th><td>19.7</td><td>6</td><td>145.0</td><td>175</td><td>3.62</td><td>2.770</td><td>15.50</td><td>0</td><td>1</td><td>5</td><td>6</td></tr>\n",
       "\t<tr><th scope=row>Maserati Bora</th><td>15.0</td><td>8</td><td>301.0</td><td>335</td><td>3.54</td><td>3.570</td><td>14.60</td><td>0</td><td>1</td><td>5</td><td>8</td></tr>\n",
       "\t<tr><th scope=row>Volvo 142E</th><td>21.4</td><td>4</td><td>121.0</td><td>109</td><td>4.11</td><td>2.780</td><td>18.60</td><td>1</td><td>1</td><td>4</td><td>2</td></tr>\n",
       "</tbody>\n",
       "</table>\n"
      ],
      "text/latex": [
       "A data.frame: 32 × 11\n",
       "\\begin{tabular}{r|lllllllllll}\n",
       "  & mpg & cyl & disp & hp & drat & wt & qsec & vs & am & gear & carb\\\\\n",
       "  & <dbl> & <dbl> & <dbl> & <dbl> & <dbl> & <dbl> & <dbl> & <dbl> & <dbl> & <dbl> & <dbl>\\\\\n",
       "\\hline\n",
       "\tMazda RX4 & 21.0 & 6 & 160.0 & 110 & 3.90 & 2.620 & 16.46 & 0 & 1 & 4 & 4\\\\\n",
       "\tMazda RX4 Wag & 21.0 & 6 & 160.0 & 110 & 3.90 & 2.875 & 17.02 & 0 & 1 & 4 & 4\\\\\n",
       "\tDatsun 710 & 22.8 & 4 & 108.0 &  93 & 3.85 & 2.320 & 18.61 & 1 & 1 & 4 & 1\\\\\n",
       "\tHornet 4 Drive & 21.4 & 6 & 258.0 & 110 & 3.08 & 3.215 & 19.44 & 1 & 0 & 3 & 1\\\\\n",
       "\tHornet Sportabout & 18.7 & 8 & 360.0 & 175 & 3.15 & 3.440 & 17.02 & 0 & 0 & 3 & 2\\\\\n",
       "\tValiant & 18.1 & 6 & 225.0 & 105 & 2.76 & 3.460 & 20.22 & 1 & 0 & 3 & 1\\\\\n",
       "\tDuster 360 & 14.3 & 8 & 360.0 & 245 & 3.21 & 3.570 & 15.84 & 0 & 0 & 3 & 4\\\\\n",
       "\tMerc 240D & 24.4 & 4 & 146.7 &  62 & 3.69 & 3.190 & 20.00 & 1 & 0 & 4 & 2\\\\\n",
       "\tMerc 230 & 22.8 & 4 & 140.8 &  95 & 3.92 & 3.150 & 22.90 & 1 & 0 & 4 & 2\\\\\n",
       "\tMerc 280 & 19.2 & 6 & 167.6 & 123 & 3.92 & 3.440 & 18.30 & 1 & 0 & 4 & 4\\\\\n",
       "\tMerc 280C & 17.8 & 6 & 167.6 & 123 & 3.92 & 3.440 & 18.90 & 1 & 0 & 4 & 4\\\\\n",
       "\tMerc 450SE & 16.4 & 8 & 275.8 & 180 & 3.07 & 4.070 & 17.40 & 0 & 0 & 3 & 3\\\\\n",
       "\tMerc 450SL & 17.3 & 8 & 275.8 & 180 & 3.07 & 3.730 & 17.60 & 0 & 0 & 3 & 3\\\\\n",
       "\tMerc 450SLC & 15.2 & 8 & 275.8 & 180 & 3.07 & 3.780 & 18.00 & 0 & 0 & 3 & 3\\\\\n",
       "\tCadillac Fleetwood & 10.4 & 8 & 472.0 & 205 & 2.93 & 5.250 & 17.98 & 0 & 0 & 3 & 4\\\\\n",
       "\tLincoln Continental & 10.4 & 8 & 460.0 & 215 & 3.00 & 5.424 & 17.82 & 0 & 0 & 3 & 4\\\\\n",
       "\tChrysler Imperial & 14.7 & 8 & 440.0 & 230 & 3.23 & 5.345 & 17.42 & 0 & 0 & 3 & 4\\\\\n",
       "\tFiat 128 & 32.4 & 4 &  78.7 &  66 & 4.08 & 2.200 & 19.47 & 1 & 1 & 4 & 1\\\\\n",
       "\tHonda Civic & 30.4 & 4 &  75.7 &  52 & 4.93 & 1.615 & 18.52 & 1 & 1 & 4 & 2\\\\\n",
       "\tToyota Corolla & 33.9 & 4 &  71.1 &  65 & 4.22 & 1.835 & 19.90 & 1 & 1 & 4 & 1\\\\\n",
       "\tToyota Corona & 21.5 & 4 & 120.1 &  97 & 3.70 & 2.465 & 20.01 & 1 & 0 & 3 & 1\\\\\n",
       "\tDodge Challenger & 15.5 & 8 & 318.0 & 150 & 2.76 & 3.520 & 16.87 & 0 & 0 & 3 & 2\\\\\n",
       "\tAMC Javelin & 15.2 & 8 & 304.0 & 150 & 3.15 & 3.435 & 17.30 & 0 & 0 & 3 & 2\\\\\n",
       "\tCamaro Z28 & 13.3 & 8 & 350.0 & 245 & 3.73 & 3.840 & 15.41 & 0 & 0 & 3 & 4\\\\\n",
       "\tPontiac Firebird & 19.2 & 8 & 400.0 & 175 & 3.08 & 3.845 & 17.05 & 0 & 0 & 3 & 2\\\\\n",
       "\tFiat X1-9 & 27.3 & 4 &  79.0 &  66 & 4.08 & 1.935 & 18.90 & 1 & 1 & 4 & 1\\\\\n",
       "\tPorsche 914-2 & 26.0 & 4 & 120.3 &  91 & 4.43 & 2.140 & 16.70 & 0 & 1 & 5 & 2\\\\\n",
       "\tLotus Europa & 30.4 & 4 &  95.1 & 113 & 3.77 & 1.513 & 16.90 & 1 & 1 & 5 & 2\\\\\n",
       "\tFord Pantera L & 15.8 & 8 & 351.0 & 264 & 4.22 & 3.170 & 14.50 & 0 & 1 & 5 & 4\\\\\n",
       "\tFerrari Dino & 19.7 & 6 & 145.0 & 175 & 3.62 & 2.770 & 15.50 & 0 & 1 & 5 & 6\\\\\n",
       "\tMaserati Bora & 15.0 & 8 & 301.0 & 335 & 3.54 & 3.570 & 14.60 & 0 & 1 & 5 & 8\\\\\n",
       "\tVolvo 142E & 21.4 & 4 & 121.0 & 109 & 4.11 & 2.780 & 18.60 & 1 & 1 & 4 & 2\\\\\n",
       "\\end{tabular}\n"
      ],
      "text/markdown": [
       "\n",
       "A data.frame: 32 × 11\n",
       "\n",
       "| <!--/--> | mpg &lt;dbl&gt; | cyl &lt;dbl&gt; | disp &lt;dbl&gt; | hp &lt;dbl&gt; | drat &lt;dbl&gt; | wt &lt;dbl&gt; | qsec &lt;dbl&gt; | vs &lt;dbl&gt; | am &lt;dbl&gt; | gear &lt;dbl&gt; | carb &lt;dbl&gt; |\n",
       "|---|---|---|---|---|---|---|---|---|---|---|---|\n",
       "| Mazda RX4 | 21.0 | 6 | 160.0 | 110 | 3.90 | 2.620 | 16.46 | 0 | 1 | 4 | 4 |\n",
       "| Mazda RX4 Wag | 21.0 | 6 | 160.0 | 110 | 3.90 | 2.875 | 17.02 | 0 | 1 | 4 | 4 |\n",
       "| Datsun 710 | 22.8 | 4 | 108.0 |  93 | 3.85 | 2.320 | 18.61 | 1 | 1 | 4 | 1 |\n",
       "| Hornet 4 Drive | 21.4 | 6 | 258.0 | 110 | 3.08 | 3.215 | 19.44 | 1 | 0 | 3 | 1 |\n",
       "| Hornet Sportabout | 18.7 | 8 | 360.0 | 175 | 3.15 | 3.440 | 17.02 | 0 | 0 | 3 | 2 |\n",
       "| Valiant | 18.1 | 6 | 225.0 | 105 | 2.76 | 3.460 | 20.22 | 1 | 0 | 3 | 1 |\n",
       "| Duster 360 | 14.3 | 8 | 360.0 | 245 | 3.21 | 3.570 | 15.84 | 0 | 0 | 3 | 4 |\n",
       "| Merc 240D | 24.4 | 4 | 146.7 |  62 | 3.69 | 3.190 | 20.00 | 1 | 0 | 4 | 2 |\n",
       "| Merc 230 | 22.8 | 4 | 140.8 |  95 | 3.92 | 3.150 | 22.90 | 1 | 0 | 4 | 2 |\n",
       "| Merc 280 | 19.2 | 6 | 167.6 | 123 | 3.92 | 3.440 | 18.30 | 1 | 0 | 4 | 4 |\n",
       "| Merc 280C | 17.8 | 6 | 167.6 | 123 | 3.92 | 3.440 | 18.90 | 1 | 0 | 4 | 4 |\n",
       "| Merc 450SE | 16.4 | 8 | 275.8 | 180 | 3.07 | 4.070 | 17.40 | 0 | 0 | 3 | 3 |\n",
       "| Merc 450SL | 17.3 | 8 | 275.8 | 180 | 3.07 | 3.730 | 17.60 | 0 | 0 | 3 | 3 |\n",
       "| Merc 450SLC | 15.2 | 8 | 275.8 | 180 | 3.07 | 3.780 | 18.00 | 0 | 0 | 3 | 3 |\n",
       "| Cadillac Fleetwood | 10.4 | 8 | 472.0 | 205 | 2.93 | 5.250 | 17.98 | 0 | 0 | 3 | 4 |\n",
       "| Lincoln Continental | 10.4 | 8 | 460.0 | 215 | 3.00 | 5.424 | 17.82 | 0 | 0 | 3 | 4 |\n",
       "| Chrysler Imperial | 14.7 | 8 | 440.0 | 230 | 3.23 | 5.345 | 17.42 | 0 | 0 | 3 | 4 |\n",
       "| Fiat 128 | 32.4 | 4 |  78.7 |  66 | 4.08 | 2.200 | 19.47 | 1 | 1 | 4 | 1 |\n",
       "| Honda Civic | 30.4 | 4 |  75.7 |  52 | 4.93 | 1.615 | 18.52 | 1 | 1 | 4 | 2 |\n",
       "| Toyota Corolla | 33.9 | 4 |  71.1 |  65 | 4.22 | 1.835 | 19.90 | 1 | 1 | 4 | 1 |\n",
       "| Toyota Corona | 21.5 | 4 | 120.1 |  97 | 3.70 | 2.465 | 20.01 | 1 | 0 | 3 | 1 |\n",
       "| Dodge Challenger | 15.5 | 8 | 318.0 | 150 | 2.76 | 3.520 | 16.87 | 0 | 0 | 3 | 2 |\n",
       "| AMC Javelin | 15.2 | 8 | 304.0 | 150 | 3.15 | 3.435 | 17.30 | 0 | 0 | 3 | 2 |\n",
       "| Camaro Z28 | 13.3 | 8 | 350.0 | 245 | 3.73 | 3.840 | 15.41 | 0 | 0 | 3 | 4 |\n",
       "| Pontiac Firebird | 19.2 | 8 | 400.0 | 175 | 3.08 | 3.845 | 17.05 | 0 | 0 | 3 | 2 |\n",
       "| Fiat X1-9 | 27.3 | 4 |  79.0 |  66 | 4.08 | 1.935 | 18.90 | 1 | 1 | 4 | 1 |\n",
       "| Porsche 914-2 | 26.0 | 4 | 120.3 |  91 | 4.43 | 2.140 | 16.70 | 0 | 1 | 5 | 2 |\n",
       "| Lotus Europa | 30.4 | 4 |  95.1 | 113 | 3.77 | 1.513 | 16.90 | 1 | 1 | 5 | 2 |\n",
       "| Ford Pantera L | 15.8 | 8 | 351.0 | 264 | 4.22 | 3.170 | 14.50 | 0 | 1 | 5 | 4 |\n",
       "| Ferrari Dino | 19.7 | 6 | 145.0 | 175 | 3.62 | 2.770 | 15.50 | 0 | 1 | 5 | 6 |\n",
       "| Maserati Bora | 15.0 | 8 | 301.0 | 335 | 3.54 | 3.570 | 14.60 | 0 | 1 | 5 | 8 |\n",
       "| Volvo 142E | 21.4 | 4 | 121.0 | 109 | 4.11 | 2.780 | 18.60 | 1 | 1 | 4 | 2 |\n",
       "\n"
      ],
      "text/plain": [
       "                    mpg  cyl disp  hp  drat wt    qsec  vs am gear carb\n",
       "Mazda RX4           21.0 6   160.0 110 3.90 2.620 16.46 0  1  4    4   \n",
       "Mazda RX4 Wag       21.0 6   160.0 110 3.90 2.875 17.02 0  1  4    4   \n",
       "Datsun 710          22.8 4   108.0  93 3.85 2.320 18.61 1  1  4    1   \n",
       "Hornet 4 Drive      21.4 6   258.0 110 3.08 3.215 19.44 1  0  3    1   \n",
       "Hornet Sportabout   18.7 8   360.0 175 3.15 3.440 17.02 0  0  3    2   \n",
       "Valiant             18.1 6   225.0 105 2.76 3.460 20.22 1  0  3    1   \n",
       "Duster 360          14.3 8   360.0 245 3.21 3.570 15.84 0  0  3    4   \n",
       "Merc 240D           24.4 4   146.7  62 3.69 3.190 20.00 1  0  4    2   \n",
       "Merc 230            22.8 4   140.8  95 3.92 3.150 22.90 1  0  4    2   \n",
       "Merc 280            19.2 6   167.6 123 3.92 3.440 18.30 1  0  4    4   \n",
       "Merc 280C           17.8 6   167.6 123 3.92 3.440 18.90 1  0  4    4   \n",
       "Merc 450SE          16.4 8   275.8 180 3.07 4.070 17.40 0  0  3    3   \n",
       "Merc 450SL          17.3 8   275.8 180 3.07 3.730 17.60 0  0  3    3   \n",
       "Merc 450SLC         15.2 8   275.8 180 3.07 3.780 18.00 0  0  3    3   \n",
       "Cadillac Fleetwood  10.4 8   472.0 205 2.93 5.250 17.98 0  0  3    4   \n",
       "Lincoln Continental 10.4 8   460.0 215 3.00 5.424 17.82 0  0  3    4   \n",
       "Chrysler Imperial   14.7 8   440.0 230 3.23 5.345 17.42 0  0  3    4   \n",
       "Fiat 128            32.4 4    78.7  66 4.08 2.200 19.47 1  1  4    1   \n",
       "Honda Civic         30.4 4    75.7  52 4.93 1.615 18.52 1  1  4    2   \n",
       "Toyota Corolla      33.9 4    71.1  65 4.22 1.835 19.90 1  1  4    1   \n",
       "Toyota Corona       21.5 4   120.1  97 3.70 2.465 20.01 1  0  3    1   \n",
       "Dodge Challenger    15.5 8   318.0 150 2.76 3.520 16.87 0  0  3    2   \n",
       "AMC Javelin         15.2 8   304.0 150 3.15 3.435 17.30 0  0  3    2   \n",
       "Camaro Z28          13.3 8   350.0 245 3.73 3.840 15.41 0  0  3    4   \n",
       "Pontiac Firebird    19.2 8   400.0 175 3.08 3.845 17.05 0  0  3    2   \n",
       "Fiat X1-9           27.3 4    79.0  66 4.08 1.935 18.90 1  1  4    1   \n",
       "Porsche 914-2       26.0 4   120.3  91 4.43 2.140 16.70 0  1  5    2   \n",
       "Lotus Europa        30.4 4    95.1 113 3.77 1.513 16.90 1  1  5    2   \n",
       "Ford Pantera L      15.8 8   351.0 264 4.22 3.170 14.50 0  1  5    4   \n",
       "Ferrari Dino        19.7 6   145.0 175 3.62 2.770 15.50 0  1  5    6   \n",
       "Maserati Bora       15.0 8   301.0 335 3.54 3.570 14.60 0  1  5    8   \n",
       "Volvo 142E          21.4 4   121.0 109 4.11 2.780 18.60 1  1  4    2   "
      ]
     },
     "metadata": {},
     "output_type": "display_data"
    }
   ],
   "source": [
    "# Print the mtcars data set\n",
    "mtcars"
   ]
  },
  {
   "cell_type": "code",
   "execution_count": 322,
   "metadata": {
    "vscode": {
     "languageId": "r"
    }
   },
   "outputs": [
    {
     "name": "stdout",
     "output_type": "stream",
     "text": [
      "mtcars                package:datasets                 R Documentation\n",
      "\n",
      "_\bM_\bo_\bt_\bo_\br _\bT_\br_\be_\bn_\bd _\bC_\ba_\br _\bR_\bo_\ba_\bd _\bT_\be_\bs_\bt_\bs\n",
      "\n",
      "_\bD_\be_\bs_\bc_\br_\bi_\bp_\bt_\bi_\bo_\bn:\n",
      "\n",
      "     The data was extracted from the 1974 _Motor Trend_ US magazine,\n",
      "     and comprises fuel consumption and 10 aspects of automobile design\n",
      "     and performance for 32 automobiles (1973-74 models).\n",
      "\n",
      "_\bU_\bs_\ba_\bg_\be:\n",
      "\n",
      "     mtcars\n",
      "     \n",
      "_\bF_\bo_\br_\bm_\ba_\bt:\n",
      "\n",
      "     A data frame with 32 observations on 11 (numeric) variables.\n",
      "\n",
      "       [, 1]  mpg   Miles/(US) gallon                        \n",
      "       [, 2]  cyl   Number of cylinders                      \n",
      "       [, 3]  disp  Displacement (cu.in.)                    \n",
      "       [, 4]  hp    Gross horsepower                         \n",
      "       [, 5]  drat  Rear axle ratio                          \n",
      "       [, 6]  wt    Weight (1000 lbs)                        \n",
      "       [, 7]  qsec  1/4 mile time                            \n",
      "       [, 8]  vs    Engine (0 = V-shaped, 1 = straight)      \n",
      "       [, 9]  am    Transmission (0 = automatic, 1 = manual) \n",
      "       [,10]  gear  Number of forward gears                  \n",
      "       [,11]  carb  Number of carburetors                    \n",
      "      \n",
      "_\bN_\bo_\bt_\be:\n",
      "\n",
      "     Henderson and Velleman (1981) comment in a footnote to Table 1:\n",
      "     'Hocking [original transcriber]'s noncrucial coding of the Mazda's\n",
      "     rotary engine as a straight six-cylinder engine and the Porsche's\n",
      "     flat engine as a V engine, as well as the inclusion of the diesel\n",
      "     Mercedes 240D, have been retained to enable direct comparisons to\n",
      "     be made with previous analyses.'\n",
      "\n",
      "_\bS_\bo_\bu_\br_\bc_\be:\n",
      "\n",
      "     Henderson and Velleman (1981), Building multiple regression models\n",
      "     interactively.  _Biometrics_, *37*, 391-411.\n",
      "\n",
      "_\bE_\bx_\ba_\bm_\bp_\bl_\be_\bs:\n",
      "\n",
      "     require(graphics)\n",
      "     pairs(mtcars, main = \"mtcars data\", gap = 1/4)\n",
      "     coplot(mpg ~ disp | as.factor(cyl), data = mtcars,\n",
      "            panel = panel.smooth, rows = 1)\n",
      "     ## possibly more meaningful, e.g., for summary() or bivariate plots:\n",
      "     mtcars2 <- within(mtcars, {\n",
      "        vs <- factor(vs, labels = c(\"V\", \"S\"))\n",
      "        am <- factor(am, labels = c(\"automatic\", \"manual\"))\n",
      "        cyl  <- ordered(cyl)\n",
      "        gear <- ordered(gear)\n",
      "        carb <- ordered(carb)\n",
      "     })\n",
      "     summary(mtcars2)\n",
      "     "
     ]
    }
   ],
   "source": [
    "# Use the question mark to get information about the data set\n",
    "\n",
    "?mtcars"
   ]
  },
  {
   "cell_type": "code",
   "execution_count": 323,
   "metadata": {
    "vscode": {
     "languageId": "r"
    }
   },
   "outputs": [
    {
     "data": {
      "text/html": [
       "<style>\n",
       ".list-inline {list-style: none; margin:0; padding: 0}\n",
       ".list-inline>li {display: inline-block}\n",
       ".list-inline>li:not(:last-child)::after {content: \"\\00b7\"; padding: 0 .5ex}\n",
       "</style>\n",
       "<ol class=list-inline><li>32</li><li>11</li></ol>\n"
      ],
      "text/latex": [
       "\\begin{enumerate*}\n",
       "\\item 32\n",
       "\\item 11\n",
       "\\end{enumerate*}\n"
      ],
      "text/markdown": [
       "1. 32\n",
       "2. 11\n",
       "\n",
       "\n"
      ],
      "text/plain": [
       "[1] 32 11"
      ]
     },
     "metadata": {},
     "output_type": "display_data"
    },
    {
     "data": {
      "text/html": [
       "<style>\n",
       ".list-inline {list-style: none; margin:0; padding: 0}\n",
       ".list-inline>li {display: inline-block}\n",
       ".list-inline>li:not(:last-child)::after {content: \"\\00b7\"; padding: 0 .5ex}\n",
       "</style>\n",
       "<ol class=list-inline><li>'mpg'</li><li>'cyl'</li><li>'disp'</li><li>'hp'</li><li>'drat'</li><li>'wt'</li><li>'qsec'</li><li>'vs'</li><li>'am'</li><li>'gear'</li><li>'carb'</li></ol>\n"
      ],
      "text/latex": [
       "\\begin{enumerate*}\n",
       "\\item 'mpg'\n",
       "\\item 'cyl'\n",
       "\\item 'disp'\n",
       "\\item 'hp'\n",
       "\\item 'drat'\n",
       "\\item 'wt'\n",
       "\\item 'qsec'\n",
       "\\item 'vs'\n",
       "\\item 'am'\n",
       "\\item 'gear'\n",
       "\\item 'carb'\n",
       "\\end{enumerate*}\n"
      ],
      "text/markdown": [
       "1. 'mpg'\n",
       "2. 'cyl'\n",
       "3. 'disp'\n",
       "4. 'hp'\n",
       "5. 'drat'\n",
       "6. 'wt'\n",
       "7. 'qsec'\n",
       "8. 'vs'\n",
       "9. 'am'\n",
       "10. 'gear'\n",
       "11. 'carb'\n",
       "\n",
       "\n"
      ],
      "text/plain": [
       " [1] \"mpg\"  \"cyl\"  \"disp\" \"hp\"   \"drat\" \"wt\"   \"qsec\" \"vs\"   \"am\"   \"gear\"\n",
       "[11] \"carb\""
      ]
     },
     "metadata": {},
     "output_type": "display_data"
    }
   ],
   "source": [
    "Data_Cars <- mtcars # create a variable of the mtcars data set for better organization\n",
    "\n",
    "# Use dim() to find the dimension of the data set\n",
    "dim(Data_Cars)\n",
    "\n",
    "# Use names() to find the names of the variables from the data set\n",
    "names(Data_Cars)"
   ]
  },
  {
   "cell_type": "markdown",
   "metadata": {},
   "source": [
    "Use the rownames() function to get the name of each row in the first column, which is the name of each car:"
   ]
  },
  {
   "cell_type": "code",
   "execution_count": 324,
   "metadata": {
    "vscode": {
     "languageId": "r"
    }
   },
   "outputs": [
    {
     "data": {
      "text/html": [
       "<style>\n",
       ".list-inline {list-style: none; margin:0; padding: 0}\n",
       ".list-inline>li {display: inline-block}\n",
       ".list-inline>li:not(:last-child)::after {content: \"\\00b7\"; padding: 0 .5ex}\n",
       "</style>\n",
       "<ol class=list-inline><li>'Mazda RX4'</li><li>'Mazda RX4 Wag'</li><li>'Datsun 710'</li><li>'Hornet 4 Drive'</li><li>'Hornet Sportabout'</li><li>'Valiant'</li><li>'Duster 360'</li><li>'Merc 240D'</li><li>'Merc 230'</li><li>'Merc 280'</li><li>'Merc 280C'</li><li>'Merc 450SE'</li><li>'Merc 450SL'</li><li>'Merc 450SLC'</li><li>'Cadillac Fleetwood'</li><li>'Lincoln Continental'</li><li>'Chrysler Imperial'</li><li>'Fiat 128'</li><li>'Honda Civic'</li><li>'Toyota Corolla'</li><li>'Toyota Corona'</li><li>'Dodge Challenger'</li><li>'AMC Javelin'</li><li>'Camaro Z28'</li><li>'Pontiac Firebird'</li><li>'Fiat X1-9'</li><li>'Porsche 914-2'</li><li>'Lotus Europa'</li><li>'Ford Pantera L'</li><li>'Ferrari Dino'</li><li>'Maserati Bora'</li><li>'Volvo 142E'</li></ol>\n"
      ],
      "text/latex": [
       "\\begin{enumerate*}\n",
       "\\item 'Mazda RX4'\n",
       "\\item 'Mazda RX4 Wag'\n",
       "\\item 'Datsun 710'\n",
       "\\item 'Hornet 4 Drive'\n",
       "\\item 'Hornet Sportabout'\n",
       "\\item 'Valiant'\n",
       "\\item 'Duster 360'\n",
       "\\item 'Merc 240D'\n",
       "\\item 'Merc 230'\n",
       "\\item 'Merc 280'\n",
       "\\item 'Merc 280C'\n",
       "\\item 'Merc 450SE'\n",
       "\\item 'Merc 450SL'\n",
       "\\item 'Merc 450SLC'\n",
       "\\item 'Cadillac Fleetwood'\n",
       "\\item 'Lincoln Continental'\n",
       "\\item 'Chrysler Imperial'\n",
       "\\item 'Fiat 128'\n",
       "\\item 'Honda Civic'\n",
       "\\item 'Toyota Corolla'\n",
       "\\item 'Toyota Corona'\n",
       "\\item 'Dodge Challenger'\n",
       "\\item 'AMC Javelin'\n",
       "\\item 'Camaro Z28'\n",
       "\\item 'Pontiac Firebird'\n",
       "\\item 'Fiat X1-9'\n",
       "\\item 'Porsche 914-2'\n",
       "\\item 'Lotus Europa'\n",
       "\\item 'Ford Pantera L'\n",
       "\\item 'Ferrari Dino'\n",
       "\\item 'Maserati Bora'\n",
       "\\item 'Volvo 142E'\n",
       "\\end{enumerate*}\n"
      ],
      "text/markdown": [
       "1. 'Mazda RX4'\n",
       "2. 'Mazda RX4 Wag'\n",
       "3. 'Datsun 710'\n",
       "4. 'Hornet 4 Drive'\n",
       "5. 'Hornet Sportabout'\n",
       "6. 'Valiant'\n",
       "7. 'Duster 360'\n",
       "8. 'Merc 240D'\n",
       "9. 'Merc 230'\n",
       "10. 'Merc 280'\n",
       "11. 'Merc 280C'\n",
       "12. 'Merc 450SE'\n",
       "13. 'Merc 450SL'\n",
       "14. 'Merc 450SLC'\n",
       "15. 'Cadillac Fleetwood'\n",
       "16. 'Lincoln Continental'\n",
       "17. 'Chrysler Imperial'\n",
       "18. 'Fiat 128'\n",
       "19. 'Honda Civic'\n",
       "20. 'Toyota Corolla'\n",
       "21. 'Toyota Corona'\n",
       "22. 'Dodge Challenger'\n",
       "23. 'AMC Javelin'\n",
       "24. 'Camaro Z28'\n",
       "25. 'Pontiac Firebird'\n",
       "26. 'Fiat X1-9'\n",
       "27. 'Porsche 914-2'\n",
       "28. 'Lotus Europa'\n",
       "29. 'Ford Pantera L'\n",
       "30. 'Ferrari Dino'\n",
       "31. 'Maserati Bora'\n",
       "32. 'Volvo 142E'\n",
       "\n",
       "\n"
      ],
      "text/plain": [
       " [1] \"Mazda RX4\"           \"Mazda RX4 Wag\"       \"Datsun 710\"         \n",
       " [4] \"Hornet 4 Drive\"      \"Hornet Sportabout\"   \"Valiant\"            \n",
       " [7] \"Duster 360\"          \"Merc 240D\"           \"Merc 230\"           \n",
       "[10] \"Merc 280\"            \"Merc 280C\"           \"Merc 450SE\"         \n",
       "[13] \"Merc 450SL\"          \"Merc 450SLC\"         \"Cadillac Fleetwood\" \n",
       "[16] \"Lincoln Continental\" \"Chrysler Imperial\"   \"Fiat 128\"           \n",
       "[19] \"Honda Civic\"         \"Toyota Corolla\"      \"Toyota Corona\"      \n",
       "[22] \"Dodge Challenger\"    \"AMC Javelin\"         \"Camaro Z28\"         \n",
       "[25] \"Pontiac Firebird\"    \"Fiat X1-9\"           \"Porsche 914-2\"      \n",
       "[28] \"Lotus Europa\"        \"Ford Pantera L\"      \"Ferrari Dino\"       \n",
       "[31] \"Maserati Bora\"       \"Volvo 142E\"         "
      ]
     },
     "metadata": {},
     "output_type": "display_data"
    }
   ],
   "source": [
    "Data_Cars <- mtcars\n",
    "\n",
    "rownames(Data_Cars)"
   ]
  },
  {
   "cell_type": "markdown",
   "metadata": {},
   "source": [
    "From the examples above, we have found out that the data set has 32 observations (Mazda RX4, Mazda RX4 Wag, Datsun 710, etc) and 11 variables (mpg, cyl, disp, etc).\n",
    "\n",
    "A variable is defined as something that can be measured or counted.\n",
    "\n",
    "Here is a brief explanation of the variables from the mtcars data set:\n",
    "\n",
    "\n",
    "| Variable Name | Description |\n",
    "|:-------|------:|\n",
    "|mpg|Miles/(US) Gallon|\n",
    "|cyl|Number of cylinders|\n",
    "|disp|Displacement|\n",
    "|hp|Gross horsepower|\n",
    "|drat|Rear axle ratio|\n",
    "|wt|Weight (1000 lbs)|\n",
    "|qsec|1/4 mile time|\n",
    "|vs|Engine (0 = V-shaped, 1 = straight)|\n",
    "|am|Transmission (0 = automatic, 1 = manual)|\n",
    "|gear|Number of forward gears|\n",
    "|carb|Number of carburetors|"
   ]
  },
  {
   "cell_type": "markdown",
   "metadata": {},
   "source": [
    "#### Print Variable Values\n",
    "If you want to print all values that belong to a variable, access the data frame by using the `$` sign, and the name of the variable (for example `cyl` (cylinders)):"
   ]
  },
  {
   "cell_type": "markdown",
   "metadata": {},
   "source": [
    "From the examples above, we have found out that the data set has 32 observations (Mazda RX4, Mazda RX4 Wag, Datsun 710, etc) and 11 variables (mpg, cyl, disp, etc).\n",
    "\n",
    "A variable is defined as something that can be measured or counted.\n",
    "\n",
    "Here is a brief explanation of the variables from the mtcars data set:\n",
    "\n",
    "\n",
    "| Variable Name|Description|\n",
    "|:--------|---------:|\n",
    "|mpg|Miles/(US) Gallon|\n",
    "cyl\tNumber of cylinders\n",
    "disp\tDisplacement\n",
    "hp\tGross horsepower\n",
    "drat\tRear axle ratio\n",
    "wt\tWeight (1000 lbs)\n",
    "qsec\t1/4 mile time\n",
    "vs\tEngine (0 = V-shaped, 1 = straight)\n",
    "am\tTransmission (0 = automatic, 1 = manual)\n",
    "gear\tNumber of forward gears\n",
    "carb\tNumber of carburetors"
   ]
  },
  {
   "cell_type": "code",
   "execution_count": 325,
   "metadata": {
    "vscode": {
     "languageId": "r"
    }
   },
   "outputs": [
    {
     "data": {
      "text/html": [
       "<style>\n",
       ".list-inline {list-style: none; margin:0; padding: 0}\n",
       ".list-inline>li {display: inline-block}\n",
       ".list-inline>li:not(:last-child)::after {content: \"\\00b7\"; padding: 0 .5ex}\n",
       "</style>\n",
       "<ol class=list-inline><li>6</li><li>6</li><li>4</li><li>6</li><li>8</li><li>6</li><li>8</li><li>4</li><li>4</li><li>6</li><li>6</li><li>8</li><li>8</li><li>8</li><li>8</li><li>8</li><li>8</li><li>4</li><li>4</li><li>4</li><li>4</li><li>8</li><li>8</li><li>8</li><li>8</li><li>4</li><li>4</li><li>4</li><li>8</li><li>6</li><li>8</li><li>4</li></ol>\n"
      ],
      "text/latex": [
       "\\begin{enumerate*}\n",
       "\\item 6\n",
       "\\item 6\n",
       "\\item 4\n",
       "\\item 6\n",
       "\\item 8\n",
       "\\item 6\n",
       "\\item 8\n",
       "\\item 4\n",
       "\\item 4\n",
       "\\item 6\n",
       "\\item 6\n",
       "\\item 8\n",
       "\\item 8\n",
       "\\item 8\n",
       "\\item 8\n",
       "\\item 8\n",
       "\\item 8\n",
       "\\item 4\n",
       "\\item 4\n",
       "\\item 4\n",
       "\\item 4\n",
       "\\item 8\n",
       "\\item 8\n",
       "\\item 8\n",
       "\\item 8\n",
       "\\item 4\n",
       "\\item 4\n",
       "\\item 4\n",
       "\\item 8\n",
       "\\item 6\n",
       "\\item 8\n",
       "\\item 4\n",
       "\\end{enumerate*}\n"
      ],
      "text/markdown": [
       "1. 6\n",
       "2. 6\n",
       "3. 4\n",
       "4. 6\n",
       "5. 8\n",
       "6. 6\n",
       "7. 8\n",
       "8. 4\n",
       "9. 4\n",
       "10. 6\n",
       "11. 6\n",
       "12. 8\n",
       "13. 8\n",
       "14. 8\n",
       "15. 8\n",
       "16. 8\n",
       "17. 8\n",
       "18. 4\n",
       "19. 4\n",
       "20. 4\n",
       "21. 4\n",
       "22. 8\n",
       "23. 8\n",
       "24. 8\n",
       "25. 8\n",
       "26. 4\n",
       "27. 4\n",
       "28. 4\n",
       "29. 8\n",
       "30. 6\n",
       "31. 8\n",
       "32. 4\n",
       "\n",
       "\n"
      ],
      "text/plain": [
       " [1] 6 6 4 6 8 6 8 4 4 6 6 8 8 8 8 8 8 4 4 4 4 8 8 8 8 4 4 4 8 6 8 4"
      ]
     },
     "metadata": {},
     "output_type": "display_data"
    }
   ],
   "source": [
    "Data_Cars <- mtcars\n",
    "\n",
    "Data_Cars$cyl"
   ]
  },
  {
   "cell_type": "code",
   "execution_count": 326,
   "metadata": {
    "vscode": {
     "languageId": "r"
    }
   },
   "outputs": [
    {
     "data": {
      "text/html": [
       "<style>\n",
       ".list-inline {list-style: none; margin:0; padding: 0}\n",
       ".list-inline>li {display: inline-block}\n",
       ".list-inline>li:not(:last-child)::after {content: \"\\00b7\"; padding: 0 .5ex}\n",
       "</style>\n",
       "<ol class=list-inline><li>4</li><li>4</li><li>4</li><li>4</li><li>4</li><li>4</li><li>4</li><li>4</li><li>4</li><li>4</li><li>4</li><li>6</li><li>6</li><li>6</li><li>6</li><li>6</li><li>6</li><li>6</li><li>8</li><li>8</li><li>8</li><li>8</li><li>8</li><li>8</li><li>8</li><li>8</li><li>8</li><li>8</li><li>8</li><li>8</li><li>8</li><li>8</li></ol>\n"
      ],
      "text/latex": [
       "\\begin{enumerate*}\n",
       "\\item 4\n",
       "\\item 4\n",
       "\\item 4\n",
       "\\item 4\n",
       "\\item 4\n",
       "\\item 4\n",
       "\\item 4\n",
       "\\item 4\n",
       "\\item 4\n",
       "\\item 4\n",
       "\\item 4\n",
       "\\item 6\n",
       "\\item 6\n",
       "\\item 6\n",
       "\\item 6\n",
       "\\item 6\n",
       "\\item 6\n",
       "\\item 6\n",
       "\\item 8\n",
       "\\item 8\n",
       "\\item 8\n",
       "\\item 8\n",
       "\\item 8\n",
       "\\item 8\n",
       "\\item 8\n",
       "\\item 8\n",
       "\\item 8\n",
       "\\item 8\n",
       "\\item 8\n",
       "\\item 8\n",
       "\\item 8\n",
       "\\item 8\n",
       "\\end{enumerate*}\n"
      ],
      "text/markdown": [
       "1. 4\n",
       "2. 4\n",
       "3. 4\n",
       "4. 4\n",
       "5. 4\n",
       "6. 4\n",
       "7. 4\n",
       "8. 4\n",
       "9. 4\n",
       "10. 4\n",
       "11. 4\n",
       "12. 6\n",
       "13. 6\n",
       "14. 6\n",
       "15. 6\n",
       "16. 6\n",
       "17. 6\n",
       "18. 6\n",
       "19. 8\n",
       "20. 8\n",
       "21. 8\n",
       "22. 8\n",
       "23. 8\n",
       "24. 8\n",
       "25. 8\n",
       "26. 8\n",
       "27. 8\n",
       "28. 8\n",
       "29. 8\n",
       "30. 8\n",
       "31. 8\n",
       "32. 8\n",
       "\n",
       "\n"
      ],
      "text/plain": [
       " [1] 4 4 4 4 4 4 4 4 4 4 4 6 6 6 6 6 6 6 8 8 8 8 8 8 8 8 8 8 8 8 8 8"
      ]
     },
     "metadata": {},
     "output_type": "display_data"
    }
   ],
   "source": [
    "sort(Data_Cars$cyl)"
   ]
  },
  {
   "cell_type": "markdown",
   "metadata": {},
   "source": [
    "### Analyzing the data"
   ]
  },
  {
   "cell_type": "code",
   "execution_count": 327,
   "metadata": {
    "vscode": {
     "languageId": "r"
    }
   },
   "outputs": [
    {
     "data": {
      "text/plain": [
       "      mpg             cyl             disp             hp       \n",
       " Min.   :10.40   Min.   :4.000   Min.   : 71.1   Min.   : 52.0  \n",
       " 1st Qu.:15.43   1st Qu.:4.000   1st Qu.:120.8   1st Qu.: 96.5  \n",
       " Median :19.20   Median :6.000   Median :196.3   Median :123.0  \n",
       " Mean   :20.09   Mean   :6.188   Mean   :230.7   Mean   :146.7  \n",
       " 3rd Qu.:22.80   3rd Qu.:8.000   3rd Qu.:326.0   3rd Qu.:180.0  \n",
       " Max.   :33.90   Max.   :8.000   Max.   :472.0   Max.   :335.0  \n",
       "      drat             wt             qsec             vs        \n",
       " Min.   :2.760   Min.   :1.513   Min.   :14.50   Min.   :0.0000  \n",
       " 1st Qu.:3.080   1st Qu.:2.581   1st Qu.:16.89   1st Qu.:0.0000  \n",
       " Median :3.695   Median :3.325   Median :17.71   Median :0.0000  \n",
       " Mean   :3.597   Mean   :3.217   Mean   :17.85   Mean   :0.4375  \n",
       " 3rd Qu.:3.920   3rd Qu.:3.610   3rd Qu.:18.90   3rd Qu.:1.0000  \n",
       " Max.   :4.930   Max.   :5.424   Max.   :22.90   Max.   :1.0000  \n",
       "       am              gear            carb      \n",
       " Min.   :0.0000   Min.   :3.000   Min.   :1.000  \n",
       " 1st Qu.:0.0000   1st Qu.:3.000   1st Qu.:2.000  \n",
       " Median :0.0000   Median :4.000   Median :2.000  \n",
       " Mean   :0.4062   Mean   :3.688   Mean   :2.812  \n",
       " 3rd Qu.:1.0000   3rd Qu.:4.000   3rd Qu.:4.000  \n",
       " Max.   :1.0000   Max.   :5.000   Max.   :8.000  "
      ]
     },
     "metadata": {},
     "output_type": "display_data"
    }
   ],
   "source": [
    "summary(Data_Cars)"
   ]
  },
  {
   "cell_type": "markdown",
   "metadata": {},
   "source": [
    "The `summary()` function returns six statistical numbers for each variable:\n",
    "\n",
    "* Min\n",
    "* First quantile (percentile)\n",
    "* Median - The middle value\n",
    "* Mean - The average value\n",
    "* Third quantile (percentile)\n",
    "* Max\n",
    "\n",
    "You can explore also:\n",
    "* Mode - The most common value\n",
    "\n",
    "### max and min"
   ]
  },
  {
   "cell_type": "code",
   "execution_count": 328,
   "metadata": {
    "vscode": {
     "languageId": "r"
    }
   },
   "outputs": [
    {
     "data": {
      "text/html": [
       "335"
      ],
      "text/latex": [
       "335"
      ],
      "text/markdown": [
       "335"
      ],
      "text/plain": [
       "[1] 335"
      ]
     },
     "metadata": {},
     "output_type": "display_data"
    },
    {
     "data": {
      "text/html": [
       "52"
      ],
      "text/latex": [
       "52"
      ],
      "text/markdown": [
       "52"
      ],
      "text/plain": [
       "[1] 52"
      ]
     },
     "metadata": {},
     "output_type": "display_data"
    },
    {
     "data": {
      "text/html": [
       "31"
      ],
      "text/latex": [
       "31"
      ],
      "text/markdown": [
       "31"
      ],
      "text/plain": [
       "[1] 31"
      ]
     },
     "metadata": {},
     "output_type": "display_data"
    },
    {
     "data": {
      "text/html": [
       "19"
      ],
      "text/latex": [
       "19"
      ],
      "text/markdown": [
       "19"
      ],
      "text/plain": [
       "[1] 19"
      ]
     },
     "metadata": {},
     "output_type": "display_data"
    },
    {
     "data": {
      "text/html": [
       "'Maserati Bora'"
      ],
      "text/latex": [
       "'Maserati Bora'"
      ],
      "text/markdown": [
       "'Maserati Bora'"
      ],
      "text/plain": [
       "[1] \"Maserati Bora\""
      ]
     },
     "metadata": {},
     "output_type": "display_data"
    },
    {
     "data": {
      "text/html": [
       "'Honda Civic'"
      ],
      "text/latex": [
       "'Honda Civic'"
      ],
      "text/markdown": [
       "'Honda Civic'"
      ],
      "text/plain": [
       "[1] \"Honda Civic\""
      ]
     },
     "metadata": {},
     "output_type": "display_data"
    }
   ],
   "source": [
    "# max and min\n",
    "\n",
    "Data_Cars <- mtcars\n",
    "max(Data_Cars$hp)\n",
    "min(Data_Cars$hp)\n",
    "\n",
    "#  find the index position of the max and min value in the table:\n",
    "which.max(Data_Cars$hp)\n",
    "which.min(Data_Cars$hp)\n",
    "\n",
    "rownames(Data_Cars)[which.max(Data_Cars$hp)]\n",
    "rownames(Data_Cars)[which.min(Data_Cars$hp)]\n"
   ]
  },
  {
   "cell_type": "markdown",
   "metadata": {},
   "source": [
    "### mean, mode, median"
   ]
  },
  {
   "cell_type": "code",
   "execution_count": 329,
   "metadata": {
    "vscode": {
     "languageId": "r"
    }
   },
   "outputs": [
    {
     "data": {
      "text/html": [
       "3.21725"
      ],
      "text/latex": [
       "3.21725"
      ],
      "text/markdown": [
       "3.21725"
      ],
      "text/plain": [
       "[1] 3.21725"
      ]
     },
     "metadata": {},
     "output_type": "display_data"
    },
    {
     "data": {
      "text/html": [
       "3.325"
      ],
      "text/latex": [
       "3.325"
      ],
      "text/markdown": [
       "3.325"
      ],
      "text/plain": [
       "[1] 3.325"
      ]
     },
     "metadata": {},
     "output_type": "display_data"
    },
    {
     "data": {
      "text/html": [
       "'3.44'"
      ],
      "text/latex": [
       "'3.44'"
      ],
      "text/markdown": [
       "'3.44'"
      ],
      "text/plain": [
       "[1] \"3.44\""
      ]
     },
     "metadata": {},
     "output_type": "display_data"
    }
   ],
   "source": [
    "# find the sum of all values, and divide the sum by the number of values.\n",
    "mean(Data_Cars$wt)\n",
    "\n",
    "# If there are two numbers in the middle, you must divide the sum of those numbers by two, to find the median.\n",
    "\n",
    "# Luckily, R has a function that does all of that for you: \n",
    "# Just use the median() function to find the middle value:\n",
    "median(Data_Cars$wt)\n",
    "\n",
    "# R does not have a function to calculate the mode. \n",
    "# However, we can create our own function to find it.\n",
    "names(sort(-table(Data_Cars$wt)))[1]"
   ]
  },
  {
   "cell_type": "markdown",
   "metadata": {},
   "source": [
    "### Percentiles\n",
    "\n",
    "Quartiles are data divided into four parts, when sorted in an ascending order:\n",
    "\n",
    "* The value of the first quartile cuts off the first 25% of the data\n",
    "* The value of the second quartile cuts off the first 50% of the data\n",
    "* The value of the third quartile cuts off the first 75% of the data\n",
    "* The value of the fourth quartile cuts off the 100% of the data"
   ]
  },
  {
   "cell_type": "code",
   "execution_count": 330,
   "metadata": {
    "vscode": {
     "languageId": "r"
    }
   },
   "outputs": [
    {
     "data": {
      "text/html": [
       "<strong>75%:</strong> 3.61"
      ],
      "text/latex": [
       "\\textbf{75\\textbackslash{}\\%:} 3.61"
      ],
      "text/markdown": [
       "**75%:** 3.61"
      ],
      "text/plain": [
       " 75% \n",
       "3.61 "
      ]
     },
     "metadata": {},
     "output_type": "display_data"
    },
    {
     "data": {
      "text/html": [
       "<style>\n",
       ".dl-inline {width: auto; margin:0; padding: 0}\n",
       ".dl-inline>dt, .dl-inline>dd {float: none; width: auto; display: inline-block}\n",
       ".dl-inline>dt::after {content: \":\\0020\"; padding-right: .5ex}\n",
       ".dl-inline>dt:not(:first-of-type) {padding-left: .5ex}\n",
       "</style><dl class=dl-inline><dt>0%</dt><dd>1.513</dd><dt>25%</dt><dd>2.58125</dd><dt>50%</dt><dd>3.325</dd><dt>75%</dt><dd>3.61</dd><dt>100%</dt><dd>5.424</dd></dl>\n"
      ],
      "text/latex": [
       "\\begin{description*}\n",
       "\\item[0\\textbackslash{}\\%] 1.513\n",
       "\\item[25\\textbackslash{}\\%] 2.58125\n",
       "\\item[50\\textbackslash{}\\%] 3.325\n",
       "\\item[75\\textbackslash{}\\%] 3.61\n",
       "\\item[100\\textbackslash{}\\%] 5.424\n",
       "\\end{description*}\n"
      ],
      "text/markdown": [
       "0%\n",
       ":   1.51325%\n",
       ":   2.5812550%\n",
       ":   3.32575%\n",
       ":   3.61100%\n",
       ":   5.424\n",
       "\n"
      ],
      "text/plain": [
       "     0%     25%     50%     75%    100% \n",
       "1.51300 2.58125 3.32500 3.61000 5.42400 "
      ]
     },
     "metadata": {},
     "output_type": "display_data"
    }
   ],
   "source": [
    "# c() specifies which percentile you want\n",
    "quantile(Data_Cars$wt, c(0.75))\n",
    "\n",
    "quantile(Data_Cars$wt)"
   ]
  },
  {
   "cell_type": "markdown",
   "metadata": {},
   "source": [
    "# EXERCISES & QUIZ\n",
    "you can do some more R exercises [here](https://www.w3schools.com/r/r_exercises.asp)\n",
    "\n",
    "you also can do a simple R quiz [here](https://www.w3schools.com/r/r_quiz.asp)\n",
    "\n",
    "or, ìf you want, get a [R certificate](https://www.w3schools.com/r/r_exam.asp)"
   ]
  }
 ],
 "metadata": {
  "kernelspec": {
   "display_name": "R",
   "language": "R",
   "name": "ir"
  },
  "language_info": {
   "codemirror_mode": "r",
   "file_extension": ".r",
   "mimetype": "text/x-r-source",
   "name": "R",
   "pygments_lexer": "r",
   "version": "4.3.2"
  }
 },
 "nbformat": 4,
 "nbformat_minor": 2
}
